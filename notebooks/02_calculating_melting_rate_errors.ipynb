{
 "cells": [
  {
   "cell_type": "markdown",
   "metadata": {},
   "source": [
    "# Understanding Methods of Computing Melting Rates\n",
    "\n",
    "I need a method of computing the melting rate of the crystal structures which will provide a good estimation of both the melting rate and the error of the melting rate. Importantly I need an algorith able to detect the small melting rates at low temperatures."
   ]
  },
  {
   "cell_type": "code",
   "execution_count": 1,
   "metadata": {},
   "outputs": [
    {
     "data": {
      "text/plain": [
       "DataTransformerRegistry.enable('json')"
      ]
     },
     "execution_count": 1,
     "metadata": {},
     "output_type": "execute_result"
    }
   ],
   "source": [
    "import numpy as np\n",
    "import pandas\n",
    "import altair.vegalite.v2 as alt\n",
    "import scipy.stats\n",
    "\n",
    "alt.themes.enable(\"opaque\")\n",
    "alt.data_transformers.enable('json')"
   ]
  },
  {
   "cell_type": "markdown",
   "metadata": {},
   "source": [
    "## Load Data\n",
    "\n",
    "The data on the melting rates has been precalculated and saved to a file. The data stored is the simulation conditions along with the values\n",
    "- fraction: The fraction of the simulation cell which is crystalline in nature\n",
    "- surface_area: The perimeter (the 2D equivalent of surface area) of the crystalline cluster\n",
    "- volume: The area (2D equivalent of area) of the crystalline cluster\n",
    "- time: The timestep at which these values apply.\n",
    "\n",
    "Only the data from the low temperature melting is used in this analysis since at the time of writing the dataset is better and it is easier to only deal with a single set of pressures. I am also limiting the analysis to only the p2 crystal.\n",
    "\n",
    "By resampling the dataset to times of 1ms, the "
   ]
  },
  {
   "cell_type": "code",
   "execution_count": 2,
   "metadata": {},
   "outputs": [],
   "source": [
    "# Read file with melting data\n",
    "norm_df = pandas.read_hdf('../data/analysis/melting.h5', 'fractions', mode='r')\n",
    "norm_df = norm_df.query('pressure == \"1.00\" and temperature < 0.8')\n",
    "norm_df = norm_df.query('volume > 2000')\n",
    "norm_df = norm_df.query('time > 0.')\n",
    "# norm_df = norm_df.query('crystal != \"p2gg\"')\n",
    "norm_df = norm_df.query('crystal == \"p2\"')\n",
    "group_bys = ['crystal', 'temperature', 'pressure']\n",
    "time_df = norm_df.copy()\n",
    "time_df.index = pandas.TimedeltaIndex(norm_df.time)\n",
    "# time_df = time_df.groupby(group_bys).resample('1ms').mean().reset_index(drop=True)\n",
    "time_df.dropna(inplace=True)"
   ]
  },
  {
   "cell_type": "markdown",
   "metadata": {},
   "source": [
    "## Volume Data\n",
    "\n",
    "I have plotted the volume of the crystal as a fucntion of time below. The important point to note is the high levels of noise in the data, which is a combination the thermal fluctuations and the inacuracy of the algorithm I am using for classification."
   ]
  },
  {
   "cell_type": "code",
   "execution_count": 3,
   "metadata": {},
   "outputs": [
    {
     "data": {
      "application/vnd.vegalite.v2+json": {
       "$schema": "https://vega.github.io/schema/vega-lite/v2.6.0.json",
       "config": {
        "background": "white",
        "view": {
         "height": 300,
         "width": 400
        }
       },
       "data": {
        "format": {
         "type": "json"
        },
        "url": "altair-data-2042c965c51495db6ee6d66a06a65f59.json"
       },
       "encoding": {
        "color": {
         "field": "temperature",
         "type": "nominal"
        },
        "row": {
         "field": "crystal",
         "type": "nominal"
        },
        "x": {
         "axis": {
          "format": "e"
         },
         "field": "time",
         "type": "quantitative"
        },
        "y": {
         "field": "radius",
         "type": "quantitative"
        }
       },
       "mark": "point"
      },
      "image/png": "",
      "text/plain": [
       "<VegaLite 2 object>\n",
       "\n",
       "If you see this message, it means the renderer has not been properly enabled\n",
       "for the frontend that you are using. For more information, see\n",
       "https://altair-viz.github.io/user_guide/troubleshooting.html\n"
      ]
     },
     "execution_count": 3,
     "metadata": {},
     "output_type": "execute_result"
    }
   ],
   "source": [
    "chart = alt.Chart(time_df).mark_point().encode(\n",
    "    x=alt.X('time:Q', axis=alt.Axis(format='e')),\n",
    "    color='temperature:N',\n",
    "    row='crystal:N',\n",
    "    y='radius:Q',\n",
    ")\n",
    "chart"
   ]
  },
  {
   "cell_type": "code",
   "execution_count": 4,
   "metadata": {},
   "outputs": [],
   "source": [
    "time_df[\"radius\"] = np.sqrt(time_df[\"volume\"].values) / np.pi"
   ]
  },
  {
   "cell_type": "code",
   "execution_count": 5,
   "metadata": {},
   "outputs": [],
   "source": [
    "# chart.save('../figures/melting_Trimer-P1.00-p2.png')"
   ]
  },
  {
   "cell_type": "markdown",
   "metadata": {},
   "source": [
    "## Calculating $\\Delta V/ \\Delta t$\n",
    "\n",
    "The quantity we are interested in is rate of melting for a given surface area,\n",
    "$$\n",
    "\\tau_M = -\\frac{1}{A} \\frac{\\Delta V}{\\Delta t}\n",
    "$$\n",
    "since our expectation is that $\\tau_M$ is a constant value, fitting a straight line to $\\Delta V/\\Delta t$ will end up giving a value of $\\tau_M$ which is dependent on the surface area.\n",
    "\n",
    "This documents my attempts at calculating this value with a small error."
   ]
  },
  {
   "cell_type": "markdown",
   "metadata": {},
   "source": [
    "### Averaging Instantaneous gradient\n",
    "\n",
    "This is calculating the instantaneous gradient $\\frac{1}{A(t)} \\frac{V(t+\\Delta t) - V(t)}{\\Delta t}$ and averaging over all $t$. The errors being calculated as the standard deviation. The gradient is computed using the`np.gradient` function which documents the solver [here](https://docs.scipy.org/doc/numpy/reference/generated/numpy.gradient.html#numpy.gradient)."
   ]
  },
  {
   "cell_type": "code",
   "execution_count": 6,
   "metadata": {},
   "outputs": [],
   "source": [
    "def instantaneous_gradient(df):\n",
    "    if len(df.volume > 2):\n",
    "        return np.gradient(df.radius, df.time)\n",
    "    return np.nan\n",
    "        \n",
    "\n",
    "gradient_mean = time_df.groupby(group_bys).apply(\n",
    "    lambda x: np.nanmean(instantaneous_gradient(x))\n",
    ")\n",
    "gradient_error = time_df.groupby(group_bys).apply(\n",
    "    lambda x: np.nanstd(instantaneous_gradient(x))\n",
    ")\n",
    "\n",
    "gradient1 = pandas.DataFrame({'mean': gradient_mean, 'error': gradient_error}, index=gradient_mean.index)\n",
    "gradient1.reset_index(inplace=True)"
   ]
  },
  {
   "cell_type": "markdown",
   "metadata": {},
   "source": [
    "Plotting the melting rate with the calculated errors as a function of temperature."
   ]
  },
  {
   "cell_type": "code",
   "execution_count": 7,
   "metadata": {},
   "outputs": [
    {
     "data": {
      "application/vnd.vegalite.v2+json": {
       "$schema": "https://vega.github.io/schema/vega-lite/v2.6.0.json",
       "config": {
        "background": "white",
        "view": {
         "height": 300,
         "width": 400
        }
       },
       "layer": [
        {
         "data": {
          "format": {
           "type": "json"
          },
          "url": "altair-data-dadaf891d357198408048a663cdf707a.json"
         },
         "encoding": {
          "x": {
           "field": "temperature",
           "scale": {
            "zero": false
           },
           "type": "quantitative"
          },
          "y": {
           "axis": {
            "format": "e"
           },
           "field": "mean",
           "type": "quantitative"
          }
         },
         "mark": "point",
         "transform": [
          {
           "as": "ymin",
           "calculate": "datum.mean-datum.error/2"
          },
          {
           "as": "ymax",
           "calculate": "datum.mean+datum.error/2"
          }
         ]
        },
        {
         "data": {
          "format": {
           "type": "json"
          },
          "url": "altair-data-dadaf891d357198408048a663cdf707a.json"
         },
         "encoding": {
          "x": {
           "field": "temperature",
           "scale": {
            "zero": false
           },
           "type": "quantitative"
          },
          "y": {
           "field": "ymin",
           "type": "quantitative"
          },
          "y2": {
           "field": "ymax",
           "type": "quantitative"
          }
         },
         "mark": "rule",
         "transform": [
          {
           "as": "ymin",
           "calculate": "datum.mean-datum.error/2"
          },
          {
           "as": "ymax",
           "calculate": "datum.mean+datum.error/2"
          }
         ]
        }
       ]
      },
      "image/png": "[encoded data removed]",
      "text/plain": [
       "<VegaLite 2 object>\n",
       "\n",
       "If you see this message, it means the renderer has not been properly enabled\n",
       "for the frontend that you are using. For more information, see\n",
       "https://altair-viz.github.io/user_guide/troubleshooting.html\n"
      ]
     },
     "execution_count": 7,
     "metadata": {},
     "output_type": "execute_result"
    }
   ],
   "source": [
    "chart = alt.Chart(gradient1).mark_point().transform_calculate(\n",
    "    ymin=\"datum.mean-datum.error/2\",\n",
    "    ymax=\"datum.mean+datum.error/2\"\n",
    ").encode(\n",
    "    alt.X('temperature:Q', scale=alt.Scale(zero=False))\n",
    ")\n",
    "\n",
    "disp_chart = (\n",
    "    chart.encode(alt.Y('mean', axis=alt.Axis(format='e'))) + \n",
    "    chart.mark_rule().encode(y='ymin:Q', y2='ymax:Q')\n",
    ")\n",
    "disp_chart"
   ]
  },
  {
   "cell_type": "code",
   "execution_count": 8,
   "metadata": {},
   "outputs": [],
   "source": [
    "# disp_chart.save(\"../figures/melting_rates_Trimer-P1.00-p2.png\")"
   ]
  },
  {
   "cell_type": "markdown",
   "metadata": {},
   "source": [
    "This figure corresponds to the values in the table below, which also includes the fractional error. A value of the fractional error > 1 would indicate that the value is not distinguishable from 0."
   ]
  },
  {
   "cell_type": "code",
   "execution_count": 9,
   "metadata": {},
   "outputs": [
    {
     "data": {
      "text/html": [
       "<div>\n",
       "<style scoped>\n",
       "    .dataframe tbody tr th:only-of-type {\n",
       "        vertical-align: middle;\n",
       "    }\n",
       "\n",
       "    .dataframe tbody tr th {\n",
       "        vertical-align: top;\n",
       "    }\n",
       "\n",
       "    .dataframe thead th {\n",
       "        text-align: right;\n",
       "    }\n",
       "</style>\n",
       "<table border=\"1\" class=\"dataframe\">\n",
       "  <thead>\n",
       "    <tr style=\"text-align: right;\">\n",
       "      <th></th>\n",
       "      <th>crystal</th>\n",
       "      <th>temperature</th>\n",
       "      <th>pressure</th>\n",
       "      <th>mean</th>\n",
       "      <th>error</th>\n",
       "      <th>frac_error</th>\n",
       "    </tr>\n",
       "  </thead>\n",
       "  <tbody>\n",
       "    <tr>\n",
       "      <th>0</th>\n",
       "      <td>p2</td>\n",
       "      <td>0.30</td>\n",
       "      <td>1.0</td>\n",
       "      <td>7.021826e-11</td>\n",
       "      <td>1.025204e-07</td>\n",
       "      <td>1460.025164</td>\n",
       "    </tr>\n",
       "    <tr>\n",
       "      <th>1</th>\n",
       "      <td>p2</td>\n",
       "      <td>0.32</td>\n",
       "      <td>1.0</td>\n",
       "      <td>5.730038e-12</td>\n",
       "      <td>1.247353e-07</td>\n",
       "      <td>21768.674535</td>\n",
       "    </tr>\n",
       "    <tr>\n",
       "      <th>2</th>\n",
       "      <td>p2</td>\n",
       "      <td>0.34</td>\n",
       "      <td>1.0</td>\n",
       "      <td>1.273856e-10</td>\n",
       "      <td>1.201478e-07</td>\n",
       "      <td>943.181693</td>\n",
       "    </tr>\n",
       "    <tr>\n",
       "      <th>3</th>\n",
       "      <td>p2</td>\n",
       "      <td>0.36</td>\n",
       "      <td>1.0</td>\n",
       "      <td>-4.374760e-10</td>\n",
       "      <td>1.223938e-07</td>\n",
       "      <td>279.772660</td>\n",
       "    </tr>\n",
       "    <tr>\n",
       "      <th>4</th>\n",
       "      <td>p2</td>\n",
       "      <td>0.38</td>\n",
       "      <td>1.0</td>\n",
       "      <td>-4.368807e-09</td>\n",
       "      <td>1.179674e-07</td>\n",
       "      <td>27.002200</td>\n",
       "    </tr>\n",
       "    <tr>\n",
       "      <th>5</th>\n",
       "      <td>p2</td>\n",
       "      <td>0.40</td>\n",
       "      <td>1.0</td>\n",
       "      <td>3.704429e+01</td>\n",
       "      <td>7.646239e+00</td>\n",
       "      <td>0.206408</td>\n",
       "    </tr>\n",
       "    <tr>\n",
       "      <th>6</th>\n",
       "      <td>p2</td>\n",
       "      <td>0.42</td>\n",
       "      <td>1.0</td>\n",
       "      <td>3.652375e+01</td>\n",
       "      <td>8.734415e+00</td>\n",
       "      <td>0.239143</td>\n",
       "    </tr>\n",
       "    <tr>\n",
       "      <th>7</th>\n",
       "      <td>p2</td>\n",
       "      <td>0.44</td>\n",
       "      <td>1.0</td>\n",
       "      <td>-3.909309e-07</td>\n",
       "      <td>1.942481e-07</td>\n",
       "      <td>0.496886</td>\n",
       "    </tr>\n",
       "    <tr>\n",
       "      <th>8</th>\n",
       "      <td>p2</td>\n",
       "      <td>0.46</td>\n",
       "      <td>1.0</td>\n",
       "      <td>-9.847894e-07</td>\n",
       "      <td>2.381086e-07</td>\n",
       "      <td>0.241786</td>\n",
       "    </tr>\n",
       "    <tr>\n",
       "      <th>9</th>\n",
       "      <td>p2</td>\n",
       "      <td>0.50</td>\n",
       "      <td>1.0</td>\n",
       "      <td>-5.125191e-06</td>\n",
       "      <td>1.084820e-06</td>\n",
       "      <td>0.211664</td>\n",
       "    </tr>\n",
       "  </tbody>\n",
       "</table>\n",
       "</div>"
      ],
      "text/plain": [
       "  crystal  temperature  pressure          mean         error    frac_error\n",
       "0      p2         0.30       1.0  7.021826e-11  1.025204e-07   1460.025164\n",
       "1      p2         0.32       1.0  5.730038e-12  1.247353e-07  21768.674535\n",
       "2      p2         0.34       1.0  1.273856e-10  1.201478e-07    943.181693\n",
       "3      p2         0.36       1.0 -4.374760e-10  1.223938e-07    279.772660\n",
       "4      p2         0.38       1.0 -4.368807e-09  1.179674e-07     27.002200\n",
       "5      p2         0.40       1.0  3.704429e+01  7.646239e+00      0.206408\n",
       "6      p2         0.42       1.0  3.652375e+01  8.734415e+00      0.239143\n",
       "7      p2         0.44       1.0 -3.909309e-07  1.942481e-07      0.496886\n",
       "8      p2         0.46       1.0 -9.847894e-07  2.381086e-07      0.241786\n",
       "9      p2         0.50       1.0 -5.125191e-06  1.084820e-06      0.211664"
      ]
     },
     "execution_count": 9,
     "metadata": {},
     "output_type": "execute_result"
    }
   ],
   "source": [
    "gradient1['frac_error'] = np.abs(gradient1['error'] / gradient1['mean'])\n",
    "gradient1"
   ]
  },
  {
   "cell_type": "markdown",
   "metadata": {},
   "source": [
    "#### Standard Error of the Mean\n",
    "\n",
    "With the errors using the standard deviation being many orders of magnitude larger than some of the values I am trying to calculate, a more appropriate measure of the error is using the Standard Error of the Mean (SEM) which takes into account the number of samples in the calculation of the error. Since I have a large number of samples this should be a much more appropriate metric."
   ]
  },
  {
   "cell_type": "code",
   "execution_count": 10,
   "metadata": {},
   "outputs": [],
   "source": [
    "gradient_mean = time_df.groupby(group_bys).apply(\n",
    "    lambda x: np.nanmean(instantaneous_gradient(x))\n",
    ")\n",
    "gradient_error = time_df.groupby(group_bys).apply(\n",
    "    lambda x: scipy.stats.sem(instantaneous_gradient(x), nan_policy='omit')\n",
    ")\n",
    "\n",
    "gradient2 = pandas.DataFrame({'mean': gradient_mean, 'error': gradient_error})\n",
    "gradient2.reset_index(inplace=True)"
   ]
  },
  {
   "cell_type": "markdown",
   "metadata": {},
   "source": [
    "Plotting the data shows the errors significatnly reduced over the standard deviation error calculation although while the errors are small the values are also really small."
   ]
  },
  {
   "cell_type": "code",
   "execution_count": 11,
   "metadata": {},
   "outputs": [
    {
     "data": {
      "application/vnd.vegalite.v2+json": {
       "$schema": "https://vega.github.io/schema/vega-lite/v2.6.0.json",
       "config": {
        "background": "white",
        "view": {
         "height": 300,
         "width": 400
        }
       },
       "layer": [
        {
         "data": {
          "format": {
           "type": "json"
          },
          "url": "altair-data-07a48241c6463ce7f7c2a30e72617823.json"
         },
         "encoding": {
          "x": {
           "field": "temperature",
           "scale": {
            "zero": false
           },
           "type": "quantitative"
          },
          "y": {
           "axis": {
            "format": "e"
           },
           "field": "mean",
           "type": "quantitative"
          }
         },
         "mark": "point",
         "transform": [
          {
           "as": "ymin",
           "calculate": "datum.mean-datum.error/2"
          },
          {
           "as": "ymax",
           "calculate": "datum.mean+datum.error/2"
          }
         ]
        },
        {
         "data": {
          "format": {
           "type": "json"
          },
          "url": "altair-data-07a48241c6463ce7f7c2a30e72617823.json"
         },
         "encoding": {
          "x": {
           "field": "temperature",
           "scale": {
            "zero": false
           },
           "type": "quantitative"
          },
          "y": {
           "field": "ymin",
           "type": "quantitative"
          },
          "y2": {
           "field": "ymax",
           "type": "quantitative"
          }
         },
         "mark": "rule",
         "transform": [
          {
           "as": "ymin",
           "calculate": "datum.mean-datum.error/2"
          },
          {
           "as": "ymax",
           "calculate": "datum.mean+datum.error/2"
          }
         ]
        }
       ]
      },
      "image/png": "[encoded data removed]",
      "text/plain": [
       "<VegaLite 2 object>\n",
       "\n",
       "If you see this message, it means the renderer has not been properly enabled\n",
       "for the frontend that you are using. For more information, see\n",
       "https://altair-viz.github.io/user_guide/troubleshooting.html\n"
      ]
     },
     "execution_count": 11,
     "metadata": {},
     "output_type": "execute_result"
    }
   ],
   "source": [
    "chart = alt.Chart(gradient2).mark_point().transform_calculate(\n",
    "    ymin=\"datum.mean-datum.error/2\",\n",
    "    ymax=\"datum.mean+datum.error/2\"\n",
    ").encode(\n",
    "    alt.X('temperature:Q', scale=alt.Scale(zero=False))\n",
    ")\n",
    "\n",
    "disp_chart = (\n",
    "    chart.encode(y=alt.Y('mean', axis=alt.Axis(format='e'))) + \n",
    "    chart.mark_rule().encode(y='ymin:Q', y2='ymax:Q')\n",
    ")\n",
    "disp_chart"
   ]
  },
  {
   "cell_type": "code",
   "execution_count": 12,
   "metadata": {},
   "outputs": [
    {
     "data": {
      "text/html": [
       "<div>\n",
       "<style scoped>\n",
       "    .dataframe tbody tr th:only-of-type {\n",
       "        vertical-align: middle;\n",
       "    }\n",
       "\n",
       "    .dataframe tbody tr th {\n",
       "        vertical-align: top;\n",
       "    }\n",
       "\n",
       "    .dataframe thead th {\n",
       "        text-align: right;\n",
       "    }\n",
       "</style>\n",
       "<table border=\"1\" class=\"dataframe\">\n",
       "  <thead>\n",
       "    <tr style=\"text-align: right;\">\n",
       "      <th></th>\n",
       "      <th>crystal</th>\n",
       "      <th>temperature</th>\n",
       "      <th>pressure</th>\n",
       "      <th>mean</th>\n",
       "      <th>error</th>\n",
       "      <th>frac_error</th>\n",
       "    </tr>\n",
       "  </thead>\n",
       "  <tbody>\n",
       "    <tr>\n",
       "      <th>0</th>\n",
       "      <td>p2</td>\n",
       "      <td>0.30</td>\n",
       "      <td>1.0</td>\n",
       "      <td>7.021826e-11</td>\n",
       "      <td>2.380337e-09</td>\n",
       "      <td>33.899117</td>\n",
       "    </tr>\n",
       "    <tr>\n",
       "      <th>1</th>\n",
       "      <td>p2</td>\n",
       "      <td>0.32</td>\n",
       "      <td>1.0</td>\n",
       "      <td>5.730038e-12</td>\n",
       "      <td>2.962341e-09</td>\n",
       "      <td>516.984614</td>\n",
       "    </tr>\n",
       "    <tr>\n",
       "      <th>2</th>\n",
       "      <td>p2</td>\n",
       "      <td>0.34</td>\n",
       "      <td>1.0</td>\n",
       "      <td>1.273856e-10</td>\n",
       "      <td>2.857424e-09</td>\n",
       "      <td>22.431289</td>\n",
       "    </tr>\n",
       "    <tr>\n",
       "      <th>3</th>\n",
       "      <td>p2</td>\n",
       "      <td>0.36</td>\n",
       "      <td>1.0</td>\n",
       "      <td>-4.374760e-10</td>\n",
       "      <td>3.921751e-09</td>\n",
       "      <td>8.964494</td>\n",
       "    </tr>\n",
       "    <tr>\n",
       "      <th>4</th>\n",
       "      <td>p2</td>\n",
       "      <td>0.38</td>\n",
       "      <td>1.0</td>\n",
       "      <td>-4.368807e-09</td>\n",
       "      <td>3.770255e-09</td>\n",
       "      <td>0.862994</td>\n",
       "    </tr>\n",
       "    <tr>\n",
       "      <th>5</th>\n",
       "      <td>p2</td>\n",
       "      <td>0.40</td>\n",
       "      <td>1.0</td>\n",
       "      <td>3.704429e+01</td>\n",
       "      <td>3.254456e-01</td>\n",
       "      <td>0.008785</td>\n",
       "    </tr>\n",
       "    <tr>\n",
       "      <th>6</th>\n",
       "      <td>p2</td>\n",
       "      <td>0.42</td>\n",
       "      <td>1.0</td>\n",
       "      <td>3.652375e+01</td>\n",
       "      <td>7.517388e-01</td>\n",
       "      <td>0.020582</td>\n",
       "    </tr>\n",
       "    <tr>\n",
       "      <th>7</th>\n",
       "      <td>p2</td>\n",
       "      <td>0.44</td>\n",
       "      <td>1.0</td>\n",
       "      <td>-3.909309e-07</td>\n",
       "      <td>2.895680e-08</td>\n",
       "      <td>0.074071</td>\n",
       "    </tr>\n",
       "    <tr>\n",
       "      <th>8</th>\n",
       "      <td>p2</td>\n",
       "      <td>0.46</td>\n",
       "      <td>1.0</td>\n",
       "      <td>-9.847894e-07</td>\n",
       "      <td>5.612274e-08</td>\n",
       "      <td>0.056990</td>\n",
       "    </tr>\n",
       "    <tr>\n",
       "      <th>9</th>\n",
       "      <td>p2</td>\n",
       "      <td>0.50</td>\n",
       "      <td>1.0</td>\n",
       "      <td>-5.125191e-06</td>\n",
       "      <td>6.263208e-07</td>\n",
       "      <td>0.122204</td>\n",
       "    </tr>\n",
       "  </tbody>\n",
       "</table>\n",
       "</div>"
      ],
      "text/plain": [
       "  crystal  temperature  pressure          mean         error  frac_error\n",
       "0      p2         0.30       1.0  7.021826e-11  2.380337e-09   33.899117\n",
       "1      p2         0.32       1.0  5.730038e-12  2.962341e-09  516.984614\n",
       "2      p2         0.34       1.0  1.273856e-10  2.857424e-09   22.431289\n",
       "3      p2         0.36       1.0 -4.374760e-10  3.921751e-09    8.964494\n",
       "4      p2         0.38       1.0 -4.368807e-09  3.770255e-09    0.862994\n",
       "5      p2         0.40       1.0  3.704429e+01  3.254456e-01    0.008785\n",
       "6      p2         0.42       1.0  3.652375e+01  7.517388e-01    0.020582\n",
       "7      p2         0.44       1.0 -3.909309e-07  2.895680e-08    0.074071\n",
       "8      p2         0.46       1.0 -9.847894e-07  5.612274e-08    0.056990\n",
       "9      p2         0.50       1.0 -5.125191e-06  6.263208e-07    0.122204"
      ]
     },
     "execution_count": 12,
     "metadata": {},
     "output_type": "execute_result"
    }
   ],
   "source": [
    "gradient2['frac_error'] = np.abs(gradient2['error'] / gradient2['mean'])\n",
    "gradient2"
   ]
  },
  {
   "cell_type": "markdown",
   "metadata": {},
   "source": [
    "The SEM does provide a significantly smaller estimate of the error, although it is still larger than the smallest values. The value for 0.38 should be clearly melting, however in this case the error is still half the value and so barely an indication of melting."
   ]
  },
  {
   "cell_type": "markdown",
   "metadata": {},
   "source": [
    "## What error is Acceptible\n",
    "\n",
    "Making the assumption that the perimeter doesn't change over the course of the simulation I can fit a straight line to the volume to get an estimate of the melting rate. This is the approach which will have the lowest error in the slope of the line, although there is a much larger error in assumption the surface area is constant for all temperatures above 0.38. The main idea of this approach is to give an indication of whether the errors are a result of the data or the methods I am using.\n",
    "\n",
    "There are two separate values I am using for the surface area. The initial surface area, with results in gradient4 and the mean surface area with the results in gradient5. The use of the mean value is to better match the results from the other derivative methods."
   ]
  },
  {
   "cell_type": "code",
   "execution_count": 13,
   "metadata": {},
   "outputs": [],
   "source": [
    "def gradient_regression_first(df):\n",
    "    \"\"\"Calculate the gradient using linear regression.\n",
    "    \n",
    "    The y value of the gradient is of each volume divided by the initial \n",
    "    surface area.\n",
    "    \n",
    "    \"\"\"\n",
    "    df = df.dropna()\n",
    "    slope, _, _, _, std_err = scipy.stats.linregress(\n",
    "        x=df.time, \n",
    "        y=df.radius\n",
    "    )\n",
    "    return slope, std_err\n",
    "\n",
    "gradient_mean = time_df.groupby(group_bys).apply(\n",
    "    lambda x: gradient_regression_first(x)[0]\n",
    ")\n",
    "gradient_error = time_df.groupby(group_bys).apply(\n",
    "    lambda x: gradient_regression_first(x)[1]\n",
    ")\n",
    "\n",
    "gradient4 = pandas.DataFrame({'mean': gradient_mean, 'error': gradient_error})\n",
    "gradient4.reset_index(inplace=True)"
   ]
  },
  {
   "cell_type": "code",
   "execution_count": 14,
   "metadata": {},
   "outputs": [],
   "source": [
    "def gradient_regression_mean(df):\n",
    "    \"\"\"Calculate the gradient using linear regression.\n",
    "    \n",
    "    The y value of the gradient is of eah volume divided by the mean\n",
    "    of the surface area over the course of the simulation. This is an \n",
    "    adjustment to bring the accuracy of the resulting slope closer to\n",
    "    that calculated by other methods.\n",
    "    \n",
    "    \"\"\"\n",
    "    df = df.dropna()\n",
    "    slope, _, _, _, std_err = scipy.stats.linregress(df.time, df.radius)\n",
    "    return slope, std_err\n",
    "\n",
    "gradient_mean = time_df.groupby(group_bys).apply(\n",
    "    lambda x: gradient_regression_mean(x)[0]\n",
    ")\n",
    "gradient_error = time_df.groupby(group_bys).apply(\n",
    "    lambda x: gradient_regression_mean(x)[1]\n",
    ")\n",
    "\n",
    "gradient5 = pandas.DataFrame({'mean': gradient_mean, 'error': gradient_error})\n",
    "gradient5.reset_index(inplace=True)"
   ]
  },
  {
   "cell_type": "code",
   "execution_count": 15,
   "metadata": {},
   "outputs": [
    {
     "data": {
      "application/vnd.vegalite.v2+json": {
       "$schema": "https://vega.github.io/schema/vega-lite/v2.6.0.json",
       "config": {
        "background": "white",
        "view": {
         "height": 300,
         "width": 400
        }
       },
       "layer": [
        {
         "data": {
          "format": {
           "type": "json"
          },
          "url": "altair-data-41f7f501a7e5b5494d79ca54b04be7d2.json"
         },
         "encoding": {
          "x": {
           "field": "temperature",
           "scale": {
            "zero": false
           },
           "type": "quantitative"
          },
          "y": {
           "axis": {
            "format": "e"
           },
           "field": "mean",
           "type": "quantitative"
          }
         },
         "mark": "point",
         "transform": [
          {
           "as": "ymin",
           "calculate": "datum.mean-datum.error/2"
          },
          {
           "as": "ymax",
           "calculate": "datum.mean+datum.error/2"
          }
         ]
        },
        {
         "data": {
          "format": {
           "type": "json"
          },
          "url": "altair-data-41f7f501a7e5b5494d79ca54b04be7d2.json"
         },
         "encoding": {
          "x": {
           "field": "temperature",
           "scale": {
            "zero": false
           },
           "type": "quantitative"
          },
          "y": {
           "field": "ymin",
           "type": "quantitative"
          },
          "y2": {
           "field": "ymax",
           "type": "quantitative"
          }
         },
         "mark": "rule",
         "transform": [
          {
           "as": "ymin",
           "calculate": "datum.mean-datum.error/2"
          },
          {
           "as": "ymax",
           "calculate": "datum.mean+datum.error/2"
          }
         ]
        }
       ]
      },
      "image/png": "[encoded data removed]",
      "text/plain": [
       "<VegaLite 2 object>\n",
       "\n",
       "If you see this message, it means the renderer has not been properly enabled\n",
       "for the frontend that you are using. For more information, see\n",
       "https://altair-viz.github.io/user_guide/troubleshooting.html\n"
      ]
     },
     "execution_count": 15,
     "metadata": {},
     "output_type": "execute_result"
    }
   ],
   "source": [
    "chart = alt.Chart(gradient4).mark_point().transform_calculate(\n",
    "    ymin=\"datum.mean-datum.error/2\",\n",
    "    ymax=\"datum.mean+datum.error/2\"\n",
    ").encode(\n",
    "    alt.X('temperature:Q', scale=alt.Scale(zero=False))\n",
    ")\n",
    "\n",
    "(\n",
    "    chart.encode(y=alt.Y('mean', axis=alt.Axis(format='e'))) + \n",
    "    chart.mark_rule().encode(y='ymin:Q', y2='ymax:Q')\n",
    ")"
   ]
  },
  {
   "cell_type": "code",
   "execution_count": 16,
   "metadata": {},
   "outputs": [
    {
     "data": {
      "text/html": [
       "<div>\n",
       "<style scoped>\n",
       "    .dataframe tbody tr th:only-of-type {\n",
       "        vertical-align: middle;\n",
       "    }\n",
       "\n",
       "    .dataframe tbody tr th {\n",
       "        vertical-align: top;\n",
       "    }\n",
       "\n",
       "    .dataframe thead th {\n",
       "        text-align: right;\n",
       "    }\n",
       "</style>\n",
       "<table border=\"1\" class=\"dataframe\">\n",
       "  <thead>\n",
       "    <tr style=\"text-align: right;\">\n",
       "      <th></th>\n",
       "      <th>crystal</th>\n",
       "      <th>temperature</th>\n",
       "      <th>pressure</th>\n",
       "      <th>mean</th>\n",
       "      <th>error</th>\n",
       "      <th>frac_error</th>\n",
       "    </tr>\n",
       "  </thead>\n",
       "  <tbody>\n",
       "    <tr>\n",
       "      <th>0</th>\n",
       "      <td>p2</td>\n",
       "      <td>0.30</td>\n",
       "      <td>1.0</td>\n",
       "      <td>1.688554e-10</td>\n",
       "      <td>8.118264e-12</td>\n",
       "      <td>0.048078</td>\n",
       "    </tr>\n",
       "    <tr>\n",
       "      <th>1</th>\n",
       "      <td>p2</td>\n",
       "      <td>0.32</td>\n",
       "      <td>1.0</td>\n",
       "      <td>2.274001e-10</td>\n",
       "      <td>1.154407e-11</td>\n",
       "      <td>0.050765</td>\n",
       "    </tr>\n",
       "    <tr>\n",
       "      <th>2</th>\n",
       "      <td>p2</td>\n",
       "      <td>0.34</td>\n",
       "      <td>1.0</td>\n",
       "      <td>3.749239e-11</td>\n",
       "      <td>9.787741e-12</td>\n",
       "      <td>0.261059</td>\n",
       "    </tr>\n",
       "    <tr>\n",
       "      <th>3</th>\n",
       "      <td>p2</td>\n",
       "      <td>0.36</td>\n",
       "      <td>1.0</td>\n",
       "      <td>-6.170055e-10</td>\n",
       "      <td>2.825531e-11</td>\n",
       "      <td>0.045794</td>\n",
       "    </tr>\n",
       "    <tr>\n",
       "      <th>4</th>\n",
       "      <td>p2</td>\n",
       "      <td>0.38</td>\n",
       "      <td>1.0</td>\n",
       "      <td>-4.833772e-09</td>\n",
       "      <td>3.132561e-11</td>\n",
       "      <td>0.006481</td>\n",
       "    </tr>\n",
       "    <tr>\n",
       "      <th>5</th>\n",
       "      <td>p2</td>\n",
       "      <td>0.40</td>\n",
       "      <td>1.0</td>\n",
       "      <td>-3.044498e-08</td>\n",
       "      <td>1.405947e-10</td>\n",
       "      <td>0.004618</td>\n",
       "    </tr>\n",
       "    <tr>\n",
       "      <th>6</th>\n",
       "      <td>p2</td>\n",
       "      <td>0.42</td>\n",
       "      <td>1.0</td>\n",
       "      <td>-1.307408e-07</td>\n",
       "      <td>1.250417e-09</td>\n",
       "      <td>0.009564</td>\n",
       "    </tr>\n",
       "    <tr>\n",
       "      <th>7</th>\n",
       "      <td>p2</td>\n",
       "      <td>0.44</td>\n",
       "      <td>1.0</td>\n",
       "      <td>-4.104328e-07</td>\n",
       "      <td>3.715505e-09</td>\n",
       "      <td>0.009053</td>\n",
       "    </tr>\n",
       "    <tr>\n",
       "      <th>8</th>\n",
       "      <td>p2</td>\n",
       "      <td>0.46</td>\n",
       "      <td>1.0</td>\n",
       "      <td>-9.351513e-07</td>\n",
       "      <td>1.596273e-08</td>\n",
       "      <td>0.017070</td>\n",
       "    </tr>\n",
       "    <tr>\n",
       "      <th>9</th>\n",
       "      <td>p2</td>\n",
       "      <td>0.50</td>\n",
       "      <td>1.0</td>\n",
       "      <td>-5.041216e-06</td>\n",
       "      <td>4.375243e-07</td>\n",
       "      <td>0.086789</td>\n",
       "    </tr>\n",
       "  </tbody>\n",
       "</table>\n",
       "</div>"
      ],
      "text/plain": [
       "  crystal  temperature  pressure          mean         error  frac_error\n",
       "0      p2         0.30       1.0  1.688554e-10  8.118264e-12    0.048078\n",
       "1      p2         0.32       1.0  2.274001e-10  1.154407e-11    0.050765\n",
       "2      p2         0.34       1.0  3.749239e-11  9.787741e-12    0.261059\n",
       "3      p2         0.36       1.0 -6.170055e-10  2.825531e-11    0.045794\n",
       "4      p2         0.38       1.0 -4.833772e-09  3.132561e-11    0.006481\n",
       "5      p2         0.40       1.0 -3.044498e-08  1.405947e-10    0.004618\n",
       "6      p2         0.42       1.0 -1.307408e-07  1.250417e-09    0.009564\n",
       "7      p2         0.44       1.0 -4.104328e-07  3.715505e-09    0.009053\n",
       "8      p2         0.46       1.0 -9.351513e-07  1.596273e-08    0.017070\n",
       "9      p2         0.50       1.0 -5.041216e-06  4.375243e-07    0.086789"
      ]
     },
     "execution_count": 16,
     "metadata": {},
     "output_type": "execute_result"
    }
   ],
   "source": [
    "gradient4['frac_error'] = np.abs(gradient4['error'] / gradient4['mean'])\n",
    "gradient4"
   ]
  },
  {
   "cell_type": "markdown",
   "metadata": {},
   "source": [
    "The errors in this approximation of the values is significantly smaller than any of the other methods. Additionally the errors and the values are more consistent throughout the range of temperatures, with no sudden jumps between values. I wouldn't look too much into the volume slightly increasing at the lower temperatures, with the values indicating an enroachment of the liquid phase by 0.7 units of distance over the timescale of the simulation; just over half the width of a molecule."
   ]
  },
  {
   "cell_type": "markdown",
   "metadata": {},
   "source": [
    "## Overall Assessment\n",
    "\n",
    "Taking all the calcualted values of the melting rates and making a comparison of the different techniques. This is to see how consistent the different methods are at calculating these derivatives."
   ]
  },
  {
   "cell_type": "code",
   "execution_count": 17,
   "metadata": {},
   "outputs": [],
   "source": [
    "gradient1['exp'] = 1\n",
    "gradient2['exp'] = 2\n",
    "gradient4['exp'] = 4\n",
    "gradient5['exp'] = 5\n",
    "gradients_all = pandas.concat([gradient4, gradient5], axis=0, sort=True)"
   ]
  },
  {
   "cell_type": "markdown",
   "metadata": {},
   "source": [
    "Plotting all the different approaches (labelled exp), on the same figure it is simple to compare them. The first approach to calculating the error is obviously wrong so I have excluded the results for clarity."
   ]
  },
  {
   "cell_type": "code",
   "execution_count": 21,
   "metadata": {},
   "outputs": [
    {
     "data": {
      "application/vnd.vegalite.v2+json": {
       "$schema": "https://vega.github.io/schema/vega-lite/v2.6.0.json",
       "config": {
        "background": "white",
        "view": {
         "height": 300,
         "width": 400
        }
       },
       "layer": [
        {
         "data": {
          "format": {
           "type": "json"
          },
          "url": "altair-data-0bd9f7d0a3f18d29f545254cf7605c58.json"
         },
         "encoding": {
          "color": {
           "field": "exp",
           "type": "nominal"
          },
          "x": {
           "field": "temperature",
           "scale": {
            "zero": false
           },
           "type": "quantitative"
          },
          "y": {
           "axis": {
            "format": "e"
           },
           "field": "mean",
           "type": "quantitative"
          }
         },
         "mark": "point",
         "transform": [
          {
           "as": "ymin",
           "calculate": "datum.mean-datum.error"
          },
          {
           "as": "ymax",
           "calculate": "datum.mean+datum.error"
          }
         ]
        },
        {
         "data": {
          "format": {
           "type": "json"
          },
          "url": "altair-data-0bd9f7d0a3f18d29f545254cf7605c58.json"
         },
         "encoding": {
          "color": {
           "field": "exp",
           "type": "nominal"
          },
          "x": {
           "field": "temperature",
           "scale": {
            "zero": false
           },
           "type": "quantitative"
          },
          "y": {
           "field": "ymin",
           "type": "quantitative"
          },
          "y2": {
           "field": "ymax",
           "type": "quantitative"
          }
         },
         "mark": "rule",
         "transform": [
          {
           "as": "ymin",
           "calculate": "datum.mean-datum.error"
          },
          {
           "as": "ymax",
           "calculate": "datum.mean+datum.error"
          }
         ]
        }
       ]
      },
      "image/png": "[encoded data removed]",
      "text/plain": [
       "<VegaLite 2 object>\n",
       "\n",
       "If you see this message, it means the renderer has not been properly enabled\n",
       "for the frontend that you are using. For more information, see\n",
       "https://altair-viz.github.io/user_guide/troubleshooting.html\n"
      ]
     },
     "execution_count": 21,
     "metadata": {},
     "output_type": "execute_result"
    }
   ],
   "source": [
    "chart = alt.Chart(gradients_all).mark_point().transform_calculate(\n",
    "    ymin=\"datum.mean-datum.error\",\n",
    "    ymax=\"datum.mean+datum.error\"\n",
    ").encode(\n",
    "    alt.X('temperature:Q', scale=alt.Scale(zero=False)),\n",
    "    color='exp:N',\n",
    ")\n",
    "\n",
    "(\n",
    "    chart.encode(y=alt.Y('mean', axis=alt.Axis(format='e'))) + \n",
    "    chart.mark_rule().encode(y='ymin:Q', y2='ymax:Q')\n",
    ")"
   ]
  },
  {
   "cell_type": "markdown",
   "metadata": {},
   "source": [
    "The second and third approach give very similar results, even when comparing the results in a table. For the values in the fourth approach can be brought much closer to the other values taking the mean of the perimeter rather than the initial value. Although the fifth appraoch still falls down at above T=0.42.\n",
    "\n",
    "To be able to more easily compare the values a log plot would make more sense, however since some of the values are negative this is not possible without some manipulation of the data. The figure below shows the data from each approach where the lowest estimated range is above 5e-10. Additionally all the values are now the absolute magnitude to allow for the log plot."
   ]
  },
  {
   "cell_type": "code",
   "execution_count": 20,
   "metadata": {},
   "outputs": [
    {
     "data": {
      "application/vnd.vegalite.v2+json": {
       "$schema": "https://vega.github.io/schema/vega-lite/v2.6.0.json",
       "config": {
        "background": "white",
        "view": {
         "height": 300,
         "width": 400
        }
       },
       "layer": [
        {
         "data": {
          "format": {
           "type": "json"
          },
          "url": "altair-data-0bd9f7d0a3f18d29f545254cf7605c58.json"
         },
         "encoding": {
          "color": {
           "field": "exp",
           "type": "nominal"
          },
          "x": {
           "field": "temperature",
           "scale": {
            "zero": false
           },
           "type": "quantitative"
          },
          "y": {
           "field": "abs_mean",
           "scale": {
            "type": "log"
           },
           "type": "quantitative"
          }
         },
         "mark": "point",
         "transform": [
          {
           "as": "abs_mean",
           "calculate": "abs(datum.mean)"
          },
          {
           "as": "ymin",
           "calculate": "datum.abs_mean-datum.error"
          },
          {
           "as": "ymax",
           "calculate": "datum.abs_mean+datum.error"
          },
          {
           "filter": "datum.ymin > 1e-10"
          }
         ]
        },
        {
         "data": {
          "format": {
           "type": "json"
          },
          "url": "altair-data-0bd9f7d0a3f18d29f545254cf7605c58.json"
         },
         "encoding": {
          "color": {
           "field": "exp",
           "type": "nominal"
          },
          "x": {
           "field": "temperature",
           "scale": {
            "zero": false
           },
           "type": "quantitative"
          },
          "y": {
           "field": "ymin",
           "type": "quantitative"
          },
          "y2": {
           "field": "ymax",
           "type": "quantitative"
          }
         },
         "mark": "rule",
         "transform": [
          {
           "as": "abs_mean",
           "calculate": "abs(datum.mean)"
          },
          {
           "as": "ymin",
           "calculate": "datum.abs_mean-datum.error"
          },
          {
           "as": "ymax",
           "calculate": "datum.abs_mean+datum.error"
          },
          {
           "filter": "datum.ymin > 1e-10"
          }
         ]
        }
       ]
      },
      "image/png": "[encoded data removed]",
      "text/plain": [
       "<VegaLite 2 object>\n",
       "\n",
       "If you see this message, it means the renderer has not been properly enabled\n",
       "for the frontend that you are using. For more information, see\n",
       "https://altair-viz.github.io/user_guide/troubleshooting.html\n"
      ]
     },
     "execution_count": 20,
     "metadata": {},
     "output_type": "execute_result"
    }
   ],
   "source": [
    "chart = alt.Chart(gradients_all).mark_point().transform_calculate(\n",
    "    abs_mean='abs(datum.mean)',\n",
    "    ymin=\"datum.abs_mean-datum.error\",\n",
    "    ymax=\"datum.abs_mean+datum.error\"\n",
    ").transform_filter(\n",
    "    \"datum.ymin > 1e-10\"\n",
    ").encode(\n",
    "    alt.X('temperature:Q', scale=alt.Scale(zero=False)),\n",
    "    color='exp:N',\n",
    ")\n",
    "\n",
    "(\n",
    "    chart.encode(y=alt.Y('abs_mean:Q', scale=alt.Scale(type='log'))) +\n",
    "    chart.encode(y='ymin:Q', y2='ymax:Q').mark_rule()\n",
    ")"
   ]
  },
  {
   "cell_type": "code",
   "execution_count": null,
   "metadata": {},
   "outputs": [],
   "source": []
  }
 ],
 "metadata": {
  "kernelspec": {
   "display_name": "crystal",
   "language": "python",
   "name": "crystal"
  },
  "language_info": {
   "codemirror_mode": {
    "name": "ipython",
    "version": 3
   },
   "file_extension": ".py",
   "mimetype": "text/x-python",
   "name": "python",
   "nbconvert_exporter": "python",
   "pygments_lexer": "ipython3",
   "version": "3.6.8"
  }
 },
 "nbformat": 4,
 "nbformat_minor": 2
}
