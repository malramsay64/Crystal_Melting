{
 "cells": [
  {
   "cell_type": "markdown",
   "metadata": {},
   "source": [
    "# Understanding Methods of Computing Melting Rates\n",
    "\n",
    "I need a method of computing the melting rate of the crystal structures which will provide a good estimation of both the melting rate and the error of the melting rate. Importantly I need an algorith able to detect the small melting rates at low temperatures."
   ]
  },
  {
   "cell_type": "code",
   "execution_count": 1,
   "metadata": {},
   "outputs": [
    {
     "data": {
      "text/plain": [
       "DataTransformerRegistry.enable('json')"
      ]
     },
     "execution_count": 1,
     "metadata": {},
     "output_type": "execute_result"
    }
   ],
   "source": [
    "import numpy as np\n",
    "import pandas\n",
    "import altair as alt\n",
    "import scipy.stats\n",
    "\n",
    "alt.data_transformers.enable('json')"
   ]
  },
  {
   "cell_type": "markdown",
   "metadata": {},
   "source": [
    "## Load Data\n",
    "\n",
    "The data on the melting rates has been precalculated and saved to a file. The data stored is the simulation conditions along with the values\n",
    "- fraction: The fraction of the simulation cell which is crystalline in nature\n",
    "- surface_area: The perimeter (the 2D equivalent of surface area) of the crystalline cluster\n",
    "- volume: The area (2D equivalent of area) of the crystalline cluster\n",
    "- time: The timestep at which these values apply.\n",
    "\n",
    "Only the data from the low temperature melting is used in this analysis since at the time of writing the dataset is better and it is easier to only deal with a single set of pressures. I am also limiting the analysis to only the p2 crystal.\n",
    "\n",
    "By resampling the dataset to times of 1ms, the "
   ]
  },
  {
   "cell_type": "code",
   "execution_count": 2,
   "metadata": {},
   "outputs": [],
   "source": [
    "# Read file with melting data\n",
    "norm_df = pandas.read_hdf('../data/analysis/melting.h5', 'fractions', mode='r')\n",
    "norm_df = norm_df.query('pressure == \"1.00\" and temperature < 0.8')\n",
    "norm_df = norm_df.query('volume > 2000')\n",
    "norm_df = norm_df.query('time > 0.')\n",
    "# norm_df = norm_df.query('crystal != \"p2gg\"')\n",
    "norm_df = norm_df.query('crystal == \"p2\"')\n",
    "group_bys = ['crystal', 'temperature', 'pressure']\n",
    "time_df = norm_df.copy()\n",
    "time_df.index = pandas.TimedeltaIndex(norm_df.time)\n",
    "# time_df = time_df.groupby(group_bys).resample('1ms').mean().reset_index(drop=True)\n",
    "time_df.dropna(inplace=True)"
   ]
  },
  {
   "cell_type": "markdown",
   "metadata": {},
   "source": [
    "## Volume Data\n",
    "\n",
    "I have plotted the volume of the crystal as a fucntion of time below. The important point to note is the high levels of noise in the data, which is a combination the thermal fluctuations and the inacuracy of the algorithm I am using for classification."
   ]
  },
  {
   "cell_type": "code",
   "execution_count": 3,
   "metadata": {},
   "outputs": [
    {
     "data": {
      "application/vnd.vegalite.v2+json": {
       "$schema": "https://vega.github.io/schema/vega-lite/v2.6.0.json",
       "config": {
        "view": {
         "height": 300,
         "width": 400
        }
       },
       "data": {
        "format": {
         "type": "json"
        },
        "url": "altair-data-d751713988987e9331980363e24189ce.json"
       },
       "encoding": {
        "color": {
         "field": "temperature",
         "type": "nominal"
        },
        "row": {
         "field": "crystal",
         "type": "nominal"
        },
        "x": {
         "axis": {
          "format": "e"
         },
         "field": "time",
         "type": "quantitative"
        },
        "y": {
         "field": "volume",
         "type": "quantitative"
        }
       },
       "mark": "line"
      },
      "image/png": "",
      "text/plain": [
       "<VegaLite 2 object>\n",
       "\n",
       "If you see this message, it means the renderer has not been properly enabled\n",
       "for the frontend that you are using. For more information, see\n",
       "https://altair-viz.github.io/user_guide/troubleshooting.html\n"
      ]
     },
     "execution_count": 3,
     "metadata": {},
     "output_type": "execute_result"
    }
   ],
   "source": [
    "chart = alt.Chart(time_df).mark_line().encode(\n",
    "    x=alt.X('time:Q', axis=alt.Axis(format='e')),\n",
    "    color='temperature:N',\n",
    "    row='crystal:N',\n",
    "    y='volume:Q',\n",
    ")\n",
    "chart"
   ]
  },
  {
   "cell_type": "code",
   "execution_count": 4,
   "metadata": {},
   "outputs": [],
   "source": [
    "# chart.save('../figures/melting_Trimer-P1.00-p2.png')"
   ]
  },
  {
   "cell_type": "markdown",
   "metadata": {},
   "source": [
    "## Calculating $\\Delta V/ \\Delta t$\n",
    "\n",
    "The quantity we are interested in is rate of melting for a given surface area,\n",
    "$$\n",
    "\\tau_M = -\\frac{1}{A} \\frac{\\Delta V}{\\Delta t}\n",
    "$$\n",
    "since our expectation is that $\\tau_M$ is a constant value, fitting a straight line to $\\Delta V/\\Delta t$ will end up giving a value of $\\tau_M$ which is dependent on the surface area.\n",
    "\n",
    "This documents my attempts at calculating this value with a small error."
   ]
  },
  {
   "cell_type": "markdown",
   "metadata": {},
   "source": [
    "### Averaging Instantaneous gradient\n",
    "\n",
    "This is calculating the instantaneous gradient $\\frac{1}{A(t)} \\frac{V(t+\\Delta t) - V(t)}{\\Delta t}$ and averaging over all $t$. The errors being calculated as the standard deviation. The gradient is computed using the`np.gradient` function which documents the solver [here](https://docs.scipy.org/doc/numpy/reference/generated/numpy.gradient.html#numpy.gradient)."
   ]
  },
  {
   "cell_type": "code",
   "execution_count": 9,
   "metadata": {},
   "outputs": [],
   "source": [
    "def instantaneous_gradient(df):\n",
    "    if len(df.volume > 2):\n",
    "        return np.gradient(df.volume, df.time) / df.surface_area\n",
    "    elif len(df == 2):\n",
    "        return (1/df.surface_area[0]) * (df.volume[1] - df.volume[0])/(df.time[1] - df.time[0])\n",
    "    else:\n",
    "        return 0\n",
    "        \n",
    "\n",
    "gradient_mean = time_df.groupby(group_bys).apply(\n",
    "    lambda x: np.nanmean(instantaneous_gradient(x))\n",
    ")\n",
    "gradient_error = time_df.groupby(group_bys).apply(\n",
    "    lambda x: scipy.stats.sem(instantaneous_gradient(x), nan_policy='omit')\n",
    ")\n",
    "\n",
    "gradient1 = pandas.DataFrame({'mean': gradient_mean, 'error': gradient_error}, index=gradient_mean.index)\n",
    "gradient1.reset_index(inplace=True)"
   ]
  },
  {
   "cell_type": "markdown",
   "metadata": {},
   "source": [
    "Plotting the melting rate with the calculated errors as a function of temperature."
   ]
  },
  {
   "cell_type": "code",
   "execution_count": 10,
   "metadata": {},
   "outputs": [
    {
     "data": {
      "application/vnd.vegalite.v2+json": {
       "$schema": "https://vega.github.io/schema/vega-lite/v2.6.0.json",
       "config": {
        "view": {
         "height": 300,
         "width": 400
        }
       },
       "layer": [
        {
         "data": {
          "format": {
           "type": "json"
          },
          "url": "altair-data-d751713988987e9331980363e24189ce.json"
         },
         "encoding": {
          "x": {
           "field": "temperature",
           "scale": {
            "zero": false
           },
           "type": "quantitative"
          },
          "y": {
           "axis": {
            "format": "e"
           },
           "field": "mean",
           "type": "nominal"
          }
         },
         "mark": "point",
         "transform": [
          {
           "as": "ymin",
           "calculate": "datum.mean-datum.error/2"
          },
          {
           "as": "ymax",
           "calculate": "datum.mean+datum.error/2"
          }
         ]
        },
        {
         "data": {
          "format": {
           "type": "json"
          },
          "url": "altair-data-d751713988987e9331980363e24189ce.json"
         },
         "encoding": {
          "x": {
           "field": "temperature",
           "scale": {
            "zero": false
           },
           "type": "quantitative"
          },
          "y": {
           "field": "ymin",
           "type": "quantitative"
          },
          "y2": {
           "field": "ymax",
           "type": "quantitative"
          }
         },
         "mark": "rule",
         "transform": [
          {
           "as": "ymin",
           "calculate": "datum.mean-datum.error/2"
          },
          {
           "as": "ymax",
           "calculate": "datum.mean+datum.error/2"
          }
         ]
        }
       ]
      },
      "image/png": "[encoded data removed]",
      "text/plain": [
       "<VegaLite 2 object>\n",
       "\n",
       "If you see this message, it means the renderer has not been properly enabled\n",
       "for the frontend that you are using. For more information, see\n",
       "https://altair-viz.github.io/user_guide/troubleshooting.html\n"
      ]
     },
     "execution_count": 10,
     "metadata": {},
     "output_type": "execute_result"
    }
   ],
   "source": [
    "chart = alt.Chart(gradient1).mark_point().transform_calculate(\n",
    "    ymin=\"datum.mean-datum.error/2\",\n",
    "    ymax=\"datum.mean+datum.error/2\"\n",
    ").encode(\n",
    "    alt.X('temperature:Q', scale=alt.Scale(zero=False))\n",
    ")\n",
    "\n",
    "disp_chart = (\n",
    "    chart.encode(alt.Y('mean', axis=alt.Axis(format='e'))) + \n",
    "    chart.mark_rule().encode(y='ymin:Q', y2='ymax:Q')\n",
    ")\n",
    "disp_chart"
   ]
  },
  {
   "cell_type": "code",
   "execution_count": null,
   "metadata": {},
   "outputs": [],
   "source": []
  }
 ],
 "metadata": {
  "kernelspec": {
   "display_name": "crystal",
   "language": "python",
   "name": "crystal"
  },
  "language_info": {
   "codemirror_mode": {
    "name": "ipython",
    "version": 3
   },
   "file_extension": ".py",
   "mimetype": "text/x-python",
   "name": "python",
   "nbconvert_exporter": "python",
   "pygments_lexer": "ipython3",
   "version": "3.6.8"
  }
 },
 "nbformat": 4,
 "nbformat_minor": 2
}
