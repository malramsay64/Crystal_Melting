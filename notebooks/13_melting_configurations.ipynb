{
 "cells": [
  {
   "cell_type": "markdown",
   "metadata": {},
   "source": [
    "# Melting Configurations\n",
    "\n",
    "In the analysis of the melting\n",
    "I have thrown away data from high temperatures\n",
    "as a result of the melting not proceeding as expected.\n",
    "This notebook provides figures\n",
    "which provide the evidence for this decision."
   ]
  },
  {
   "cell_type": "code",
   "execution_count": null,
   "metadata": {},
   "outputs": [],
   "source": [
    "%load_ext autoreload\n",
    "%autoreload 1\n",
    "\n",
    "from sdanalysis.figures import configuration\n",
    "from sdanalysis import HoomdFrame, order\n",
    "\n",
    "from bokeh.io import output_notebook, show, export_svgs\n",
    "from bokeh.models import Range1d\n",
    "import gsd.hoomd\n",
    "import joblib\n",
    "\n",
    "import sys\n",
    "sys.path.append(\"../src\")\n",
    "%aimport figures\n",
    "\n",
    "output_notebook()"
   ]
  },
  {
   "cell_type": "code",
   "execution_count": null,
   "metadata": {},
   "outputs": [],
   "source": [
    "gsd_file = \"../data/simulations/rates/output/dump-Trimer-P1.00-T0.75-p2-ID1.gsd\"\n",
    "with gsd.hoomd.open(gsd_file) as trj:\n",
    "    snap = HoomdFrame(trj[50])"
   ]
  },
  {
   "cell_type": "code",
   "execution_count": null,
   "metadata": {},
   "outputs": [],
   "source": [
    "KNNModel = joblib.load(\"../models/knn-trimer.pkl\")\n",
    "ordering = order.compute_ml_order(\n",
    "    KNNModel, snap.box, snap.position, snap.orientation\n",
    ")"
   ]
  },
  {
   "cell_type": "code",
   "execution_count": null,
   "metadata": {},
   "outputs": [],
   "source": [
    "fig = figures.style_snapshot(configuration.plot_frame(snap, order_list=ordering))\n",
    "fig.x_range = Range1d(-40, 40)\n",
    "fig.y_range = Range1d(-40, 40)\n",
    "show(fig)"
   ]
  },
  {
   "cell_type": "code",
   "execution_count": null,
   "metadata": {},
   "outputs": [],
   "source": [
    "fig.output_backend=\"svg\"\n",
    "export_svgs(fig, \"../figures/melting_disorder_P100-T075.svg\")"
   ]
  },
  {
   "cell_type": "code",
   "execution_count": null,
   "metadata": {},
   "outputs": [],
   "source": [
    "gsd_file = \"../data/simulations/rates/output/dump-Trimer-P1.00-T0.60-p2-ID1.gsd\"\n",
    "with gsd.hoomd.open(gsd_file) as trj:\n",
    "    snap = HoomdFrame(trj[70])\n",
    "    \n",
    "ordering = order.compute_ml_order(\n",
    "    KNNModel, snap.box, snap.position, snap.orientation\n",
    ")\n",
    "    \n",
    "fig = figures.style_snapshot(configuration.plot_frame(snap, order_list=ordering))\n",
    "fig.x_range = Range1d(-50, 30)\n",
    "fig.y_range = Range1d(-50, 30)\n",
    "show(fig)"
   ]
  },
  {
   "cell_type": "code",
   "execution_count": null,
   "metadata": {},
   "outputs": [],
   "source": [
    "fig.output_backend=\"svg\"\n",
    "export_svgs(fig, \"../figures/melting_disorder_P100-T060.svg\")"
   ]
  },
  {
   "cell_type": "code",
   "execution_count": null,
   "metadata": {},
   "outputs": [],
   "source": []
  }
 ],
 "metadata": {
  "kernelspec": {
   "display_name": "crystal",
   "language": "python",
   "name": "crystal"
  },
  "language_info": {
   "codemirror_mode": {
    "name": "ipython",
    "version": 3
   },
   "file_extension": ".py",
   "mimetype": "text/x-python",
   "name": "python",
   "nbconvert_exporter": "python",
   "pygments_lexer": "ipython3",
   "version": "3.6.8"
  }
 },
 "nbformat": 4,
 "nbformat_minor": 2
}
