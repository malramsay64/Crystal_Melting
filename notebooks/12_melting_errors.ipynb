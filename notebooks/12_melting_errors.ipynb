{
 "cells": [
  {
   "cell_type": "markdown",
   "metadata": {},
   "source": [
    "# Melting Uncertainties\n",
    "\n",
    "This aims to estimate the uncertainty of the crystal melting rates,\n",
    "combining the uncertainties of the dynamics and that of the rates calculation."
   ]
  },
  {
   "cell_type": "code",
   "execution_count": 1,
   "metadata": {},
   "outputs": [],
   "source": [
    "import pandas\n",
    "import uncertainties\n",
    "import altair as alt\n",
    "import numpy as np\n",
    "import scipy.optimize\n",
    "import uncertainties\n",
    "\n",
    "import sys\n",
    "sys.path.append(\"../src\")\n",
    "import figures\n",
    "\n",
    "figures.use_my_theme()"
   ]
  },
  {
   "cell_type": "markdown",
   "metadata": {},
   "source": [
    "## Error in Melting Rates\n",
    "\n",
    "The error of the melting rates will be calculated\n",
    "by taking the standard deviation of all the measurements"
   ]
  },
  {
   "cell_type": "code",
   "execution_count": 2,
   "metadata": {},
   "outputs": [],
   "source": [
    "with pandas.HDFStore('../data/analysis/melting_clean.h5') as store:\n",
    "    rates_df = store.get(\"rates\")"
   ]
  },
  {
   "cell_type": "code",
   "execution_count": 3,
   "metadata": {},
   "outputs": [],
   "source": [
    "rates_df[\"error_min\"] = rates_df[\"mean\"] - rates_df[\"error\"]\n",
    "rates_df[\"error_max\"] = rates_df[\"mean\"] + rates_df[\"error\"]"
   ]
  },
  {
   "cell_type": "code",
   "execution_count": 4,
   "metadata": {},
   "outputs": [
    {
     "data": {
      "application/vnd.vegalite.v2+json": {
       "$schema": "https://vega.github.io/schema/vega-lite/v2.6.0.json",
       "config": {
        "axis": {
         "grid": false
        },
        "view": {
         "height": 400,
         "width": 600
        }
       },
       "datasets": {
        "data-c860d925e8fa5db37081059de9e230e2": [
         {
          "crystal": "p2",
          "error": 7.017079634294544e-10,
          "error_max": -2.560869135718997e-08,
          "error_min": -2.7012107284048877e-08,
          "iter_id": 1,
          "mean": -2.6310399320619424e-08,
          "pressure": 1,
          "temp_norm": 1.1111111111111112,
          "temperature": 0.4
         },
         {
          "crystal": "p2",
          "error": 7.04912907279411e-10,
          "error_max": -2.0195028967596238e-08,
          "error_min": -2.1604854782155058e-08,
          "iter_id": 2,
          "mean": -2.0899941874875648e-08,
          "pressure": 1,
          "temp_norm": 1.1111111111111112,
          "temperature": 0.4
         },
         {
          "crystal": "p2",
          "error": 6.16349938737043e-10,
          "error_max": -1.7292549953272313e-08,
          "error_min": -1.85252498307464e-08,
          "iter_id": 3,
          "mean": -1.7908899892009357e-08,
          "pressure": 1,
          "temp_norm": 1.1111111111111112,
          "temperature": 0.4
         },
         {
          "crystal": "p2",
          "error": 5.785446662237049e-10,
          "error_max": -2.2180443931116965e-08,
          "error_min": -2.3337533263564374e-08,
          "iter_id": 4,
          "mean": -2.275898859734067e-08,
          "pressure": 1,
          "temp_norm": 1.1111111111111112,
          "temperature": 0.4
         },
         {
          "crystal": "p2",
          "error": 5.603167007111362e-10,
          "error_max": -2.272108423045224e-08,
          "error_min": -2.3841717631874514e-08,
          "iter_id": 5,
          "mean": -2.3281400931163377e-08,
          "pressure": 1,
          "temp_norm": 1.1111111111111112,
          "temperature": 0.4
         },
         {
          "crystal": "p2",
          "error": 7.015223335508308e-09,
          "error_max": -5.33285904611638e-07,
          "error_min": -5.473163512826546e-07,
          "iter_id": 1,
          "mean": -5.403011279471463e-07,
          "pressure": 1,
          "temp_norm": 1.25,
          "temperature": 0.45
         },
         {
          "crystal": "p2",
          "error": 1.1795225377797825e-08,
          "error_max": -5.095222174962477e-07,
          "error_min": -5.331126682518434e-07,
          "iter_id": 2,
          "mean": -5.213174428740455e-07,
          "pressure": 1,
          "temp_norm": 1.25,
          "temperature": 0.45
         },
         {
          "crystal": "p2",
          "error": 9.126252212796073e-09,
          "error_max": -6.671658089120127e-07,
          "error_min": -6.854183133376048e-07,
          "iter_id": 3,
          "mean": -6.762920611248087e-07,
          "pressure": 1,
          "temp_norm": 1.25,
          "temperature": 0.45
         },
         {
          "crystal": "p2",
          "error": 8.853884277571911e-09,
          "error_max": -5.470258149735353e-07,
          "error_min": -5.64733583528679e-07,
          "iter_id": 4,
          "mean": -5.558796992511071e-07,
          "pressure": 1,
          "temp_norm": 1.25,
          "temperature": 0.45
         },
         {
          "crystal": "p2",
          "error": 1.0098857000314501e-08,
          "error_max": -6.090832002453926e-07,
          "error_min": -6.292809142460215e-07,
          "iter_id": 5,
          "mean": -6.191820572457071e-07,
          "pressure": 1,
          "temp_norm": 1.25,
          "temperature": 0.45
         },
         {
          "crystal": "p2",
          "error": 2.8091963141104594e-08,
          "error_max": -3.868747688245768e-06,
          "error_min": -3.924931614527977e-06,
          "iter_id": 1,
          "mean": -3.896839651386873e-06,
          "pressure": 1,
          "temp_norm": 1.3888888888888888,
          "temperature": 0.5
         },
         {
          "crystal": "p2",
          "error": 2.722284894864175e-08,
          "error_max": -3.246699359342864e-06,
          "error_min": -3.3011450572401473e-06,
          "iter_id": 2,
          "mean": -3.2739222082915057e-06,
          "pressure": 1,
          "temp_norm": 1.3888888888888888,
          "temperature": 0.5
         },
         {
          "crystal": "p2",
          "error": 2.9803163577171e-08,
          "error_max": -4.129044187148704e-06,
          "error_min": -4.188650514303046e-06,
          "iter_id": 3,
          "mean": -4.158847350725875e-06,
          "pressure": 1,
          "temp_norm": 1.3888888888888888,
          "temperature": 0.5
         },
         {
          "crystal": "p2",
          "error": 2.4598968392057237e-08,
          "error_max": -4.206735876074864e-06,
          "error_min": -4.255933812858978e-06,
          "iter_id": 4,
          "mean": -4.231334844466921e-06,
          "pressure": 1,
          "temp_norm": 1.3888888888888888,
          "temperature": 0.5
         },
         {
          "crystal": "p2",
          "error": 3.6491192384692805e-08,
          "error_max": -3.7474698257367067e-06,
          "error_min": -3.820452210506092e-06,
          "iter_id": 5,
          "mean": -3.7839610181213997e-06,
          "pressure": 1,
          "temp_norm": 1.3888888888888888,
          "temperature": 0.5
         },
         {
          "crystal": "p2",
          "error": 1.0826505857851275e-07,
          "error_max": -1.7066441912776994e-05,
          "error_min": -1.728297202993402e-05,
          "iter_id": 1,
          "mean": -1.7174706971355507e-05,
          "pressure": 1,
          "temp_norm": 1.527777777777778,
          "temperature": 0.55
         },
         {
          "crystal": "p2",
          "error": 9.617441016120165e-08,
          "error_max": -2.0732395782215843e-05,
          "error_min": -2.092474460253825e-05,
          "iter_id": 2,
          "mean": -2.0828570192377046e-05,
          "pressure": 1,
          "temp_norm": 1.527777777777778,
          "temperature": 0.55
         },
         {
          "crystal": "p2",
          "error": 1.0562107041547133e-07,
          "error_max": -1.874948972446666e-05,
          "error_min": -1.89607318652976e-05,
          "iter_id": 3,
          "mean": -1.885511079488213e-05,
          "pressure": 1,
          "temp_norm": 1.527777777777778,
          "temperature": 0.55
         },
         {
          "crystal": "p2",
          "error": 1.2900347673862574e-07,
          "error_max": -1.9000721864835794e-05,
          "error_min": -1.9258728818313047e-05,
          "iter_id": 4,
          "mean": -1.912972534157442e-05,
          "pressure": 1,
          "temp_norm": 1.527777777777778,
          "temperature": 0.55
         },
         {
          "crystal": "p2",
          "error": 8.693059985494674e-08,
          "error_max": -1.81119531405132e-05,
          "error_min": -1.8285814340223094e-05,
          "iter_id": 5,
          "mean": -1.8198883740368148e-05,
          "pressure": 1,
          "temp_norm": 1.527777777777778,
          "temperature": 0.55
         },
         {
          "crystal": "p2",
          "error": 3.8958621391516305e-07,
          "error_max": -6.651347221132251e-05,
          "error_min": -6.729264463915284e-05,
          "iter_id": 1,
          "mean": -6.690305842523768e-05,
          "pressure": 1,
          "temp_norm": 1.6666666666666667,
          "temperature": 0.6
         },
         {
          "crystal": "p2",
          "error": 7.556952951857012e-07,
          "error_max": -6.808403328434207e-05,
          "error_min": -6.959542387471347e-05,
          "iter_id": 2,
          "mean": -6.883972857952777e-05,
          "pressure": 1,
          "temp_norm": 1.6666666666666667,
          "temperature": 0.6
         },
         {
          "crystal": "p2",
          "error": 8.544232881186537e-07,
          "error_max": -6.612265464964657e-05,
          "error_min": -6.783150122588389e-05,
          "iter_id": 3,
          "mean": -6.697707793776523e-05,
          "pressure": 1,
          "temp_norm": 1.6666666666666667,
          "temperature": 0.6
         },
         {
          "crystal": "p2",
          "error": 3.2800353374125714e-07,
          "error_max": -6.962295719052867e-05,
          "error_min": -7.027896425801117e-05,
          "iter_id": 4,
          "mean": -6.995096072426992e-05,
          "pressure": 1,
          "temp_norm": 1.6666666666666667,
          "temperature": 0.6
         },
         {
          "crystal": "p2",
          "error": 6.001450252666432e-07,
          "error_max": -6.17455966847694e-05,
          "error_min": -6.294588673530269e-05,
          "iter_id": 5,
          "mean": -6.234574171003604e-05,
          "pressure": 1,
          "temp_norm": 1.6666666666666667,
          "temperature": 0.6
         },
         {
          "crystal": "p2",
          "error": 7.194859720318325e-10,
          "error_max": -1.480496074089092e-09,
          "error_min": -2.919468018152757e-09,
          "iter_id": 1,
          "mean": -2.1999820461209244e-09,
          "pressure": 13.5,
          "temp_norm": 1.037037037037037,
          "temperature": 1.4
         },
         {
          "crystal": "p2",
          "error": 6.010643826522557e-10,
          "error_max": -2.0023452756260975e-09,
          "error_min": -3.2044740409306092e-09,
          "iter_id": 2,
          "mean": -2.6034096582783534e-09,
          "pressure": 13.5,
          "temp_norm": 1.037037037037037,
          "temperature": 1.4
         },
         {
          "crystal": "p2",
          "error": 6.217213384809022e-10,
          "error_max": -6.436371496012276e-09,
          "error_min": -7.67981417297408e-09,
          "iter_id": 3,
          "mean": -7.0580928344931785e-09,
          "pressure": 13.5,
          "temp_norm": 1.037037037037037,
          "temperature": 1.4
         },
         {
          "crystal": "p2",
          "error": 5.753732304826201e-10,
          "error_max": 8.843903306208013e-10,
          "error_min": -2.6635613034443896e-10,
          "iter_id": 4,
          "mean": 3.090171001381812e-10,
          "pressure": 13.5,
          "temp_norm": 1.037037037037037,
          "temperature": 1.4
         },
         {
          "crystal": "p2",
          "error": 8.066052875399335e-10,
          "error_max": -8.941892190423904e-09,
          "error_min": -1.0555102765503771e-08,
          "iter_id": 5,
          "mean": -9.748497477963838e-09,
          "pressure": 13.5,
          "temp_norm": 1.037037037037037,
          "temperature": 1.4
         },
         {
          "crystal": "p2",
          "error": 1.0422497105722309e-09,
          "error_max": -3.0047657195796144e-08,
          "error_min": -3.213215661694061e-08,
          "iter_id": 1,
          "mean": -3.108990690636838e-08,
          "pressure": 13.5,
          "temp_norm": 1.111111111111111,
          "temperature": 1.5
         },
         {
          "crystal": "p2",
          "error": 1.0317099166692204e-09,
          "error_max": -2.9633542463376916e-08,
          "error_min": -3.169696229671536e-08,
          "iter_id": 2,
          "mean": -3.066525238004614e-08,
          "pressure": 13.5,
          "temp_norm": 1.111111111111111,
          "temperature": 1.5
         },
         {
          "crystal": "p2",
          "error": 1.1428455332072135e-09,
          "error_max": -3.174127451379039e-08,
          "error_min": -3.4026965580204813e-08,
          "iter_id": 3,
          "mean": -3.28841200469976e-08,
          "pressure": 13.5,
          "temp_norm": 1.111111111111111,
          "temperature": 1.5
         },
         {
          "crystal": "p2",
          "error": 1.3204361222221282e-09,
          "error_max": -3.3067111393840906e-08,
          "error_min": -3.570798363828517e-08,
          "iter_id": 4,
          "mean": -3.4387547516063036e-08,
          "pressure": 13.5,
          "temp_norm": 1.111111111111111,
          "temperature": 1.5
         },
         {
          "crystal": "p2",
          "error": 1.1025138026635008e-09,
          "error_max": -3.033695715372015e-08,
          "error_min": -3.254198475904716e-08,
          "iter_id": 5,
          "mean": -3.1439470956383655e-08,
          "pressure": 13.5,
          "temp_norm": 1.111111111111111,
          "temperature": 1.5
         },
         {
          "crystal": "p2",
          "error": 1.922733571011098e-08,
          "error_max": -2.3687878158356881e-07,
          "error_min": -2.753334530037908e-07,
          "iter_id": 1,
          "mean": -2.561061172936798e-07,
          "pressure": 13.5,
          "temp_norm": 1.1851851851851851,
          "temperature": 1.6
         },
         {
          "crystal": "p2",
          "error": 1.838170514562756e-08,
          "error_max": -3.636936264152876e-07,
          "error_min": -4.004570367065427e-07,
          "iter_id": 2,
          "mean": -3.8207533156091517e-07,
          "pressure": 13.5,
          "temp_norm": 1.1851851851851851,
          "temperature": 1.6
         },
         {
          "crystal": "p2",
          "error": 2.026061781983869e-08,
          "error_max": 1.2539742080789336e-07,
          "error_min": 8.487618516821599e-08,
          "iter_id": 3,
          "mean": 1.0513680298805468e-07,
          "pressure": 13.5,
          "temp_norm": 1.1851851851851851,
          "temperature": 1.6
         },
         {
          "crystal": "p2",
          "error": 2.099934047815182e-08,
          "error_max": -1.5076698776461256e-07,
          "error_min": -1.927656687209162e-07,
          "iter_id": 4,
          "mean": -1.7176632824276438e-07,
          "pressure": 13.5,
          "temp_norm": 1.1851851851851851,
          "temperature": 1.6
         },
         {
          "crystal": "p2",
          "error": 2.0109566904643817e-08,
          "error_max": 8.610156158519484e-08,
          "error_min": 4.588242777590721e-08,
          "iter_id": 5,
          "mean": 6.599199468055102e-08,
          "pressure": 13.5,
          "temp_norm": 1.1851851851851851,
          "temperature": 1.6
         },
         {
          "crystal": "p2",
          "error": 3.8628791216643345e-08,
          "error_max": -2.0634032718102286e-06,
          "error_min": -2.1406608542435154e-06,
          "iter_id": 1,
          "mean": -2.102032063026872e-06,
          "pressure": 13.5,
          "temp_norm": 1.3333333333333333,
          "temperature": 1.8
         },
         {
          "crystal": "p2",
          "error": 4.0483585262920976e-08,
          "error_max": -1.1057994770184303e-06,
          "error_min": -1.1867666475442725e-06,
          "iter_id": 2,
          "mean": -1.1462830622813514e-06,
          "pressure": 13.5,
          "temp_norm": 1.3333333333333333,
          "temperature": 1.8
         },
         {
          "crystal": "p2",
          "error": 3.712252348351227e-08,
          "error_max": -1.456133281334329e-06,
          "error_min": -1.5303783283013537e-06,
          "iter_id": 3,
          "mean": -1.4932558048178414e-06,
          "pressure": 13.5,
          "temp_norm": 1.3333333333333333,
          "temperature": 1.8
         },
         {
          "crystal": "p2",
          "error": 4.2701133275540836e-08,
          "error_max": -1.674757351357982e-06,
          "error_min": -1.7601596179090638e-06,
          "iter_id": 4,
          "mean": -1.7174584846335229e-06,
          "pressure": 13.5,
          "temp_norm": 1.3333333333333333,
          "temperature": 1.8
         },
         {
          "crystal": "p2",
          "error": 4.092918300739051e-08,
          "error_max": -1.0220083783073506e-06,
          "error_min": -1.1038667443221317e-06,
          "iter_id": 5,
          "mean": -1.0629375613147411e-06,
          "pressure": 13.5,
          "temp_norm": 1.3333333333333333,
          "temperature": 1.8
         },
         {
          "crystal": "p2",
          "error": 1.1297206892927734e-07,
          "error_max": -7.366212430110704e-06,
          "error_min": -7.592156567969259e-06,
          "iter_id": 1,
          "mean": -7.479184499039982e-06,
          "pressure": 13.5,
          "temp_norm": 1.4814814814814814,
          "temperature": 2
         },
         {
          "crystal": "p2",
          "error": 9.118760552680022e-08,
          "error_max": -6.792655192203897e-06,
          "error_min": -6.975030403257498e-06,
          "iter_id": 2,
          "mean": -6.883842797730697e-06,
          "pressure": 13.5,
          "temp_norm": 1.4814814814814814,
          "temperature": 2
         },
         {
          "crystal": "p2",
          "error": 9.938475259911129e-08,
          "error_max": -7.654793082814437e-06,
          "error_min": -7.85356258801266e-06,
          "iter_id": 3,
          "mean": -7.754177835413549e-06,
          "pressure": 13.5,
          "temp_norm": 1.4814814814814814,
          "temperature": 2
         },
         {
          "crystal": "p2",
          "error": 9.391434674218004e-08,
          "error_max": -5.5764505295224655e-06,
          "error_min": -5.764279223006825e-06,
          "iter_id": 4,
          "mean": -5.670364876264645e-06,
          "pressure": 13.5,
          "temp_norm": 1.4814814814814814,
          "temperature": 2
         },
         {
          "crystal": "p2",
          "error": 9.588181675924856e-08,
          "error_max": -7.633434675202177e-06,
          "error_min": -7.825198308720675e-06,
          "iter_id": 5,
          "mean": -7.729316491961426e-06,
          "pressure": 13.5,
          "temp_norm": 1.4814814814814814,
          "temperature": 2
         }
        ]
       },
       "layer": [
        {
         "data": {
          "name": "data-c860d925e8fa5db37081059de9e230e2"
         },
         "encoding": {
          "color": {
           "field": "pressure",
           "type": "nominal"
          },
          "x": {
           "field": "temp_norm",
           "scale": {
            "zero": false
           },
           "type": "quantitative"
          },
          "y": {
           "axis": {
            "format": "e"
           },
           "field": "mean",
           "scale": {
            "type": "linear"
           },
           "type": "quantitative"
          }
         },
         "mark": "point"
        },
        {
         "data": {
          "name": "data-c860d925e8fa5db37081059de9e230e2"
         },
         "encoding": {
          "color": {
           "field": "pressure",
           "type": "nominal"
          },
          "x": {
           "field": "temp_norm",
           "scale": {
            "zero": false
           },
           "type": "quantitative"
          },
          "y": {
           "field": "error_min",
           "type": "quantitative"
          },
          "y2": {
           "field": "error_max",
           "type": "quantitative"
          }
         },
         "mark": "rule"
        }
       ]
      },
      "image/png": "[encoded data removed]",
      "text/plain": [
       "<VegaLite 2 object>\n",
       "\n",
       "If you see this message, it means the renderer has not been properly enabled\n",
       "for the frontend that you are using. For more information, see\n",
       "https://altair-viz.github.io/user_guide/troubleshooting.html\n"
      ]
     },
     "execution_count": 4,
     "metadata": {},
     "output_type": "execute_result"
    }
   ],
   "source": [
    "chart = alt.Chart(rates_df).encode(\n",
    "    x=alt.X(\"temp_norm\", scale=alt.Scale(zero=False)),\n",
    "    y=alt.Y('mean', scale=alt.Scale(type='linear'), axis=alt.Axis(format='e')),\n",
    "    color=\"pressure:N\",\n",
    "    \n",
    ")\n",
    "\n",
    "chart.mark_point() + chart.mark_rule().encode(y=\"error_min\", y2=\"error_max\")"
   ]
  },
  {
   "cell_type": "code",
   "execution_count": 5,
   "metadata": {},
   "outputs": [],
   "source": [
    "melt_value = rates_df.groupby([\"temperature\",\"pressure\", \"temp_norm\"])[\"mean\"].mean()\n",
    "melt_err = rates_df.groupby([\"temperature\", \"pressure\", \"temp_norm\"])[\"mean\"].sem()\n",
    "melt_frac_err = melt_err / melt_value\n",
    "melt_df = pandas.DataFrame({\n",
    "    \"value\": melt_value,\n",
    "    \"error\": melt_err,\n",
    "    \"error_frac\": melt_frac_err,\n",
    "    \"error_min\": melt_value - 2 * melt_err,\n",
    "    \"error_max\": melt_value + 2 * melt_err,\n",
    "})"
   ]
  },
  {
   "cell_type": "code",
   "execution_count": 6,
   "metadata": {},
   "outputs": [
    {
     "data": {
      "application/vnd.vegalite.v2+json": {
       "$schema": "https://vega.github.io/schema/vega-lite/v2.6.0.json",
       "config": {
        "axis": {
         "grid": false
        },
        "view": {
         "height": 400,
         "width": 600
        }
       },
       "data": {
        "name": "data-6b4eff2cf87ab19e3882bd85ddcbf103"
       },
       "datasets": {
        "data-6b4eff2cf87ab19e3882bd85ddcbf103": [
         {
          "error": 1.3870088983062123e-09,
          "error_frac": -0.062388157041359596,
          "error_max": -1.945790832658927e-08,
          "error_min": -2.500594391981412e-08,
          "pressure": 1,
          "temp_norm": 1.1111111111111112,
          "temperature": 0.4,
          "value": -2.2231926123201696e-08
         },
         {
          "error": 2.861395632782568e-08,
          "error_frac": -0.04911470572352699,
          "error_max": -5.253665650329116e-07,
          "error_min": -6.398223903442143e-07,
          "pressure": 1,
          "temp_norm": 1.25,
          "temperature": 0.45,
          "value": -5.82594477688563e-07
         },
         {
          "error": 1.6991501953158794e-07,
          "error_frac": -0.04391725337768815,
          "error_max": -3.529150975535339e-06,
          "error_min": -4.208811053661691e-06,
          "pressure": 1,
          "temp_norm": 1.3888888888888888,
          "temperature": 0.5,
          "value": -3.868981014598515e-06
         },
         {
          "error": 6.009483186559513e-07,
          "error_frac": -0.03190187273924769,
          "error_max": -1.763550277079955e-05,
          "error_min": -2.0039296045423354e-05,
          "pressure": 1,
          "temp_norm": 1.527777777777778,
          "temperature": 0.55,
          "value": -1.8837399408111452e-05
         },
         {
          "error": 1.2993221091490855e-06,
          "error_frac": -0.019391908276696793,
          "error_max": -6.440466925706914e-05,
          "error_min": -6.96019576936655e-05,
          "pressure": 1,
          "temp_norm": 1.6666666666666667,
          "temperature": 0.6,
          "value": -6.700331347536732e-05
         },
         {
          "error": 1.8140674006468078e-09,
          "error_frac": -0.4258181278968805,
          "error_max": -6.320581820500077e-10,
          "error_min": -7.888327784637239e-09,
          "pressure": 13.5,
          "temp_norm": 1.037037037037037,
          "temperature": 1.4,
          "value": -4.260192983343623e-09
         },
         {
          "error": 6.841994638626221e-10,
          "error_frac": -0.02131910168110207,
          "error_max": -3.0724860633446516e-08,
          "error_min": -3.346165848889701e-08,
          "pressure": 13.5,
          "temp_norm": 1.111111111111111,
          "temperature": 1.5,
          "value": -3.209325956117176e-08
         },
         {
          "error": 9.350570218692987e-08,
          "error_frac": -0.7318638393504273,
          "error_max": 5.924760848810899e-08,
          "error_min": -3.147752002596105e-07,
          "pressure": 13.5,
          "temp_norm": 1.1851851851851851,
          "temperature": 1.6,
          "value": -1.2776379588575075e-07
         },
         {
          "error": 1.9050183980097785e-07,
          "error_frac": -0.12663033512837865,
          "error_max": -1.12338971561291e-06,
          "error_min": -1.8853970748168216e-06,
          "pressure": 13.5,
          "temp_norm": 1.3333333333333333,
          "temperature": 1.8,
          "value": -1.5043933952148658e-06
         },
         {
          "error": 3.910429812721785e-07,
          "error_frac": -0.05505029012997254,
          "error_max": -6.3212913375377035e-06,
          "error_min": -7.885463262626417e-06,
          "pressure": 13.5,
          "temp_norm": 1.4814814814814814,
          "temperature": 2,
          "value": -7.10337730008206e-06
         }
        ]
       },
       "layer": [
        {
         "layer": [
          {
           "data": {
            "name": "data-6b4eff2cf87ab19e3882bd85ddcbf103"
           },
           "encoding": {
            "color": {
             "field": "pressure",
             "title": "Pressure",
             "type": "nominal"
            },
            "x": {
             "field": "temp_norm",
             "scale": {
              "zero": false
             },
             "title": "T/Tₘ",
             "type": "quantitative"
            },
            "y": {
             "axis": {
              "format": "e"
             },
             "field": "value",
             "title": "Melting Rate",
             "type": "quantitative"
            }
           },
           "mark": "point"
          },
          {
           "data": {
            "name": "data-6b4eff2cf87ab19e3882bd85ddcbf103"
           },
           "encoding": {
            "color": {
             "field": "pressure",
             "title": "Pressure",
             "type": "nominal"
            },
            "x": {
             "field": "temp_norm",
             "scale": {
              "zero": false
             },
             "title": "T/Tₘ",
             "type": "quantitative"
            },
            "y": {
             "field": "error_min",
             "type": "quantitative"
            },
            "y2": {
             "field": "error_max",
             "type": "quantitative"
            }
           },
           "mark": "rule"
          }
         ]
        },
        {
         "encoding": {
          "y": {
           "field": "val",
           "type": "quantitative"
          }
         },
         "mark": {
          "color": "grey",
          "type": "rule"
         }
        }
       ],
       "transform": [
        {
         "as": "val",
         "calculate": "0"
        }
       ]
      },
      "image/png": "[encoded data removed]",
      "text/plain": [
       "<VegaLite 2 object>\n",
       "\n",
       "If you see this message, it means the renderer has not been properly enabled\n",
       "for the frontend that you are using. For more information, see\n",
       "https://altair-viz.github.io/user_guide/troubleshooting.html\n"
      ]
     },
     "execution_count": 6,
     "metadata": {},
     "output_type": "execute_result"
    }
   ],
   "source": [
    "chart = alt.Chart(melt_df.reset_index()).encode(\n",
    "    x=alt.X(\"temp_norm\", title=\"T/Tₘ\", scale=alt.Scale(zero=False)),\n",
    "    color=alt.Color(\"pressure:N\", title=\"Pressure\"),\n",
    ")\n",
    "\n",
    "chart = (\n",
    "    chart.mark_point().encode(\n",
    "        y=alt.Y(\n",
    "            \"value\", \n",
    "            title=\"Melting Rate\", \n",
    "            axis=alt.Axis(format='e'),\n",
    "        )\n",
    "    ) +\n",
    "    chart.mark_rule().encode(\n",
    "        y=\"error_min\", \n",
    "        y2=\"error_max\"\n",
    "    )\n",
    ")\n",
    "\n",
    "chart = figures.hline(chart, 0)\n",
    "chart"
   ]
  },
  {
   "cell_type": "code",
   "execution_count": 7,
   "metadata": {},
   "outputs": [],
   "source": [
    "chart.save(\"../figures/growth_rates_err.svg\", webdriver=\"firefox\")"
   ]
  },
  {
   "cell_type": "code",
   "execution_count": 8,
   "metadata": {},
   "outputs": [],
   "source": [
    "mean = rates_df.groupby([\"temperature\",\"pressure\", \"temp_norm\"])[\"mean\"].mean()\n",
    "err = rates_df.groupby([\"temperature\", \"pressure\", \"temp_norm\"])[\"mean\"].std()"
   ]
  },
  {
   "cell_type": "markdown",
   "metadata": {},
   "source": [
    "## Error in Rotational Relaxation"
   ]
  },
  {
   "cell_type": "code",
   "execution_count": 9,
   "metadata": {},
   "outputs": [],
   "source": [
    "with pandas.HDFStore('../data/analysis/dynamics_clean_agg.h5') as store:\n",
    "    relax_df = store.get(\"relaxations\")"
   ]
  },
  {
   "cell_type": "code",
   "execution_count": 10,
   "metadata": {},
   "outputs": [],
   "source": [
    "rot_value = relax_df.groupby([\"temperature\", \"pressure\"])[\"rot2_value\"].mean()\n",
    "rot_err = np.maximum((relax_df[\"rot2_value\"] - relax_df[\"rot2_lower\"]).values, (relax_df[\"rot2_upper\"] - relax_df[\"rot2_value\"]).values)\n",
    "rot_frac_err = rot_err / rot_value\n",
    "\n",
    "rot_df = pandas.DataFrame({\n",
    "    \"value\": rot_value,\n",
    "    \"error\": rot_err,\n",
    "    \"error_frac\": rot_frac_err,\n",
    "})"
   ]
  },
  {
   "cell_type": "code",
   "execution_count": 11,
   "metadata": {},
   "outputs": [
    {
     "data": {
      "text/html": [
       "<div>\n",
       "<style scoped>\n",
       "    .dataframe tbody tr th:only-of-type {\n",
       "        vertical-align: middle;\n",
       "    }\n",
       "\n",
       "    .dataframe tbody tr th {\n",
       "        vertical-align: top;\n",
       "    }\n",
       "\n",
       "    .dataframe thead th {\n",
       "        text-align: right;\n",
       "    }\n",
       "</style>\n",
       "<table border=\"1\" class=\"dataframe\">\n",
       "  <thead>\n",
       "    <tr style=\"text-align: right;\">\n",
       "      <th></th>\n",
       "      <th></th>\n",
       "      <th></th>\n",
       "      <th>value_melt</th>\n",
       "      <th>error_melt</th>\n",
       "      <th>error_frac_melt</th>\n",
       "      <th>error_min</th>\n",
       "      <th>error_max</th>\n",
       "      <th>value_rot</th>\n",
       "      <th>error_rot</th>\n",
       "      <th>error_frac_rot</th>\n",
       "    </tr>\n",
       "    <tr>\n",
       "      <th>temperature</th>\n",
       "      <th>pressure</th>\n",
       "      <th>temp_norm</th>\n",
       "      <th></th>\n",
       "      <th></th>\n",
       "      <th></th>\n",
       "      <th></th>\n",
       "      <th></th>\n",
       "      <th></th>\n",
       "      <th></th>\n",
       "      <th></th>\n",
       "    </tr>\n",
       "  </thead>\n",
       "  <tbody>\n",
       "    <tr>\n",
       "      <th>0.40</th>\n",
       "      <th>1.0</th>\n",
       "      <th>1.111111</th>\n",
       "      <td>-2.223193e-08</td>\n",
       "      <td>1.387009e-09</td>\n",
       "      <td>-0.062388</td>\n",
       "      <td>-2.500594e-08</td>\n",
       "      <td>-1.945791e-08</td>\n",
       "      <td>655540.0</td>\n",
       "      <td>8885.0</td>\n",
       "      <td>0.013554</td>\n",
       "    </tr>\n",
       "    <tr>\n",
       "      <th>0.45</th>\n",
       "      <th>1.0</th>\n",
       "      <th>1.250000</th>\n",
       "      <td>-5.825945e-07</td>\n",
       "      <td>2.861396e-08</td>\n",
       "      <td>-0.049115</td>\n",
       "      <td>-6.398224e-07</td>\n",
       "      <td>-5.253666e-07</td>\n",
       "      <td>NaN</td>\n",
       "      <td>NaN</td>\n",
       "      <td>NaN</td>\n",
       "    </tr>\n",
       "    <tr>\n",
       "      <th>0.50</th>\n",
       "      <th>1.0</th>\n",
       "      <th>1.388889</th>\n",
       "      <td>-3.868981e-06</td>\n",
       "      <td>1.699150e-07</td>\n",
       "      <td>-0.043917</td>\n",
       "      <td>-4.208811e-06</td>\n",
       "      <td>-3.529151e-06</td>\n",
       "      <td>58404.0</td>\n",
       "      <td>494.4</td>\n",
       "      <td>0.008465</td>\n",
       "    </tr>\n",
       "    <tr>\n",
       "      <th>0.55</th>\n",
       "      <th>1.0</th>\n",
       "      <th>1.527778</th>\n",
       "      <td>-1.883740e-05</td>\n",
       "      <td>6.009483e-07</td>\n",
       "      <td>-0.031902</td>\n",
       "      <td>-2.003930e-05</td>\n",
       "      <td>-1.763550e-05</td>\n",
       "      <td>35660.0</td>\n",
       "      <td>360.0</td>\n",
       "      <td>0.010095</td>\n",
       "    </tr>\n",
       "    <tr>\n",
       "      <th>0.60</th>\n",
       "      <th>1.0</th>\n",
       "      <th>1.666667</th>\n",
       "      <td>-6.700331e-05</td>\n",
       "      <td>1.299322e-06</td>\n",
       "      <td>-0.019392</td>\n",
       "      <td>-6.960196e-05</td>\n",
       "      <td>-6.440467e-05</td>\n",
       "      <td>22080.0</td>\n",
       "      <td>300.0</td>\n",
       "      <td>0.013587</td>\n",
       "    </tr>\n",
       "  </tbody>\n",
       "</table>\n",
       "</div>"
      ],
      "text/plain": [
       "                                  value_melt    error_melt  error_frac_melt  \\\n",
       "temperature pressure temp_norm                                                \n",
       "0.40        1.0      1.111111  -2.223193e-08  1.387009e-09        -0.062388   \n",
       "0.45        1.0      1.250000  -5.825945e-07  2.861396e-08        -0.049115   \n",
       "0.50        1.0      1.388889  -3.868981e-06  1.699150e-07        -0.043917   \n",
       "0.55        1.0      1.527778  -1.883740e-05  6.009483e-07        -0.031902   \n",
       "0.60        1.0      1.666667  -6.700331e-05  1.299322e-06        -0.019392   \n",
       "\n",
       "                                   error_min     error_max  value_rot  \\\n",
       "temperature pressure temp_norm                                          \n",
       "0.40        1.0      1.111111  -2.500594e-08 -1.945791e-08   655540.0   \n",
       "0.45        1.0      1.250000  -6.398224e-07 -5.253666e-07        NaN   \n",
       "0.50        1.0      1.388889  -4.208811e-06 -3.529151e-06    58404.0   \n",
       "0.55        1.0      1.527778  -2.003930e-05 -1.763550e-05    35660.0   \n",
       "0.60        1.0      1.666667  -6.960196e-05 -6.440467e-05    22080.0   \n",
       "\n",
       "                                error_rot  error_frac_rot  \n",
       "temperature pressure temp_norm                             \n",
       "0.40        1.0      1.111111      8885.0        0.013554  \n",
       "0.45        1.0      1.250000         NaN             NaN  \n",
       "0.50        1.0      1.388889       494.4        0.008465  \n",
       "0.55        1.0      1.527778       360.0        0.010095  \n",
       "0.60        1.0      1.666667       300.0        0.013587  "
      ]
     },
     "execution_count": 11,
     "metadata": {},
     "output_type": "execute_result"
    }
   ],
   "source": [
    "all_df = melt_df.reset_index(\"temp_norm\").join(rot_df, lsuffix=\"_melt\", rsuffix=\"_rot\").set_index('temp_norm', append=True)\n",
    "all_df.head()"
   ]
  },
  {
   "cell_type": "code",
   "execution_count": 12,
   "metadata": {},
   "outputs": [],
   "source": [
    "value = all_df[\"value_melt\"] * all_df[\"value_rot\"]\n",
    "err_frac = all_df[\"error_frac_melt\"].abs() + all_df[\"error_frac_rot\"].abs()\n",
    "error = value * err_frac\n",
    "\n",
    "melt_values = pandas.DataFrame({\n",
    "    \"value\": value,\n",
    "    \"error\": error,\n",
    "    \"error_min\": value - 2 * error,\n",
    "    \"error_max\": value + 2 * error,\n",
    "}).reset_index().dropna()"
   ]
  },
  {
   "cell_type": "code",
   "execution_count": 13,
   "metadata": {},
   "outputs": [
    {
     "data": {
      "application/vnd.vegalite.v2+json": {
       "$schema": "https://vega.github.io/schema/vega-lite/v2.6.0.json",
       "config": {
        "axis": {
         "grid": false
        },
        "view": {
         "height": 400,
         "width": 600
        }
       },
       "data": {
        "name": "data-7c0a44a849a9a324cec87aea192e4540"
       },
       "datasets": {
        "data-7c0a44a849a9a324cec87aea192e4540": [
         {
          "error": -0.0011067704768003015,
          "error_max": -0.016787457804404243,
          "error_min": -0.012360375897203037,
          "pressure": 1,
          "temp_norm": 1.1111111111111112,
          "temperature": 0.4,
          "value": -0.01457391685080364
         },
         {
          "error": -0.011836541014340346,
          "error_max": -0.24963704920529234,
          "error_min": -0.20229088514793098,
          "pressure": 1,
          "temp_norm": 1.3888888888888888,
          "temperature": 0.5,
          "value": -0.22596396717661166
         },
         {
          "error": -0.028211280830191348,
          "error_max": -0.7281642245536372,
          "error_min": -0.6153191012328717,
          "pressure": 1,
          "temp_norm": 1.527777777777778,
          "temperature": 0.55,
          "value": -0.6717416628932544
         },
         {
          "error": -0.048790026212622004,
          "error_max": -1.5770132139613544,
          "error_min": -1.3818531091108666,
          "pressure": 1,
          "temp_norm": 1.6666666666666667,
          "temperature": 0.6,
          "value": -1.4794331615361105
         },
         {
          "error": -0.005682588618448228,
          "error_max": -0.02428208236239432,
          "error_min": -0.0015517278886014087,
          "pressure": 13.5,
          "temp_norm": 1.037037037037037,
          "temperature": 1.4,
          "value": -0.012916905125497865
         },
         {
          "error": -0.0014527955940376422,
          "error_max": -0.03940332969142226,
          "error_min": -0.03359214731527169,
          "pressure": 13.5,
          "temp_norm": 1.111111111111111,
          "temperature": 1.5,
          "value": -0.03649773850334698
         },
         {
          "error": -0.03546052746000093,
          "error_max": -0.1180140994683767,
          "error_min": 0.02382801037162703,
          "pressure": 13.5,
          "temp_norm": 1.1851851851851851,
          "temperature": 1.6,
          "value": -0.04709304454837483
         },
         {
          "error": -0.02263691590503644,
          "error_max": -0.2044922341584298,
          "error_min": -0.11394457053828402,
          "pressure": 13.5,
          "temp_norm": 1.3333333333333333,
          "temperature": 1.8,
          "value": -0.1592184023483569
         },
         {
          "error": -0.02182283059331953,
          "error_max": -0.37100130239605456,
          "error_min": -0.2837099800227765,
          "pressure": 13.5,
          "temp_norm": 1.4814814814814814,
          "temperature": 2,
          "value": -0.3273556412094155
         }
        ]
       },
       "layer": [
        {
         "layer": [
          {
           "data": {
            "name": "data-7c0a44a849a9a324cec87aea192e4540"
           },
           "encoding": {
            "color": {
             "field": "pressure",
             "title": "Pressure",
             "type": "nominal"
            },
            "x": {
             "field": "temp_norm",
             "scale": {
              "zero": false
             },
             "title": "T/Tₘ",
             "type": "quantitative"
            },
            "y": {
             "field": "value",
             "title": "Rotational Relaxation × Melting Rate",
             "type": "quantitative"
            }
           },
           "mark": "point"
          },
          {
           "data": {
            "name": "data-7c0a44a849a9a324cec87aea192e4540"
           },
           "encoding": {
            "color": {
             "field": "pressure",
             "title": "Pressure",
             "type": "nominal"
            },
            "x": {
             "field": "temp_norm",
             "scale": {
              "zero": false
             },
             "title": "T/Tₘ",
             "type": "quantitative"
            },
            "y": {
             "field": "error_min",
             "type": "quantitative"
            },
            "y2": {
             "field": "error_max",
             "type": "quantitative"
            }
           },
           "mark": "rule"
          }
         ]
        },
        {
         "encoding": {
          "y": {
           "field": "val",
           "type": "quantitative"
          }
         },
         "mark": {
          "color": "grey",
          "type": "rule"
         }
        }
       ],
       "transform": [
        {
         "as": "val",
         "calculate": "0"
        }
       ]
      },
      "image/png": "[encoded data removed]",
      "text/plain": [
       "<VegaLite 2 object>\n",
       "\n",
       "If you see this message, it means the renderer has not been properly enabled\n",
       "for the frontend that you are using. For more information, see\n",
       "https://altair-viz.github.io/user_guide/troubleshooting.html\n"
      ]
     },
     "execution_count": 13,
     "metadata": {},
     "output_type": "execute_result"
    }
   ],
   "source": [
    "chart = alt.Chart(melt_values).encode(\n",
    "    x=alt.X(\"temp_norm\", title=\"T/Tₘ\", scale=alt.Scale(zero=False)),\n",
    "    color=alt.Color(\"pressure:N\", title=\"Pressure\"),\n",
    ")\n",
    "\n",
    "c = (\n",
    "    chart.mark_point().encode(y=alt.Y(\"value\", title=\"Rotational Relaxation × Melting Rate\")) +\n",
    "    chart.mark_rule().encode(y=\"error_min\", y2=\"error_max\")\n",
    ")\n",
    "\n",
    "c = figures.hline(c, 0)\n",
    "c"
   ]
  },
  {
   "cell_type": "markdown",
   "metadata": {},
   "source": [
    "## Fitting to Theory\n",
    "\n",
    "When fitting a curve to the data\n",
    "it is required to take into account\n",
    "the errors in the data."
   ]
  },
  {
   "cell_type": "code",
   "execution_count": 14,
   "metadata": {},
   "outputs": [],
   "source": [
    "def fit_curve(x_vals, y_vals, errors=None, delta_E=None):\n",
    "    if delta_E is None:\n",
    "        def theory(x, c, d):\n",
    "            result = 1 - np.exp((1-x) * d / x)\n",
    "            return c * result\n",
    "    else:\n",
    "        def theory(x, c):\n",
    "            result = 1 - np.exp((1-x) * delta_E / x)\n",
    "            return c * result\n",
    "    \n",
    "    opt, err = scipy.optimize.curve_fit(\n",
    "        theory, \n",
    "        x_vals, \n",
    "        y_vals,\n",
    "        sigma=errors,\n",
    "        maxfev=2000,\n",
    "    )\n",
    "    \n",
    "    return theory, opt, err"
   ]
  },
  {
   "cell_type": "code",
   "execution_count": 15,
   "metadata": {},
   "outputs": [],
   "source": [
    "import matplotlib.pyplot as plt\n",
    "\n",
    "x = np.arange(0.95, 2.0, 0.05)\n",
    "\n",
    "p1_values = melt_values.query(\"pressure == 1.00\")\n",
    "p13_values = melt_values.query(\"pressure == 13.50\")\n",
    "\n",
    "theory1, opt1, err1 = fit_curve(p1_values[\"temp_norm\"], p1_values[\"value\"], p1_values[\"error\"], -0.18034612159032992)\n",
    "theory13, opt13, err13 = fit_curve(p13_values[\"temp_norm\"], p13_values[\"value\"], p13_values[\"error\"], -0.06561802006526474)"
   ]
  },
  {
   "cell_type": "code",
   "execution_count": 16,
   "metadata": {},
   "outputs": [],
   "source": [
    "y1 = theory1(x, *opt1)\n",
    "y13 = theory13(x, *opt13)"
   ]
  },
  {
   "cell_type": "code",
   "execution_count": 17,
   "metadata": {},
   "outputs": [],
   "source": [
    "theory_df = melt_values\n",
    "theory_df[\"theory\"] = 0.\n",
    "mask = theory_df[\"pressure\"] == 1.00\n",
    "theory_df.loc[mask, \"theory\"] = theory1(theory_df[\"temp_norm\"], *opt1)\n",
    "theory_df.loc[~mask, \"theory\"] = theory13(theory_df[\"temp_norm\"], *opt13)"
   ]
  },
  {
   "cell_type": "code",
   "execution_count": 18,
   "metadata": {},
   "outputs": [
    {
     "data": {
      "application/vnd.vegalite.v2+json": {
       "$schema": "https://vega.github.io/schema/vega-lite/v2.6.0.json",
       "config": {
        "axis": {
         "grid": false
        },
        "view": {
         "height": 400,
         "width": 600
        }
       },
       "data": {
        "name": "data-e3a2a502c50107f2d6d2cc7d6de9f543"
       },
       "datasets": {
        "data-e3a2a502c50107f2d6d2cc7d6de9f543": [
         {
          "error": -0.0011067704768003015,
          "error_max": -0.016787457804404243,
          "error_min": -0.012360375897203037,
          "pressure": 1,
          "temp_norm": 1.1111111111111112,
          "temperature": 0.4,
          "theory": -0.024554092385472535,
          "value": -0.01457391685080364
         },
         {
          "error": -0.011836541014340346,
          "error_max": -0.24963704920529234,
          "error_min": -0.20229088514793098,
          "pressure": 1,
          "temp_norm": 1.3888888888888888,
          "temperature": 0.5,
          "theory": -0.06988295685264534,
          "value": -0.22596396717661166
         },
         {
          "error": -0.028211280830191348,
          "error_max": -0.7281642245536372,
          "error_min": -0.6153191012328717,
          "pressure": 1,
          "temp_norm": 1.527777777777778,
          "temperature": 0.55,
          "theory": -0.086734435193606,
          "value": -0.6717416628932544
         },
         {
          "error": -0.048790026212622004,
          "error_max": -1.5770132139613544,
          "error_min": -1.3818531091108666,
          "pressure": 1,
          "temp_norm": 1.6666666666666667,
          "temperature": 0.6,
          "theory": -0.10093008867295435,
          "value": -1.4794331615361105
         },
         {
          "error": -0.005682588618448228,
          "error_max": -0.02428208236239432,
          "error_min": -0.0015517278886014087,
          "pressure": 13.5,
          "temp_norm": 1.037037037037037,
          "temperature": 1.4,
          "theory": -0.014217251861195468,
          "value": -0.012916905125497865
         },
         {
          "error": -0.0014527955940376422,
          "error_max": -0.03940332969142226,
          "error_min": -0.03359214731527169,
          "pressure": 13.5,
          "temp_norm": 1.111111111111111,
          "temperature": 1.5,
          "theory": -0.03989241797047975,
          "value": -0.03649773850334698
         },
         {
          "error": -0.03546052746000093,
          "error_max": -0.1180140994683767,
          "error_min": 0.02382801037162703,
          "pressure": 13.5,
          "temp_norm": 1.1851851851851851,
          "temperature": 1.6,
          "theory": -0.062447204729474,
          "value": -0.04709304454837483
         },
         {
          "error": -0.02263691590503644,
          "error_max": -0.2044922341584298,
          "error_min": -0.11394457053828402,
          "pressure": 13.5,
          "temp_norm": 1.3333333333333333,
          "temperature": 1.8,
          "theory": -0.10022401014616351,
          "value": -0.1592184023483569
         },
         {
          "error": -0.02182283059331953,
          "error_max": -0.37100130239605456,
          "error_min": -0.2837099800227765,
          "pressure": 13.5,
          "temp_norm": 1.4814814814814814,
          "temperature": 2,
          "theory": -0.1306132229193301,
          "value": -0.3273556412094155
         }
        ]
       },
       "layer": [
        {
         "layer": [
          {
           "data": {
            "name": "data-e3a2a502c50107f2d6d2cc7d6de9f543"
           },
           "encoding": {
            "color": {
             "field": "pressure",
             "title": "Pressure",
             "type": "nominal"
            },
            "x": {
             "field": "temp_norm",
             "scale": {
              "zero": false
             },
             "title": "T/Tₘ",
             "type": "quantitative"
            },
            "y": {
             "field": "value",
             "title": "Rotational Relaxation × Melting Rate",
             "type": "quantitative"
            }
           },
           "mark": "point"
          },
          {
           "data": {
            "name": "data-e3a2a502c50107f2d6d2cc7d6de9f543"
           },
           "encoding": {
            "color": {
             "field": "pressure",
             "title": "Pressure",
             "type": "nominal"
            },
            "x": {
             "field": "temp_norm",
             "scale": {
              "zero": false
             },
             "title": "T/Tₘ",
             "type": "quantitative"
            },
            "y": {
             "field": "error_min",
             "type": "quantitative"
            },
            "y2": {
             "field": "error_max",
             "type": "quantitative"
            }
           },
           "mark": "rule"
          },
          {
           "data": {
            "name": "data-e3a2a502c50107f2d6d2cc7d6de9f543"
           },
           "encoding": {
            "color": {
             "field": "pressure",
             "title": "Pressure",
             "type": "nominal"
            },
            "x": {
             "field": "temp_norm",
             "scale": {
              "zero": false
             },
             "title": "T/Tₘ",
             "type": "quantitative"
            },
            "y": {
             "field": "theory",
             "type": "quantitative"
            }
           },
           "mark": "line"
          }
         ]
        },
        {
         "encoding": {
          "y": {
           "field": "val",
           "type": "quantitative"
          }
         },
         "mark": {
          "color": "grey",
          "type": "rule"
         }
        }
       ],
       "transform": [
        {
         "as": "val",
         "calculate": "0.0"
        }
       ]
      },
      "image/png": "[encoded data removed]",
      "text/plain": [
       "<VegaLite 2 object>\n",
       "\n",
       "If you see this message, it means the renderer has not been properly enabled\n",
       "for the frontend that you are using. For more information, see\n",
       "https://altair-viz.github.io/user_guide/troubleshooting.html\n"
      ]
     },
     "execution_count": 18,
     "metadata": {},
     "output_type": "execute_result"
    }
   ],
   "source": [
    "chart = alt.Chart(theory_df).encode(\n",
    "    x=alt.X(\"temp_norm\", title=\"T/Tₘ\", scale=alt.Scale(zero=False)),\n",
    "    color=alt.Color(\"pressure:N\", title=\"Pressure\"),\n",
    ")\n",
    "\n",
    "chart = (\n",
    "    chart.mark_point().encode(y=alt.Y(\"value\", title=\"Rotational Relaxation × Melting Rate\")) +\n",
    "    chart.mark_rule().encode(y=\"error_min\", y2=\"error_max\") +\n",
    "    chart.mark_line().encode(y=\"theory\")\n",
    ")\n",
    "\n",
    "chart = figures.hline(chart, 0.)\n",
    "chart"
   ]
  },
  {
   "cell_type": "code",
   "execution_count": 19,
   "metadata": {},
   "outputs": [],
   "source": [
    "chart.save(\"../figures/normalised_melting_err.svg\", webdriver=\"firefox\")"
   ]
  },
  {
   "cell_type": "code",
   "execution_count": 20,
   "metadata": {},
   "outputs": [],
   "source": [
    "p1_values_2 = melt_values.query(\"pressure == 1.00\")\n",
    "p13_values_2 = melt_values.query(\"pressure == 13.50\")\n",
    "\n",
    "theory1_2, opt1_2, err1_2 = fit_curve(\n",
    "    p1_values_2[\"temp_norm\"], \n",
    "    p1_values_2[\"value\"], \n",
    "    p1_values_2[\"error\"],\n",
    ")\n",
    "theory13_2, opt13_2, err13_2 = fit_curve(\n",
    "    p13_values_2[\"temp_norm\"], \n",
    "    p13_values_2[\"value\"], \n",
    "    p13_values_2[\"error\"],\n",
    ")"
   ]
  },
  {
   "cell_type": "code",
   "execution_count": 21,
   "metadata": {},
   "outputs": [],
   "source": [
    "theory_df_2 = melt_values\n",
    "theory_df_2[\"theory\"] = 0.\n",
    "mask = theory_df[\"pressure\"] == 1.00\n",
    "theory_df_2.loc[mask, \"theory\"] = theory1_2(theory_df_2[\"temp_norm\"], *opt1_2)\n",
    "theory_df_2.loc[~mask, \"theory\"] = theory13_2(theory_df_2[\"temp_norm\"], *opt13_2)"
   ]
  },
  {
   "cell_type": "code",
   "execution_count": 22,
   "metadata": {},
   "outputs": [
    {
     "data": {
      "application/vnd.vegalite.v2+json": {
       "$schema": "https://vega.github.io/schema/vega-lite/v2.6.0.json",
       "config": {
        "axis": {
         "grid": false
        },
        "view": {
         "height": 400,
         "width": 600
        }
       },
       "data": {
        "name": "data-0155354dc0865285a86fc466e6a9dfc7"
       },
       "datasets": {
        "data-0155354dc0865285a86fc466e6a9dfc7": [
         {
          "error": -0.0011067704768003015,
          "error_max": -0.016787457804404243,
          "error_min": -0.012360375897203037,
          "pressure": 1,
          "temp_norm": 1.1111111111111112,
          "temperature": 0.4,
          "theory": -0.024396986414960603,
          "value": -0.01457391685080364
         },
         {
          "error": -0.011836541014340346,
          "error_max": -0.24963704920529234,
          "error_min": -0.20229088514793098,
          "pressure": 1,
          "temp_norm": 1.3888888888888888,
          "temperature": 0.5,
          "theory": -0.06830871169269265,
          "value": -0.22596396717661166
         },
         {
          "error": -0.028211280830191348,
          "error_max": -0.7281642245536372,
          "error_min": -0.6153191012328717,
          "pressure": 1,
          "temp_norm": 1.527777777777778,
          "temperature": 0.55,
          "theory": -0.08427570325578754,
          "value": -0.6717416628932544
         },
         {
          "error": -0.048790026212622004,
          "error_max": -1.5770132139613544,
          "error_min": -1.3818531091108666,
          "pressure": 1,
          "temp_norm": 1.6666666666666667,
          "temperature": 0.6,
          "theory": -0.09758115943047352,
          "value": -1.4794331615361105
         },
         {
          "error": -0.005682588618448228,
          "error_max": -0.02428208236239432,
          "error_min": -0.0015517278886014087,
          "pressure": 13.5,
          "temp_norm": 1.037037037037037,
          "temperature": 1.4,
          "theory": -0.014245633828164753,
          "value": -0.012916905125497865
         },
         {
          "error": -0.0014527955940376422,
          "error_max": -0.03940332969142226,
          "error_min": -0.03359214731527169,
          "pressure": 13.5,
          "temp_norm": 1.111111111111111,
          "temperature": 1.5,
          "theory": -0.039887018270972296,
          "value": -0.03649773850334698
         },
         {
          "error": -0.03546052746000093,
          "error_max": -0.1180140994683767,
          "error_min": 0.02382801037162703,
          "pressure": 13.5,
          "temp_norm": 1.1851851851851851,
          "temperature": 1.6,
          "theory": -0.0623224318667658,
          "value": -0.04709304454837483
         },
         {
          "error": -0.02263691590503644,
          "error_max": -0.2044922341584298,
          "error_min": -0.11394457053828402,
          "pressure": 13.5,
          "temp_norm": 1.3333333333333333,
          "temperature": 1.8,
          "theory": -0.09971313325081185,
          "value": -0.1592184023483569
         },
         {
          "error": -0.02182283059331953,
          "error_max": -0.37100130239605456,
          "error_min": -0.2837099800227765,
          "pressure": 13.5,
          "temp_norm": 1.4814814814814814,
          "temperature": 2,
          "theory": -0.12962420527568252,
          "value": -0.3273556412094155
         }
        ]
       },
       "layer": [
        {
         "layer": [
          {
           "data": {
            "name": "data-0155354dc0865285a86fc466e6a9dfc7"
           },
           "encoding": {
            "color": {
             "field": "pressure",
             "title": "Pressure",
             "type": "nominal"
            },
            "x": {
             "field": "temp_norm",
             "scale": {
              "zero": false
             },
             "title": "T/Tₘ",
             "type": "quantitative"
            },
            "y": {
             "field": "value",
             "title": "Rotational Relaxation × Melting Rate",
             "type": "quantitative"
            }
           },
           "mark": "point"
          },
          {
           "data": {
            "name": "data-0155354dc0865285a86fc466e6a9dfc7"
           },
           "encoding": {
            "color": {
             "field": "pressure",
             "title": "Pressure",
             "type": "nominal"
            },
            "x": {
             "field": "temp_norm",
             "scale": {
              "zero": false
             },
             "title": "T/Tₘ",
             "type": "quantitative"
            },
            "y": {
             "field": "error_min",
             "type": "quantitative"
            },
            "y2": {
             "field": "error_max",
             "type": "quantitative"
            }
           },
           "mark": "rule"
          },
          {
           "data": {
            "name": "data-0155354dc0865285a86fc466e6a9dfc7"
           },
           "encoding": {
            "color": {
             "field": "pressure",
             "title": "Pressure",
             "type": "nominal"
            },
            "x": {
             "field": "temp_norm",
             "scale": {
              "zero": false
             },
             "title": "T/Tₘ",
             "type": "quantitative"
            },
            "y": {
             "field": "theory",
             "type": "quantitative"
            }
           },
           "mark": "line"
          }
         ]
        },
        {
         "encoding": {
          "y": {
           "field": "val",
           "type": "quantitative"
          }
         },
         "mark": {
          "color": "grey",
          "type": "rule"
         }
        }
       ],
       "transform": [
        {
         "as": "val",
         "calculate": "0.0"
        }
       ]
      },
      "image/png": "[encoded data removed]",
      "text/plain": [
       "<VegaLite 2 object>\n",
       "\n",
       "If you see this message, it means the renderer has not been properly enabled\n",
       "for the frontend that you are using. For more information, see\n",
       "https://altair-viz.github.io/user_guide/troubleshooting.html\n"
      ]
     },
     "execution_count": 22,
     "metadata": {},
     "output_type": "execute_result"
    }
   ],
   "source": [
    "chart = alt.Chart(theory_df_2).encode(\n",
    "    x=alt.X(\"temp_norm\", title=\"T/Tₘ\", scale=alt.Scale(zero=False)),\n",
    "    color=alt.Color(\"pressure:N\", title=\"Pressure\"),\n",
    ")\n",
    "\n",
    "chart = (\n",
    "    chart.mark_point().encode(y=alt.Y(\"value\", title=\"Rotational Relaxation × Melting Rate\")) +\n",
    "    chart.mark_rule().encode(y=\"error_min\", y2=\"error_max\") +\n",
    "    chart.mark_line().encode(y=\"theory\")\n",
    ")\n",
    "\n",
    "chart = figures.hline(chart, 0.)\n",
    "chart"
   ]
  },
  {
   "cell_type": "code",
   "execution_count": 23,
   "metadata": {},
   "outputs": [
    {
     "data": {
      "text/plain": [
       "array([-6.76055980e+02,  5.90013197e-04])"
      ]
     },
     "execution_count": 23,
     "metadata": {},
     "output_type": "execute_result"
    }
   ],
   "source": [
    "opt13_2"
   ]
  },
  {
   "cell_type": "code",
   "execution_count": null,
   "metadata": {},
   "outputs": [],
   "source": []
  }
 ],
 "metadata": {
  "jupytext": {
   "formats": "ipynb,md"
  },
  "kernelspec": {
   "display_name": "crystal",
   "language": "python",
   "name": "crystal"
  },
  "language_info": {
   "codemirror_mode": {
    "name": "ipython",
    "version": 3
   },
   "file_extension": ".py",
   "mimetype": "text/x-python",
   "name": "python",
   "nbconvert_exporter": "python",
   "pygments_lexer": "ipython3",
   "version": "3.6.8"
  }
 },
 "nbformat": 4,
 "nbformat_minor": 2
}
