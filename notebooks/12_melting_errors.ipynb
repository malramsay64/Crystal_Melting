{
 "cells": [
  {
   "cell_type": "markdown",
   "metadata": {},
   "source": [
    "# Melting Uncertainties\n",
    "\n",
    "This aims to estimate the uncertainty of the crystal melting rates,\n",
    "combining the uncertainties of the dynamics and that of the rates calculation."
   ]
  },
  {
   "cell_type": "code",
   "execution_count": 1,
   "metadata": {},
   "outputs": [],
   "source": [
    "import pandas\n",
    "import uncertainties\n",
    "import altair as alt\n",
    "import numpy as np\n",
    "import scipy.optimize\n",
    "import uncertainties\n",
    "\n",
    "import sys\n",
    "sys.path.append(\"../src\")\n",
    "import figures\n",
    "\n",
    "figures.use_my_theme()"
   ]
  },
  {
   "cell_type": "markdown",
   "metadata": {},
   "source": [
    "## Error in Melting Rates\n",
    "\n",
    "The error of the melting rates will be calculated\n",
    "by taking the standard deviation of all the measurements"
   ]
  },
  {
   "cell_type": "code",
   "execution_count": 2,
   "metadata": {},
   "outputs": [],
   "source": [
    "with pandas.HDFStore('../data/analysis/melting_clean.h5') as store:\n",
    "    rates_df = store.get(\"rates\")"
   ]
  },
  {
   "cell_type": "code",
   "execution_count": 3,
   "metadata": {},
   "outputs": [
    {
     "ename": "NameError",
     "evalue": "name 'melt_df' is not defined",
     "output_type": "error",
     "traceback": [
      "\u001b[0;31m---------------------------------------------------------------------------\u001b[0m",
      "\u001b[0;31mNameError\u001b[0m                                 Traceback (most recent call last)",
      "\u001b[0;32m<ipython-input-3-3465693677ff>\u001b[0m in \u001b[0;36m<module>\u001b[0;34m\u001b[0m\n\u001b[0;32m----> 1\u001b[0;31m \u001b[0mmelt_df\u001b[0m\u001b[0;34m\u001b[0m\u001b[0;34m\u001b[0m\u001b[0m\n\u001b[0m",
      "\u001b[0;31mNameError\u001b[0m: name 'melt_df' is not defined"
     ]
    }
   ],
   "source": [
    "melt_df"
   ]
  },
  {
   "cell_type": "code",
   "execution_count": null,
   "metadata": {},
   "outputs": [],
   "source": [
    "rates_df[\"error_min\"] = rates_df[\"mean\"] - 2*rates_df[\"error\"]\n",
    "rates_df[\"error_max\"] = rates_df[\"mean\"] + 2*rates_df[\"error\"]"
   ]
  },
  {
   "cell_type": "code",
   "execution_count": null,
   "metadata": {},
   "outputs": [],
   "source": [
    "chart = alt.Chart(rates_df.query(\"temp_norm < 1.5\")).encode(\n",
    "    x=alt.X(\"temp_norm\", scale=alt.Scale(zero=False)),\n",
    "    y=alt.Y('mean', scale=alt.Scale(type='linear')),\n",
    "    color=\"pressure:N\",\n",
    "    \n",
    ")\n",
    "\n",
    "chart.mark_point() + chart.mark_rule().encode(y=\"error_min\", y2=\"error_max\")"
   ]
  },
  {
   "cell_type": "code",
   "execution_count": null,
   "metadata": {},
   "outputs": [],
   "source": [
    "melt_value = rates_df.groupby([\"temperature\",\"pressure\", \"temp_norm\"])[\"mean\"].mean()\n",
    "melt_err = rates_df.groupby([\"temperature\", \"pressure\", \"temp_norm\"])[\"mean\"].sem()\n",
    "melt_frac_err = melt_err / melt_value\n",
    "melt_df = pandas.DataFrame({\n",
    "    \"value\": melt_value,\n",
    "    \"error\": melt_err,\n",
    "    \"error_frac\": melt_frac_err,\n",
    "    \"error_min\": melt_value - 2 * melt_err,\n",
    "    \"error_max\": melt_value + 2 * melt_err,\n",
    "})"
   ]
  },
  {
   "cell_type": "code",
   "execution_count": null,
   "metadata": {},
   "outputs": [],
   "source": [
    "chart = alt.Chart(melt_df.reset_index()).encode(\n",
    "    x=alt.X(\"temp_norm\", scale=alt.Scale(zero=False)),\n",
    "    color=\"pressure:N\",\n",
    ")\n",
    "\n",
    "chart = (\n",
    "    chart.mark_point().encode(y=alt.Y(\"value\", title=\"Melting Rate\", axis=alt.Axis(format='e'))) +\n",
    "    chart.mark_rule().encode(y=\"error_min\", y2=\"error_max\")\n",
    ")\n",
    "\n",
    "chart = figures.hline(chart, 0)\n",
    "chart"
   ]
  },
  {
   "cell_type": "code",
   "execution_count": null,
   "metadata": {},
   "outputs": [],
   "source": [
    "chart.save(\"../figures/growth_rates_err.svg\", webdriver=\"firefox\")"
   ]
  },
  {
   "cell_type": "code",
   "execution_count": null,
   "metadata": {},
   "outputs": [],
   "source": [
    "mean = rates_df.groupby([\"temperature\",\"pressure\", \"temp_norm\"])[\"mean\"].mean()\n",
    "err = rates_df.groupby([\"temperature\", \"pressure\", \"temp_norm\"])[\"mean\"].std()"
   ]
  },
  {
   "cell_type": "markdown",
   "metadata": {},
   "source": [
    "## Error in Rotational Relaxation"
   ]
  },
  {
   "cell_type": "code",
   "execution_count": null,
   "metadata": {},
   "outputs": [],
   "source": [
    "with pandas.HDFStore('../data/analysis/dynamics_clean_agg.h5') as store:\n",
    "    relax_df = store.get(\"relaxations\")"
   ]
  },
  {
   "cell_type": "code",
   "execution_count": null,
   "metadata": {},
   "outputs": [],
   "source": [
    "rot_value = relax_df.groupby([\"temperature\", \"pressure\"])[\"rot2_value\"].mean()\n",
    "rot_err = np.maximum((relax_df[\"rot2_value\"] - relax_df[\"rot2_lower\"]).values, (relax_df[\"rot2_upper\"] - relax_df[\"rot2_value\"]).values)\n",
    "rot_frac_err = rot_err / rot_value\n",
    "\n",
    "rot_df = pandas.DataFrame({\n",
    "    \"value\": rot_value,\n",
    "    \"error\": rot_err,\n",
    "    \"error_frac\": rot_frac_err,\n",
    "})"
   ]
  },
  {
   "cell_type": "code",
   "execution_count": null,
   "metadata": {},
   "outputs": [],
   "source": [
    "all_df = melt_df.reset_index(\"temp_norm\").join(rot_df, lsuffix=\"_melt\", rsuffix=\"_rot\").set_index('temp_norm', append=True)\n",
    "all_df.head()"
   ]
  },
  {
   "cell_type": "code",
   "execution_count": null,
   "metadata": {},
   "outputs": [],
   "source": [
    "value = all_df[\"value_melt\"] * all_df[\"value_rot\"]\n",
    "err_frac = all_df[\"error_frac_melt\"].abs() + all_df[\"error_frac_rot\"].abs()\n",
    "error = value * err_frac\n",
    "\n",
    "melt_values = pandas.DataFrame({\n",
    "    \"value\": value,\n",
    "    \"error\": error,\n",
    "    \"error_min\": value - 2 * error,\n",
    "    \"error_max\": value + 2 * error,\n",
    "}).reset_index().dropna()"
   ]
  },
  {
   "cell_type": "code",
   "execution_count": null,
   "metadata": {},
   "outputs": [],
   "source": [
    "chart = alt.Chart(melt_values).encode(\n",
    "    x=alt.X(\"temp_norm\", title=\"T/Tₘ\", scale=alt.Scale(zero=False)),\n",
    "    color=alt.Color(\"pressure:N\", title=\"Pressure\"),\n",
    ")\n",
    "\n",
    "c = (\n",
    "    chart.mark_point().encode(y=alt.Y(\"value\", title=\"Rotational Relaxation × Melting Rate\")) +\n",
    "    chart.mark_rule().encode(y=\"error_min\", y2=\"error_max\")\n",
    ")\n",
    "\n",
    "c = figures.hline(c, 0)"
   ]
  },
  {
   "cell_type": "code",
   "execution_count": null,
   "metadata": {},
   "outputs": [],
   "source": [
    "c.save(\"../figures/normalised_melting_err.svg\", webdriver=\"firefox\")"
   ]
  },
  {
   "cell_type": "markdown",
   "metadata": {},
   "source": [
    "## Fitting to Theory\n",
    "\n",
    "When fitting a curve to the data\n",
    "it is required to take into account\n",
    "the errors in the data."
   ]
  },
  {
   "cell_type": "code",
   "execution_count": null,
   "metadata": {},
   "outputs": [],
   "source": [
    "def fit_curve(x_vals, y_vals, errors=None, delta_E=None):\n",
    "    if delta_E is None:\n",
    "        def theory(x, c, d):\n",
    "            result = 1 - np.exp((1-x) * d / x)\n",
    "            return c * result\n",
    "    else:\n",
    "        def theory(x, c):\n",
    "            result = 1 - np.exp((1-x) * delta_E / x)\n",
    "            return c * result\n",
    "    \n",
    "    opt, err = scipy.optimize.curve_fit(\n",
    "        theory, \n",
    "        x_vals, \n",
    "        y_vals,\n",
    "        sigma=errors,\n",
    "    )\n",
    "    \n",
    "    return theory, opt, err"
   ]
  },
  {
   "cell_type": "code",
   "execution_count": null,
   "metadata": {},
   "outputs": [],
   "source": [
    "import matplotlib.pyplot as plt\n",
    "\n",
    "x = np.arange(0.95, 2.0, 0.05)\n",
    "\n",
    "p1_values = melt_values.query(\"pressure == 1.00\")\n",
    "p13_values = melt_values.query(\"pressure == 13.50\")\n",
    "\n",
    "theory1, opt1, err1 = fit_curve(p1_values[\"temp_norm\"], p1_values[\"value\"], p1_values[\"error\"], -0.18034612159032992)\n",
    "theory13, opt13, err13 = fit_curve(p13_values[\"temp_norm\"], p13_values[\"value\"], p13_values[\"error\"], -0.06561802006526474)"
   ]
  },
  {
   "cell_type": "code",
   "execution_count": null,
   "metadata": {},
   "outputs": [],
   "source": [
    "y1 = theory1(x, *opt1)\n",
    "y13 = theory13(x, *opt13)"
   ]
  },
  {
   "cell_type": "code",
   "execution_count": null,
   "metadata": {},
   "outputs": [],
   "source": [
    "plt.plot(x, y1)\n",
    "plt.scatter(p1_values[\"temp_norm\"], p1_values[\"value\"])\n",
    "plt.plot(x, y13)\n",
    "plt.scatter(p13_values[\"temp_norm\"], p13_values[\"value\"])\n",
    "plt.savefig(\"theory_fits.pdf\")"
   ]
  },
  {
   "cell_type": "code",
   "execution_count": null,
   "metadata": {},
   "outputs": [],
   "source": []
  }
 ],
 "metadata": {
  "jupytext": {
   "formats": "ipynb,md"
  },
  "kernelspec": {
   "display_name": "crystal",
   "language": "python",
   "name": "crystal"
  },
  "language_info": {
   "codemirror_mode": {
    "name": "ipython",
    "version": 3
   },
   "file_extension": ".py",
   "mimetype": "text/x-python",
   "name": "python",
   "nbconvert_exporter": "python",
   "pygments_lexer": "ipython3",
   "version": "3.6.8"
  }
 },
 "nbformat": 4,
 "nbformat_minor": 2
}
