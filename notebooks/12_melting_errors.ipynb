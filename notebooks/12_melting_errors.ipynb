{
 "cells": [
  {
   "cell_type": "markdown",
   "metadata": {},
   "source": [
    "# Melting Uncertainties\n",
    "\n",
    "This aims to estimate the uncertainty of the crystal melting rates,\n",
    "combining the uncertainties of the dynamics and that of the rates calculation.\n",
    "This requires an understanding of the errors in both\n",
    "the melting rates, and in the rotational relaxation time."
   ]
  },
  {
   "cell_type": "code",
   "execution_count": 1,
   "metadata": {},
   "outputs": [],
   "source": [
    "import pandas\n",
    "import uncertainties\n",
    "import altair as alt\n",
    "import numpy as np\n",
    "\n",
    "import sys\n",
    "sys.path.append(\"../src\")\n",
    "import figures\n",
    "\n",
    "figures.use_my_theme()"
   ]
  },
  {
   "cell_type": "markdown",
   "metadata": {},
   "source": [
    "## Error in Melting Rates\n",
    "\n",
    "The first part of understanding the error in the melting rates\n",
    "is establishing which errors are important.\n",
    "In each melting simulation there is an error\n",
    "in the fitted value for the melting rate.\n",
    "Additionally there is an error\n",
    "in measuring the rate between experiments,\n",
    "with each having a slightly different rate.\n",
    "The approach here is to evaluate what these errors actually look like."
   ]
  },
  {
   "cell_type": "code",
   "execution_count": 2,
   "metadata": {},
   "outputs": [],
   "source": [
    "with pandas.HDFStore('../data/analysis/melting_clean.h5') as store:\n",
    "    rates_df = store.get(\"rates\")"
   ]
  },
  {
   "cell_type": "markdown",
   "metadata": {},
   "source": [
    "In calculating the errors we are going to use\n",
    "two standard deviations for the depiction of the errors."
   ]
  },
  {
   "cell_type": "code",
   "execution_count": 3,
   "metadata": {},
   "outputs": [],
   "source": [
    "rates_df[\"error_min\"] = rates_df[\"mean\"] - 2*rates_df[\"error\"]\n",
    "rates_df[\"error_max\"] = rates_df[\"mean\"] + 2*rates_df[\"error\"]"
   ]
  },
  {
   "cell_type": "code",
   "execution_count": 4,
   "metadata": {},
   "outputs": [
    {
     "data": {
      "application/vnd.vegalite.v2+json": {
       "$schema": "https://vega.github.io/schema/vega-lite/v2.6.0.json",
       "config": {
        "axis": {
         "grid": false
        },
        "view": {
         "height": 400,
         "width": 600
        }
       },
       "data": {
        "name": "data-28f5bd5291578206907db9e02e0cfa53"
       },
       "datasets": {
        "data-28f5bd5291578206907db9e02e0cfa53": [
         {
          "crystal": "p2",
          "error": 2.4442997203699525e-07,
          "error_max": -2.5553747272282902e-06,
          "error_min": -3.5330946153762713e-06,
          "iter_id": 1,
          "mean": -3.0442346713022807e-06,
          "pressure": 1,
          "temp_norm": 1.3888888888888888,
          "temperature": 0.5
         },
         {
          "crystal": "p2",
          "error": 2.0963876415868734e-07,
          "error_max": -1.5223316520209146e-06,
          "error_min": -2.360886708655664e-06,
          "iter_id": 2,
          "mean": -1.9416091803382893e-06,
          "pressure": 1,
          "temp_norm": 1.3888888888888888,
          "temperature": 0.5
         },
         {
          "crystal": "p2",
          "error": 2.1477076552581855e-07,
          "error_max": -1.4034152670221605e-06,
          "error_min": -2.2624983291254347e-06,
          "iter_id": 3,
          "mean": -1.8329567980737976e-06,
          "pressure": 1,
          "temp_norm": 1.3888888888888888,
          "temperature": 0.5
         },
         {
          "crystal": "p2",
          "error": 2.3223191120739155e-07,
          "error_max": -2.3866060154001643e-06,
          "error_min": -3.31553366022973e-06,
          "iter_id": 4,
          "mean": -2.851069837814947e-06,
          "pressure": 1,
          "temp_norm": 1.3888888888888888,
          "temperature": 0.5
         },
         {
          "crystal": "p2",
          "error": 2.253434787994792e-07,
          "error_max": -1.5411914533775255e-06,
          "error_min": -2.4425653685754423e-06,
          "iter_id": 5,
          "mean": -1.991878410976484e-06,
          "pressure": 1,
          "temp_norm": 1.3888888888888888,
          "temperature": 0.5
         },
         {
          "crystal": "p2",
          "error": 5.002777451788379e-07,
          "error_max": -1.4511803103668343e-05,
          "error_min": -1.6512914084383693e-05,
          "iter_id": 1,
          "mean": -1.5512358594026018e-05,
          "pressure": 1,
          "temp_norm": 1.527777777777778,
          "temperature": 0.55
         },
         {
          "crystal": "p2",
          "error": 4.303405598174599e-07,
          "error_max": -8.193399974443319e-06,
          "error_min": -9.914762213713158e-06,
          "iter_id": 2,
          "mean": -9.054081094078238e-06,
          "pressure": 1,
          "temp_norm": 1.527777777777778,
          "temperature": 0.55
         },
         {
          "crystal": "p2",
          "error": 4.4604821987676497e-07,
          "error_max": -1.3181651862609606e-05,
          "error_min": -1.4965844742116665e-05,
          "iter_id": 3,
          "mean": -1.4073748302363135e-05,
          "pressure": 1,
          "temp_norm": 1.527777777777778,
          "temperature": 0.55
         },
         {
          "crystal": "p2",
          "error": 5.119285243762294e-07,
          "error_max": -1.2731081726060158e-05,
          "error_min": -1.4778795823565074e-05,
          "iter_id": 4,
          "mean": -1.3754938774812616e-05,
          "pressure": 1,
          "temp_norm": 1.527777777777778,
          "temperature": 0.55
         },
         {
          "crystal": "p2",
          "error": 5.866228205589977e-07,
          "error_max": -1.4189549244193328e-05,
          "error_min": -1.6536040526429318e-05,
          "iter_id": 5,
          "mean": -1.5362794885311323e-05,
          "pressure": 1,
          "temp_norm": 1.527777777777778,
          "temperature": 0.55
         },
         {
          "crystal": "p2",
          "error": 9.058345444539626e-07,
          "error_max": -2.6040101937937043e-05,
          "error_min": -2.9663440115752894e-05,
          "iter_id": 1,
          "mean": -2.785177102684497e-05,
          "pressure": 1,
          "temp_norm": 1.6666666666666667,
          "temperature": 0.6
         },
         {
          "crystal": "p2",
          "error": 1.2227984930562456e-06,
          "error_max": -3.801850627967008e-05,
          "error_min": -4.2909700251895056e-05,
          "iter_id": 2,
          "mean": -4.046410326578257e-05,
          "pressure": 1,
          "temp_norm": 1.6666666666666667,
          "temperature": 0.6
         },
         {
          "crystal": "p2",
          "error": 1.0039636391467215e-06,
          "error_max": -3.401458825785414e-05,
          "error_min": -3.803044281444103e-05,
          "iter_id": 3,
          "mean": -3.602251553614759e-05,
          "pressure": 1,
          "temp_norm": 1.6666666666666667,
          "temperature": 0.6
         },
         {
          "crystal": "p2",
          "error": 8.979144156883133e-07,
          "error_max": -3.9327858406638155e-05,
          "error_min": -4.2919516069391404e-05,
          "iter_id": 4,
          "mean": -4.112368723801478e-05,
          "pressure": 1,
          "temp_norm": 1.6666666666666667,
          "temperature": 0.6
         },
         {
          "crystal": "p2",
          "error": 1.1235316969055495e-06,
          "error_max": -4.542501561228911e-05,
          "error_min": -4.99191423999113e-05,
          "iter_id": 5,
          "mean": -4.7672079006100206e-05,
          "pressure": 1,
          "temp_norm": 1.6666666666666667,
          "temperature": 0.6
         },
         {
          "crystal": "p2",
          "error": 2.4760160209191817e-06,
          "error_max": -0.0001716995588262363,
          "error_min": -0.000181603622909913,
          "iter_id": 1,
          "mean": -0.00017665159086807466,
          "pressure": 1,
          "temp_norm": 1.9444444444444444,
          "temperature": 0.7
         },
         {
          "crystal": "p2",
          "error": 3.684680017571024e-06,
          "error_max": -0.0001783408374235313,
          "error_min": -0.00019307955749381538,
          "iter_id": 2,
          "mean": -0.00018571019745867334,
          "pressure": 1,
          "temp_norm": 1.9444444444444444,
          "temperature": 0.7
         },
         {
          "crystal": "p2",
          "error": 3.580821133114241e-06,
          "error_max": -0.00015419046778532424,
          "error_min": -0.0001685137523177812,
          "iter_id": 3,
          "mean": -0.00016135211005155272,
          "pressure": 1,
          "temp_norm": 1.9444444444444444,
          "temperature": 0.7
         },
         {
          "crystal": "p2",
          "error": 2.993620413152459e-06,
          "error_max": -0.00023113446482900347,
          "error_min": -0.0002431089464816133,
          "iter_id": 4,
          "mean": -0.00023712170565530838,
          "pressure": 1,
          "temp_norm": 1.9444444444444444,
          "temperature": 0.7
         },
         {
          "crystal": "p2",
          "error": 3.5288204740337766e-06,
          "error_max": -0.00020392533819666038,
          "error_min": -0.0002180406200927955,
          "iter_id": 5,
          "mean": -0.00021098297914472794,
          "pressure": 1,
          "temp_norm": 1.9444444444444444,
          "temperature": 0.7
         },
         {
          "crystal": "p2",
          "error": 8.048625358857437e-06,
          "error_max": -0.0003542198387818386,
          "error_min": -0.0003864143402172684,
          "iter_id": 1,
          "mean": -0.0003703170894995535,
          "pressure": 1,
          "temp_norm": 2.0833333333333335,
          "temperature": 0.75
         },
         {
          "crystal": "p2",
          "error": 3.097280479635104e-06,
          "error_max": -0.0003989036348093998,
          "error_min": -0.0004112927567279402,
          "iter_id": 2,
          "mean": -0.00040509819576867,
          "pressure": 1,
          "temp_norm": 2.0833333333333335,
          "temperature": 0.75
         },
         {
          "crystal": "p2",
          "error": 5.490094386117951e-06,
          "error_max": -0.00031739302651496846,
          "error_min": -0.0003393534040594403,
          "iter_id": 3,
          "mean": -0.00032837321528720437,
          "pressure": 1,
          "temp_norm": 2.0833333333333335,
          "temperature": 0.75
         },
         {
          "crystal": "p2",
          "error": 6.33215718343531e-06,
          "error_max": -0.0003001073747938851,
          "error_min": -0.0003254360035276263,
          "iter_id": 4,
          "mean": -0.0003127716891607557,
          "pressure": 1,
          "temp_norm": 2.0833333333333335,
          "temperature": 0.75
         },
         {
          "crystal": "p2",
          "error": 6.170106612160712e-06,
          "error_max": -0.00034888093176018803,
          "error_min": -0.0003735613582088308,
          "iter_id": 5,
          "mean": -0.00036122114498450943,
          "pressure": 1,
          "temp_norm": 2.0833333333333335,
          "temperature": 0.75
         },
         {
          "crystal": "p2",
          "error": 1.9992482116835656e-07,
          "error_max": 5.559085565963844e-07,
          "error_min": -2.437907280770418e-07,
          "iter_id": 1,
          "mean": 1.5605891425967128e-07,
          "pressure": 13.5,
          "temp_norm": 1.1851851851851851,
          "temperature": 1.6
         },
         {
          "crystal": "p2",
          "error": 2.024155076259995e-07,
          "error_max": 9.323136955478719e-07,
          "error_min": 1.2265166504387383e-07,
          "iter_id": 2,
          "mean": 5.274826802958728e-07,
          "pressure": 13.5,
          "temp_norm": 1.1851851851851851,
          "temperature": 1.6
         },
         {
          "crystal": "p2",
          "error": 2.2855558067014977e-07,
          "error_max": 1.2639086492770063e-07,
          "error_min": -7.878314577528984e-07,
          "iter_id": 3,
          "mean": -3.307202964125989e-07,
          "pressure": 13.5,
          "temp_norm": 1.1851851851851851,
          "temperature": 1.6
         },
         {
          "crystal": "p2",
          "error": 2.1502914074513008e-07,
          "error_max": 1.939252013393454e-06,
          "error_min": 1.0791354504129337e-06,
          "iter_id": 4,
          "mean": 1.5091937319031939e-06,
          "pressure": 13.5,
          "temp_norm": 1.1851851851851851,
          "temperature": 1.6
         },
         {
          "crystal": "p2",
          "error": 1.993636307579993e-07,
          "error_max": 1.1796049696647263e-06,
          "error_min": 3.821504466327291e-07,
          "iter_id": 5,
          "mean": 7.808777081487277e-07,
          "pressure": 13.5,
          "temp_norm": 1.1851851851851851,
          "temperature": 1.6
         },
         {
          "crystal": "p2",
          "error": 3.890929709541764e-07,
          "error_max": -3.228931234719399e-07,
          "error_min": -1.8792650072886455e-06,
          "iter_id": 1,
          "mean": -1.1010790653802927e-06,
          "pressure": 13.5,
          "temp_norm": 1.3333333333333333,
          "temperature": 1.8
         },
         {
          "crystal": "p2",
          "error": 4.4442439402099076e-07,
          "error_max": 1.6991744404175388e-06,
          "error_min": -7.852313566642428e-08,
          "iter_id": 2,
          "mean": 8.103256523755572e-07,
          "pressure": 13.5,
          "temp_norm": 1.3333333333333333,
          "temperature": 1.8
         },
         {
          "crystal": "p2",
          "error": 4.1126414833790326e-07,
          "error_max": 9.368488252380666e-07,
          "error_min": -7.082077681135464e-07,
          "iter_id": 3,
          "mean": 1.1432052856226013e-07,
          "pressure": 13.5,
          "temp_norm": 1.3333333333333333,
          "temperature": 1.8
         },
         {
          "crystal": "p2",
          "error": 4.4111917201838796e-07,
          "error_max": 2.74310772106521e-06,
          "error_min": 9.78631032991658e-07,
          "iter_id": 4,
          "mean": 1.860869377028434e-06,
          "pressure": 13.5,
          "temp_norm": 1.3333333333333333,
          "temperature": 1.8
         },
         {
          "crystal": "p2",
          "error": 4.6407812638647126e-07,
          "error_max": -1.3610804612858788e-06,
          "error_min": -3.217392966831764e-06,
          "iter_id": 5,
          "mean": -2.2892367140588214e-06,
          "pressure": 13.5,
          "temp_norm": 1.3333333333333333,
          "temperature": 1.8
         },
         {
          "crystal": "p2",
          "error": 7.457801309790213e-07,
          "error_max": -1.1355466217439158e-05,
          "error_min": -1.4338586741355243e-05,
          "iter_id": 1,
          "mean": -1.2847026479397201e-05,
          "pressure": 13.5,
          "temp_norm": 1.4814814814814814,
          "temperature": 2
         },
         {
          "crystal": "p2",
          "error": 7.981565506983735e-07,
          "error_max": -2.040711344748713e-06,
          "error_min": -5.233337547542207e-06,
          "iter_id": 2,
          "mean": -3.63702444614546e-06,
          "pressure": 13.5,
          "temp_norm": 1.4814814814814814,
          "temperature": 2
         },
         {
          "crystal": "p2",
          "error": 9.153515859862849e-07,
          "error_max": -2.0114073684626947e-06,
          "error_min": -5.672813712407834e-06,
          "iter_id": 3,
          "mean": -3.8421105404352645e-06,
          "pressure": 13.5,
          "temp_norm": 1.4814814814814814,
          "temperature": 2
         },
         {
          "crystal": "p2",
          "error": 8.664530722331169e-07,
          "error_max": -5.783283021567562e-06,
          "error_min": -9.249095310500031e-06,
          "iter_id": 4,
          "mean": -7.516189166033797e-06,
          "pressure": 13.5,
          "temp_norm": 1.4814814814814814,
          "temperature": 2
         },
         {
          "crystal": "p2",
          "error": 8.263724470631951e-07,
          "error_max": -8.992701768282779e-06,
          "error_min": -1.229819155653556e-05,
          "iter_id": 5,
          "mean": -1.064544666240917e-05,
          "pressure": 13.5,
          "temp_norm": 1.4814814814814814,
          "temperature": 2
         },
         {
          "crystal": "p2",
          "error": 2.128246633404948e-06,
          "error_max": -0.00011068585332337622,
          "error_min": -0.00011919883985699601,
          "iter_id": 1,
          "mean": -0.00011494234659018611,
          "pressure": 13.5,
          "temp_norm": 1.8518518518518516,
          "temperature": 2.5
         },
         {
          "crystal": "p2",
          "error": 2.199704247819045e-06,
          "error_max": -7.113597137028286e-05,
          "error_min": -7.993478836155906e-05,
          "iter_id": 2,
          "mean": -7.553537986592096e-05,
          "pressure": 13.5,
          "temp_norm": 1.8518518518518516,
          "temperature": 2.5
         },
         {
          "crystal": "p2",
          "error": 1.7678497155963265e-06,
          "error_max": -7.094290213970867e-05,
          "error_min": -7.801430100209397e-05,
          "iter_id": 3,
          "mean": -7.447860157090132e-05,
          "pressure": 13.5,
          "temp_norm": 1.8518518518518516,
          "temperature": 2.5
         },
         {
          "crystal": "p2",
          "error": 2.67701897002361e-06,
          "error_max": -9.128920760043341e-05,
          "error_min": -0.00010199728348052786,
          "iter_id": 4,
          "mean": -9.664324554048064e-05,
          "pressure": 13.5,
          "temp_norm": 1.8518518518518516,
          "temperature": 2.5
         },
         {
          "crystal": "p2",
          "error": 1.77279981538329e-06,
          "error_max": -8.80594775855409e-05,
          "error_min": -9.515067684707407e-05,
          "iter_id": 5,
          "mean": -9.160507721630749e-05,
          "pressure": 13.5,
          "temp_norm": 1.8518518518518516,
          "temperature": 2.5
         },
         {
          "crystal": "p2",
          "error": 9.830830983780907e-06,
          "error_max": -0.0005526916985321381,
          "error_min": -0.0005920150224672618,
          "iter_id": 1,
          "mean": -0.0005723533604996999,
          "pressure": 13.5,
          "temp_norm": 2.222222222222222,
          "temperature": 3
         },
         {
          "crystal": "p2",
          "error": 7.7286362411208e-06,
          "error_max": -0.0006077961066873332,
          "error_min": -0.0006387106516518164,
          "iter_id": 2,
          "mean": -0.0006232533791695748,
          "pressure": 13.5,
          "temp_norm": 2.222222222222222,
          "temperature": 3
         },
         {
          "crystal": "p2",
          "error": 8.143616445094275e-06,
          "error_max": -0.00048195331393055795,
          "error_min": -0.000514527779710935,
          "iter_id": 3,
          "mean": -0.0004982405468207465,
          "pressure": 13.5,
          "temp_norm": 2.222222222222222,
          "temperature": 3
         },
         {
          "crystal": "p2",
          "error": 8.513745160077744e-06,
          "error_max": -0.0005426238783729929,
          "error_min": -0.0005766788590133038,
          "iter_id": 4,
          "mean": -0.0005596513686931484,
          "pressure": 13.5,
          "temp_norm": 2.222222222222222,
          "temperature": 3
         },
         {
          "crystal": "p2",
          "error": 9.166550708942853e-06,
          "error_max": -0.0004929897647310689,
          "error_min": -0.0005296559675668404,
          "iter_id": 5,
          "mean": -0.0005113228661489547,
          "pressure": 13.5,
          "temp_norm": 2.222222222222222,
          "temperature": 3
         }
        ]
       },
       "layer": [
        {
         "layer": [
          {
           "data": {
            "name": "data-28f5bd5291578206907db9e02e0cfa53"
           },
           "encoding": {
            "color": {
             "field": "pressure",
             "type": "nominal"
            },
            "x": {
             "field": "temp_norm",
             "scale": {
              "zero": false
             },
             "type": "quantitative"
            },
            "y": {
             "field": "mean",
             "type": "quantitative"
            }
           },
           "mark": "point"
          },
          {
           "data": {
            "name": "data-28f5bd5291578206907db9e02e0cfa53"
           },
           "encoding": {
            "color": {
             "field": "pressure",
             "type": "nominal"
            },
            "x": {
             "field": "temp_norm",
             "scale": {
              "zero": false
             },
             "type": "quantitative"
            },
            "y": {
             "field": "error_min",
             "type": "quantitative"
            },
            "y2": {
             "field": "error_max",
             "type": "quantitative"
            }
           },
           "mark": "rule"
          }
         ]
        },
        {
         "encoding": {
          "y": {
           "field": "val",
           "type": "quantitative"
          }
         },
         "mark": {
          "color": "grey",
          "type": "rule"
         }
        }
       ],
       "transform": [
        {
         "as": "val",
         "calculate": "0"
        }
       ]
      },
      "image/png": "[encoded data removed]",
      "text/plain": [
       "<VegaLite 2 object>\n",
       "\n",
       "If you see this message, it means the renderer has not been properly enabled\n",
       "for the frontend that you are using. For more information, see\n",
       "https://altair-viz.github.io/user_guide/troubleshooting.html\n"
      ]
     },
     "execution_count": 4,
     "metadata": {},
     "output_type": "execute_result"
    }
   ],
   "source": [
    "chart = alt.Chart(rates_df).encode(\n",
    "    x=alt.X(\"temp_norm\", scale=alt.Scale(zero=False)),\n",
    "    color=\"pressure:N\",\n",
    ")\n",
    "\n",
    "chart = chart.mark_point().encode(y=\"mean\") + chart.mark_rule().encode(y=\"error_min\", y2=\"error_max\")\n",
    "chart = figures.hline(chart, 0)\n",
    "chart"
   ]
  },
  {
   "cell_type": "markdown",
   "metadata": {},
   "source": [
    "The figure above shows the errors of the individual samples\n",
    "indicated as the error bars on each point\n",
    "and the error between simulation replications,\n",
    "which is the spread of the dots at a specific temperature.\n",
    "This figure shows that the errors\n",
    "in finding the melting rate for each simulation\n",
    "are orders of magnitude smaller than the errors between simulations.\n",
    "This means that we can effectively ignore the error in measurement,\n",
    "only using the error between measurements.\n",
    "\n",
    "With the error between the measurements being\n",
    "the largest contribution to the overall error\n",
    "we can estimate the error in the melting rates\n",
    "as the standard deviation of the measurements."
   ]
  },
  {
   "cell_type": "code",
   "execution_count": 5,
   "metadata": {},
   "outputs": [],
   "source": [
    "melt_value = rates_df.groupby([\"temperature\",\"pressure\", \"temp_norm\"])[\"mean\"].mean()\n",
    "melt_err = rates_df.groupby([\"temperature\", \"pressure\", \"temp_norm\"])[\"mean\"].std()\n",
    "melt_frac_err = melt_err / melt_value\n",
    "melt_df = pandas.DataFrame({\n",
    "    \"value\": melt_value,\n",
    "    \"error\": melt_err,\n",
    "    \"error_frac\": melt_frac_err,\n",
    "    \"error_min\": melt_value - 2 * melt_err,\n",
    "    \"error_max\": melt_value + 2 * melt_err,\n",
    "})"
   ]
  },
  {
   "cell_type": "markdown",
   "metadata": {},
   "source": [
    "The resulting errors, plotted as 2 * the standard deviation\n",
    "are shown in the figure below."
   ]
  },
  {
   "cell_type": "code",
   "execution_count": 6,
   "metadata": {},
   "outputs": [
    {
     "data": {
      "application/vnd.vegalite.v2+json": {
       "$schema": "https://vega.github.io/schema/vega-lite/v2.6.0.json",
       "config": {
        "axis": {
         "grid": false
        },
        "view": {
         "height": 400,
         "width": 600
        }
       },
       "data": {
        "name": "data-a9609884e655d9ba41ef5df2730dd920"
       },
       "datasets": {
        "data-a9609884e655d9ba41ef5df2730dd920": [
         {
          "error": 5.687360803988717e-07,
          "error_frac": -0.24384682149679235,
          "error_max": -1.1948776189034164e-06,
          "error_min": -3.469821940498903e-06,
          "pressure": 1,
          "temp_norm": 1.3888888888888888,
          "temperature": 0.5,
          "value": -2.33234977970116e-06
         },
         {
          "error": 2.629955464999537e-06,
          "error_frac": -0.19406996266513918,
          "error_max": -8.291673400119191e-06,
          "error_min": -1.881149526011734e-05,
          "pressure": 1,
          "temp_norm": 1.527777777777778,
          "temperature": 0.55,
          "value": -1.3551584330118266e-05
         },
         {
          "error": 7.319678073592704e-06,
          "error_frac": -0.1894972443618468,
          "error_max": -2.3987475067392616e-05,
          "error_min": -5.326618736176343e-05,
          "pressure": 1,
          "temp_norm": 1.6666666666666667,
          "temperature": 0.6,
          "value": -3.862683121457802e-05
         },
         {
          "error": 2.9928307979097285e-05,
          "error_frac": -0.1539809409757149,
          "error_max": -0.00013450710067747283,
          "error_min": -0.000254220332593862,
          "pressure": 1,
          "temp_norm": 1.9444444444444444,
          "temperature": 0.7,
          "value": -0.00019436371663566742
         },
         {
          "error": 3.6310514423736664e-05,
          "error_frac": -0.10212311749197743,
          "error_max": -0.00028293523809266527,
          "error_min": -0.0004281772957876119,
          "pressure": 1,
          "temp_norm": 2.0833333333333335,
          "temperature": 0.75,
          "value": -0.0003555562669401386
         },
         {
          "error": 6.896425863391358e-07,
          "error_frac": 1.3047116448815312,
          "error_max": 1.907863720317245e-06,
          "error_min": -8.507066250392983e-07,
          "pressure": 13.5,
          "temp_norm": 1.1851851851851851,
          "temperature": 1.6,
          "value": 5.285785476389734e-07
         },
         {
          "error": 1.6211380928336783e-06,
          "error_frac": -13.402261071314923,
          "error_max": 3.1213161413727844e-06,
          "error_min": -3.363236229961929e-06,
          "pressure": 13.5,
          "temp_norm": 1.3333333333333333,
          "temperature": 1.8,
          "value": -1.2096004429457254e-07
         },
         {
          "error": 4.080207583433476e-06,
          "error_frac": -0.5300650946871587,
          "error_max": 4.62855707982774e-07,
          "error_min": -1.585797462575113e-05,
          "pressure": 13.5,
          "temp_norm": 1.4814814814814814,
          "temperature": 2,
          "value": -7.697559458884179e-06
         },
         {
          "error": 1.6710137081239102e-05,
          "error_frac": -0.1843553133483923,
          "error_max": -5.72206559942811e-05,
          "error_min": -0.0001240612043192375,
          "pressure": 13.5,
          "temp_norm": 1.8518518518518516,
          "temperature": 2.5,
          "value": -9.06409301567593e-05
         },
         {
          "error": 5.0224260523350206e-05,
          "error_frac": -0.090827310435488,
          "error_max": -0.00045251578321972433,
          "error_min": -0.0006534128253131252,
          "pressure": 13.5,
          "temp_norm": 2.222222222222222,
          "temperature": 3,
          "value": -0.0005529643042664247
         }
        ]
       },
       "layer": [
        {
         "layer": [
          {
           "data": {
            "name": "data-a9609884e655d9ba41ef5df2730dd920"
           },
           "encoding": {
            "color": {
             "field": "pressure",
             "type": "nominal"
            },
            "x": {
             "field": "temp_norm",
             "scale": {
              "zero": false
             },
             "type": "quantitative"
            },
            "y": {
             "field": "value",
             "type": "quantitative"
            }
           },
           "mark": "point"
          },
          {
           "data": {
            "name": "data-a9609884e655d9ba41ef5df2730dd920"
           },
           "encoding": {
            "color": {
             "field": "pressure",
             "type": "nominal"
            },
            "x": {
             "field": "temp_norm",
             "scale": {
              "zero": false
             },
             "type": "quantitative"
            },
            "y": {
             "field": "error_min",
             "type": "quantitative"
            },
            "y2": {
             "field": "error_max",
             "type": "quantitative"
            }
           },
           "mark": "rule"
          }
         ]
        },
        {
         "encoding": {
          "y": {
           "field": "val",
           "type": "quantitative"
          }
         },
         "mark": {
          "color": "grey",
          "type": "rule"
         }
        }
       ],
       "transform": [
        {
         "as": "val",
         "calculate": "0"
        }
       ]
      },
      "image/png": "[encoded data removed]",
      "text/plain": [
       "<VegaLite 2 object>\n",
       "\n",
       "If you see this message, it means the renderer has not been properly enabled\n",
       "for the frontend that you are using. For more information, see\n",
       "https://altair-viz.github.io/user_guide/troubleshooting.html\n"
      ]
     },
     "execution_count": 6,
     "metadata": {},
     "output_type": "execute_result"
    }
   ],
   "source": [
    "chart = alt.Chart(melt_df.reset_index()).encode(\n",
    "    x=alt.X(\"temp_norm\", scale=alt.Scale(zero=False)),\n",
    "    color=\"pressure:N\",\n",
    ")\n",
    "\n",
    "chart = chart.mark_point().encode(y=\"value\") + chart.mark_rule().encode(y=\"error_min\", y2=\"error_max\")\n",
    "chart = figures.hline(chart, 0)\n",
    "chart"
   ]
  },
  {
   "cell_type": "markdown",
   "metadata": {},
   "source": [
    "## Error in Rotational Relaxation\n",
    "\n",
    "The errors in the rotational relaxation\n",
    "have already been calculated using bootstrapping,\n",
    "which has resulted in asymmetrical errors.\n",
    "While there is some precedence\n",
    "for asymmetrical errors,\n",
    "this approach is complicated.\n",
    "An alternative is to assume a asymmetrical distribution\n",
    "with the characteristics of the larger asymmetric error,\n",
    "which will over-estimate some of the error,\n",
    "however this is not necessarily a huge issue,\n",
    "and in this case an estimation I am willing to make."
   ]
  },
  {
   "cell_type": "code",
   "execution_count": 7,
   "metadata": {},
   "outputs": [],
   "source": [
    "with pandas.HDFStore('../data/analysis/dynamics_clean_agg.h5') as store:\n",
    "    relax_df = store.get(\"relaxations\")"
   ]
  },
  {
   "cell_type": "code",
   "execution_count": 8,
   "metadata": {},
   "outputs": [],
   "source": [
    "rot_value = relax_df.groupby([\"temperature\", \"pressure\"])[\"rot2_value\"].mean()\n",
    "rot_err = np.maximum((relax_df[\"rot2_value\"] - relax_df[\"rot2_lower\"]).values, (relax_df[\"rot2_upper\"] - relax_df[\"rot2_value\"]).values)\n",
    "rot_frac_err = rot_err / rot_value\n",
    "\n",
    "rot_df = pandas.DataFrame({\n",
    "    \"value\": rot_value,\n",
    "    \"error\": rot_err,\n",
    "    \"error_frac\": rot_frac_err,\n",
    "})"
   ]
  },
  {
   "cell_type": "markdown",
   "metadata": {},
   "source": [
    "## Combined Errors\n",
    "\n",
    "Combining the rotational relaxation\n",
    "and the melting rate is through a multiplication,\n",
    "making the combination of errors being\n",
    "the sum of the error fractions."
   ]
  },
  {
   "cell_type": "code",
   "execution_count": 9,
   "metadata": {},
   "outputs": [
    {
     "data": {
      "text/html": [
       "<div>\n",
       "<style scoped>\n",
       "    .dataframe tbody tr th:only-of-type {\n",
       "        vertical-align: middle;\n",
       "    }\n",
       "\n",
       "    .dataframe tbody tr th {\n",
       "        vertical-align: top;\n",
       "    }\n",
       "\n",
       "    .dataframe thead th {\n",
       "        text-align: right;\n",
       "    }\n",
       "</style>\n",
       "<table border=\"1\" class=\"dataframe\">\n",
       "  <thead>\n",
       "    <tr style=\"text-align: right;\">\n",
       "      <th></th>\n",
       "      <th></th>\n",
       "      <th></th>\n",
       "      <th>value_melt</th>\n",
       "      <th>error_melt</th>\n",
       "      <th>error_frac_melt</th>\n",
       "      <th>error_min</th>\n",
       "      <th>error_max</th>\n",
       "      <th>value_rot</th>\n",
       "      <th>error_rot</th>\n",
       "      <th>error_frac_rot</th>\n",
       "    </tr>\n",
       "    <tr>\n",
       "      <th>temperature</th>\n",
       "      <th>pressure</th>\n",
       "      <th>temp_norm</th>\n",
       "      <th></th>\n",
       "      <th></th>\n",
       "      <th></th>\n",
       "      <th></th>\n",
       "      <th></th>\n",
       "      <th></th>\n",
       "      <th></th>\n",
       "      <th></th>\n",
       "    </tr>\n",
       "  </thead>\n",
       "  <tbody>\n",
       "    <tr>\n",
       "      <th>0.50</th>\n",
       "      <th>1.0</th>\n",
       "      <th>1.388889</th>\n",
       "      <td>-0.000002</td>\n",
       "      <td>5.687361e-07</td>\n",
       "      <td>-0.243847</td>\n",
       "      <td>-0.000003</td>\n",
       "      <td>-0.000001</td>\n",
       "      <td>58404.0</td>\n",
       "      <td>516.3</td>\n",
       "      <td>0.008840</td>\n",
       "    </tr>\n",
       "    <tr>\n",
       "      <th>0.55</th>\n",
       "      <th>1.0</th>\n",
       "      <th>1.527778</th>\n",
       "      <td>-0.000014</td>\n",
       "      <td>2.629955e-06</td>\n",
       "      <td>-0.194070</td>\n",
       "      <td>-0.000019</td>\n",
       "      <td>-0.000008</td>\n",
       "      <td>35660.0</td>\n",
       "      <td>400.0</td>\n",
       "      <td>0.011217</td>\n",
       "    </tr>\n",
       "    <tr>\n",
       "      <th>0.60</th>\n",
       "      <th>1.0</th>\n",
       "      <th>1.666667</th>\n",
       "      <td>-0.000039</td>\n",
       "      <td>7.319678e-06</td>\n",
       "      <td>-0.189497</td>\n",
       "      <td>-0.000053</td>\n",
       "      <td>-0.000024</td>\n",
       "      <td>22080.0</td>\n",
       "      <td>280.0</td>\n",
       "      <td>0.012681</td>\n",
       "    </tr>\n",
       "    <tr>\n",
       "      <th>0.70</th>\n",
       "      <th>1.0</th>\n",
       "      <th>1.944444</th>\n",
       "      <td>-0.000194</td>\n",
       "      <td>2.992831e-05</td>\n",
       "      <td>-0.153981</td>\n",
       "      <td>-0.000254</td>\n",
       "      <td>-0.000135</td>\n",
       "      <td>12680.0</td>\n",
       "      <td>301.0</td>\n",
       "      <td>0.023738</td>\n",
       "    </tr>\n",
       "    <tr>\n",
       "      <th>0.75</th>\n",
       "      <th>1.0</th>\n",
       "      <th>2.083333</th>\n",
       "      <td>-0.000356</td>\n",
       "      <td>3.631051e-05</td>\n",
       "      <td>-0.102123</td>\n",
       "      <td>-0.000428</td>\n",
       "      <td>-0.000283</td>\n",
       "      <td>NaN</td>\n",
       "      <td>NaN</td>\n",
       "      <td>NaN</td>\n",
       "    </tr>\n",
       "  </tbody>\n",
       "</table>\n",
       "</div>"
      ],
      "text/plain": [
       "                                value_melt    error_melt  error_frac_melt  \\\n",
       "temperature pressure temp_norm                                              \n",
       "0.50        1.0      1.388889    -0.000002  5.687361e-07        -0.243847   \n",
       "0.55        1.0      1.527778    -0.000014  2.629955e-06        -0.194070   \n",
       "0.60        1.0      1.666667    -0.000039  7.319678e-06        -0.189497   \n",
       "0.70        1.0      1.944444    -0.000194  2.992831e-05        -0.153981   \n",
       "0.75        1.0      2.083333    -0.000356  3.631051e-05        -0.102123   \n",
       "\n",
       "                                error_min  error_max  value_rot  error_rot  \\\n",
       "temperature pressure temp_norm                                               \n",
       "0.50        1.0      1.388889   -0.000003  -0.000001    58404.0      516.3   \n",
       "0.55        1.0      1.527778   -0.000019  -0.000008    35660.0      400.0   \n",
       "0.60        1.0      1.666667   -0.000053  -0.000024    22080.0      280.0   \n",
       "0.70        1.0      1.944444   -0.000254  -0.000135    12680.0      301.0   \n",
       "0.75        1.0      2.083333   -0.000428  -0.000283        NaN        NaN   \n",
       "\n",
       "                                error_frac_rot  \n",
       "temperature pressure temp_norm                  \n",
       "0.50        1.0      1.388889         0.008840  \n",
       "0.55        1.0      1.527778         0.011217  \n",
       "0.60        1.0      1.666667         0.012681  \n",
       "0.70        1.0      1.944444         0.023738  \n",
       "0.75        1.0      2.083333              NaN  "
      ]
     },
     "execution_count": 9,
     "metadata": {},
     "output_type": "execute_result"
    }
   ],
   "source": [
    "all_df = melt_df.reset_index(\"temp_norm\").join(rot_df, lsuffix=\"_melt\", rsuffix=\"_rot\").set_index('temp_norm', append=True)\n",
    "all_df.head()"
   ]
  },
  {
   "cell_type": "code",
   "execution_count": 10,
   "metadata": {},
   "outputs": [],
   "source": [
    "value = all_df[\"value_melt\"] * all_df[\"value_rot\"]\n",
    "err_frac = all_df[\"error_frac_melt\"].abs() + all_df[\"error_frac_rot\"].abs()\n",
    "error = value * err_frac\n",
    "\n",
    "melt_values = pandas.DataFrame({\n",
    "    \"value\": value,\n",
    "    \"error_min\": value - 2 * error,\n",
    "    \"error_max\": value + 2 * error,\n",
    "})"
   ]
  },
  {
   "cell_type": "markdown",
   "metadata": {},
   "source": [
    "With the errors combined we get the resulting figure,\n",
    "now including the errors in the measurement."
   ]
  },
  {
   "cell_type": "code",
   "execution_count": 11,
   "metadata": {},
   "outputs": [
    {
     "data": {
      "application/vnd.vegalite.v2+json": {
       "$schema": "https://vega.github.io/schema/vega-lite/v2.6.0.json",
       "config": {
        "axis": {
         "grid": false
        },
        "view": {
         "height": 400,
         "width": 600
        }
       },
       "data": {
        "name": "data-fa20cdf447e4c458ee8b2da47b624f63"
       },
       "datasets": {
        "data-fa20cdf447e4c458ee8b2da47b624f63": [
         {
          "error_max": -0.20505986499541734,
          "error_min": -0.06737724807191575,
          "pressure": 1,
          "temp_norm": 1.3888888888888888,
          "temperature": 0.5,
          "value": -0.13621855653366655
         },
         {
          "error_max": -0.681659188439879,
          "error_min": -0.28483980598415576,
          "pressure": 1,
          "temp_norm": 1.527777777777778,
          "temperature": 0.55,
          "value": -0.4832494972120174
         },
         {
          "error_max": -1.1977484424279004,
          "error_min": -0.5080124240078653,
          "pressure": 1,
          "temp_norm": 1.6666666666666667,
          "temperature": 0.6,
          "value": -0.8528804332178828
         },
         {
          "error_max": -3.3405207747048418,
          "error_min": -1.5885430791756838,
          "pressure": 1,
          "temp_norm": 1.9444444444444444,
          "temperature": 0.7,
          "value": -2.464531926940263
         },
         {
          "error_max": null,
          "error_min": null,
          "pressure": 1,
          "temp_norm": 2.0833333333333335,
          "temperature": 0.75,
          "value": null
         },
         {
          "error_max": 0.7113426495336628,
          "error_min": -0.32168025857688876,
          "pressure": 13.5,
          "temp_norm": 1.1851851851851851,
          "temperature": 1.6,
          "value": 0.194831195478387
         },
         {
          "error_max": -0.35631471674562565,
          "error_min": 0.3307109550409717,
          "pressure": 13.5,
          "temp_norm": 1.3333333333333333,
          "temperature": 1.8,
          "value": -0.012801880852326952
         },
         {
          "error_max": -0.7390465844272239,
          "error_min": 0.029570118244997667,
          "pressure": 13.5,
          "temp_norm": 1.4814814814814814,
          "temperature": 2,
          "value": -0.35473823309111313
         },
         {
          "error_max": -2.4598050586033797,
          "error_min": -1.0905072749605438,
          "pressure": 13.5,
          "temp_norm": 1.8518518518518516,
          "temperature": 2.5,
          "value": -1.7751561667819618
         },
         {
          "error_max": null,
          "error_min": null,
          "pressure": 13.5,
          "temp_norm": 2.222222222222222,
          "temperature": 3,
          "value": null
         }
        ]
       },
       "layer": [
        {
         "layer": [
          {
           "data": {
            "name": "data-fa20cdf447e4c458ee8b2da47b624f63"
           },
           "encoding": {
            "color": {
             "field": "pressure",
             "title": "Pressure",
             "type": "nominal"
            },
            "x": {
             "field": "temp_norm",
             "scale": {
              "zero": false
             },
             "title": "T/Tₘ",
             "type": "quantitative"
            },
            "y": {
             "field": "value",
             "title": "Rotational Relaxation × Melting Rate",
             "type": "quantitative"
            }
           },
           "mark": "point"
          },
          {
           "data": {
            "name": "data-fa20cdf447e4c458ee8b2da47b624f63"
           },
           "encoding": {
            "color": {
             "field": "pressure",
             "title": "Pressure",
             "type": "nominal"
            },
            "x": {
             "field": "temp_norm",
             "scale": {
              "zero": false
             },
             "title": "T/Tₘ",
             "type": "quantitative"
            },
            "y": {
             "field": "error_min",
             "type": "quantitative"
            },
            "y2": {
             "field": "error_max",
             "type": "quantitative"
            }
           },
           "mark": "rule"
          }
         ]
        },
        {
         "encoding": {
          "y": {
           "field": "val",
           "type": "quantitative"
          }
         },
         "mark": {
          "color": "grey",
          "type": "rule"
         }
        }
       ],
       "transform": [
        {
         "as": "val",
         "calculate": "0"
        }
       ]
      },
      "image/png": "[encoded data removed]",
      "text/plain": [
       "<VegaLite 2 object>\n",
       "\n",
       "If you see this message, it means the renderer has not been properly enabled\n",
       "for the frontend that you are using. For more information, see\n",
       "https://altair-viz.github.io/user_guide/troubleshooting.html\n"
      ]
     },
     "execution_count": 11,
     "metadata": {},
     "output_type": "execute_result"
    }
   ],
   "source": [
    "chart = alt.Chart(melt_values.reset_index()).encode(\n",
    "    x=alt.X(\"temp_norm\", title=\"T/Tₘ\", scale=alt.Scale(zero=False)),\n",
    "    color=alt.Color(\"pressure:N\", title=\"Pressure\"),\n",
    ")\n",
    "\n",
    "c = (\n",
    "    chart.mark_point().encode(y=alt.Y(\"value\", title=\"Rotational Relaxation × Melting Rate\")) +\n",
    "    chart.mark_rule().encode(y=\"error_min\", y2=\"error_max\")\n",
    ")\n",
    "\n",
    "c = figures.hline(c, 0)\n",
    "c"
   ]
  },
  {
   "cell_type": "code",
   "execution_count": 12,
   "metadata": {},
   "outputs": [],
   "source": [
    "c.save(\"../figures/normalised_melting_err.svg\", webdriver=\"firefox\")"
   ]
  },
  {
   "cell_type": "code",
   "execution_count": null,
   "metadata": {},
   "outputs": [],
   "source": []
  }
 ],
 "metadata": {
  "jupytext": {
   "formats": "ipynb,md"
  },
  "kernelspec": {
   "display_name": "crystal",
   "language": "python",
   "name": "crystal"
  },
  "language_info": {
   "codemirror_mode": {
    "name": "ipython",
    "version": 3
   },
   "file_extension": ".py",
   "mimetype": "text/x-python",
   "name": "python",
   "nbconvert_exporter": "python",
   "pygments_lexer": "ipython3",
   "version": "3.6.8"
  }
 },
 "nbformat": 4,
 "nbformat_minor": 2
}
