{
 "cells": [
  {
   "cell_type": "markdown",
   "metadata": {},
   "source": [
    "# Melting Uncertainties\n",
    "\n",
    "This aims to estimate the uncertainty of the crystal melting rates,\n",
    "combining the uncertainties of the dynamics and that of the rates calculation."
   ]
  },
  {
   "cell_type": "code",
   "execution_count": 1,
   "metadata": {},
   "outputs": [],
   "source": [
    "import pandas\n",
    "import uncertainties\n",
    "import altair as alt\n",
    "import numpy as np\n",
    "import scipy.optimize\n",
    "import uncertainties\n",
    "\n",
    "import sys\n",
    "sys.path.append(\"../src\")\n",
    "import figures\n",
    "\n",
    "figures.use_my_theme()"
   ]
  },
  {
   "cell_type": "markdown",
   "metadata": {},
   "source": [
    "## Error in Melting Rates\n",
    "\n",
    "The error of the melting rates will be calculated\n",
    "by taking the standard deviation of all the measurements"
   ]
  },
  {
   "cell_type": "code",
   "execution_count": 2,
   "metadata": {},
   "outputs": [],
   "source": [
    "with pandas.HDFStore('../data/analysis/melting_clean.h5') as store:\n",
    "    rates_df = store.get(\"rates\")"
   ]
  },
  {
   "cell_type": "code",
   "execution_count": 3,
   "metadata": {},
   "outputs": [],
   "source": [
    "rates_df[\"error_min\"] = rates_df[\"mean\"] - 2*rates_df[\"error\"]\n",
    "rates_df[\"error_max\"] = rates_df[\"mean\"] + 2*rates_df[\"error\"]"
   ]
  },
  {
   "cell_type": "code",
   "execution_count": 4,
   "metadata": {},
   "outputs": [
    {
     "data": {
      "application/vnd.vegalite.v2+json": {
       "$schema": "https://vega.github.io/schema/vega-lite/v2.6.0.json",
       "config": {
        "axis": {
         "grid": false
        },
        "view": {
         "height": 400,
         "width": 600
        }
       },
       "datasets": {
        "data-4224935086d5b2617c52ebe25375fd3c": [
         {
          "crystal": "p2",
          "error": 7.017079634294544e-10,
          "error_max": -2.4906983393760514e-08,
          "error_min": -2.7713815247478334e-08,
          "iter_id": 1,
          "mean": -2.6310399320619424e-08,
          "pressure": 1,
          "temp_norm": 1.1111111111111112,
          "temperature": 0.4
         },
         {
          "crystal": "p2",
          "error": 7.04912907279411e-10,
          "error_max": -1.9490116060316827e-08,
          "error_min": -2.2309767689434468e-08,
          "iter_id": 2,
          "mean": -2.0899941874875648e-08,
          "pressure": 1,
          "temp_norm": 1.1111111111111112,
          "temperature": 0.4
         },
         {
          "crystal": "p2",
          "error": 6.16349938737043e-10,
          "error_max": -1.667620001453527e-08,
          "error_min": -1.9141599769483443e-08,
          "iter_id": 3,
          "mean": -1.7908899892009357e-08,
          "pressure": 1,
          "temp_norm": 1.1111111111111112,
          "temperature": 0.4
         },
         {
          "crystal": "p2",
          "error": 5.785446662237049e-10,
          "error_max": -2.160189926489326e-08,
          "error_min": -2.3916077929788078e-08,
          "iter_id": 4,
          "mean": -2.275898859734067e-08,
          "pressure": 1,
          "temp_norm": 1.1111111111111112,
          "temperature": 0.4
         },
         {
          "crystal": "p2",
          "error": 5.603167007111362e-10,
          "error_max": -2.2160767529741103e-08,
          "error_min": -2.440203433258565e-08,
          "iter_id": 5,
          "mean": -2.3281400931163377e-08,
          "pressure": 1,
          "temp_norm": 1.1111111111111112,
          "temperature": 0.4
         },
         {
          "crystal": "p2",
          "error": 7.015223335508308e-09,
          "error_max": -5.262706812761297e-07,
          "error_min": -5.54331574618163e-07,
          "iter_id": 1,
          "mean": -5.403011279471463e-07,
          "pressure": 1,
          "temp_norm": 1.25,
          "temperature": 0.45
         },
         {
          "crystal": "p2",
          "error": 1.1795225377797825e-08,
          "error_max": -4.977269921184498e-07,
          "error_min": -5.449078936296412e-07,
          "iter_id": 2,
          "mean": -5.213174428740455e-07,
          "pressure": 1,
          "temp_norm": 1.25,
          "temperature": 0.45
         },
         {
          "crystal": "p2",
          "error": 9.126252212796073e-09,
          "error_max": -6.580395566992166e-07,
          "error_min": -6.945445655504008e-07,
          "iter_id": 3,
          "mean": -6.762920611248087e-07,
          "pressure": 1,
          "temp_norm": 1.25,
          "temperature": 0.45
         },
         {
          "crystal": "p2",
          "error": 8.853884277571911e-09,
          "error_max": -5.381719306959634e-07,
          "error_min": -5.735874678062509e-07,
          "iter_id": 4,
          "mean": -5.558796992511071e-07,
          "pressure": 1,
          "temp_norm": 1.25,
          "temperature": 0.45
         },
         {
          "crystal": "p2",
          "error": 1.0098857000314501e-08,
          "error_max": -5.98984343245078e-07,
          "error_min": -6.393797712463361e-07,
          "iter_id": 5,
          "mean": -6.191820572457071e-07,
          "pressure": 1,
          "temp_norm": 1.25,
          "temperature": 0.45
         },
         {
          "crystal": "p2",
          "error": 2.8091963141105008e-08,
          "error_max": -3.8406557251046625e-06,
          "error_min": -3.953023577669083e-06,
          "iter_id": 1,
          "mean": -3.896839651386873e-06,
          "pressure": 1,
          "temp_norm": 1.3888888888888888,
          "temperature": 0.5
         },
         {
          "crystal": "p2",
          "error": 2.7222848948642053e-08,
          "error_max": -3.219476510394221e-06,
          "error_min": -3.328367906188789e-06,
          "iter_id": 2,
          "mean": -3.273922208291505e-06,
          "pressure": 1,
          "temp_norm": 1.3888888888888888,
          "temperature": 0.5
         },
         {
          "crystal": "p2",
          "error": 2.9803163577171216e-08,
          "error_max": -4.099241023571532e-06,
          "error_min": -4.218453677880216e-06,
          "iter_id": 3,
          "mean": -4.158847350725874e-06,
          "pressure": 1,
          "temp_norm": 1.3888888888888888,
          "temperature": 0.5
         },
         {
          "crystal": "p2",
          "error": 2.4598968392057237e-08,
          "error_max": -4.182136907682807e-06,
          "error_min": -4.280532781251035e-06,
          "iter_id": 4,
          "mean": -4.231334844466921e-06,
          "pressure": 1,
          "temp_norm": 1.3888888888888888,
          "temperature": 0.5
         },
         {
          "crystal": "p2",
          "error": 3.649119238469296e-08,
          "error_max": -3.7109786333520138e-06,
          "error_min": -3.8569434028907856e-06,
          "iter_id": 5,
          "mean": -3.7839610181213997e-06,
          "pressure": 1,
          "temp_norm": 1.3888888888888888,
          "temperature": 0.5
         },
         {
          "crystal": "p2",
          "error": 1.0826505857851275e-07,
          "error_max": -1.695817685419848e-05,
          "error_min": -1.7391237088512532e-05,
          "iter_id": 1,
          "mean": -1.7174706971355507e-05,
          "pressure": 1,
          "temp_norm": 1.527777777777778,
          "temperature": 0.55
         },
         {
          "crystal": "p2",
          "error": 9.617441016120334e-08,
          "error_max": -2.0636221372054636e-05,
          "error_min": -2.102091901269945e-05,
          "iter_id": 2,
          "mean": -2.0828570192377043e-05,
          "pressure": 1,
          "temp_norm": 1.527777777777778,
          "temperature": 0.55
         },
         {
          "crystal": "p2",
          "error": 1.056210704154726e-07,
          "error_max": -1.8643868654051183e-05,
          "error_min": -1.906635293571307e-05,
          "iter_id": 3,
          "mean": -1.8855110794882127e-05,
          "pressure": 1,
          "temp_norm": 1.527777777777778,
          "temperature": 0.55
         },
         {
          "crystal": "p2",
          "error": 1.2900347673862574e-07,
          "error_max": -1.8871718388097168e-05,
          "error_min": -1.9387732295051674e-05,
          "iter_id": 4,
          "mean": -1.912972534157442e-05,
          "pressure": 1,
          "temp_norm": 1.527777777777778,
          "temperature": 0.55
         },
         {
          "crystal": "p2",
          "error": 8.693059985494674e-08,
          "error_max": -1.8025022540658255e-05,
          "error_min": -1.837274494007804e-05,
          "iter_id": 5,
          "mean": -1.8198883740368148e-05,
          "pressure": 1,
          "temp_norm": 1.527777777777778,
          "temperature": 0.55
         },
         {
          "crystal": "p2",
          "error": 3.8958621391516305e-07,
          "error_max": -6.612388599740735e-05,
          "error_min": -6.7682230853068e-05,
          "iter_id": 1,
          "mean": -6.690305842523768e-05,
          "pressure": 1,
          "temp_norm": 1.6666666666666667,
          "temperature": 0.6
         },
         {
          "crystal": "p2",
          "error": 7.556952951857012e-07,
          "error_max": -6.732833798915637e-05,
          "error_min": -7.035111916989917e-05,
          "iter_id": 2,
          "mean": -6.883972857952777e-05,
          "pressure": 1,
          "temp_norm": 1.6666666666666667,
          "temperature": 0.6
         },
         {
          "crystal": "p2",
          "error": 8.544232881186537e-07,
          "error_max": -6.52682313615279e-05,
          "error_min": -6.868592451400253e-05,
          "iter_id": 3,
          "mean": -6.697707793776522e-05,
          "pressure": 1,
          "temp_norm": 1.6666666666666667,
          "temperature": 0.6
         },
         {
          "crystal": "p2",
          "error": 3.2800353374125714e-07,
          "error_max": -6.92949536567874e-05,
          "error_min": -7.060696779175244e-05,
          "iter_id": 4,
          "mean": -6.995096072426992e-05,
          "pressure": 1,
          "temp_norm": 1.6666666666666667,
          "temperature": 0.6
         },
         {
          "crystal": "p2",
          "error": 6.001450252666378e-07,
          "error_max": -6.114545165950278e-05,
          "error_min": -6.354603176056933e-05,
          "iter_id": 5,
          "mean": -6.234574171003605e-05,
          "pressure": 1,
          "temp_norm": 1.6666666666666667,
          "temperature": 0.6
         },
         {
          "crystal": "p2",
          "error": 4.204450882901035e-06,
          "error_max": -0.0003276600207381763,
          "error_min": -0.0003444778242697804,
          "iter_id": 1,
          "mean": -0.00033606892250397834,
          "pressure": 1,
          "temp_norm": 1.9444444444444444,
          "temperature": 0.7
         },
         {
          "crystal": "p2",
          "error": 5.432838214287425e-06,
          "error_max": -0.00030915944027870687,
          "error_min": -0.0003308907931358566,
          "iter_id": 2,
          "mean": -0.00032002511670728174,
          "pressure": 1,
          "temp_norm": 1.9444444444444444,
          "temperature": 0.7
         },
         {
          "crystal": "p2",
          "error": 4.250428073423083e-06,
          "error_max": -0.000317678247270321,
          "error_min": -0.0003346799595640133,
          "iter_id": 3,
          "mean": -0.00032617910341716715,
          "pressure": 1,
          "temp_norm": 1.9444444444444444,
          "temperature": 0.7
         },
         {
          "crystal": "p2",
          "error": 5.12512236135291e-06,
          "error_max": -0.0003207598556100898,
          "error_min": -0.0003412603450555014,
          "iter_id": 4,
          "mean": -0.0003310101003327956,
          "pressure": 1,
          "temp_norm": 1.9444444444444444,
          "temperature": 0.7
         },
         {
          "crystal": "p2",
          "error": 5.368417702863325e-06,
          "error_max": -0.00036086946480488576,
          "error_min": -0.00038234313561633906,
          "iter_id": 5,
          "mean": -0.0003716063002106124,
          "pressure": 1,
          "temp_norm": 1.9444444444444444,
          "temperature": 0.7
         },
         {
          "crystal": "p2",
          "error": 6.723850709514471e-06,
          "error_max": -0.0005330092055509526,
          "error_min": -0.0005599046083890106,
          "iter_id": 1,
          "mean": -0.0005464569069699816,
          "pressure": 1,
          "temp_norm": 2.0833333333333335,
          "temperature": 0.75
         },
         {
          "crystal": "p2",
          "error": 7.56775069299813e-06,
          "error_max": -0.0005891931622375755,
          "error_min": -0.0006194641650095681,
          "iter_id": 2,
          "mean": -0.0006043286636235718,
          "pressure": 1,
          "temp_norm": 2.0833333333333335,
          "temperature": 0.75
         },
         {
          "crystal": "p2",
          "error": 1.024410012382487e-05,
          "error_max": -0.0005597348593189835,
          "error_min": -0.000600711259814283,
          "iter_id": 3,
          "mean": -0.0005802230595666332,
          "pressure": 1,
          "temp_norm": 2.0833333333333335,
          "temperature": 0.75
         },
         {
          "crystal": "p2",
          "error": 6.002331139418143e-06,
          "error_max": -0.0004857086685468781,
          "error_min": -0.0005097179931045507,
          "iter_id": 4,
          "mean": -0.0004977133308257144,
          "pressure": 1,
          "temp_norm": 2.0833333333333335,
          "temperature": 0.75
         },
         {
          "crystal": "p2",
          "error": 7.0142123851386305e-06,
          "error_max": -0.000546217900825967,
          "error_min": -0.0005742747503665215,
          "iter_id": 5,
          "mean": -0.0005602463255962442,
          "pressure": 1,
          "temp_norm": 2.0833333333333335,
          "temperature": 0.75
         },
         {
          "crystal": "p2",
          "error": 7.194859720318325e-10,
          "error_max": -7.610101020572595e-10,
          "error_min": -3.6389539901845894e-09,
          "iter_id": 1,
          "mean": -2.1999820461209244e-09,
          "pressure": 13.5,
          "temp_norm": 1.037037037037037,
          "temperature": 1.4
         },
         {
          "crystal": "p2",
          "error": 6.010643826522557e-10,
          "error_max": -1.4012808929738419e-09,
          "error_min": -3.805538423582865e-09,
          "iter_id": 2,
          "mean": -2.6034096582783534e-09,
          "pressure": 13.5,
          "temp_norm": 1.037037037037037,
          "temperature": 1.4
         },
         {
          "crystal": "p2",
          "error": 6.217213384809022e-10,
          "error_max": -5.814650157531374e-09,
          "error_min": -8.301535511454982e-09,
          "iter_id": 3,
          "mean": -7.0580928344931785e-09,
          "pressure": 13.5,
          "temp_norm": 1.037037037037037,
          "temperature": 1.4
         },
         {
          "crystal": "p2",
          "error": 5.753732304826201e-10,
          "error_max": 1.4597635611034214e-09,
          "error_min": -8.417293608270591e-10,
          "iter_id": 4,
          "mean": 3.090171001381812e-10,
          "pressure": 13.5,
          "temp_norm": 1.037037037037037,
          "temperature": 1.4
         },
         {
          "crystal": "p2",
          "error": 8.066052875399335e-10,
          "error_max": -8.13528690288397e-09,
          "error_min": -1.1361708053043705e-08,
          "iter_id": 5,
          "mean": -9.748497477963838e-09,
          "pressure": 13.5,
          "temp_norm": 1.037037037037037,
          "temperature": 1.4
         },
         {
          "crystal": "p2",
          "error": 1.0422497105722309e-09,
          "error_max": -2.9005407485223917e-08,
          "error_min": -3.317440632751284e-08,
          "iter_id": 1,
          "mean": -3.108990690636838e-08,
          "pressure": 13.5,
          "temp_norm": 1.111111111111111,
          "temperature": 1.5
         },
         {
          "crystal": "p2",
          "error": 1.0317099166692204e-09,
          "error_max": -2.8601832546707698e-08,
          "error_min": -3.272867221338458e-08,
          "iter_id": 2,
          "mean": -3.066525238004614e-08,
          "pressure": 13.5,
          "temp_norm": 1.111111111111111,
          "temperature": 1.5
         },
         {
          "crystal": "p2",
          "error": 1.1428455332072135e-09,
          "error_max": -3.0598428980583174e-08,
          "error_min": -3.5169811113412026e-08,
          "iter_id": 3,
          "mean": -3.28841200469976e-08,
          "pressure": 13.5,
          "temp_norm": 1.111111111111111,
          "temperature": 1.5
         },
         {
          "crystal": "p2",
          "error": 1.3204361222221282e-09,
          "error_max": -3.174667527161878e-08,
          "error_min": -3.702841976050729e-08,
          "iter_id": 4,
          "mean": -3.4387547516063036e-08,
          "pressure": 13.5,
          "temp_norm": 1.111111111111111,
          "temperature": 1.5
         },
         {
          "crystal": "p2",
          "error": 1.1025138026635008e-09,
          "error_max": -2.9234443351056654e-08,
          "error_min": -3.364449856171066e-08,
          "iter_id": 5,
          "mean": -3.1439470956383655e-08,
          "pressure": 13.5,
          "temp_norm": 1.111111111111111,
          "temperature": 1.5
         },
         {
          "crystal": "p2",
          "error": 1.9227335710110986e-08,
          "error_max": -2.1765144587345783e-07,
          "error_min": -2.9456078871390177e-07,
          "iter_id": 1,
          "mean": -2.561061172936798e-07,
          "pressure": 13.5,
          "temp_norm": 1.1851851851851851,
          "temperature": 1.6
         },
         {
          "crystal": "p2",
          "error": 1.838170514562756e-08,
          "error_max": -3.4531192126966e-07,
          "error_min": -4.188387418521703e-07,
          "iter_id": 2,
          "mean": -3.8207533156091517e-07,
          "pressure": 13.5,
          "temp_norm": 1.1851851851851851,
          "temperature": 1.6
         },
         {
          "crystal": "p2",
          "error": 2.026061781983869e-08,
          "error_max": 1.4565803862773207e-07,
          "error_min": 6.46155673483773e-08,
          "iter_id": 3,
          "mean": 1.0513680298805468e-07,
          "pressure": 13.5,
          "temp_norm": 1.1851851851851851,
          "temperature": 1.6
         },
         {
          "crystal": "p2",
          "error": 2.099934047815182e-08,
          "error_max": -1.2976764728646074e-07,
          "error_min": -2.1376500919906803e-07,
          "iter_id": 4,
          "mean": -1.7176632824276438e-07,
          "pressure": 13.5,
          "temp_norm": 1.1851851851851851,
          "temperature": 1.6
         },
         {
          "crystal": "p2",
          "error": 2.010956690464382e-08,
          "error_max": 1.0621112848983866e-07,
          "error_min": 2.577286087126338e-08,
          "iter_id": 5,
          "mean": 6.599199468055102e-08,
          "pressure": 13.5,
          "temp_norm": 1.1851851851851851,
          "temperature": 1.6
         },
         {
          "crystal": "p2",
          "error": 3.8628791216643345e-08,
          "error_max": -2.0247744805935853e-06,
          "error_min": -2.1792896454601588e-06,
          "iter_id": 1,
          "mean": -2.102032063026872e-06,
          "pressure": 13.5,
          "temp_norm": 1.3333333333333333,
          "temperature": 1.8
         },
         {
          "crystal": "p2",
          "error": 4.0483585262920976e-08,
          "error_max": -1.0653158917555095e-06,
          "error_min": -1.2272502328071934e-06,
          "iter_id": 2,
          "mean": -1.1462830622813514e-06,
          "pressure": 13.5,
          "temp_norm": 1.3333333333333333,
          "temperature": 1.8
         },
         {
          "crystal": "p2",
          "error": 3.712252348351227e-08,
          "error_max": -1.419010757850817e-06,
          "error_min": -1.5675008517848659e-06,
          "iter_id": 3,
          "mean": -1.4932558048178414e-06,
          "pressure": 13.5,
          "temp_norm": 1.3333333333333333,
          "temperature": 1.8
         },
         {
          "crystal": "p2",
          "error": 4.27011332755408e-08,
          "error_max": -1.6320562180824413e-06,
          "error_min": -1.8028607511846044e-06,
          "iter_id": 4,
          "mean": -1.7174584846335229e-06,
          "pressure": 13.5,
          "temp_norm": 1.3333333333333333,
          "temperature": 1.8
         },
         {
          "crystal": "p2",
          "error": 4.092918300739051e-08,
          "error_max": -9.8107919529996e-07,
          "error_min": -1.1447959273295223e-06,
          "iter_id": 5,
          "mean": -1.0629375613147411e-06,
          "pressure": 13.5,
          "temp_norm": 1.3333333333333333,
          "temperature": 1.8
         },
         {
          "crystal": "p2",
          "error": 1.1297206892927734e-07,
          "error_max": -7.253240361181427e-06,
          "error_min": -7.705128636898537e-06,
          "iter_id": 1,
          "mean": -7.479184499039982e-06,
          "pressure": 13.5,
          "temp_norm": 1.4814814814814814,
          "temperature": 2
         },
         {
          "crystal": "p2",
          "error": 9.118760552680022e-08,
          "error_max": -6.701467586677097e-06,
          "error_min": -7.066218008784298e-06,
          "iter_id": 2,
          "mean": -6.883842797730697e-06,
          "pressure": 13.5,
          "temp_norm": 1.4814814814814814,
          "temperature": 2
         },
         {
          "crystal": "p2",
          "error": 9.938475259911164e-08,
          "error_max": -7.555408330215326e-06,
          "error_min": -7.952947340611772e-06,
          "iter_id": 3,
          "mean": -7.754177835413549e-06,
          "pressure": 13.5,
          "temp_norm": 1.4814814814814814,
          "temperature": 2
         },
         {
          "crystal": "p2",
          "error": 9.391434674218004e-08,
          "error_max": -5.482536182780285e-06,
          "error_min": -5.858193569749006e-06,
          "iter_id": 4,
          "mean": -5.670364876264645e-06,
          "pressure": 13.5,
          "temp_norm": 1.4814814814814814,
          "temperature": 2
         },
         {
          "crystal": "p2",
          "error": 9.588181675924856e-08,
          "error_max": -7.537552858442929e-06,
          "error_min": -7.921080125479923e-06,
          "iter_id": 5,
          "mean": -7.729316491961426e-06,
          "pressure": 13.5,
          "temp_norm": 1.4814814814814814,
          "temperature": 2
         },
         {
          "crystal": "p2",
          "error": 1.5362228641687297e-06,
          "error_max": -0.00015717892875113015,
          "error_min": -0.0001633238202078051,
          "iter_id": 1,
          "mean": -0.00016025137447946763,
          "pressure": 13.5,
          "temp_norm": 1.8518518518518516,
          "temperature": 2.5
         },
         {
          "crystal": "p2",
          "error": 2.3012807964768597e-06,
          "error_max": -0.00014315070947293522,
          "error_min": -0.00015235583265884263,
          "iter_id": 2,
          "mean": -0.00014775327106588893,
          "pressure": 13.5,
          "temp_norm": 1.8518518518518516,
          "temperature": 2.5
         },
         {
          "crystal": "p2",
          "error": 2.867279486413438e-06,
          "error_max": -0.00016200316486406936,
          "error_min": -0.0001734722828097231,
          "iter_id": 3,
          "mean": -0.00016773772383689623,
          "pressure": 13.5,
          "temp_norm": 1.8518518518518516,
          "temperature": 2.5
         },
         {
          "crystal": "p2",
          "error": 2.4577637309983947e-06,
          "error_max": -0.00016973354818484453,
          "error_min": -0.00017956460310883813,
          "iter_id": 4,
          "mean": -0.00017464907564684133,
          "pressure": 13.5,
          "temp_norm": 1.8518518518518516,
          "temperature": 2.5
         },
         {
          "crystal": "p2",
          "error": 1.5630452870151333e-06,
          "error_max": -0.0001542458731068299,
          "error_min": -0.00016049805425489042,
          "iter_id": 5,
          "mean": -0.00015737196368086016,
          "pressure": 13.5,
          "temp_norm": 1.8518518518518516,
          "temperature": 2.5
         },
         {
          "crystal": "p2",
          "error": 1.060975728251015e-05,
          "error_max": -0.0006809365891747962,
          "error_min": -0.0007233756183048369,
          "iter_id": 1,
          "mean": -0.0007021561037398165,
          "pressure": 13.5,
          "temp_norm": 2.222222222222222,
          "temperature": 3
         },
         {
          "crystal": "p2",
          "error": 7.2195262023484686e-06,
          "error_max": -0.0006990808417181273,
          "error_min": -0.0007279589465275211,
          "iter_id": 2,
          "mean": -0.0007135198941228242,
          "pressure": 13.5,
          "temp_norm": 2.222222222222222,
          "temperature": 3
         },
         {
          "crystal": "p2",
          "error": 1.8256309562885463e-05,
          "error_max": -0.0007338508120013505,
          "error_min": -0.0008068760502528922,
          "iter_id": 3,
          "mean": -0.0007703634311271213,
          "pressure": 13.5,
          "temp_norm": 2.222222222222222,
          "temperature": 3
         },
         {
          "crystal": "p2",
          "error": 7.076601504321934e-06,
          "error_max": -0.0006293643337647934,
          "error_min": -0.0006576707397820811,
          "iter_id": 4,
          "mean": -0.0006435175367734372,
          "pressure": 13.5,
          "temp_norm": 2.222222222222222,
          "temperature": 3
         },
         {
          "crystal": "p2",
          "error": 1.3892301999563053e-05,
          "error_max": -0.0006789085628764969,
          "error_min": -0.0007344777708747491,
          "iter_id": 5,
          "mean": -0.000706693166875623,
          "pressure": 13.5,
          "temp_norm": 2.222222222222222,
          "temperature": 3
         }
        ]
       },
       "layer": [
        {
         "data": {
          "name": "data-4224935086d5b2617c52ebe25375fd3c"
         },
         "encoding": {
          "color": {
           "field": "pressure",
           "type": "nominal"
          },
          "x": {
           "field": "temp_norm",
           "scale": {
            "zero": false
           },
           "type": "quantitative"
          },
          "y": {
           "field": "mean",
           "scale": {
            "type": "linear"
           },
           "type": "quantitative"
          }
         },
         "mark": "point"
        },
        {
         "data": {
          "name": "data-4224935086d5b2617c52ebe25375fd3c"
         },
         "encoding": {
          "color": {
           "field": "pressure",
           "type": "nominal"
          },
          "x": {
           "field": "temp_norm",
           "scale": {
            "zero": false
           },
           "type": "quantitative"
          },
          "y": {
           "field": "error_min",
           "type": "quantitative"
          },
          "y2": {
           "field": "error_max",
           "type": "quantitative"
          }
         },
         "mark": "rule"
        }
       ]
      },
      "image/png": "[encoded data removed]",
      "text/plain": [
       "<VegaLite 2 object>\n",
       "\n",
       "If you see this message, it means the renderer has not been properly enabled\n",
       "for the frontend that you are using. For more information, see\n",
       "https://altair-viz.github.io/user_guide/troubleshooting.html\n"
      ]
     },
     "execution_count": 4,
     "metadata": {},
     "output_type": "execute_result"
    }
   ],
   "source": [
    "chart = alt.Chart(rates_df).encode(\n",
    "    x=alt.X(\"temp_norm\", scale=alt.Scale(zero=False)),\n",
    "    y=alt.Y('mean', scale=alt.Scale(type='linear')),\n",
    "    color=\"pressure:N\",\n",
    "    \n",
    ")\n",
    "\n",
    "chart.mark_point() + chart.mark_rule().encode(y=\"error_min\", y2=\"error_max\")"
   ]
  },
  {
   "cell_type": "code",
   "execution_count": 5,
   "metadata": {},
   "outputs": [],
   "source": [
    "melt_value = rates_df.groupby([\"temperature\",\"pressure\", \"temp_norm\"])[\"mean\"].mean()\n",
    "melt_err = rates_df.groupby([\"temperature\", \"pressure\", \"temp_norm\"])[\"mean\"].sem()\n",
    "melt_frac_err = melt_err / melt_value\n",
    "melt_df = pandas.DataFrame({\n",
    "    \"value\": melt_value,\n",
    "    \"error\": melt_err,\n",
    "    \"error_frac\": melt_frac_err,\n",
    "    \"error_min\": melt_value - 2 * melt_err,\n",
    "    \"error_max\": melt_value + 2 * melt_err,\n",
    "})"
   ]
  },
  {
   "cell_type": "code",
   "execution_count": 6,
   "metadata": {},
   "outputs": [
    {
     "data": {
      "application/vnd.vegalite.v2+json": {
       "$schema": "https://vega.github.io/schema/vega-lite/v2.6.0.json",
       "config": {
        "axis": {
         "grid": false
        },
        "view": {
         "height": 400,
         "width": 600
        }
       },
       "data": {
        "name": "data-50be76e11ca642656c43ba138369880e"
       },
       "datasets": {
        "data-50be76e11ca642656c43ba138369880e": [
         {
          "error": 1.3870088983062123e-09,
          "error_frac": -0.062388157041359596,
          "error_max": -1.945790832658927e-08,
          "error_min": -2.500594391981412e-08,
          "pressure": 1,
          "temp_norm": 1.1111111111111112,
          "temperature": 0.4,
          "value": -2.2231926123201696e-08
         },
         {
          "error": 2.861395632782568e-08,
          "error_frac": -0.04911470572352699,
          "error_max": -5.253665650329116e-07,
          "error_min": -6.398223903442143e-07,
          "pressure": 1,
          "temp_norm": 1.25,
          "temperature": 0.45,
          "value": -5.82594477688563e-07
         },
         {
          "error": 1.699150195315881e-07,
          "error_frac": -0.0439172533776882,
          "error_max": -3.5291509755353377e-06,
          "error_min": -4.20881105366169e-06,
          "pressure": 1,
          "temp_norm": 1.3888888888888888,
          "temperature": 0.5,
          "value": -3.868981014598514e-06
         },
         {
          "error": 6.009483186559506e-07,
          "error_frac": -0.031901872739247654,
          "error_max": -1.7635502770799548e-05,
          "error_min": -2.003929604542335e-05,
          "pressure": 1,
          "temp_norm": 1.527777777777778,
          "temperature": 0.55,
          "value": -1.883739940811145e-05
         },
         {
          "error": 1.2993221091490831e-06,
          "error_frac": -0.01939190827669676,
          "error_max": -6.440466925706916e-05,
          "error_min": -6.960195769366549e-05,
          "pressure": 1,
          "temp_norm": 1.6666666666666667,
          "temperature": 0.6,
          "value": -6.700331347536732e-05
         },
         {
          "error": 9.054219577383235e-06,
          "error_frac": -0.026868881743839723,
          "error_max": -0.0003188694694796006,
          "error_min": -0.0003550863477891335,
          "pressure": 1,
          "temp_norm": 1.9444444444444444,
          "temperature": 0.7,
          "value": -0.00033697790863436704
         },
         {
          "error": 1.790637877775213e-05,
          "error_frac": -0.03210215559621194,
          "error_max": -0.0005219808997609247,
          "error_min": -0.0005936064148719334,
          "pressure": 1,
          "temp_norm": 2.0833333333333335,
          "temperature": 0.75,
          "value": -0.000557793657316429
         },
         {
          "error": 1.8140674006468078e-09,
          "error_frac": -0.4258181278968805,
          "error_max": -6.320581820500077e-10,
          "error_min": -7.888327784637239e-09,
          "pressure": 13.5,
          "temp_norm": 1.037037037037037,
          "temperature": 1.4,
          "value": -4.260192983343623e-09
         },
         {
          "error": 6.841994638626221e-10,
          "error_frac": -0.02131910168110207,
          "error_max": -3.0724860633446516e-08,
          "error_min": -3.346165848889701e-08,
          "pressure": 13.5,
          "temp_norm": 1.111111111111111,
          "temperature": 1.5,
          "value": -3.209325956117176e-08
         },
         {
          "error": 9.350570218692987e-08,
          "error_frac": -0.7318638393504273,
          "error_max": 5.924760848810899e-08,
          "error_min": -3.147752002596105e-07,
          "pressure": 13.5,
          "temp_norm": 1.1851851851851851,
          "temperature": 1.6,
          "value": -1.2776379588575075e-07
         },
         {
          "error": 1.9050183980097785e-07,
          "error_frac": -0.12663033512837865,
          "error_max": -1.12338971561291e-06,
          "error_min": -1.8853970748168216e-06,
          "pressure": 13.5,
          "temp_norm": 1.3333333333333333,
          "temperature": 1.8,
          "value": -1.5043933952148658e-06
         },
         {
          "error": 3.910429812721785e-07,
          "error_frac": -0.05505029012997254,
          "error_max": -6.3212913375377035e-06,
          "error_min": -7.885463262626417e-06,
          "pressure": 13.5,
          "temp_norm": 1.4814814814814814,
          "temperature": 2,
          "value": -7.10337730008206e-06
         },
         {
          "error": 4.57911464222415e-06,
          "error_frac": -0.028344405012955872,
          "error_max": -0.00015239445245754255,
          "error_min": -0.00017071091102643915,
          "pressure": 13.5,
          "temp_norm": 1.8518518518518516,
          "temperature": 2.5,
          "value": -0.00016155268174199085
         },
         {
          "error": 2.0137901420094506e-05,
          "error_frac": -0.02847352515341893,
          "error_max": -0.0006669742236875755,
          "error_min": -0.0007475258293679534,
          "pressure": 13.5,
          "temp_norm": 2.222222222222222,
          "temperature": 3,
          "value": -0.0007072500265277644
         }
        ]
       },
       "layer": [
        {
         "layer": [
          {
           "data": {
            "name": "data-50be76e11ca642656c43ba138369880e"
           },
           "encoding": {
            "color": {
             "field": "pressure",
             "title": "Pressure",
             "type": "nominal"
            },
            "x": {
             "field": "temp_norm",
             "scale": {
              "zero": false
             },
             "title": "T/Tₘ",
             "type": "quantitative"
            },
            "y": {
             "axis": {
              "format": "e"
             },
             "field": "value",
             "title": "Melting Rate",
             "type": "quantitative"
            }
           },
           "mark": "point"
          },
          {
           "data": {
            "name": "data-50be76e11ca642656c43ba138369880e"
           },
           "encoding": {
            "color": {
             "field": "pressure",
             "title": "Pressure",
             "type": "nominal"
            },
            "x": {
             "field": "temp_norm",
             "scale": {
              "zero": false
             },
             "title": "T/Tₘ",
             "type": "quantitative"
            },
            "y": {
             "field": "error_min",
             "type": "quantitative"
            },
            "y2": {
             "field": "error_max",
             "type": "quantitative"
            }
           },
           "mark": "rule"
          }
         ]
        },
        {
         "encoding": {
          "y": {
           "field": "val",
           "type": "quantitative"
          }
         },
         "mark": {
          "color": "grey",
          "type": "rule"
         }
        }
       ],
       "transform": [
        {
         "as": "val",
         "calculate": "0"
        }
       ]
      },
      "image/png": "[encoded data removed]",
      "text/plain": [
       "<VegaLite 2 object>\n",
       "\n",
       "If you see this message, it means the renderer has not been properly enabled\n",
       "for the frontend that you are using. For more information, see\n",
       "https://altair-viz.github.io/user_guide/troubleshooting.html\n"
      ]
     },
     "execution_count": 6,
     "metadata": {},
     "output_type": "execute_result"
    }
   ],
   "source": [
    "chart = alt.Chart(melt_df.reset_index()).encode(\n",
    "    x=alt.X(\"temp_norm\", title=\"T/Tₘ\", scale=alt.Scale(zero=False)),\n",
    "    color=alt.Color(\"pressure:N\", title=\"Pressure\"),\n",
    ")\n",
    "\n",
    "chart = (\n",
    "    chart.mark_point().encode(\n",
    "        y=alt.Y(\n",
    "            \"value\", \n",
    "            title=\"Melting Rate\", \n",
    "            axis=alt.Axis(format='e'),\n",
    "        )\n",
    "    ) +\n",
    "    chart.mark_rule().encode(\n",
    "        y=\"error_min\", \n",
    "        y2=\"error_max\"\n",
    "    )\n",
    ")\n",
    "\n",
    "chart = figures.hline(chart, 0)\n",
    "chart"
   ]
  },
  {
   "cell_type": "code",
   "execution_count": 7,
   "metadata": {},
   "outputs": [],
   "source": [
    "chart.save(\"../figures/growth_rates_err.svg\", webdriver=\"firefox\")"
   ]
  },
  {
   "cell_type": "code",
   "execution_count": 8,
   "metadata": {},
   "outputs": [],
   "source": [
    "mean = rates_df.groupby([\"temperature\",\"pressure\", \"temp_norm\"])[\"mean\"].mean()\n",
    "err = rates_df.groupby([\"temperature\", \"pressure\", \"temp_norm\"])[\"mean\"].std()"
   ]
  },
  {
   "cell_type": "markdown",
   "metadata": {},
   "source": [
    "## Error in Rotational Relaxation"
   ]
  },
  {
   "cell_type": "code",
   "execution_count": 9,
   "metadata": {},
   "outputs": [],
   "source": [
    "with pandas.HDFStore('../data/analysis/dynamics_clean_agg.h5') as store:\n",
    "    relax_df = store.get(\"relaxations\")"
   ]
  },
  {
   "cell_type": "code",
   "execution_count": 10,
   "metadata": {},
   "outputs": [],
   "source": [
    "rot_value = relax_df.groupby([\"temperature\", \"pressure\"])[\"rot2_value\"].mean()\n",
    "rot_err = np.maximum((relax_df[\"rot2_value\"] - relax_df[\"rot2_lower\"]).values, (relax_df[\"rot2_upper\"] - relax_df[\"rot2_value\"]).values)\n",
    "rot_frac_err = rot_err / rot_value\n",
    "\n",
    "rot_df = pandas.DataFrame({\n",
    "    \"value\": rot_value,\n",
    "    \"error\": rot_err,\n",
    "    \"error_frac\": rot_frac_err,\n",
    "})"
   ]
  },
  {
   "cell_type": "code",
   "execution_count": 11,
   "metadata": {},
   "outputs": [
    {
     "data": {
      "text/html": [
       "<div>\n",
       "<style scoped>\n",
       "    .dataframe tbody tr th:only-of-type {\n",
       "        vertical-align: middle;\n",
       "    }\n",
       "\n",
       "    .dataframe tbody tr th {\n",
       "        vertical-align: top;\n",
       "    }\n",
       "\n",
       "    .dataframe thead th {\n",
       "        text-align: right;\n",
       "    }\n",
       "</style>\n",
       "<table border=\"1\" class=\"dataframe\">\n",
       "  <thead>\n",
       "    <tr style=\"text-align: right;\">\n",
       "      <th></th>\n",
       "      <th></th>\n",
       "      <th></th>\n",
       "      <th>value_melt</th>\n",
       "      <th>error_melt</th>\n",
       "      <th>error_frac_melt</th>\n",
       "      <th>error_min</th>\n",
       "      <th>error_max</th>\n",
       "      <th>value_rot</th>\n",
       "      <th>error_rot</th>\n",
       "      <th>error_frac_rot</th>\n",
       "    </tr>\n",
       "    <tr>\n",
       "      <th>temperature</th>\n",
       "      <th>pressure</th>\n",
       "      <th>temp_norm</th>\n",
       "      <th></th>\n",
       "      <th></th>\n",
       "      <th></th>\n",
       "      <th></th>\n",
       "      <th></th>\n",
       "      <th></th>\n",
       "      <th></th>\n",
       "      <th></th>\n",
       "    </tr>\n",
       "  </thead>\n",
       "  <tbody>\n",
       "    <tr>\n",
       "      <th>0.40</th>\n",
       "      <th>1.0</th>\n",
       "      <th>1.111111</th>\n",
       "      <td>-2.223193e-08</td>\n",
       "      <td>1.387009e-09</td>\n",
       "      <td>-0.062388</td>\n",
       "      <td>-2.500594e-08</td>\n",
       "      <td>-1.945791e-08</td>\n",
       "      <td>655540.0</td>\n",
       "      <td>9466.0</td>\n",
       "      <td>0.014440</td>\n",
       "    </tr>\n",
       "    <tr>\n",
       "      <th>0.45</th>\n",
       "      <th>1.0</th>\n",
       "      <th>1.250000</th>\n",
       "      <td>-5.825945e-07</td>\n",
       "      <td>2.861396e-08</td>\n",
       "      <td>-0.049115</td>\n",
       "      <td>-6.398224e-07</td>\n",
       "      <td>-5.253666e-07</td>\n",
       "      <td>NaN</td>\n",
       "      <td>NaN</td>\n",
       "      <td>NaN</td>\n",
       "    </tr>\n",
       "    <tr>\n",
       "      <th>0.50</th>\n",
       "      <th>1.0</th>\n",
       "      <th>1.388889</th>\n",
       "      <td>-3.868981e-06</td>\n",
       "      <td>1.699150e-07</td>\n",
       "      <td>-0.043917</td>\n",
       "      <td>-4.208811e-06</td>\n",
       "      <td>-3.529151e-06</td>\n",
       "      <td>58404.0</td>\n",
       "      <td>516.3</td>\n",
       "      <td>0.008840</td>\n",
       "    </tr>\n",
       "    <tr>\n",
       "      <th>0.55</th>\n",
       "      <th>1.0</th>\n",
       "      <th>1.527778</th>\n",
       "      <td>-1.883740e-05</td>\n",
       "      <td>6.009483e-07</td>\n",
       "      <td>-0.031902</td>\n",
       "      <td>-2.003930e-05</td>\n",
       "      <td>-1.763550e-05</td>\n",
       "      <td>35660.0</td>\n",
       "      <td>400.0</td>\n",
       "      <td>0.011217</td>\n",
       "    </tr>\n",
       "    <tr>\n",
       "      <th>0.60</th>\n",
       "      <th>1.0</th>\n",
       "      <th>1.666667</th>\n",
       "      <td>-6.700331e-05</td>\n",
       "      <td>1.299322e-06</td>\n",
       "      <td>-0.019392</td>\n",
       "      <td>-6.960196e-05</td>\n",
       "      <td>-6.440467e-05</td>\n",
       "      <td>22080.0</td>\n",
       "      <td>280.0</td>\n",
       "      <td>0.012681</td>\n",
       "    </tr>\n",
       "  </tbody>\n",
       "</table>\n",
       "</div>"
      ],
      "text/plain": [
       "                                  value_melt    error_melt  error_frac_melt  \\\n",
       "temperature pressure temp_norm                                                \n",
       "0.40        1.0      1.111111  -2.223193e-08  1.387009e-09        -0.062388   \n",
       "0.45        1.0      1.250000  -5.825945e-07  2.861396e-08        -0.049115   \n",
       "0.50        1.0      1.388889  -3.868981e-06  1.699150e-07        -0.043917   \n",
       "0.55        1.0      1.527778  -1.883740e-05  6.009483e-07        -0.031902   \n",
       "0.60        1.0      1.666667  -6.700331e-05  1.299322e-06        -0.019392   \n",
       "\n",
       "                                   error_min     error_max  value_rot  \\\n",
       "temperature pressure temp_norm                                          \n",
       "0.40        1.0      1.111111  -2.500594e-08 -1.945791e-08   655540.0   \n",
       "0.45        1.0      1.250000  -6.398224e-07 -5.253666e-07        NaN   \n",
       "0.50        1.0      1.388889  -4.208811e-06 -3.529151e-06    58404.0   \n",
       "0.55        1.0      1.527778  -2.003930e-05 -1.763550e-05    35660.0   \n",
       "0.60        1.0      1.666667  -6.960196e-05 -6.440467e-05    22080.0   \n",
       "\n",
       "                                error_rot  error_frac_rot  \n",
       "temperature pressure temp_norm                             \n",
       "0.40        1.0      1.111111      9466.0        0.014440  \n",
       "0.45        1.0      1.250000         NaN             NaN  \n",
       "0.50        1.0      1.388889       516.3        0.008840  \n",
       "0.55        1.0      1.527778       400.0        0.011217  \n",
       "0.60        1.0      1.666667       280.0        0.012681  "
      ]
     },
     "execution_count": 11,
     "metadata": {},
     "output_type": "execute_result"
    }
   ],
   "source": [
    "all_df = melt_df.reset_index(\"temp_norm\").join(rot_df, lsuffix=\"_melt\", rsuffix=\"_rot\").set_index('temp_norm', append=True)\n",
    "all_df.head()"
   ]
  },
  {
   "cell_type": "code",
   "execution_count": 12,
   "metadata": {},
   "outputs": [],
   "source": [
    "value = all_df[\"value_melt\"] * all_df[\"value_rot\"]\n",
    "err_frac = all_df[\"error_frac_melt\"].abs() + all_df[\"error_frac_rot\"].abs()\n",
    "error = value * err_frac\n",
    "\n",
    "melt_values = pandas.DataFrame({\n",
    "    \"value\": value,\n",
    "    \"error\": error,\n",
    "    \"error_min\": value - 2 * error,\n",
    "    \"error_max\": value + 2 * error,\n",
    "}).reset_index().dropna()"
   ]
  },
  {
   "cell_type": "code",
   "execution_count": 13,
   "metadata": {},
   "outputs": [
    {
     "data": {
      "application/vnd.vegalite.v2+json": {
       "$schema": "https://vega.github.io/schema/vega-lite/v2.6.0.json",
       "config": {
        "axis": {
         "grid": false
        },
        "view": {
         "height": 400,
         "width": 600
        }
       },
       "data": {
        "name": "data-b26ea6927ac45ec8a135b41ab7040c83"
       },
       "datasets": {
        "data-b26ea6927ac45ec8a135b41ab7040c83": [
         {
          "error": -0.0011196872258778816,
          "error_max": -0.016813291302559402,
          "error_min": -0.012334542399047877,
          "pressure": 1,
          "temp_norm": 1.1111111111111112,
          "temperature": 0.4,
          "value": -0.01457391685080364
         },
         {
          "error": -0.011921271698560066,
          "error_max": -0.24980651057373174,
          "error_min": -0.20212142377949147,
          "pressure": 1,
          "temp_norm": 1.3888888888888888,
          "temperature": 0.5,
          "value": -0.2259639671766116
         },
         {
          "error": -0.02896477680651578,
          "error_max": -0.7296712165062859,
          "error_min": -0.6138121092802228,
          "pressure": 1,
          "temp_norm": 1.527777777777778,
          "temperature": 0.55,
          "value": -0.6717416628932543
         },
         {
          "error": -0.04744995994311461,
          "error_max": -1.5743330814223397,
          "error_min": -1.3845332416498812,
          "pressure": 1,
          "temp_norm": 1.6666666666666667,
          "temperature": 0.6,
          "value": -1.4794331615361105
         },
         {
          "error": -0.2162378547401639,
          "error_max": -4.7053555909641025,
          "error_min": -3.8404041720034465,
          "pressure": 1,
          "temp_norm": 1.9444444444444444,
          "temperature": 0.7,
          "value": -4.2728798814837745
         },
         {
          "error": -0.005684292695641566,
          "error_max": -0.024285490516780996,
          "error_min": -0.0015483197342147335,
          "pressure": 13.5,
          "temp_norm": 1.037037037037037,
          "temperature": 1.4,
          "value": -0.012916905125497865
         },
         {
          "error": -0.0014207344277360316,
          "error_max": -0.03933920735881904,
          "error_min": -0.033656269647874916,
          "pressure": 13.5,
          "temp_norm": 1.111111111111111,
          "temperature": 1.5,
          "value": -0.03649773850334698
         },
         {
          "error": -0.035446369850186565,
          "error_max": -0.11798578424874796,
          "error_min": 0.0237996951519983,
          "pressure": 13.5,
          "temp_norm": 1.1851851851851851,
          "temperature": 1.6,
          "value": -0.04709304454837483
         },
         {
          "error": -0.022428773805150553,
          "error_max": -0.20407594995865802,
          "error_min": -0.1143608547380558,
          "pressure": 13.5,
          "temp_norm": 1.3333333333333333,
          "temperature": 1.8,
          "value": -0.1592184023483569
         },
         {
          "error": -0.02182283059331953,
          "error_max": -0.37100130239605456,
          "error_min": -0.2837099800227765,
          "pressure": 13.5,
          "temp_norm": 1.4814814814814814,
          "temperature": 2,
          "value": -0.3273556412094155
         },
         {
          "error": -0.11653047486161809,
          "error_max": -3.3969874314846633,
          "error_min": -2.930865532038191,
          "pressure": 13.5,
          "temp_norm": 1.8518518518518516,
          "temperature": 2.5,
          "value": -3.163926481761427
         }
        ]
       },
       "layer": [
        {
         "layer": [
          {
           "data": {
            "name": "data-b26ea6927ac45ec8a135b41ab7040c83"
           },
           "encoding": {
            "color": {
             "field": "pressure",
             "title": "Pressure",
             "type": "nominal"
            },
            "x": {
             "field": "temp_norm",
             "scale": {
              "zero": false
             },
             "title": "T/Tₘ",
             "type": "quantitative"
            },
            "y": {
             "field": "value",
             "title": "Rotational Relaxation × Melting Rate",
             "type": "quantitative"
            }
           },
           "mark": "point"
          },
          {
           "data": {
            "name": "data-b26ea6927ac45ec8a135b41ab7040c83"
           },
           "encoding": {
            "color": {
             "field": "pressure",
             "title": "Pressure",
             "type": "nominal"
            },
            "x": {
             "field": "temp_norm",
             "scale": {
              "zero": false
             },
             "title": "T/Tₘ",
             "type": "quantitative"
            },
            "y": {
             "field": "error_min",
             "type": "quantitative"
            },
            "y2": {
             "field": "error_max",
             "type": "quantitative"
            }
           },
           "mark": "rule"
          }
         ]
        },
        {
         "encoding": {
          "y": {
           "field": "val",
           "type": "quantitative"
          }
         },
         "mark": {
          "color": "grey",
          "type": "rule"
         }
        }
       ],
       "transform": [
        {
         "as": "val",
         "calculate": "0"
        }
       ]
      },
      "image/png": "[encoded data removed]",
      "text/plain": [
       "<VegaLite 2 object>\n",
       "\n",
       "If you see this message, it means the renderer has not been properly enabled\n",
       "for the frontend that you are using. For more information, see\n",
       "https://altair-viz.github.io/user_guide/troubleshooting.html\n"
      ]
     },
     "execution_count": 13,
     "metadata": {},
     "output_type": "execute_result"
    }
   ],
   "source": [
    "chart = alt.Chart(melt_values).encode(\n",
    "    x=alt.X(\"temp_norm\", title=\"T/Tₘ\", scale=alt.Scale(zero=False)),\n",
    "    color=alt.Color(\"pressure:N\", title=\"Pressure\"),\n",
    ")\n",
    "\n",
    "c = (\n",
    "    chart.mark_point().encode(y=alt.Y(\"value\", title=\"Rotational Relaxation × Melting Rate\")) +\n",
    "    chart.mark_rule().encode(y=\"error_min\", y2=\"error_max\")\n",
    ")\n",
    "\n",
    "c = figures.hline(c, 0)\n",
    "c"
   ]
  },
  {
   "cell_type": "markdown",
   "metadata": {},
   "source": [
    "## Fitting to Theory\n",
    "\n",
    "When fitting a curve to the data\n",
    "it is required to take into account\n",
    "the errors in the data."
   ]
  },
  {
   "cell_type": "code",
   "execution_count": 14,
   "metadata": {},
   "outputs": [],
   "source": [
    "def fit_curve(x_vals, y_vals, errors=None, delta_E=None):\n",
    "    if delta_E is None:\n",
    "        def theory(x, c, d):\n",
    "            result = 1 - np.exp((1-x) * d / x)\n",
    "            return c * result\n",
    "    else:\n",
    "        def theory(x, c):\n",
    "            result = 1 - np.exp((1-x) * delta_E / x)\n",
    "            return c * result\n",
    "    \n",
    "    opt, err = scipy.optimize.curve_fit(\n",
    "        theory, \n",
    "        x_vals, \n",
    "        y_vals,\n",
    "        sigma=errors,\n",
    "        maxfev=2000,\n",
    "    )\n",
    "    \n",
    "    return theory, opt, err"
   ]
  },
  {
   "cell_type": "code",
   "execution_count": 15,
   "metadata": {},
   "outputs": [],
   "source": [
    "import matplotlib.pyplot as plt\n",
    "\n",
    "x = np.arange(0.95, 2.0, 0.05)\n",
    "\n",
    "p1_values = melt_values.query(\"pressure == 1.00\").query(\"temp_norm < 1.4\")\n",
    "p13_values = melt_values.query(\"pressure == 13.50\").query(\"temp_norm < 1.4\")\n",
    "\n",
    "theory1, opt1, err1 = fit_curve(p1_values[\"temp_norm\"], p1_values[\"value\"], p1_values[\"error\"], -0.18034612159032992)\n",
    "theory13, opt13, err13 = fit_curve(p13_values[\"temp_norm\"], p13_values[\"value\"], p13_values[\"error\"], -0.06561802006526474)"
   ]
  },
  {
   "cell_type": "code",
   "execution_count": 16,
   "metadata": {},
   "outputs": [],
   "source": [
    "y1 = theory1(x, *opt1)\n",
    "y13 = theory13(x, *opt13)"
   ]
  },
  {
   "cell_type": "code",
   "execution_count": 17,
   "metadata": {},
   "outputs": [],
   "source": [
    "theory_df = melt_values\n",
    "theory_df[\"theory\"] = 0.\n",
    "mask = theory_df[\"pressure\"] == 1.00\n",
    "theory_df.loc[mask, \"theory\"] = theory1(theory_df[\"temp_norm\"], *opt1)\n",
    "theory_df.loc[~mask, \"theory\"] = theory13(theory_df[\"temp_norm\"], *opt13)"
   ]
  },
  {
   "cell_type": "code",
   "execution_count": 18,
   "metadata": {},
   "outputs": [
    {
     "data": {
      "application/vnd.vegalite.v2+json": {
       "$schema": "https://vega.github.io/schema/vega-lite/v2.6.0.json",
       "config": {
        "axis": {
         "grid": false
        },
        "view": {
         "height": 400,
         "width": 600
        }
       },
       "data": {
        "name": "data-9b611196c41eaab86e94f294bc6cd197"
       },
       "datasets": {
        "data-9b611196c41eaab86e94f294bc6cd197": [
         {
          "error": -0.0011196872258778816,
          "error_max": -0.016813291302559402,
          "error_min": -0.012334542399047877,
          "pressure": 1,
          "temp_norm": 1.1111111111111112,
          "temperature": 0.4,
          "theory": -0.01889689517968618,
          "value": -0.01457391685080364
         },
         {
          "error": -0.011921271698560066,
          "error_max": -0.24980651057373174,
          "error_min": -0.20212142377949147,
          "pressure": 1,
          "temp_norm": 1.3888888888888888,
          "temperature": 0.5,
          "theory": -0.05378211052395847,
          "value": -0.2259639671766116
         },
         {
          "error": -0.02896477680651578,
          "error_max": -0.7296712165062859,
          "error_min": -0.6138121092802228,
          "pressure": 1,
          "temp_norm": 1.527777777777778,
          "temperature": 0.55,
          "theory": -0.0667510533312394,
          "value": -0.6717416628932543
         },
         {
          "error": -0.04744995994311461,
          "error_max": -1.5743330814223397,
          "error_min": -1.3845332416498812,
          "pressure": 1,
          "temp_norm": 1.6666666666666667,
          "temperature": 0.6,
          "theory": -0.07767606622094841,
          "value": -1.4794331615361105
         },
         {
          "error": -0.2162378547401639,
          "error_max": -4.7053555909641025,
          "error_min": -3.8404041720034465,
          "pressure": 1,
          "temp_norm": 1.9444444444444444,
          "temperature": 0.7,
          "theory": -0.09506255885206077,
          "value": -4.2728798814837745
         },
         {
          "error": -0.005684292695641566,
          "error_max": -0.024285490516780996,
          "error_min": -0.0015483197342147335,
          "pressure": 13.5,
          "temp_norm": 1.037037037037037,
          "temperature": 1.4,
          "theory": -0.013231944480831731,
          "value": -0.012916905125497865
         },
         {
          "error": -0.0014207344277360316,
          "error_max": -0.03933920735881904,
          "error_min": -0.033656269647874916,
          "pressure": 13.5,
          "temp_norm": 1.111111111111111,
          "temperature": 1.5,
          "theory": -0.03712772798463578,
          "value": -0.03649773850334698
         },
         {
          "error": -0.035446369850186565,
          "error_max": -0.11798578424874796,
          "error_min": 0.0237996951519983,
          "pressure": 13.5,
          "temp_norm": 1.1851851851851851,
          "temperature": 1.6,
          "theory": -0.05811938580189525,
          "value": -0.04709304454837483
         },
         {
          "error": -0.022428773805150553,
          "error_max": -0.20407594995865802,
          "error_min": -0.1143608547380558,
          "pressure": 13.5,
          "temp_norm": 1.3333333333333333,
          "temperature": 1.8,
          "theory": -0.09327812089479581,
          "value": -0.1592184023483569
         },
         {
          "error": -0.02182283059331953,
          "error_max": -0.37100130239605456,
          "error_min": -0.2837099800227765,
          "pressure": 13.5,
          "temp_norm": 1.4814814814814814,
          "temperature": 2,
          "theory": -0.12156125044448302,
          "value": -0.3273556412094155
         },
         {
          "error": -0.11653047486161809,
          "error_max": -3.3969874314846633,
          "error_min": -2.930865532038191,
          "pressure": 13.5,
          "temp_norm": 1.8518518518518516,
          "temperature": 2.5,
          "theory": -0.17282297252665194,
          "value": -3.163926481761427
         }
        ]
       },
       "layer": [
        {
         "layer": [
          {
           "data": {
            "name": "data-9b611196c41eaab86e94f294bc6cd197"
           },
           "encoding": {
            "color": {
             "field": "pressure",
             "title": "Pressure",
             "type": "nominal"
            },
            "x": {
             "field": "temp_norm",
             "scale": {
              "zero": false
             },
             "title": "T/Tₘ",
             "type": "quantitative"
            },
            "y": {
             "field": "value",
             "title": "Rotational Relaxation × Melting Rate",
             "type": "quantitative"
            }
           },
           "mark": "point"
          },
          {
           "data": {
            "name": "data-9b611196c41eaab86e94f294bc6cd197"
           },
           "encoding": {
            "color": {
             "field": "pressure",
             "title": "Pressure",
             "type": "nominal"
            },
            "x": {
             "field": "temp_norm",
             "scale": {
              "zero": false
             },
             "title": "T/Tₘ",
             "type": "quantitative"
            },
            "y": {
             "field": "error_min",
             "type": "quantitative"
            },
            "y2": {
             "field": "error_max",
             "type": "quantitative"
            }
           },
           "mark": "rule"
          },
          {
           "data": {
            "name": "data-9b611196c41eaab86e94f294bc6cd197"
           },
           "encoding": {
            "color": {
             "field": "pressure",
             "title": "Pressure",
             "type": "nominal"
            },
            "x": {
             "field": "temp_norm",
             "scale": {
              "zero": false
             },
             "title": "T/Tₘ",
             "type": "quantitative"
            },
            "y": {
             "field": "theory",
             "type": "quantitative"
            }
           },
           "mark": "line"
          }
         ]
        },
        {
         "encoding": {
          "y": {
           "field": "val",
           "type": "quantitative"
          }
         },
         "mark": {
          "color": "grey",
          "type": "rule"
         }
        }
       ],
       "transform": [
        {
         "as": "val",
         "calculate": "0.0"
        }
       ]
      },
      "image/png": "[encoded data removed]",
      "text/plain": [
       "<VegaLite 2 object>\n",
       "\n",
       "If you see this message, it means the renderer has not been properly enabled\n",
       "for the frontend that you are using. For more information, see\n",
       "https://altair-viz.github.io/user_guide/troubleshooting.html\n"
      ]
     },
     "execution_count": 18,
     "metadata": {},
     "output_type": "execute_result"
    }
   ],
   "source": [
    "chart = alt.Chart(theory_df).encode(\n",
    "    x=alt.X(\"temp_norm\", title=\"T/Tₘ\", scale=alt.Scale(zero=False)),\n",
    "    color=alt.Color(\"pressure:N\", title=\"Pressure\"),\n",
    ")\n",
    "\n",
    "chart = (\n",
    "    chart.mark_point().encode(y=alt.Y(\"value\", title=\"Rotational Relaxation × Melting Rate\")) +\n",
    "    chart.mark_rule().encode(y=\"error_min\", y2=\"error_max\") +\n",
    "    chart.mark_line().encode(y=\"theory\")\n",
    ")\n",
    "\n",
    "chart = figures.hline(chart, 0.)\n",
    "chart"
   ]
  },
  {
   "cell_type": "code",
   "execution_count": 19,
   "metadata": {},
   "outputs": [],
   "source": [
    "chart.save(\"../figures/normalised_melting_err.svg\", webdriver=\"firefox\")"
   ]
  },
  {
   "cell_type": "code",
   "execution_count": 20,
   "metadata": {},
   "outputs": [],
   "source": [
    "p1_values_2 = melt_values.query(\"pressure == 1.00\")\n",
    "p13_values_2 = melt_values.query(\"pressure == 13.50\")\n",
    "\n",
    "theory1_2, opt1_2, err1_2 = fit_curve(\n",
    "    p1_values_2[\"temp_norm\"], \n",
    "    p1_values_2[\"value\"], \n",
    "    p1_values_2[\"error\"],\n",
    ")\n",
    "theory13_2, opt13_2, err13_2 = fit_curve(\n",
    "    p13_values_2[\"temp_norm\"], \n",
    "    p13_values_2[\"value\"], \n",
    "    p13_values_2[\"error\"],\n",
    ")"
   ]
  },
  {
   "cell_type": "code",
   "execution_count": 21,
   "metadata": {},
   "outputs": [],
   "source": [
    "theory_df_2 = melt_values\n",
    "theory_df_2[\"theory\"] = 0.\n",
    "mask = theory_df[\"pressure\"] == 1.00\n",
    "theory_df_2.loc[mask, \"theory\"] = theory1_2(theory_df_2[\"temp_norm\"], *opt1_2)\n",
    "theory_df_2.loc[~mask, \"theory\"] = theory13_2(theory_df_2[\"temp_norm\"], *opt13_2)"
   ]
  },
  {
   "cell_type": "code",
   "execution_count": 22,
   "metadata": {},
   "outputs": [
    {
     "data": {
      "application/vnd.vegalite.v2+json": {
       "$schema": "https://vega.github.io/schema/vega-lite/v2.6.0.json",
       "config": {
        "axis": {
         "grid": false
        },
        "view": {
         "height": 400,
         "width": 600
        }
       },
       "data": {
        "name": "data-8414259cb4d4fa024ace724881f009fa"
       },
       "datasets": {
        "data-8414259cb4d4fa024ace724881f009fa": [
         {
          "error": -0.0011196872258778816,
          "error_max": -0.016813291302559402,
          "error_min": -0.012334542399047877,
          "pressure": 1,
          "temp_norm": 1.1111111111111112,
          "temperature": 0.4,
          "theory": -0.025053676527575373,
          "value": -0.01457391685080364
         },
         {
          "error": -0.011921271698560066,
          "error_max": -0.24980651057373174,
          "error_min": -0.20212142377949147,
          "pressure": 1,
          "temp_norm": 1.3888888888888888,
          "temperature": 0.5,
          "theory": -0.07014726793320616,
          "value": -0.2259639671766116
         },
         {
          "error": -0.02896477680651578,
          "error_max": -0.7296712165062859,
          "error_min": -0.6138121092802228,
          "pressure": 1,
          "temp_norm": 1.527777777777778,
          "temperature": 0.55,
          "theory": -0.08654397287440044,
          "value": -0.6717416628932543
         },
         {
          "error": -0.04744995994311461,
          "error_max": -1.5743330814223397,
          "error_min": -1.3845332416498812,
          "pressure": 1,
          "temp_norm": 1.6666666666666667,
          "temperature": 0.6,
          "theory": -0.10020750066752455,
          "value": -1.4794331615361105
         },
         {
          "error": -0.2162378547401639,
          "error_max": -4.7053555909641025,
          "error_min": -3.8404041720034465,
          "pressure": 1,
          "temp_norm": 1.9444444444444444,
          "temperature": 0.7,
          "theory": -0.12167803683147445,
          "value": -4.2728798814837745
         },
         {
          "error": -0.005684292695641566,
          "error_max": -0.024285490516780996,
          "error_min": -0.0015483197342147335,
          "pressure": 13.5,
          "temp_norm": 1.037037037037037,
          "temperature": 1.4,
          "theory": -0.014871510797663174,
          "value": -0.012916905125497865
         },
         {
          "error": -0.0014207344277360316,
          "error_max": -0.03933920735881904,
          "error_min": -0.033656269647874916,
          "pressure": 13.5,
          "temp_norm": 1.111111111111111,
          "temperature": 1.5,
          "theory": -0.0416394499343698,
          "value": -0.03649773850334698
         },
         {
          "error": -0.035446369850186565,
          "error_max": -0.11798578424874796,
          "error_min": 0.0237996951519983,
          "pressure": 13.5,
          "temp_norm": 1.1851851851851851,
          "temperature": 1.6,
          "theory": -0.06506057373208865,
          "value": -0.04709304454837483
         },
         {
          "error": -0.022428773805150553,
          "error_max": -0.20407594995865802,
          "error_min": -0.1143608547380558,
          "pressure": 13.5,
          "temp_norm": 1.3333333333333333,
          "temperature": 1.8,
          "theory": -0.10409407327989761,
          "value": -0.1592184023483569
         },
         {
          "error": -0.02182283059331953,
          "error_max": -0.37100130239605456,
          "error_min": -0.2837099800227765,
          "pressure": 13.5,
          "temp_norm": 1.4814814814814814,
          "temperature": 2,
          "theory": -0.13531933688193368,
          "value": -0.3273556412094155
         },
         {
          "error": -0.11653047486161809,
          "error_max": -3.3969874314846633,
          "error_min": -2.930865532038191,
          "pressure": 13.5,
          "temp_norm": 1.8518518518518516,
          "temperature": 2.5,
          "theory": -0.1915213708472681,
          "value": -3.163926481761427
         }
        ]
       },
       "layer": [
        {
         "layer": [
          {
           "data": {
            "name": "data-8414259cb4d4fa024ace724881f009fa"
           },
           "encoding": {
            "color": {
             "field": "pressure",
             "title": "Pressure",
             "type": "nominal"
            },
            "x": {
             "field": "temp_norm",
             "scale": {
              "zero": false
             },
             "title": "T/Tₘ",
             "type": "quantitative"
            },
            "y": {
             "field": "value",
             "title": "Rotational Relaxation × Melting Rate",
             "type": "quantitative"
            }
           },
           "mark": "point"
          },
          {
           "data": {
            "name": "data-8414259cb4d4fa024ace724881f009fa"
           },
           "encoding": {
            "color": {
             "field": "pressure",
             "title": "Pressure",
             "type": "nominal"
            },
            "x": {
             "field": "temp_norm",
             "scale": {
              "zero": false
             },
             "title": "T/Tₘ",
             "type": "quantitative"
            },
            "y": {
             "field": "error_min",
             "type": "quantitative"
            },
            "y2": {
             "field": "error_max",
             "type": "quantitative"
            }
           },
           "mark": "rule"
          },
          {
           "data": {
            "name": "data-8414259cb4d4fa024ace724881f009fa"
           },
           "encoding": {
            "color": {
             "field": "pressure",
             "title": "Pressure",
             "type": "nominal"
            },
            "x": {
             "field": "temp_norm",
             "scale": {
              "zero": false
             },
             "title": "T/Tₘ",
             "type": "quantitative"
            },
            "y": {
             "field": "theory",
             "type": "quantitative"
            }
           },
           "mark": "line"
          }
         ]
        },
        {
         "encoding": {
          "y": {
           "field": "val",
           "type": "quantitative"
          }
         },
         "mark": {
          "color": "grey",
          "type": "rule"
         }
        }
       ],
       "transform": [
        {
         "as": "val",
         "calculate": "0.0"
        }
       ]
      },
      "image/png": "[encoded data removed]",
      "text/plain": [
       "<VegaLite 2 object>\n",
       "\n",
       "If you see this message, it means the renderer has not been properly enabled\n",
       "for the frontend that you are using. For more information, see\n",
       "https://altair-viz.github.io/user_guide/troubleshooting.html\n"
      ]
     },
     "execution_count": 22,
     "metadata": {},
     "output_type": "execute_result"
    }
   ],
   "source": [
    "chart = alt.Chart(theory_df_2).encode(\n",
    "    x=alt.X(\"temp_norm\", title=\"T/Tₘ\", scale=alt.Scale(zero=False)),\n",
    "    color=alt.Color(\"pressure:N\", title=\"Pressure\"),\n",
    ")\n",
    "\n",
    "chart = (\n",
    "    chart.mark_point().encode(y=alt.Y(\"value\", title=\"Rotational Relaxation × Melting Rate\")) +\n",
    "    chart.mark_rule().encode(y=\"error_min\", y2=\"error_max\") +\n",
    "    chart.mark_line().encode(y=\"theory\")\n",
    ")\n",
    "\n",
    "chart = figures.hline(chart, 0.)\n",
    "chart"
   ]
  },
  {
   "cell_type": "code",
   "execution_count": 23,
   "metadata": {},
   "outputs": [
    {
     "data": {
      "text/plain": [
       "array([-7.14244883e+02,  5.83002619e-04])"
      ]
     },
     "execution_count": 23,
     "metadata": {},
     "output_type": "execute_result"
    }
   ],
   "source": [
    "opt13_2"
   ]
  },
  {
   "cell_type": "code",
   "execution_count": null,
   "metadata": {},
   "outputs": [],
   "source": []
  }
 ],
 "metadata": {
  "jupytext": {
   "formats": "ipynb,md"
  },
  "kernelspec": {
   "display_name": "crystal",
   "language": "python",
   "name": "crystal"
  },
  "language_info": {
   "codemirror_mode": {
    "name": "ipython",
    "version": 3
   },
   "file_extension": ".py",
   "mimetype": "text/x-python",
   "name": "python",
   "nbconvert_exporter": "python",
   "pygments_lexer": "ipython3",
   "version": "3.6.8"
  }
 },
 "nbformat": 4,
 "nbformat_minor": 2
}
