{
 "cells": [
  {
   "cell_type": "markdown",
   "metadata": {},
   "source": [
    "# Melting Uncertainties\n",
    "\n",
    "This aims to estimate the uncertainty of the crystal melting rates,\n",
    "combining the uncertainties of the dynamics and that of the rates calculation."
   ]
  },
  {
   "cell_type": "code",
   "execution_count": 1,
   "metadata": {},
   "outputs": [],
   "source": [
    "import pandas\n",
    "import uncertainties\n",
    "import altair as alt\n",
    "import numpy as np\n",
    "import scipy.optimize\n",
    "import uncertainties\n",
    "\n",
    "import sys\n",
    "sys.path.append(\"../src\")\n",
    "import figures\n",
    "\n",
    "figures.use_my_theme()"
   ]
  },
  {
   "cell_type": "markdown",
   "metadata": {},
   "source": [
    "## Error in Melting Rates\n",
    "\n",
    "The error of the melting rates will be calculated\n",
    "by taking the standard deviation of all the measurements"
   ]
  },
  {
   "cell_type": "code",
   "execution_count": 2,
   "metadata": {},
   "outputs": [],
   "source": [
    "with pandas.HDFStore('../data/analysis/rates_clean.h5') as store:\n",
    "    rates_df = store.get(\"rates\")"
   ]
  },
  {
   "cell_type": "code",
   "execution_count": 3,
   "metadata": {},
   "outputs": [],
   "source": [
    "rates_df[\"error_min\"] = rates_df[\"mean\"] - rates_df[\"error\"]\n",
    "rates_df[\"error_max\"] = rates_df[\"mean\"] + rates_df[\"error\"]"
   ]
  },
  {
   "cell_type": "code",
   "execution_count": 4,
   "metadata": {},
   "outputs": [
    {
     "data": {
      "application/vnd.vegalite.v3+json": {
       "$schema": "https://vega.github.io/schema/vega-lite/v3.3.0.json",
       "config": {
        "axis": {
         "grid": false,
         "labelFontSize": 16,
         "titleFontSize": 20
        },
        "background": "white",
        "header": {
         "labelFontSize": 18,
         "titleFontSize": 22
        },
        "legend": {
         "labelFontSize": 16,
         "titleFontSize": 20
        },
        "view": {
         "height": 400,
         "width": 600
        }
       },
       "data": {
        "name": "data-a110cd0998535e54cef8a2fb98eaaf00"
       },
       "datasets": {
        "data-a110cd0998535e54cef8a2fb98eaaf00": [
         {
          "crystal": "p2",
          "error": 2.1244050302860063e-10,
          "error_max": -9.360034341074272e-09,
          "error_min": -9.784915347131475e-09,
          "iter_id": 1,
          "mean": -9.572474844102874e-09,
          "pressure": 1,
          "temp_norm": 1.0555555555555556,
          "temperature": 0.38
         },
         {
          "crystal": "p2",
          "error": 2.490109653635812e-10,
          "error_max": -4.848812766422347e-09,
          "error_min": -5.346834697149508e-09,
          "iter_id": 2,
          "mean": -5.0978237317859276e-09,
          "pressure": 1,
          "temp_norm": 1.0555555555555556,
          "temperature": 0.38
         },
         {
          "crystal": "p2",
          "error": 3.058931014894641e-10,
          "error_max": -5.327350113412354e-09,
          "error_min": -5.939136316391282e-09,
          "iter_id": 3,
          "mean": -5.633243214901818e-09,
          "pressure": 1,
          "temp_norm": 1.0555555555555556,
          "temperature": 0.38
         },
         {
          "crystal": "p2",
          "error": 7.308370870963149e-10,
          "error_max": -1.780692014393966e-09,
          "error_min": -3.2423661885865957e-09,
          "iter_id": 4,
          "mean": -2.511529101490281e-09,
          "pressure": 1,
          "temp_norm": 1.0555555555555556,
          "temperature": 0.38
         },
         {
          "crystal": "p2",
          "error": 1.0599114543737588e-09,
          "error_max": -4.846608600573949e-09,
          "error_min": -6.9664315093214664e-09,
          "iter_id": 5,
          "mean": -5.906520054947708e-09,
          "pressure": 1,
          "temp_norm": 1.0555555555555556,
          "temperature": 0.38
         },
         {
          "crystal": "p2",
          "error": 2.0516934598562334e-10,
          "error_max": -1.3314965613265758e-08,
          "error_min": -1.3725304305237006e-08,
          "iter_id": 1,
          "mean": -1.3520134959251382e-08,
          "pressure": 1,
          "temp_norm": 1.0833333333333335,
          "temperature": 0.39
         },
         {
          "crystal": "p2",
          "error": 2.6009249802382426e-10,
          "error_max": -1.3668215270157437e-08,
          "error_min": -1.4188400266205086e-08,
          "iter_id": 2,
          "mean": -1.3928307768181261e-08,
          "pressure": 1,
          "temp_norm": 1.0833333333333335,
          "temperature": 0.39
         },
         {
          "crystal": "p2",
          "error": 1.5307884437898077e-10,
          "error_max": -1.3801345284277371e-08,
          "error_min": -1.4107502973035333e-08,
          "iter_id": 3,
          "mean": -1.3954424128656352e-08,
          "pressure": 1,
          "temp_norm": 1.0833333333333335,
          "temperature": 0.39
         },
         {
          "crystal": "p2",
          "error": 1.9484059087943745e-10,
          "error_max": -1.51773083263106e-08,
          "error_min": -1.5566989508069476e-08,
          "iter_id": 4,
          "mean": -1.5372148917190037e-08,
          "pressure": 1,
          "temp_norm": 1.0833333333333335,
          "temperature": 0.39
         },
         {
          "crystal": "p2",
          "error": 2.3230246047647885e-10,
          "error_max": -1.2693290238456108e-08,
          "error_min": -1.3157895159409065e-08,
          "iter_id": 5,
          "mean": -1.2925592698932587e-08,
          "pressure": 1,
          "temp_norm": 1.0833333333333335,
          "temperature": 0.39
         },
         {
          "crystal": "p2",
          "error": 4.999436258079919e-10,
          "error_max": -2.542242723386727e-08,
          "error_min": -2.6422314485483254e-08,
          "iter_id": 1,
          "mean": -2.5922370859675262e-08,
          "pressure": 1,
          "temp_norm": 1.1111111111111112,
          "temperature": 0.4
         },
         {
          "crystal": "p2",
          "error": 5.180549900833314e-10,
          "error_max": -2.0743800086264164e-08,
          "error_min": -2.1779910066430827e-08,
          "iter_id": 2,
          "mean": -2.1261855076347496e-08,
          "pressure": 1,
          "temp_norm": 1.1111111111111112,
          "temperature": 0.4
         },
         {
          "crystal": "p2",
          "error": 4.629444232543291e-10,
          "error_max": -1.786160327245121e-08,
          "error_min": -1.8787492118959864e-08,
          "iter_id": 3,
          "mean": -1.8324547695705536e-08,
          "pressure": 1,
          "temp_norm": 1.1111111111111112,
          "temperature": 0.4
         },
         {
          "crystal": "p2",
          "error": 4.391441607165126e-10,
          "error_max": -2.2353201359125353e-08,
          "error_min": -2.3231489680558377e-08,
          "iter_id": 4,
          "mean": -2.2792345519841865e-08,
          "pressure": 1,
          "temp_norm": 1.1111111111111112,
          "temperature": 0.4
         },
         {
          "crystal": "p2",
          "error": 4.3318998738557774e-10,
          "error_max": -2.3146309504685676e-08,
          "error_min": -2.401268947945683e-08,
          "iter_id": 5,
          "mean": -2.3579499492071253e-08,
          "pressure": 1,
          "temp_norm": 1.1111111111111112,
          "temperature": 0.4
         },
         {
          "crystal": "p2",
          "error": 8.824680003690677e-09,
          "error_max": -7.644642806071411e-07,
          "error_min": -7.821136406145225e-07,
          "iter_id": 1,
          "mean": -7.732889606108318e-07,
          "pressure": 1,
          "temp_norm": 1.25,
          "temperature": 0.45
         },
         {
          "crystal": "p2",
          "error": 8.480661905271774e-09,
          "error_max": -7.651028059854074e-07,
          "error_min": -7.82064129795951e-07,
          "iter_id": 2,
          "mean": -7.735834678906792e-07,
          "pressure": 1,
          "temp_norm": 1.25,
          "temperature": 0.45
         },
         {
          "crystal": "p2",
          "error": 5.0975679117191954e-09,
          "error_max": -5.842507248120944e-07,
          "error_min": -5.944458606355327e-07,
          "iter_id": 3,
          "mean": -5.893482927238135e-07,
          "pressure": 1,
          "temp_norm": 1.25,
          "temperature": 0.45
         },
         {
          "crystal": "p2",
          "error": 6.5070760993215186e-09,
          "error_max": -6.571979593826633e-07,
          "error_min": -6.702121115813063e-07,
          "iter_id": 4,
          "mean": -6.637050354819848e-07,
          "pressure": 1,
          "temp_norm": 1.25,
          "temperature": 0.45
         },
         {
          "crystal": "p2",
          "error": 3.6964028362136155e-09,
          "error_max": -6.472541679660534e-07,
          "error_min": -6.546469736384806e-07,
          "iter_id": 5,
          "mean": -6.50950570802267e-07,
          "pressure": 1,
          "temp_norm": 1.25,
          "temperature": 0.45
         },
         {
          "crystal": "p2",
          "error": 2.8919304674425516e-08,
          "error_max": -4.610367491750756e-06,
          "error_min": -4.668206101099607e-06,
          "iter_id": 1,
          "mean": -4.6392867964251815e-06,
          "pressure": 1,
          "temp_norm": 1.3888888888888888,
          "temperature": 0.5
         },
         {
          "crystal": "p2",
          "error": 4.1282055511799045e-08,
          "error_max": -4.4220052752408715e-06,
          "error_min": -4.50456938626447e-06,
          "iter_id": 2,
          "mean": -4.463287330752671e-06,
          "pressure": 1,
          "temp_norm": 1.3888888888888888,
          "temperature": 0.5
         },
         {
          "crystal": "p2",
          "error": 5.254652068621747e-08,
          "error_max": -4.244179518990556e-06,
          "error_min": -4.3492725603629905e-06,
          "iter_id": 3,
          "mean": -4.296726039676773e-06,
          "pressure": 1,
          "temp_norm": 1.3888888888888888,
          "temperature": 0.5
         },
         {
          "crystal": "p2",
          "error": 2.849336838561636e-08,
          "error_max": -4.9808335341591004e-06,
          "error_min": -5.037820270930333e-06,
          "iter_id": 4,
          "mean": -5.009326902544717e-06,
          "pressure": 1,
          "temp_norm": 1.3888888888888888,
          "temperature": 0.5
         },
         {
          "crystal": "p2",
          "error": 3.354214035661457e-08,
          "error_max": -4.53827722814897e-06,
          "error_min": -4.605361508862198e-06,
          "iter_id": 5,
          "mean": -4.571819368505584e-06,
          "pressure": 1,
          "temp_norm": 1.3888888888888888,
          "temperature": 0.5
         },
         {
          "crystal": "p2",
          "error": 1.348783319336961e-07,
          "error_max": -1.769447764142268e-05,
          "error_min": -1.7964234305290074e-05,
          "iter_id": 1,
          "mean": -1.7829355973356377e-05,
          "pressure": 1,
          "temp_norm": 1.527777777777778,
          "temperature": 0.55
         },
         {
          "crystal": "p2",
          "error": 8.519122224788227e-08,
          "error_max": -2.0811528717676165e-05,
          "error_min": -2.098191116217193e-05,
          "iter_id": 2,
          "mean": -2.0896719939924047e-05,
          "pressure": 1,
          "temp_norm": 1.527777777777778,
          "temperature": 0.55
         },
         {
          "crystal": "p2",
          "error": 1.079430612815388e-07,
          "error_max": -1.903015002509372e-05,
          "error_min": -1.92460361476568e-05,
          "iter_id": 3,
          "mean": -1.913809308637526e-05,
          "pressure": 1,
          "temp_norm": 1.527777777777778,
          "temperature": 0.55
         },
         {
          "crystal": "p2",
          "error": 1.4362430647694968e-07,
          "error_max": -1.9446438247765477e-05,
          "error_min": -1.9733686860719376e-05,
          "iter_id": 4,
          "mean": -1.9590062554242426e-05,
          "pressure": 1,
          "temp_norm": 1.527777777777778,
          "temperature": 0.55
         },
         {
          "crystal": "p2",
          "error": 1.073514749390891e-07,
          "error_max": -1.8769484386946748e-05,
          "error_min": -1.8984187336824926e-05,
          "iter_id": 5,
          "mean": -1.8876835861885837e-05,
          "pressure": 1,
          "temp_norm": 1.527777777777778,
          "temperature": 0.55
         },
         {
          "crystal": "p2",
          "error": 3.1022587608970366e-07,
          "error_max": -6.71826877987115e-05,
          "error_min": -6.780313955089089e-05,
          "iter_id": 1,
          "mean": -6.749291367480119e-05,
          "pressure": 1,
          "temp_norm": 1.6666666666666667,
          "temperature": 0.6
         },
         {
          "crystal": "p2",
          "error": 6.916706537112216e-07,
          "error_max": -6.901988605354537e-05,
          "error_min": -7.04032273609678e-05,
          "iter_id": 2,
          "mean": -6.971155670725658e-05,
          "pressure": 1,
          "temp_norm": 1.6666666666666667,
          "temperature": 0.6
         },
         {
          "crystal": "p2",
          "error": 7.84734185907302e-07,
          "error_max": -6.724771322210251e-05,
          "error_min": -6.881718159391711e-05,
          "iter_id": 3,
          "mean": -6.803244740800981e-05,
          "pressure": 1,
          "temp_norm": 1.6666666666666667,
          "temperature": 0.6
         },
         {
          "crystal": "p2",
          "error": 2.6667874533345633e-07,
          "error_max": -7.008500029020288e-05,
          "error_min": -7.06183577808698e-05,
          "iter_id": 4,
          "mean": -7.035167903553634e-05,
          "pressure": 1,
          "temp_norm": 1.6666666666666667,
          "temperature": 0.6
         },
         {
          "crystal": "p2",
          "error": 5.54065511179576e-07,
          "error_max": -6.26313254540762e-05,
          "error_min": -6.373945647643535e-05,
          "iter_id": 5,
          "mean": -6.318539096525577e-05,
          "pressure": 1,
          "temp_norm": 1.6666666666666667,
          "temperature": 0.6
         },
         {
          "crystal": "p2",
          "error": 9.417355183728365e-11,
          "error_max": -3.4548795340089984e-09,
          "error_min": -3.643226637683566e-09,
          "iter_id": 1,
          "mean": -3.549053085846282e-09,
          "pressure": 13.5,
          "temp_norm": 1.037037037037037,
          "temperature": 1.4
         },
         {
          "crystal": "p2",
          "error": 9.539391689051265e-11,
          "error_max": -5.481432386518529e-09,
          "error_min": -5.672220220299554e-09,
          "iter_id": 2,
          "mean": -5.576826303409041e-09,
          "pressure": 13.5,
          "temp_norm": 1.037037037037037,
          "temperature": 1.4
         },
         {
          "crystal": "p2",
          "error": 1.0274788725890413e-10,
          "error_max": -4.70368279003738e-09,
          "error_min": -4.909178564555188e-09,
          "iter_id": 3,
          "mean": -4.806430677296284e-09,
          "pressure": 13.5,
          "temp_norm": 1.037037037037037,
          "temperature": 1.4
         },
         {
          "crystal": "p2",
          "error": 1.2661501514790206e-10,
          "error_max": -4.311636637773246e-09,
          "error_min": -4.5648666680690495e-09,
          "iter_id": 4,
          "mean": -4.4382516529211476e-09,
          "pressure": 13.5,
          "temp_norm": 1.037037037037037,
          "temperature": 1.4
         },
         {
          "crystal": "p2",
          "error": 1.1607697290191779e-10,
          "error_max": -7.252394064957907e-09,
          "error_min": -7.484548010761743e-09,
          "iter_id": 5,
          "mean": -7.368471037859825e-09,
          "pressure": 13.5,
          "temp_norm": 1.037037037037037,
          "temperature": 1.4
         },
         {
          "crystal": "p2",
          "error": 1.7879684697332724e-10,
          "error_max": -1.5213147159527845e-08,
          "error_min": -1.5570740853474498e-08,
          "iter_id": 1,
          "mean": -1.539194400650117e-08,
          "pressure": 13.5,
          "temp_norm": 1.074074074074074,
          "temperature": 1.45
         },
         {
          "crystal": "p2",
          "error": 1.7912471656690646e-10,
          "error_max": -1.3222873627222747e-08,
          "error_min": -1.358112306035656e-08,
          "iter_id": 2,
          "mean": -1.3401998343789654e-08,
          "pressure": 13.5,
          "temp_norm": 1.074074074074074,
          "temperature": 1.45
         },
         {
          "crystal": "p2",
          "error": 1.9670428560362773e-10,
          "error_max": -1.3883995211759688e-08,
          "error_min": -1.4277403782966944e-08,
          "iter_id": 3,
          "mean": -1.4080699497363316e-08,
          "pressure": 13.5,
          "temp_norm": 1.074074074074074,
          "temperature": 1.45
         },
         {
          "crystal": "p2",
          "error": 2.0526223497425905e-10,
          "error_max": -1.5158532382989434e-08,
          "error_min": -1.5569056852937955e-08,
          "iter_id": 4,
          "mean": -1.5363794617963695e-08,
          "pressure": 13.5,
          "temp_norm": 1.074074074074074,
          "temperature": 1.45
         },
         {
          "crystal": "p2",
          "error": 2.74691432291622e-10,
          "error_max": -1.3816489641737338e-08,
          "error_min": -1.4365872506320583e-08,
          "iter_id": 5,
          "mean": -1.409118107402896e-08,
          "pressure": 13.5,
          "temp_norm": 1.074074074074074,
          "temperature": 1.45
         },
         {
          "crystal": "p2",
          "error": 4.854068684460356e-10,
          "error_max": -3.318101396401582e-08,
          "error_min": -3.4151827700907894e-08,
          "iter_id": 1,
          "mean": -3.3666420832461856e-08,
          "pressure": 13.5,
          "temp_norm": 1.111111111111111,
          "temperature": 1.5
         },
         {
          "crystal": "p2",
          "error": 5.19904073356114e-10,
          "error_max": -3.029320745910873e-08,
          "error_min": -3.1333015605820954e-08,
          "iter_id": 2,
          "mean": -3.081311153246484e-08,
          "pressure": 13.5,
          "temp_norm": 1.111111111111111,
          "temperature": 1.5
         },
         {
          "crystal": "p2",
          "error": 8.156046471149119e-10,
          "error_max": -3.105221570622971e-08,
          "error_min": -3.268342500045954e-08,
          "iter_id": 3,
          "mean": -3.1867820353344625e-08,
          "pressure": 13.5,
          "temp_norm": 1.111111111111111,
          "temperature": 1.5
         },
         {
          "crystal": "p2",
          "error": 6.727701069612588e-10,
          "error_max": -3.2065467706567015e-08,
          "error_min": -3.341100792048953e-08,
          "iter_id": 4,
          "mean": -3.273823781352827e-08,
          "pressure": 13.5,
          "temp_norm": 1.111111111111111,
          "temperature": 1.5
         },
         {
          "crystal": "p2",
          "error": 6.381075905326369e-10,
          "error_max": -3.6544919025964774e-08,
          "error_min": -3.782113420703005e-08,
          "iter_id": 5,
          "mean": -3.718302661649741e-08,
          "pressure": 13.5,
          "temp_norm": 1.111111111111111,
          "temperature": 1.5
         },
         {
          "crystal": "p2",
          "error": 9.157739668239221e-10,
          "error_max": -1.746294042626877e-07,
          "error_min": -1.7646095219633556e-07,
          "iter_id": 1,
          "mean": -1.7554517822951164e-07,
          "pressure": 13.5,
          "temp_norm": 1.1851851851851851,
          "temperature": 1.6
         },
         {
          "crystal": "p2",
          "error": 8.803847285280505e-10,
          "error_max": -1.452321335179147e-07,
          "error_min": -1.4699290297497078e-07,
          "iter_id": 2,
          "mean": -1.4611251824644273e-07,
          "pressure": 13.5,
          "temp_norm": 1.1851851851851851,
          "temperature": 1.6
         },
         {
          "crystal": "p2",
          "error": 1.0184010818661982e-09,
          "error_max": -1.6076813879744446e-07,
          "error_min": -1.6280494096117686e-07,
          "iter_id": 3,
          "mean": -1.6178653987931066e-07,
          "pressure": 13.5,
          "temp_norm": 1.1851851851851851,
          "temperature": 1.6
         },
         {
          "crystal": "p2",
          "error": 8.506255639394615e-10,
          "error_max": -1.5960288636326325e-07,
          "error_min": -1.6130413749114215e-07,
          "iter_id": 4,
          "mean": -1.604535119272027e-07,
          "pressure": 13.5,
          "temp_norm": 1.1851851851851851,
          "temperature": 1.6
         },
         {
          "crystal": "p2",
          "error": 9.644736452894879e-10,
          "error_max": -1.5031449724547264e-07,
          "error_min": -1.522434445360516e-07,
          "iter_id": 5,
          "mean": -1.5127897089076212e-07,
          "pressure": 13.5,
          "temp_norm": 1.1851851851851851,
          "temperature": 1.6
         },
         {
          "crystal": "p2",
          "error": 8.271119452492159e-09,
          "error_max": -1.7026265197401708e-06,
          "error_min": -1.719168758645155e-06,
          "iter_id": 1,
          "mean": -1.710897639192663e-06,
          "pressure": 13.5,
          "temp_norm": 1.3333333333333333,
          "temperature": 1.8
         },
         {
          "crystal": "p2",
          "error": 9.414256756169946e-09,
          "error_max": -1.8440541944699611e-06,
          "error_min": -1.862882707982301e-06,
          "iter_id": 2,
          "mean": -1.853468451226131e-06,
          "pressure": 13.5,
          "temp_norm": 1.3333333333333333,
          "temperature": 1.8
         },
         {
          "crystal": "p2",
          "error": 7.480444429489967e-09,
          "error_max": -1.8681360378786808e-06,
          "error_min": -1.8830969267376605e-06,
          "iter_id": 3,
          "mean": -1.8756164823081707e-06,
          "pressure": 13.5,
          "temp_norm": 1.3333333333333333,
          "temperature": 1.8
         },
         {
          "crystal": "p2",
          "error": 4.164333441027041e-09,
          "error_max": -1.6514649872295503e-06,
          "error_min": -1.6597936541116042e-06,
          "iter_id": 4,
          "mean": -1.6556293206705773e-06,
          "pressure": 13.5,
          "temp_norm": 1.3333333333333333,
          "temperature": 1.8
         },
         {
          "crystal": "p2",
          "error": 1.0528558936088151e-08,
          "error_max": -1.4155510034283156e-06,
          "error_min": -1.4366081213004918e-06,
          "iter_id": 5,
          "mean": -1.4260795623644037e-06,
          "pressure": 13.5,
          "temp_norm": 1.3333333333333333,
          "temperature": 1.8
         },
         {
          "crystal": "p2",
          "error": 7.819795036180877e-08,
          "error_max": -8.76163489154407e-06,
          "error_min": -8.918030792267689e-06,
          "iter_id": 1,
          "mean": -8.83983284190588e-06,
          "pressure": 13.5,
          "temp_norm": 1.4814814814814814,
          "temperature": 2
         },
         {
          "crystal": "p2",
          "error": 7.869933624940374e-08,
          "error_max": -9.54578851631455e-06,
          "error_min": -9.703187188813358e-06,
          "iter_id": 2,
          "mean": -9.624487852563954e-06,
          "pressure": 13.5,
          "temp_norm": 1.4814814814814814,
          "temperature": 2
         },
         {
          "crystal": "p2",
          "error": 4.628953628245339e-08,
          "error_max": -8.813489222795023e-06,
          "error_min": -8.906068295359931e-06,
          "iter_id": 3,
          "mean": -8.859778759077477e-06,
          "pressure": 13.5,
          "temp_norm": 1.4814814814814814,
          "temperature": 2
         },
         {
          "crystal": "p2",
          "error": 9.091310629532807e-08,
          "error_max": -9.180564936166758e-06,
          "error_min": -9.362391148757414e-06,
          "iter_id": 4,
          "mean": -9.271478042462086e-06,
          "pressure": 13.5,
          "temp_norm": 1.4814814814814814,
          "temperature": 2
         },
         {
          "crystal": "p2",
          "error": 1.2125585216529695e-07,
          "error_max": -1.1595493167273547e-05,
          "error_min": -1.183800487160414e-05,
          "iter_id": 5,
          "mean": -1.1716749019438844e-05,
          "pressure": 13.5,
          "temp_norm": 1.4814814814814814,
          "temperature": 2
         },
         {
          "crystal": "p2",
          "error": 8.036427096545148e-07,
          "error_max": -4.511364349960563e-05,
          "error_min": -4.6720928918914655e-05,
          "iter_id": 1,
          "mean": -4.5917286209260144e-05,
          "pressure": 13.5,
          "temp_norm": 1.6296296296296298,
          "temperature": 2.2
         },
         {
          "crystal": "p2",
          "error": 1.0960157621866987e-06,
          "error_max": -4.24226006839884e-05,
          "error_min": -4.4614632208361796e-05,
          "iter_id": 2,
          "mean": -4.35186164461751e-05,
          "pressure": 13.5,
          "temp_norm": 1.6296296296296298,
          "temperature": 2.2
         },
         {
          "crystal": "p2",
          "error": 7.751404793392692e-07,
          "error_max": -3.1269100997148506e-05,
          "error_min": -3.281938195582704e-05,
          "iter_id": 3,
          "mean": -3.204424147648777e-05,
          "pressure": 13.5,
          "temp_norm": 1.6296296296296298,
          "temperature": 2.2
         },
         {
          "crystal": "p2",
          "error": 6.712713168311958e-07,
          "error_max": -3.7443244924576186e-05,
          "error_min": -3.8785787558238583e-05,
          "iter_id": 4,
          "mean": -3.8114516241407385e-05,
          "pressure": 13.5,
          "temp_norm": 1.6296296296296298,
          "temperature": 2.2
         },
         {
          "crystal": "p2",
          "error": 5.042338363113686e-07,
          "error_max": -3.625302211127783e-05,
          "error_min": -3.726148978390057e-05,
          "iter_id": 5,
          "mean": -3.67572559475892e-05,
          "pressure": 13.5,
          "temp_norm": 1.6296296296296298,
          "temperature": 2.2
         }
        ]
       },
       "layer": [
        {
         "encoding": {
          "color": {
           "field": "pressure",
           "type": "nominal"
          },
          "x": {
           "field": "temp_norm",
           "scale": {
            "zero": false
           },
           "type": "quantitative"
          },
          "y": {
           "axis": {
            "format": "e"
           },
           "field": "mean",
           "scale": {
            "type": "linear"
           },
           "type": "quantitative"
          }
         },
         "mark": "point"
        },
        {
         "encoding": {
          "color": {
           "field": "pressure",
           "type": "nominal"
          },
          "x": {
           "field": "temp_norm",
           "scale": {
            "zero": false
           },
           "type": "quantitative"
          },
          "y": {
           "field": "error_min",
           "type": "quantitative"
          },
          "y2": {
           "field": "error_max"
          }
         },
         "mark": "rule"
        }
       ]
      },
      "image/png": "[encoded data removed]",
      "text/plain": [
       "<VegaLite 3 object>\n",
       "\n",
       "If you see this message, it means the renderer has not been properly enabled\n",
       "for the frontend that you are using. For more information, see\n",
       "https://altair-viz.github.io/user_guide/troubleshooting.html\n"
      ]
     },
     "execution_count": 4,
     "metadata": {},
     "output_type": "execute_result"
    }
   ],
   "source": [
    "chart = alt.Chart(rates_df).encode(\n",
    "    x=alt.X(\"temp_norm\", scale=alt.Scale(zero=False)),\n",
    "    y=alt.Y('mean', scale=alt.Scale(type='linear'), axis=alt.Axis(format='e')),\n",
    "    color=\"pressure:N\",\n",
    "    \n",
    ")\n",
    "\n",
    "chart.mark_point() + chart.mark_rule().encode(y=\"error_min\", y2=\"error_max\")"
   ]
  },
  {
   "cell_type": "code",
   "execution_count": 5,
   "metadata": {},
   "outputs": [],
   "source": [
    "melt_value = rates_df.groupby([\"temperature\",\"pressure\", \"temp_norm\"])[\"mean\"].mean()\n",
    "melt_err = rates_df.groupby([\"temperature\", \"pressure\", \"temp_norm\"])[\"mean\"].sem()\n",
    "melt_frac_err = melt_err / melt_value\n",
    "melt_df = pandas.DataFrame({\n",
    "    \"value\": melt_value,\n",
    "    \"error\": melt_err,\n",
    "    \"error_frac\": melt_frac_err,\n",
    "    \"error_min\": melt_value - 2 * melt_err,\n",
    "    \"error_max\": melt_value + 2 * melt_err,\n",
    "})"
   ]
  },
  {
   "cell_type": "code",
   "execution_count": 6,
   "metadata": {},
   "outputs": [
    {
     "data": {
      "application/vnd.vegalite.v3+json": {
       "$schema": "https://vega.github.io/schema/vega-lite/v3.3.0.json",
       "config": {
        "axis": {
         "grid": false,
         "labelFontSize": 16,
         "titleFontSize": 20
        },
        "background": "white",
        "header": {
         "labelFontSize": 18,
         "titleFontSize": 22
        },
        "legend": {
         "labelFontSize": 16,
         "titleFontSize": 20
        },
        "view": {
         "height": 400,
         "width": 600
        }
       },
       "data": {
        "name": "data-bb38779366b6201f53f9ad2009a105cb"
       },
       "datasets": {
        "data-bb38779366b6201f53f9ad2009a105cb": [
         {
          "error": 1.1305377224738386e-09,
          "error_frac": -0.19680973184093864,
          "error_max": -3.483242744498044e-09,
          "error_min": -8.005393634393398e-09,
          "pressure": 1,
          "temp_norm": 1.0555555555555556,
          "temperature": 0.38,
          "value": -5.744318189445721e-09
         },
         {
          "error": 4.0352843986731716e-10,
          "error_frac": -0.02894726808792471,
          "error_max": -1.3133064814707687e-08,
          "error_min": -1.4747178574176955e-08,
          "pressure": 1,
          "temp_norm": 1.0833333333333335,
          "temperature": 0.39,
          "value": -1.3940121694442321e-08
         },
         {
          "error": 1.2620238805583592e-09,
          "error_frac": -0.056400469351090984,
          "error_max": -1.9852075967611564e-08,
          "error_min": -2.4900171489845003e-08,
          "pressure": 1,
          "temp_norm": 1.1111111111111112,
          "temperature": 0.4,
          "value": -2.2376123728728283e-08
         },
         {
          "error": 3.624233900534545e-08,
          "error_frac": -0.05251179057972902,
          "error_max": -6.176905874912245e-07,
          "error_min": -7.626599435126062e-07,
          "pressure": 1,
          "temp_norm": 1.25,
          "temperature": 0.45,
          "value": -6.901752655019153e-07
         },
         {
          "error": 1.1842193506618023e-07,
          "error_frac": -0.025765803851149308,
          "error_max": -4.359245417448625e-06,
          "error_min": -4.832933157713346e-06,
          "pressure": 1,
          "temp_norm": 1.3888888888888888,
          "temperature": 0.5,
          "value": -4.5960892875809855e-06
         },
         {
          "error": 4.998009002538246e-07,
          "error_frac": -0.02594183339091349,
          "error_max": -1.8266611682649144e-05,
          "error_min": -2.0265815283664442e-05,
          "pressure": 1,
          "temp_norm": 1.527777777777778,
          "temperature": 0.55,
          "value": -1.9266213483156793e-05
         },
         {
          "error": 1.2569377270548205e-06,
          "error_frac": -0.018551272712100678,
          "error_max": -6.524092210406229e-05,
          "error_min": -7.026867301228158e-05,
          "pressure": 1,
          "temp_norm": 1.6666666666666667,
          "temperature": 0.6,
          "value": -6.775479755817193e-05
         },
         {
          "error": 6.438721532273783e-10,
          "error_frac": -0.12507699090672916,
          "error_max": -3.86006224501176e-09,
          "error_min": -6.435550857921273e-09,
          "pressure": 13.5,
          "temp_norm": 1.037037037037037,
          "temperature": 1.4,
          "value": -5.147806551466516e-09
         },
         {
          "error": 3.927118968774284e-10,
          "error_frac": -0.02714737822733316,
          "error_max": -1.3680499714174502e-08,
          "error_min": -1.5251347301684214e-08,
          "pressure": 13.5,
          "temp_norm": 1.074074074074074,
          "temperature": 1.45,
          "value": -1.4465923507929359e-08
         },
         {
          "error": 1.0897885545021958e-09,
          "error_frac": -0.03277192573058451,
          "error_max": -3.107414632065501e-08,
          "error_min": -3.543330053866379e-08,
          "pressure": 13.5,
          "temp_norm": 1.111111111111111,
          "temperature": 1.5,
          "value": -3.32537234296594e-08
         },
         {
          "error": 5.046363317224333e-09,
          "error_frac": -0.03173108062363292,
          "error_max": -1.489426172001973e-07,
          "error_min": -1.6912807046909462e-07,
          "pressure": 13.5,
          "temp_norm": 1.1851851851851851,
          "temperature": 1.6,
          "value": -1.5903534383464596e-07
         },
         {
          "error": 8.106156068323425e-08,
          "error_frac": -0.04756189607664358,
          "error_max": -1.542215169785921e-06,
          "error_min": -1.8664614125188577e-06,
          "pressure": 13.5,
          "temp_norm": 1.3333333333333333,
          "temperature": 1.8,
          "value": -1.7043382911523893e-06
         },
         {
          "error": 5.336396146328722e-07,
          "error_frac": -0.05522810151382761,
          "error_max": -8.595186073823906e-06,
          "error_min": -1.0729744532355393e-05,
          "pressure": 13.5,
          "temp_norm": 1.4814814814814814,
          "temperature": 2,
          "value": -9.66246530308965e-06
         },
         {
          "error": 2.4708072218353985e-06,
          "error_frac": -0.06291782805412212,
          "error_max": -3.432876882051312e-05,
          "error_min": -4.421199770785471e-05,
          "pressure": 13.5,
          "temp_norm": 1.6296296296296298,
          "temperature": 2.2,
          "value": -3.9270383264183914e-05
         }
        ]
       },
       "layer": [
        {
         "layer": [
          {
           "encoding": {
            "color": {
             "field": "pressure",
             "title": "Pressure",
             "type": "nominal"
            },
            "x": {
             "field": "temp_norm",
             "scale": {
              "zero": false
             },
             "title": "T/Tₘ",
             "type": "quantitative"
            },
            "y": {
             "axis": {
              "format": "e"
             },
             "field": "value",
             "title": "Melting Rate",
             "type": "quantitative"
            }
           },
           "mark": "point"
          },
          {
           "encoding": {
            "color": {
             "field": "pressure",
             "title": "Pressure",
             "type": "nominal"
            },
            "x": {
             "field": "temp_norm",
             "scale": {
              "zero": false
             },
             "title": "T/Tₘ",
             "type": "quantitative"
            },
            "y": {
             "field": "error_min",
             "type": "quantitative"
            },
            "y2": {
             "field": "error_max"
            }
           },
           "mark": "rule"
          }
         ]
        },
        {
         "encoding": {
          "y": {
           "field": "val",
           "type": "quantitative"
          }
         },
         "mark": {
          "color": "grey",
          "type": "rule"
         }
        }
       ],
       "transform": [
        {
         "as": "val",
         "calculate": "0"
        }
       ]
      },
      "image/png": "[encoded data removed]",
      "text/plain": [
       "<VegaLite 3 object>\n",
       "\n",
       "If you see this message, it means the renderer has not been properly enabled\n",
       "for the frontend that you are using. For more information, see\n",
       "https://altair-viz.github.io/user_guide/troubleshooting.html\n"
      ]
     },
     "execution_count": 6,
     "metadata": {},
     "output_type": "execute_result"
    }
   ],
   "source": [
    "chart = alt.Chart(melt_df.reset_index()).encode(\n",
    "    x=alt.X(\"temp_norm\", title=\"T/Tₘ\", scale=alt.Scale(zero=False)),\n",
    "    color=alt.Color(\"pressure:N\", title=\"Pressure\"),\n",
    ")\n",
    "\n",
    "chart = (\n",
    "    chart.mark_point().encode(\n",
    "        y=alt.Y(\n",
    "            \"value\", \n",
    "            title=\"Melting Rate\", \n",
    "            axis=alt.Axis(format='e'),\n",
    "        )\n",
    "    ) +\n",
    "    chart.mark_rule().encode(\n",
    "        y=\"error_min\", \n",
    "        y2=\"error_max\"\n",
    "    )\n",
    ")\n",
    "\n",
    "chart = figures.hline(chart, 0)\n",
    "chart"
   ]
  },
  {
   "cell_type": "code",
   "execution_count": 7,
   "metadata": {},
   "outputs": [],
   "source": [
    "chart.save(\"../figures/growth_rates_err.svg\", webdriver=\"firefox\")"
   ]
  },
  {
   "cell_type": "code",
   "execution_count": 8,
   "metadata": {},
   "outputs": [],
   "source": [
    "mean = rates_df.groupby([\"temperature\",\"pressure\", \"temp_norm\"])[\"mean\"].mean()\n",
    "err = rates_df.groupby([\"temperature\", \"pressure\", \"temp_norm\"])[\"mean\"].std()"
   ]
  },
  {
   "cell_type": "markdown",
   "metadata": {},
   "source": [
    "## Error in Rotational Relaxation"
   ]
  },
  {
   "cell_type": "code",
   "execution_count": 9,
   "metadata": {},
   "outputs": [],
   "source": [
    "with pandas.HDFStore('../data/analysis/dynamics_clean_agg.h5') as store:\n",
    "    relax_df = store.get(\"relaxations\")"
   ]
  },
  {
   "cell_type": "code",
   "execution_count": 10,
   "metadata": {},
   "outputs": [],
   "source": [
    "rot_value = relax_df.groupby([\"temperature\", \"pressure\"])[\"rot2_value\"].mean()\n",
    "rot_err = np.maximum((relax_df[\"rot2_value\"] - relax_df[\"rot2_lower\"]).values, (relax_df[\"rot2_upper\"] - relax_df[\"rot2_value\"]).values)\n",
    "rot_frac_err = rot_err / rot_value\n",
    "\n",
    "rot_df = pandas.DataFrame({\n",
    "    \"value\": rot_value,\n",
    "    \"error\": rot_err,\n",
    "    \"error_frac\": rot_frac_err,\n",
    "})"
   ]
  },
  {
   "cell_type": "code",
   "execution_count": 11,
   "metadata": {},
   "outputs": [
    {
     "data": {
      "text/html": [
       "<div>\n",
       "<style scoped>\n",
       "    .dataframe tbody tr th:only-of-type {\n",
       "        vertical-align: middle;\n",
       "    }\n",
       "\n",
       "    .dataframe tbody tr th {\n",
       "        vertical-align: top;\n",
       "    }\n",
       "\n",
       "    .dataframe thead th {\n",
       "        text-align: right;\n",
       "    }\n",
       "</style>\n",
       "<table border=\"1\" class=\"dataframe\">\n",
       "  <thead>\n",
       "    <tr style=\"text-align: right;\">\n",
       "      <th></th>\n",
       "      <th></th>\n",
       "      <th></th>\n",
       "      <th>value_melt</th>\n",
       "      <th>error_melt</th>\n",
       "      <th>error_frac_melt</th>\n",
       "      <th>error_min</th>\n",
       "      <th>error_max</th>\n",
       "      <th>value_rot</th>\n",
       "      <th>error_rot</th>\n",
       "      <th>error_frac_rot</th>\n",
       "    </tr>\n",
       "    <tr>\n",
       "      <th>temperature</th>\n",
       "      <th>pressure</th>\n",
       "      <th>temp_norm</th>\n",
       "      <th></th>\n",
       "      <th></th>\n",
       "      <th></th>\n",
       "      <th></th>\n",
       "      <th></th>\n",
       "      <th></th>\n",
       "      <th></th>\n",
       "      <th></th>\n",
       "    </tr>\n",
       "  </thead>\n",
       "  <tbody>\n",
       "    <tr>\n",
       "      <th>0.38</th>\n",
       "      <th>1.0</th>\n",
       "      <th>1.055556</th>\n",
       "      <td>-5.744318e-09</td>\n",
       "      <td>1.130538e-09</td>\n",
       "      <td>-0.196810</td>\n",
       "      <td>-8.005394e-09</td>\n",
       "      <td>-3.483243e-09</td>\n",
       "      <td>1979280.000</td>\n",
       "      <td>38164.0000</td>\n",
       "      <td>0.019282</td>\n",
       "    </tr>\n",
       "    <tr>\n",
       "      <th>0.39</th>\n",
       "      <th>1.0</th>\n",
       "      <th>1.083333</th>\n",
       "      <td>-1.394012e-08</td>\n",
       "      <td>4.035284e-10</td>\n",
       "      <td>-0.028947</td>\n",
       "      <td>-1.474718e-08</td>\n",
       "      <td>-1.313306e-08</td>\n",
       "      <td>1206100.002</td>\n",
       "      <td>24090.0019</td>\n",
       "      <td>0.019973</td>\n",
       "    </tr>\n",
       "    <tr>\n",
       "      <th>0.40</th>\n",
       "      <th>1.0</th>\n",
       "      <th>1.111111</th>\n",
       "      <td>-2.237612e-08</td>\n",
       "      <td>1.262024e-09</td>\n",
       "      <td>-0.056400</td>\n",
       "      <td>-2.490017e-08</td>\n",
       "      <td>-1.985208e-08</td>\n",
       "      <td>655540.000</td>\n",
       "      <td>9322.0000</td>\n",
       "      <td>0.014220</td>\n",
       "    </tr>\n",
       "    <tr>\n",
       "      <th>0.45</th>\n",
       "      <th>1.0</th>\n",
       "      <th>1.250000</th>\n",
       "      <td>-6.901753e-07</td>\n",
       "      <td>3.624234e-08</td>\n",
       "      <td>-0.052512</td>\n",
       "      <td>-7.626599e-07</td>\n",
       "      <td>-6.176906e-07</td>\n",
       "      <td>157015.005</td>\n",
       "      <td>3300.7450</td>\n",
       "      <td>0.021022</td>\n",
       "    </tr>\n",
       "    <tr>\n",
       "      <th>0.50</th>\n",
       "      <th>1.0</th>\n",
       "      <th>1.388889</th>\n",
       "      <td>-4.596089e-06</td>\n",
       "      <td>1.184219e-07</td>\n",
       "      <td>-0.025766</td>\n",
       "      <td>-4.832933e-06</td>\n",
       "      <td>-4.359245e-06</td>\n",
       "      <td>58404.000</td>\n",
       "      <td>516.1000</td>\n",
       "      <td>0.008837</td>\n",
       "    </tr>\n",
       "  </tbody>\n",
       "</table>\n",
       "</div>"
      ],
      "text/plain": [
       "                                  value_melt    error_melt  error_frac_melt  \\\n",
       "temperature pressure temp_norm                                                \n",
       "0.38        1.0      1.055556  -5.744318e-09  1.130538e-09        -0.196810   \n",
       "0.39        1.0      1.083333  -1.394012e-08  4.035284e-10        -0.028947   \n",
       "0.40        1.0      1.111111  -2.237612e-08  1.262024e-09        -0.056400   \n",
       "0.45        1.0      1.250000  -6.901753e-07  3.624234e-08        -0.052512   \n",
       "0.50        1.0      1.388889  -4.596089e-06  1.184219e-07        -0.025766   \n",
       "\n",
       "                                   error_min     error_max    value_rot  \\\n",
       "temperature pressure temp_norm                                            \n",
       "0.38        1.0      1.055556  -8.005394e-09 -3.483243e-09  1979280.000   \n",
       "0.39        1.0      1.083333  -1.474718e-08 -1.313306e-08  1206100.002   \n",
       "0.40        1.0      1.111111  -2.490017e-08 -1.985208e-08   655540.000   \n",
       "0.45        1.0      1.250000  -7.626599e-07 -6.176906e-07   157015.005   \n",
       "0.50        1.0      1.388889  -4.832933e-06 -4.359245e-06    58404.000   \n",
       "\n",
       "                                 error_rot  error_frac_rot  \n",
       "temperature pressure temp_norm                              \n",
       "0.38        1.0      1.055556   38164.0000        0.019282  \n",
       "0.39        1.0      1.083333   24090.0019        0.019973  \n",
       "0.40        1.0      1.111111    9322.0000        0.014220  \n",
       "0.45        1.0      1.250000    3300.7450        0.021022  \n",
       "0.50        1.0      1.388889     516.1000        0.008837  "
      ]
     },
     "execution_count": 11,
     "metadata": {},
     "output_type": "execute_result"
    }
   ],
   "source": [
    "all_df = melt_df.reset_index(\"temp_norm\").join(rot_df, lsuffix=\"_melt\", rsuffix=\"_rot\").set_index('temp_norm', append=True)\n",
    "all_df.head()"
   ]
  },
  {
   "cell_type": "code",
   "execution_count": 12,
   "metadata": {},
   "outputs": [],
   "source": [
    "value = all_df[\"value_melt\"] * all_df[\"value_rot\"]\n",
    "err_frac = all_df[\"error_frac_melt\"].abs() + all_df[\"error_frac_rot\"].abs()\n",
    "error = value * err_frac\n",
    "\n",
    "melt_values = pandas.DataFrame({\n",
    "    \"value\": value,\n",
    "    \"error\": error,\n",
    "    \"error_min\": value - 2 * error,\n",
    "    \"error_max\": value + 2 * error,\n",
    "}).reset_index().dropna()"
   ]
  },
  {
   "cell_type": "code",
   "execution_count": 13,
   "metadata": {},
   "outputs": [
    {
     "data": {
      "application/vnd.vegalite.v3+json": {
       "$schema": "https://vega.github.io/schema/vega-lite/v3.3.0.json",
       "config": {
        "axis": {
         "grid": false,
         "labelFontSize": 16,
         "titleFontSize": 20
        },
        "background": "white",
        "header": {
         "labelFontSize": 18,
         "titleFontSize": 22
        },
        "legend": {
         "labelFontSize": 16,
         "titleFontSize": 20
        },
        "view": {
         "height": 400,
         "width": 600
        }
       },
       "data": {
        "name": "data-20dbea62173b89684b813c209ff6556a"
       },
       "datasets": {
        "data-20dbea62173b89684b813c209ff6556a": [
         {
          "error": -0.0024568768627200254,
          "error_max": -0.016283367831446176,
          "error_min": -0.006455860380566075,
          "pressure": 1,
          "temp_norm": 1.0555555555555556,
          "temperature": 0.38,
          "value": -0.011369614106006126
         },
         {
          "error": -0.0008225132102363786,
          "error_max": -0.018458207224019887,
          "error_min": -0.01516815438307437,
          "pressure": 1,
          "temp_norm": 1.0833333333333335,
          "temperature": 0.39,
          "value": -0.01681318080354713
         },
         {
          "error": -0.0010358973600604318,
          "error_max": -0.0167402388692514,
          "error_min": -0.012596649429009675,
          "pressure": 1,
          "temp_norm": 1.1111111111111112,
          "temperature": 0.4,
          "value": -0.014668444149130539
         },
         {
          "error": -0.00796868359686513,
          "error_max": -0.12430523995738983,
          "error_min": -0.09243050556992931,
          "pressure": 1,
          "temp_norm": 1.25,
          "temperature": 0.45,
          "value": -0.10836787276365957
         },
         {
          "error": -0.009288356376925731,
          "error_max": -0.28700671150573137,
          "error_min": -0.24985328599802842,
          "pressure": 1,
          "temp_norm": 1.3888888888888888,
          "temperature": 0.5,
          "value": -0.2684299987518799
         },
         {
          "error": -0.024758736956987833,
          "error_max": -0.7365506467233469,
          "error_min": -0.6375156988953956,
          "pressure": 1,
          "temp_norm": 1.527777777777778,
          "temperature": 0.55,
          "value": -0.6870331728093713
         },
         {
          "error": -0.04672452832965858,
          "error_max": -1.5894749867437534,
          "error_min": -1.4025768734251192,
          "pressure": 1,
          "temp_norm": 1.6666666666666667,
          "temperature": 0.6,
          "value": -1.4960259300844363
         },
         {
          "error": -0.0021766647342293514,
          "error_max": -0.019961478932505182,
          "error_min": -0.011254819995587775,
          "pressure": 13.5,
          "temp_norm": 1.037037037037037,
          "temperature": 1.4,
          "value": -0.015608149464046478
         },
         {
          "error": -0.0012958685524579673,
          "error_max": -0.03156408876446055,
          "error_min": -0.02638061455462868,
          "pressure": 13.5,
          "temp_norm": 1.074074074074074,
          "temperature": 1.45,
          "value": -0.028972351659544614
         },
         {
          "error": -0.0019471566389223773,
          "error_max": -0.04171177771099061,
          "error_min": -0.0339231511553011,
          "pressure": 13.5,
          "temp_norm": 1.111111111111111,
          "temperature": 1.5,
          "value": -0.037817464433145855
         },
         {
          "error": -0.003056480834504849,
          "error_max": -0.06473252975595299,
          "error_min": -0.05250660641793359,
          "pressure": 13.5,
          "temp_norm": 1.1851851851851851,
          "temperature": 1.6,
          "value": -0.05861956808694329
         },
         {
          "error": -0.011100687031275711,
          "error_max": -0.2025810677261591,
          "error_min": -0.15817831960105624,
          "pressure": 13.5,
          "temp_norm": 1.3333333333333333,
          "temperature": 1.8,
          "value": -0.18037969366360768
         },
         {
          "error": -0.02976397888163613,
          "error_max": -0.5048179080690375,
          "error_min": -0.385761992542493,
          "pressure": 13.5,
          "temp_norm": 1.4814814814814814,
          "temperature": 2,
          "value": -0.44528995030576524
         },
         {
          "error": -0.06895296876967448,
          "error_max": -1.0403393449502953,
          "error_min": -0.7645274698715974,
          "pressure": 13.5,
          "temp_norm": 1.6296296296296298,
          "temperature": 2.2,
          "value": -0.9024334074109464
         }
        ]
       },
       "layer": [
        {
         "layer": [
          {
           "encoding": {
            "color": {
             "field": "pressure",
             "title": "Pressure",
             "type": "nominal"
            },
            "x": {
             "field": "temp_norm",
             "scale": {
              "zero": false
             },
             "title": "T/Tₘ",
             "type": "quantitative"
            },
            "y": {
             "field": "value",
             "title": "Rotational Relaxation × Melting Rate",
             "type": "quantitative"
            }
           },
           "mark": "point"
          },
          {
           "encoding": {
            "color": {
             "field": "pressure",
             "title": "Pressure",
             "type": "nominal"
            },
            "x": {
             "field": "temp_norm",
             "scale": {
              "zero": false
             },
             "title": "T/Tₘ",
             "type": "quantitative"
            },
            "y": {
             "field": "error_min",
             "type": "quantitative"
            },
            "y2": {
             "field": "error_max"
            }
           },
           "mark": "rule"
          }
         ]
        },
        {
         "encoding": {
          "y": {
           "field": "val",
           "type": "quantitative"
          }
         },
         "mark": {
          "color": "grey",
          "type": "rule"
         }
        }
       ],
       "transform": [
        {
         "as": "val",
         "calculate": "0"
        }
       ]
      },
      "image/png": "[encoded data removed]",
      "text/plain": [
       "<VegaLite 3 object>\n",
       "\n",
       "If you see this message, it means the renderer has not been properly enabled\n",
       "for the frontend that you are using. For more information, see\n",
       "https://altair-viz.github.io/user_guide/troubleshooting.html\n"
      ]
     },
     "execution_count": 13,
     "metadata": {},
     "output_type": "execute_result"
    }
   ],
   "source": [
    "chart = alt.Chart(melt_values).encode(\n",
    "    x=alt.X(\"temp_norm\", title=\"T/Tₘ\", scale=alt.Scale(zero=False)),\n",
    "    color=alt.Color(\"pressure:N\", title=\"Pressure\"),\n",
    ")\n",
    "\n",
    "c = (\n",
    "    chart.mark_point().encode(y=alt.Y(\"value\", title=\"Rotational Relaxation × Melting Rate\")) +\n",
    "    chart.mark_rule().encode(y=\"error_min\", y2=\"error_max\")\n",
    ")\n",
    "\n",
    "c = figures.hline(c, 0)\n",
    "c"
   ]
  },
  {
   "cell_type": "markdown",
   "metadata": {},
   "source": [
    "## Fitting to Theory\n",
    "\n",
    "When fitting a curve to the data\n",
    "it is required to take into account\n",
    "the errors in the data."
   ]
  },
  {
   "cell_type": "code",
   "execution_count": 14,
   "metadata": {},
   "outputs": [],
   "source": [
    "def fit_curve(x_vals, y_vals, errors=None, delta_E=None):\n",
    "    if delta_E is None:\n",
    "        def theory(x, c, d):\n",
    "            result = 1 - np.exp((1-x) * d / x)\n",
    "            return c * result\n",
    "    else:\n",
    "        def theory(x, c):\n",
    "            result = 1 - np.exp((1-x) * delta_E / x)\n",
    "            return c * result\n",
    "    \n",
    "    opt, err = scipy.optimize.curve_fit(\n",
    "        theory, \n",
    "        x_vals, \n",
    "        y_vals,\n",
    "        sigma=errors,\n",
    "        maxfev=2000,\n",
    "    )\n",
    "    \n",
    "    return theory, opt, err"
   ]
  },
  {
   "cell_type": "code",
   "execution_count": 15,
   "metadata": {},
   "outputs": [],
   "source": [
    "import matplotlib.pyplot as plt\n",
    "\n",
    "x = np.arange(0.95, 2.0, 0.05)\n",
    "\n",
    "p1_values = melt_values.query(\"pressure == 1.00\")\n",
    "p13_values = melt_values.query(\"pressure == 13.50\")\n",
    "\n",
    "theory1, opt1, err1 = fit_curve(p1_values[\"temp_norm\"], p1_values[\"value\"], p1_values[\"error\"], -0.18034612159032992)\n",
    "theory13, opt13, err13 = fit_curve(p13_values[\"temp_norm\"], p13_values[\"value\"], p13_values[\"error\"], -0.06561802006526474)"
   ]
  },
  {
   "cell_type": "code",
   "execution_count": 16,
   "metadata": {},
   "outputs": [],
   "source": [
    "y1 = theory1(x, *opt1)\n",
    "y13 = theory13(x, *opt13)"
   ]
  },
  {
   "cell_type": "code",
   "execution_count": 17,
   "metadata": {},
   "outputs": [],
   "source": [
    "theory_df = melt_values\n",
    "theory_df[\"theory\"] = 0.\n",
    "mask = theory_df[\"pressure\"] == 1.00\n",
    "theory_df.loc[mask, \"theory\"] = theory1(theory_df[\"temp_norm\"], *opt1)\n",
    "theory_df.loc[~mask, \"theory\"] = theory13(theory_df[\"temp_norm\"], *opt13)"
   ]
  },
  {
   "cell_type": "code",
   "execution_count": 18,
   "metadata": {},
   "outputs": [
    {
     "data": {
      "application/vnd.vegalite.v3+json": {
       "$schema": "https://vega.github.io/schema/vega-lite/v3.3.0.json",
       "config": {
        "axis": {
         "grid": false,
         "labelFontSize": 16,
         "titleFontSize": 20
        },
        "background": "white",
        "header": {
         "labelFontSize": 18,
         "titleFontSize": 22
        },
        "legend": {
         "labelFontSize": 16,
         "titleFontSize": 20
        },
        "view": {
         "height": 400,
         "width": 600
        }
       },
       "data": {
        "name": "data-419c04fcb378849f854654404b8713cc"
       },
       "datasets": {
        "data-419c04fcb378849f854654404b8713cc": [
         {
          "error": -0.0024568768627200254,
          "error_max": -0.016283367831446176,
          "error_min": -0.006455860380566075,
          "pressure": 1,
          "temp_norm": 1.0555555555555556,
          "temperature": 0.38,
          "theory": -0.013602972519371797,
          "value": -0.011369614106006126
         },
         {
          "error": -0.0008225132102363786,
          "error_max": -0.018458207224019887,
          "error_min": -0.01516815438307437,
          "pressure": 1,
          "temp_norm": 1.0833333333333335,
          "temperature": 0.39,
          "theory": -0.019924948934503493,
          "value": -0.01681318080354713
         },
         {
          "error": -0.0010358973600604318,
          "error_max": -0.0167402388692514,
          "error_min": -0.012596649429009675,
          "pressure": 1,
          "temp_norm": 1.1111111111111112,
          "temperature": 0.4,
          "theory": -0.02595653416211135,
          "value": -0.014668444149130539
         },
         {
          "error": -0.00796868359686513,
          "error_max": -0.12430523995738983,
          "error_min": -0.09243050556992931,
          "pressure": 1,
          "temp_norm": 1.25,
          "temperature": 0.45,
          "theory": -0.052385430986719016,
          "value": -0.10836787276365957
         },
         {
          "error": -0.009288356376925731,
          "error_max": -0.28700671150573137,
          "error_min": -0.24985328599802842,
          "pressure": 1,
          "temp_norm": 1.3888888888888888,
          "temperature": 0.5,
          "theory": -0.07387442094859308,
          "value": -0.2684299987518799
         },
         {
          "error": -0.024758736956987833,
          "error_max": -0.7365506467233469,
          "error_min": -0.6375156988953956,
          "pressure": 1,
          "temp_norm": 1.527777777777778,
          "temperature": 0.55,
          "theory": -0.09168839535141063,
          "value": -0.6870331728093713
         },
         {
          "error": -0.04672452832965858,
          "error_max": -1.5894749867437534,
          "error_min": -1.4025768734251192,
          "pressure": 1,
          "temp_norm": 1.6666666666666667,
          "temperature": 0.6,
          "theory": -0.10669485369267703,
          "value": -1.4960259300844363
         },
         {
          "error": -0.0021766647342293514,
          "error_max": -0.019961478932505182,
          "error_min": -0.011254819995587775,
          "pressure": 13.5,
          "temp_norm": 1.037037037037037,
          "temperature": 1.4,
          "theory": -0.015377438174897519,
          "value": -0.015608149464046478
         },
         {
          "error": -0.0012958685524579673,
          "error_max": -0.03156408876446055,
          "error_min": -0.02638061455462868,
          "pressure": 13.5,
          "temp_norm": 1.074074074074074,
          "temperature": 1.45,
          "theory": -0.02972679438069014,
          "value": -0.028972351659544614
         },
         {
          "error": -0.0019471566389223773,
          "error_max": -0.04171177771099061,
          "error_min": -0.0339231511553011,
          "pressure": 13.5,
          "temp_norm": 1.111111111111111,
          "temperature": 1.5,
          "theory": -0.04314780359645689,
          "value": -0.037817464433145855
         },
         {
          "error": -0.003056480834504849,
          "error_max": -0.06473252975595299,
          "error_min": -0.05250660641793359,
          "pressure": 13.5,
          "temp_norm": 1.1851851851851851,
          "temperature": 1.6,
          "theory": -0.06754315385968752,
          "value": -0.05861956808694329
         },
         {
          "error": -0.011100687031275711,
          "error_max": -0.2025810677261591,
          "error_min": -0.15817831960105624,
          "pressure": 13.5,
          "temp_norm": 1.3333333333333333,
          "temperature": 1.8,
          "theory": -0.10840270220361273,
          "value": -0.18037969366360768
         },
         {
          "error": -0.02976397888163613,
          "error_max": -0.5048179080690375,
          "error_min": -0.385761992542493,
          "pressure": 13.5,
          "temp_norm": 1.4814814814814814,
          "temperature": 2,
          "theory": -0.1412717999143064,
          "value": -0.44528995030576524
         },
         {
          "error": -0.06895296876967448,
          "error_max": -1.0403393449502953,
          "error_min": -0.7645274698715974,
          "pressure": 13.5,
          "temp_norm": 1.6296296296296298,
          "temperature": 2.2,
          "theory": -0.1682852762197681,
          "value": -0.9024334074109464
         }
        ]
       },
       "layer": [
        {
         "layer": [
          {
           "encoding": {
            "color": {
             "field": "pressure",
             "title": "Pressure",
             "type": "nominal"
            },
            "x": {
             "field": "temp_norm",
             "scale": {
              "zero": false
             },
             "title": "T/Tₘ",
             "type": "quantitative"
            },
            "y": {
             "field": "value",
             "title": "Rotational Relaxation × Melting Rate",
             "type": "quantitative"
            }
           },
           "mark": "point"
          },
          {
           "encoding": {
            "color": {
             "field": "pressure",
             "title": "Pressure",
             "type": "nominal"
            },
            "x": {
             "field": "temp_norm",
             "scale": {
              "zero": false
             },
             "title": "T/Tₘ",
             "type": "quantitative"
            },
            "y": {
             "field": "error_min",
             "type": "quantitative"
            },
            "y2": {
             "field": "error_max"
            }
           },
           "mark": "rule"
          },
          {
           "encoding": {
            "color": {
             "field": "pressure",
             "title": "Pressure",
             "type": "nominal"
            },
            "x": {
             "field": "temp_norm",
             "scale": {
              "zero": false
             },
             "title": "T/Tₘ",
             "type": "quantitative"
            },
            "y": {
             "field": "theory",
             "type": "quantitative"
            }
           },
           "mark": "line"
          }
         ]
        },
        {
         "encoding": {
          "y": {
           "field": "val",
           "type": "quantitative"
          }
         },
         "mark": {
          "color": "grey",
          "type": "rule"
         }
        }
       ],
       "transform": [
        {
         "as": "val",
         "calculate": "0.0"
        }
       ]
      },
      "image/png": "[encoded data removed]",
      "text/plain": [
       "<VegaLite 3 object>\n",
       "\n",
       "If you see this message, it means the renderer has not been properly enabled\n",
       "for the frontend that you are using. For more information, see\n",
       "https://altair-viz.github.io/user_guide/troubleshooting.html\n"
      ]
     },
     "execution_count": 18,
     "metadata": {},
     "output_type": "execute_result"
    }
   ],
   "source": [
    "chart = alt.Chart(theory_df).encode(\n",
    "    x=alt.X(\"temp_norm\", title=\"T/Tₘ\", scale=alt.Scale(zero=False)),\n",
    "    color=alt.Color(\"pressure:N\", title=\"Pressure\"),\n",
    ")\n",
    "\n",
    "chart = (\n",
    "    chart.mark_point().encode(y=alt.Y(\"value\", title=\"Rotational Relaxation × Melting Rate\")) +\n",
    "    chart.mark_rule().encode(y=\"error_min\", y2=\"error_max\") +\n",
    "    chart.mark_line().encode(y=\"theory\")\n",
    ")\n",
    "\n",
    "chart = figures.hline(chart, 0.)\n",
    "chart"
   ]
  },
  {
   "cell_type": "code",
   "execution_count": 19,
   "metadata": {},
   "outputs": [],
   "source": [
    "chart.save(\"../figures/normalised_melting_err.svg\", webdriver=\"firefox\")"
   ]
  },
  {
   "cell_type": "code",
   "execution_count": 20,
   "metadata": {},
   "outputs": [],
   "source": [
    "p1_values_2 = melt_values.query(\"pressure == 1.00\")\n",
    "p13_values_2 = melt_values.query(\"pressure == 13.50\")\n",
    "\n",
    "theory1_2, opt1_2, err1_2 = fit_curve(\n",
    "    p1_values_2[\"temp_norm\"], \n",
    "    p1_values_2[\"value\"], \n",
    "    p1_values_2[\"error\"],\n",
    ")\n",
    "theory13_2, opt13_2, err13_2 = fit_curve(\n",
    "    p13_values_2[\"temp_norm\"], \n",
    "    p13_values_2[\"value\"], \n",
    "    p13_values_2[\"error\"],\n",
    ")"
   ]
  },
  {
   "cell_type": "code",
   "execution_count": 21,
   "metadata": {},
   "outputs": [],
   "source": [
    "theory_df_2 = melt_values\n",
    "theory_df_2[\"theory\"] = 0.\n",
    "mask = theory_df[\"pressure\"] == 1.00\n",
    "theory_df_2.loc[mask, \"theory\"] = theory1_2(theory_df_2[\"temp_norm\"], *opt1_2)\n",
    "theory_df_2.loc[~mask, \"theory\"] = theory13_2(theory_df_2[\"temp_norm\"], *opt13_2)"
   ]
  },
  {
   "cell_type": "code",
   "execution_count": 22,
   "metadata": {},
   "outputs": [
    {
     "data": {
      "application/vnd.vegalite.v3+json": {
       "$schema": "https://vega.github.io/schema/vega-lite/v3.3.0.json",
       "config": {
        "axis": {
         "grid": false,
         "labelFontSize": 16,
         "titleFontSize": 20
        },
        "background": "white",
        "header": {
         "labelFontSize": 18,
         "titleFontSize": 22
        },
        "legend": {
         "labelFontSize": 16,
         "titleFontSize": 20
        },
        "view": {
         "height": 400,
         "width": 600
        }
       },
       "data": {
        "name": "data-2fb43f60936e73d10517b8565133b1fb"
       },
       "datasets": {
        "data-2fb43f60936e73d10517b8565133b1fb": [
         {
          "error": -0.0024568768627200254,
          "error_max": -0.016283367831446176,
          "error_min": -0.006455860380566075,
          "pressure": 1,
          "temp_norm": 1.0555555555555556,
          "temperature": 0.38,
          "theory": -0.013594645513174575,
          "value": -0.011369614106006126
         },
         {
          "error": -0.0008225132102363786,
          "error_max": -0.018458207224019887,
          "error_min": -0.01516815438307437,
          "pressure": 1,
          "temp_norm": 1.0833333333333335,
          "temperature": 0.39,
          "theory": -0.019868962225911037,
          "value": -0.01681318080354713
         },
         {
          "error": -0.0010358973600604318,
          "error_max": -0.0167402388692514,
          "error_min": -0.012596649429009675,
          "pressure": 1,
          "temp_norm": 1.1111111111111112,
          "temperature": 0.4,
          "theory": -0.025829484092831638,
          "value": -0.014668444149130539
         },
         {
          "error": -0.00796868359686513,
          "error_max": -0.12430523995738983,
          "error_min": -0.09243050556992931,
          "pressure": 1,
          "temp_norm": 1.25,
          "temperature": 0.45,
          "theory": -0.05165752261187229,
          "value": -0.10836787276365957
         },
         {
          "error": -0.009288356376925731,
          "error_max": -0.28700671150573137,
          "error_min": -0.24985328599802842,
          "pressure": 1,
          "temp_norm": 1.3888888888888888,
          "temperature": 0.5,
          "theory": -0.0723189126683277,
          "value": -0.2684299987518799
         },
         {
          "error": -0.024758736956987833,
          "error_max": -0.7365506467233469,
          "error_min": -0.6375156988953956,
          "pressure": 1,
          "temp_norm": 1.527777777777778,
          "temperature": 0.55,
          "theory": -0.08922299827740188,
          "value": -0.6870331728093713
         },
         {
          "error": -0.04672452832965858,
          "error_max": -1.5894749867437534,
          "error_min": -1.4025768734251192,
          "pressure": 1,
          "temp_norm": 1.6666666666666667,
          "temperature": 0.6,
          "theory": -0.1033092632521043,
          "value": -1.4960259300844363
         },
         {
          "error": -0.0021766647342293514,
          "error_max": -0.019961478932505182,
          "error_min": -0.011254819995587775,
          "pressure": 13.5,
          "temp_norm": 1.037037037037037,
          "temperature": 1.4,
          "theory": -0.015411374788673068,
          "value": -0.015608149464046478
         },
         {
          "error": -0.0012958685524579673,
          "error_max": -0.03156408876446055,
          "error_min": -0.02638061455462868,
          "pressure": 13.5,
          "temp_norm": 1.074074074074074,
          "temperature": 1.45,
          "theory": -0.029759644715653642,
          "value": -0.028972351659544614
         },
         {
          "error": -0.0019471566389223773,
          "error_max": -0.04171177771099061,
          "error_min": -0.0339231511553011,
          "pressure": 13.5,
          "temp_norm": 1.111111111111111,
          "temperature": 1.5,
          "theory": -0.043151144575400854,
          "value": -0.037817464433145855
         },
         {
          "error": -0.003056480834504849,
          "error_max": -0.06473252975595299,
          "error_min": -0.05250660641793359,
          "pressure": 13.5,
          "temp_norm": 1.1851851851851851,
          "temperature": 1.6,
          "theory": -0.06742269978011545,
          "value": -0.05861956808694329
         },
         {
          "error": -0.011100687031275711,
          "error_max": -0.2025810677261591,
          "error_min": -0.15817831960105624,
          "pressure": 13.5,
          "temp_norm": 1.3333333333333333,
          "temperature": 1.8,
          "theory": -0.10787375006277587,
          "value": -0.18037969366360768
         },
         {
          "error": -0.02976397888163613,
          "error_max": -0.5048179080690375,
          "error_min": -0.385761992542493,
          "pressure": 13.5,
          "temp_norm": 1.4814814814814814,
          "temperature": 2,
          "theory": -0.14023320278931406,
          "value": -0.44528995030576524
         },
         {
          "error": -0.06895296876967448,
          "error_max": -1.0403393449502953,
          "error_min": -0.7645274698715974,
          "pressure": 13.5,
          "temp_norm": 1.6296296296296298,
          "temperature": 2.2,
          "theory": -0.16670820133694023,
          "value": -0.9024334074109464
         }
        ]
       },
       "layer": [
        {
         "layer": [
          {
           "encoding": {
            "color": {
             "field": "pressure",
             "title": "Pressure",
             "type": "nominal"
            },
            "x": {
             "field": "temp_norm",
             "scale": {
              "zero": false
             },
             "title": "T/Tₘ",
             "type": "quantitative"
            },
            "y": {
             "field": "value",
             "title": "Rotational Relaxation × Melting Rate",
             "type": "quantitative"
            }
           },
           "mark": "point"
          },
          {
           "encoding": {
            "color": {
             "field": "pressure",
             "title": "Pressure",
             "type": "nominal"
            },
            "x": {
             "field": "temp_norm",
             "scale": {
              "zero": false
             },
             "title": "T/Tₘ",
             "type": "quantitative"
            },
            "y": {
             "field": "error_min",
             "type": "quantitative"
            },
            "y2": {
             "field": "error_max"
            }
           },
           "mark": "rule"
          },
          {
           "encoding": {
            "color": {
             "field": "pressure",
             "title": "Pressure",
             "type": "nominal"
            },
            "x": {
             "field": "temp_norm",
             "scale": {
              "zero": false
             },
             "title": "T/Tₘ",
             "type": "quantitative"
            },
            "y": {
             "field": "theory",
             "type": "quantitative"
            }
           },
           "mark": "line"
          }
         ]
        },
        {
         "encoding": {
          "y": {
           "field": "val",
           "type": "quantitative"
          }
         },
         "mark": {
          "color": "grey",
          "type": "rule"
         }
        }
       ],
       "transform": [
        {
         "as": "val",
         "calculate": "0.0"
        }
       ]
      },
      "image/png": "[encoded data removed]",
      "text/plain": [
       "<VegaLite 3 object>\n",
       "\n",
       "If you see this message, it means the renderer has not been properly enabled\n",
       "for the frontend that you are using. For more information, see\n",
       "https://altair-viz.github.io/user_guide/troubleshooting.html\n"
      ]
     },
     "execution_count": 22,
     "metadata": {},
     "output_type": "execute_result"
    }
   ],
   "source": [
    "chart = alt.Chart(theory_df_2).encode(\n",
    "    x=alt.X(\"temp_norm\", title=\"T/Tₘ\", scale=alt.Scale(zero=False)),\n",
    "    color=alt.Color(\"pressure:N\", title=\"Pressure\"),\n",
    ")\n",
    "\n",
    "chart = (\n",
    "    chart.mark_point().encode(y=alt.Y(\"value\", title=\"Rotational Relaxation × Melting Rate\")) +\n",
    "    chart.mark_rule().encode(y=\"error_min\", y2=\"error_max\") +\n",
    "    chart.mark_line().encode(y=\"theory\")\n",
    ")\n",
    "\n",
    "chart = figures.hline(chart, 0.)\n",
    "chart"
   ]
  },
  {
   "cell_type": "code",
   "execution_count": 23,
   "metadata": {},
   "outputs": [
    {
     "data": {
      "text/plain": [
       "array([-8.49170823e+02,  5.08169144e-04])"
      ]
     },
     "execution_count": 23,
     "metadata": {},
     "output_type": "execute_result"
    }
   ],
   "source": [
    "opt13_2"
   ]
  },
  {
   "cell_type": "code",
   "execution_count": null,
   "metadata": {},
   "outputs": [],
   "source": []
  }
 ],
 "metadata": {
  "jupytext": {
   "formats": "ipynb,md"
  },
  "kernelspec": {
   "display_name": "crystal",
   "language": "python",
   "name": "crystal"
  },
  "language_info": {
   "codemirror_mode": {
    "name": "ipython",
    "version": 3
   },
   "file_extension": ".py",
   "mimetype": "text/x-python",
   "name": "python",
   "nbconvert_exporter": "python",
   "pygments_lexer": "ipython3",
   "version": "3.6.8"
  }
 },
 "nbformat": 4,
 "nbformat_minor": 4
}
