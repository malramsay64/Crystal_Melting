{
 "cells": [
  {
   "cell_type": "markdown",
   "metadata": {},
   "source": [
    "# Thermodynamics\n",
    "\n",
    "A thermodynamic analysis of the simulations. This is to develop the random initialisation of a configuration and to confirm the exising thermodynamic behaviour."
   ]
  },
  {
   "cell_type": "code",
   "execution_count": 13,
   "metadata": {},
   "outputs": [
    {
     "data": {
      "text/plain": [
       "ThemeRegistry.enable('opaque')"
      ]
     },
     "execution_count": 13,
     "metadata": {},
     "output_type": "execute_result"
    }
   ],
   "source": [
    "import pandas as pd\n",
    "import numpy as np\n",
    "import altair as alt\n",
    "\n",
    "from ipywidgets import interact\n",
    "\n",
    "alt.data_transformers.enable(\"csv\")\n",
    "alt.themes.enable(\"opaque\")"
   ]
  },
  {
   "cell_type": "markdown",
   "metadata": {},
   "source": [
    "## Hoomd Output\n",
    "\n",
    "I have logged many thermodynamic quantities throughout the hoomd simulations. Although I have separated these from the main simulation data, I can still process the files. The data file I am investigating is from the calculation of dynamics, meaning all the quatities should be a equilibrium."
   ]
  },
  {
   "cell_type": "code",
   "execution_count": 14,
   "metadata": {},
   "outputs": [],
   "source": [
    "thermo_file = '../data/simulations/interface/output/thermo-Trimer-P13.50-T1.50-p2gg.log'\n",
    "df = pd.read_csv(thermo_file, sep='\\t', index_col='timestep')"
   ]
  },
  {
   "cell_type": "code",
   "execution_count": 15,
   "metadata": {},
   "outputs": [
    {
     "data": {
      "text/plain": [
       "Index(['N', 'volume', 'momentum', 'temperature', 'pressure',\n",
       "       'potential_energy', 'kinetic_energy', 'translational_kinetic_energy',\n",
       "       'rotational_kinetic_energy', 'npt_thermostat_energy', 'lx', 'ly', 'lz',\n",
       "       'xy', 'xz', 'yz', 'temperature_rigid_center', 'pressure_rigid_center',\n",
       "       'potential_energy_rigid_center', 'kinetic_energy_rigid_center',\n",
       "       'translational_kinetic_energy_rigid_center',\n",
       "       'translational_ndof_rigid_center', 'rotational_ndof_rigid_center'],\n",
       "      dtype='object')"
      ]
     },
     "execution_count": 15,
     "metadata": {},
     "output_type": "execute_result"
    }
   ],
   "source": [
    "df.columns"
   ]
  },
  {
   "cell_type": "code",
   "execution_count": 22,
   "metadata": {},
   "outputs": [
    {
     "data": {
      "application/vnd.jupyter.widget-view+json": {
       "model_id": "46684ad6e4e64acea7b642cc121b185c",
       "version_major": 2,
       "version_minor": 0
      },
      "text/plain": [
       "interactive(children=(Dropdown(description='quantity', options=('N', 'volume', 'momentum', 'temperature', 'pre…"
      ]
     },
     "metadata": {},
     "output_type": "display_data"
    }
   ],
   "source": [
    "c = alt.Chart(df.reset_index()).mark_line().encode(\n",
    "        x=\"timestep\",\n",
    ")\n",
    "\n",
    "@interact(quantity=list(df.columns))\n",
    "def plot_thermo(quantity):\n",
    "    return c.encode(y=quantity) \n"
   ]
  },
  {
   "cell_type": "code",
   "execution_count": 23,
   "metadata": {},
   "outputs": [
    {
     "name": "stdout",
     "output_type": "stream",
     "text": [
      "The temperature of the simulation is 1.4999 which matches the intended temperature of 1.50\n"
     ]
    }
   ],
   "source": [
    "print(f\"The temperature of the simulation is {df.temperature.mean():.4f} \"\n",
    "      \"which matches the intended temperature of 1.50\")"
   ]
  },
  {
   "cell_type": "markdown",
   "metadata": {},
   "source": [
    "A feature I am particularly interested in is the calculation of the kinetic energy for each simulation"
   ]
  },
  {
   "cell_type": "code",
   "execution_count": 24,
   "metadata": {},
   "outputs": [],
   "source": [
    "from sdanalysis import HoomdFrame\n",
    "import gsd.hoomd"
   ]
  },
  {
   "cell_type": "code",
   "execution_count": 25,
   "metadata": {},
   "outputs": [],
   "source": [
    "trajectory = \"../data/simulations/dynamics/output/trajectory-Trimer-P13.50-T1.50.gsd\"\n",
    "with gsd.hoomd.open(trajectory) as traj:\n",
    "    snap = HoomdFrame(traj[0])"
   ]
  },
  {
   "cell_type": "markdown",
   "metadata": {},
   "source": [
    "It is relatively simple to calculate the translational kinetic energy for a configuration"
   ]
  },
  {
   "cell_type": "code",
   "execution_count": 26,
   "metadata": {},
   "outputs": [
    {
     "data": {
      "text/plain": [
       "1.5045644044876099"
      ]
     },
     "execution_count": 26,
     "metadata": {},
     "output_type": "execute_result"
    }
   ],
   "source": [
    "mass = 3\n",
    "trans_KE = 0.5 * 3 * np.mean(np.sum(np.square(snap.frame.particles.velocity[:snap.num_mols]), axis=1))\n",
    "trans_KE"
   ]
  },
  {
   "cell_type": "markdown",
   "metadata": {},
   "source": [
    "With the relationship $T=KE$, our kinetic energy is 3 times the expected value, and 3 times what hoomd is calculating. Which would mean it is using a mass of 1 for the molecules."
   ]
  }
 ],
 "metadata": {
  "kernelspec": {
   "display_name": "crystal",
   "language": "python",
   "name": "crystal"
  },
  "language_info": {
   "codemirror_mode": {
    "name": "ipython",
    "version": 3
   },
   "file_extension": ".py",
   "mimetype": "text/x-python",
   "name": "python",
   "nbconvert_exporter": "python",
   "pygments_lexer": "ipython3",
   "version": "3.6.8"
  }
 },
 "nbformat": 4,
 "nbformat_minor": 2
}
