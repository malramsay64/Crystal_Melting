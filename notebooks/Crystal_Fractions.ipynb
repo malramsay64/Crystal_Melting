{
 "cells": [
  {
   "cell_type": "markdown",
   "metadata": {},
   "source": [
    "# Crystal Melting Rates"
   ]
  },
  {
   "cell_type": "code",
   "execution_count": 5,
   "metadata": {},
   "outputs": [],
   "source": [
    "from ipywidgets import interact, ToggleButtons, fixed\n",
    "import numpy as np\n",
    "import pandas\n",
    "import altair as alt\n",
    "from altair import Chart, X, Y, Color, Scale, Axis, Column, Row, Legend, Header\n",
    "import scipy.stats "
   ]
  },
  {
   "cell_type": "code",
   "execution_count": 6,
   "metadata": {},
   "outputs": [
    {
     "ename": "FileNotFoundError",
     "evalue": "File ../data/analysis/melting.h5 does not exist",
     "output_type": "error",
     "traceback": [
      "\u001b[0;31m---------------------------------------------------------------------------\u001b[0m",
      "\u001b[0;31mFileNotFoundError\u001b[0m                         Traceback (most recent call last)",
      "\u001b[0;32m<ipython-input-6-a5aaa4d9db76>\u001b[0m in \u001b[0;36m<module>\u001b[0;34m()\u001b[0m\n\u001b[1;32m      1\u001b[0m \u001b[0;31m# Read file with melting data\u001b[0m\u001b[0;34m\u001b[0m\u001b[0;34m\u001b[0m\u001b[0m\n\u001b[0;32m----> 2\u001b[0;31m \u001b[0mnorm_df\u001b[0m \u001b[0;34m=\u001b[0m \u001b[0mpandas\u001b[0m\u001b[0;34m.\u001b[0m\u001b[0mread_hdf\u001b[0m\u001b[0;34m(\u001b[0m\u001b[0;34m'../data/analysis/melting.h5'\u001b[0m\u001b[0;34m,\u001b[0m \u001b[0;34m'fractions'\u001b[0m\u001b[0;34m,\u001b[0m \u001b[0mmode\u001b[0m\u001b[0;34m=\u001b[0m\u001b[0;34m'r'\u001b[0m\u001b[0;34m)\u001b[0m\u001b[0;34m\u001b[0m\u001b[0m\n\u001b[0m\u001b[1;32m      3\u001b[0m \u001b[0;34m\u001b[0m\u001b[0m\n\u001b[1;32m      4\u001b[0m \u001b[0mgroup_bys\u001b[0m \u001b[0;34m=\u001b[0m \u001b[0;34m[\u001b[0m\u001b[0;34m'crystal'\u001b[0m\u001b[0;34m,\u001b[0m \u001b[0;34m'temperature'\u001b[0m\u001b[0;34m,\u001b[0m \u001b[0;34m'state'\u001b[0m\u001b[0;34m,\u001b[0m \u001b[0;34m'pressure'\u001b[0m\u001b[0;34m]\u001b[0m\u001b[0;34m\u001b[0m\u001b[0m\n\u001b[1;32m      5\u001b[0m \u001b[0mtime_df\u001b[0m \u001b[0;34m=\u001b[0m \u001b[0mnorm_df\u001b[0m\u001b[0;34m.\u001b[0m\u001b[0mcopy\u001b[0m\u001b[0;34m(\u001b[0m\u001b[0;34m)\u001b[0m\u001b[0;34m\u001b[0m\u001b[0m\n",
      "\u001b[0;32m~/.miniconda/envs/crystal/lib/python3.6/site-packages/pandas/io/pytables.py\u001b[0m in \u001b[0;36mread_hdf\u001b[0;34m(path_or_buf, key, mode, **kwargs)\u001b[0m\n\u001b[1;32m    345\u001b[0m         \u001b[0;32mif\u001b[0m \u001b[0;32mnot\u001b[0m \u001b[0mexists\u001b[0m\u001b[0;34m:\u001b[0m\u001b[0;34m\u001b[0m\u001b[0m\n\u001b[1;32m    346\u001b[0m             raise compat.FileNotFoundError(\n\u001b[0;32m--> 347\u001b[0;31m                 'File %s does not exist' % path_or_buf)\n\u001b[0m\u001b[1;32m    348\u001b[0m \u001b[0;34m\u001b[0m\u001b[0m\n\u001b[1;32m    349\u001b[0m         \u001b[0mstore\u001b[0m \u001b[0;34m=\u001b[0m \u001b[0mHDFStore\u001b[0m\u001b[0;34m(\u001b[0m\u001b[0mpath_or_buf\u001b[0m\u001b[0;34m,\u001b[0m \u001b[0mmode\u001b[0m\u001b[0;34m=\u001b[0m\u001b[0mmode\u001b[0m\u001b[0;34m,\u001b[0m \u001b[0;34m**\u001b[0m\u001b[0mkwargs\u001b[0m\u001b[0;34m)\u001b[0m\u001b[0;34m\u001b[0m\u001b[0m\n",
      "\u001b[0;31mFileNotFoundError\u001b[0m: File ../data/analysis/melting.h5 does not exist"
     ]
    }
   ],
   "source": [
    "# Read file with melting data\n",
    "norm_df = pandas.read_hdf('../data/analysis/melting.h5', 'fractions', mode='r')\n",
    "\n",
    "group_bys = ['crystal', 'temperature', 'state', 'pressure']\n",
    "time_df = norm_df.copy()\n",
    "time_df.index = pandas.TimedeltaIndex(norm_df.time)\n",
    "time_df = time_df.groupby(group_bys).resample('1ms').mean().reset_index(group_bys)\n",
    "time_df.head()\n",
    "\n",
    "df_high = time_df.query('pressure == \"13.50\"')\n",
    "df_low = time_df.query('pressure == \"1.00\"')"
   ]
  },
  {
   "cell_type": "code",
   "execution_count": 51,
   "metadata": {},
   "outputs": [],
   "source": [
    "def create_figure(temp, dataset):\n",
    "    c = Chart(dataset.query(\"temperature == @temp\")).mark_line().encode(\n",
    "        x=X('time', \n",
    "            axis=Axis(format='e', title='Timesteps (t)'), \n",
    "            scale=Scale(domain=[0, 1e8])),\n",
    "        y=Y('percentage:Q', \n",
    "            axis=Axis(title='Percentage of Sites (%)'), \n",
    "            scale=Scale(domain=[0, 100])),\n",
    "        color=Color('state', legend=Legend(title='Classification')),\n",
    "        column=Column('crystal', header=Header(title='Initial Crystal')),\n",
    "        row=Row('pressure', header=Header(title='Pressure')),\n",
    "    ).transform_calculate(\n",
    "        'percentage', 'datum.fraction * 100'\n",
    "    )\n",
    "    return c\n",
    "\n",
    "def compute_melting_rates(df):\n",
    "    slopes = []\n",
    "    for index, group in df.groupby(['temperature', 'pressure', 'crystal']):\n",
    "        # find fraction melted\n",
    "        subgroup =  group.query('state == \"liq\" and fraction < 0.95')\n",
    "        if len(subgroup) < 5:\n",
    "            break\n",
    "        slope, *_ = scipy.stats.linregress(subgroup.time, subgroup.fraction)\n",
    "        slopes.append((*index, slope))\n",
    "\n",
    "    melt = pandas.DataFrame(slopes)\n",
    "    melt.columns = ['temperature', 'pressure', 'crys', 'melting_rate']\n",
    "    melt.temperature = melt.temperature.astype(float)\n",
    "    melt.melting_rate = - melt.melting_rate\n",
    "    return melt"
   ]
  },
  {
   "cell_type": "markdown",
   "metadata": {},
   "source": [
    "## Low Pressure"
   ]
  },
  {
   "cell_type": "code",
   "execution_count": 42,
   "metadata": {},
   "outputs": [
    {
     "data": {
      "application/vnd.jupyter.widget-view+json": {
       "model_id": "050bb0bf6c044d7cb3895cb315784731",
       "version_major": 2,
       "version_minor": 0
      },
      "text/html": [
       "<p>Failed to display Jupyter Widget of type <code>interactive</code>.</p>\n",
       "<p>\n",
       "  If you're reading this message in the Jupyter Notebook or JupyterLab Notebook, it may mean\n",
       "  that the widgets JavaScript is still loading. If this message persists, it\n",
       "  likely means that the widgets JavaScript library is either not installed or\n",
       "  not enabled. See the <a href=\"https://ipywidgets.readthedocs.io/en/stable/user_install.html\">Jupyter\n",
       "  Widgets Documentation</a> for setup instructions.\n",
       "</p>\n",
       "<p>\n",
       "  If you're reading this message in another frontend (for example, a static\n",
       "  rendering on GitHub or <a href=\"https://nbviewer.jupyter.org/\">NBViewer</a>),\n",
       "  it may mean that your frontend doesn't currently support widgets.\n",
       "</p>\n"
      ],
      "text/plain": [
       "interactive(children=(ToggleButtons(description='Temperature:', options=('0.30', '0.35', '0.40', '0.45', '0.50', '0.60', '0.80', '1.00', '1.20', '1.30'), value='0.30'), Output()), _dom_classes=('widget-interact',))"
      ]
     },
     "metadata": {},
     "output_type": "display_data"
    },
    {
     "data": {
      "text/plain": [
       "<function __main__.create_figure>"
      ]
     },
     "execution_count": 42,
     "metadata": {},
     "output_type": "execute_result"
    }
   ],
   "source": [
    "temp_select = ToggleButtons(\n",
    "    options=df_low.temperature.unique(),\n",
    "    description='Temperature:',\n",
    ")\n",
    "\n",
    "interact(create_figure, temp=temp_select, dataset=fixed(df_low))"
   ]
  },
  {
   "cell_type": "code",
   "execution_count": 43,
   "metadata": {},
   "outputs": [],
   "source": [
    "melt = compute_melting_rates(df_low)"
   ]
  },
  {
   "cell_type": "code",
   "execution_count": 45,
   "metadata": {},
   "outputs": [
    {
     "data": {
      "application/vnd.vegalite.v2+json": {
       "$schema": "https://vega.github.io/schema/vega-lite/v2.json",
       "config": {
        "view": {
         "height": 300,
         "width": 400
        }
       },
       "data": {
        "values": [
         {
          "crys": "p2",
          "melting_rate": -1.9808984789529465e-10,
          "pressure": "1.00",
          "temperature": 0.3
         },
         {
          "crys": "p2gg",
          "melting_rate": 2.9982987181430655e-10,
          "pressure": "1.00",
          "temperature": 0.3
         },
         {
          "crys": "pg",
          "melting_rate": -2.459278723870155e-10,
          "pressure": "1.00",
          "temperature": 0.3
         },
         {
          "crys": "p2",
          "melting_rate": 3.638384961342148e-11,
          "pressure": "1.00",
          "temperature": 0.35
         },
         {
          "crys": "p2gg",
          "melting_rate": -3.2004312159954074e-11,
          "pressure": "1.00",
          "temperature": 0.35
         },
         {
          "crys": "pg",
          "melting_rate": 1.6743308572102286e-10,
          "pressure": "1.00",
          "temperature": 0.35
         },
         {
          "crys": "p2",
          "melting_rate": -3.0818468172553808e-09,
          "pressure": "1.00",
          "temperature": 0.4
         },
         {
          "crys": "p2gg",
          "melting_rate": -5.003789984334735e-09,
          "pressure": "1.00",
          "temperature": 0.4
         },
         {
          "crys": "pg",
          "melting_rate": -2.81334748260818e-09,
          "pressure": "1.00",
          "temperature": 0.4
         },
         {
          "crys": "p2",
          "melting_rate": -2.57402260515101e-08,
          "pressure": "1.00",
          "temperature": 0.45
         },
         {
          "crys": "p2gg",
          "melting_rate": -3.636734212609701e-08,
          "pressure": "1.00",
          "temperature": 0.45
         },
         {
          "crys": "pg",
          "melting_rate": -2.245388852392744e-08,
          "pressure": "1.00",
          "temperature": 0.45
         }
        ]
       },
       "encoding": {
        "color": {
         "field": "crys",
         "legend": {
          "title": "Initial Crystal"
         },
         "type": "nominal"
        },
        "column": {
         "field": "pressure",
         "header": {
          "title": "Pressure"
         },
         "type": "nominal"
        },
        "x": {
         "axis": {
          "title": "Temperature"
         },
         "field": "temperature",
         "scale": {
          "zero": false
         },
         "type": "quantitative"
        },
        "y": {
         "axis": {
          "format": "e",
          "title": "Melting Rate (%/t)"
         },
         "field": "melting_rate",
         "type": "quantitative"
        }
       },
       "mark": "line"
      },
      "text/plain": [
       "<VegaLite 2 object>"
      ]
     },
     "execution_count": 45,
     "metadata": {},
     "output_type": "execute_result"
    }
   ],
   "source": [
    "Chart(melt).mark_line().encode(\n",
    "    x=X('temperature', axis=Axis(title='Temperature'), scale=Scale(zero=False)),\n",
    "    y=Y('melting_rate', axis=Axis(format='e', title='Melting Rate (%/t)')),\n",
    "    color=Color('crys', legend=alt.Legend(title='Initial Crystal')),\n",
    "    column=Column('pressure', header=alt.Header(title='Pressure')), \n",
    ")"
   ]
  },
  {
   "cell_type": "markdown",
   "metadata": {},
   "source": [
    "## High Pressure"
   ]
  },
  {
   "cell_type": "code",
   "execution_count": 53,
   "metadata": {},
   "outputs": [
    {
     "data": {
      "application/vnd.jupyter.widget-view+json": {
       "model_id": "d8eba7b654c947c69b472616eef3b4b8",
       "version_major": 2,
       "version_minor": 0
      },
      "text/html": [
       "<p>Failed to display Jupyter Widget of type <code>interactive</code>.</p>\n",
       "<p>\n",
       "  If you're reading this message in the Jupyter Notebook or JupyterLab Notebook, it may mean\n",
       "  that the widgets JavaScript is still loading. If this message persists, it\n",
       "  likely means that the widgets JavaScript library is either not installed or\n",
       "  not enabled. See the <a href=\"https://ipywidgets.readthedocs.io/en/stable/user_install.html\">Jupyter\n",
       "  Widgets Documentation</a> for setup instructions.\n",
       "</p>\n",
       "<p>\n",
       "  If you're reading this message in another frontend (for example, a static\n",
       "  rendering on GitHub or <a href=\"https://nbviewer.jupyter.org/\">NBViewer</a>),\n",
       "  it may mean that your frontend doesn't currently support widgets.\n",
       "</p>\n"
      ],
      "text/plain": [
       "interactive(children=(ToggleButtons(description='Temperature:', options=('1.30', '1.35', '1.40', '1.45', '1.50'), value='1.30'), Output()), _dom_classes=('widget-interact',))"
      ]
     },
     "metadata": {},
     "output_type": "display_data"
    },
    {
     "data": {
      "text/plain": [
       "<function __main__.create_figure>"
      ]
     },
     "execution_count": 53,
     "metadata": {},
     "output_type": "execute_result"
    }
   ],
   "source": [
    "temp_select = ToggleButtons(\n",
    "    options=df_high.temperature.unique(),\n",
    "    description='Temperature:',\n",
    ")\n",
    "\n",
    "interact(create_figure, temp=temp_select, dataset=fixed(df_high))"
   ]
  },
  {
   "cell_type": "code",
   "execution_count": 55,
   "metadata": {},
   "outputs": [],
   "source": [
    "melt = compute_melting_rates(df_high)"
   ]
  },
  {
   "cell_type": "code",
   "execution_count": 58,
   "metadata": {},
   "outputs": [
    {
     "data": {
      "application/vnd.vegalite.v2+json": {
       "$schema": "https://vega.github.io/schema/vega-lite/v2.json",
       "config": {
        "view": {
         "height": 300,
         "width": 400
        }
       },
       "data": {
        "values": [
         {
          "crys": "p2",
          "melting_rate": 2.5754154616664215e-11,
          "pressure": "13.50",
          "temperature": 1.3
         },
         {
          "crys": "p2gg",
          "melting_rate": 3.620845597928079e-12,
          "pressure": "13.50",
          "temperature": 1.3
         },
         {
          "crys": "pg",
          "melting_rate": -6.00241238450463e-10,
          "pressure": "13.50",
          "temperature": 1.3
         },
         {
          "crys": "p2",
          "melting_rate": 1.646963348257568e-11,
          "pressure": "13.50",
          "temperature": 1.35
         },
         {
          "crys": "p2gg",
          "melting_rate": -3.8586727580375157e-11,
          "pressure": "13.50",
          "temperature": 1.35
         },
         {
          "crys": "pg",
          "melting_rate": -1.2291940095431587e-09,
          "pressure": "13.50",
          "temperature": 1.35
         },
         {
          "crys": "p2",
          "melting_rate": -1.9286420768160142e-10,
          "pressure": "13.50",
          "temperature": 1.4
         },
         {
          "crys": "p2gg",
          "melting_rate": -4.781144492936291e-11,
          "pressure": "13.50",
          "temperature": 1.4
         },
         {
          "crys": "pg",
          "melting_rate": -1.5226408165135489e-09,
          "pressure": "13.50",
          "temperature": 1.4
         },
         {
          "crys": "p2",
          "melting_rate": -5.711202573740831e-10,
          "pressure": "13.50",
          "temperature": 1.45
         },
         {
          "crys": "p2gg",
          "melting_rate": -3.131405826919303e-10,
          "pressure": "13.50",
          "temperature": 1.45
         },
         {
          "crys": "pg",
          "melting_rate": -2.37406002370739e-09,
          "pressure": "13.50",
          "temperature": 1.45
         },
         {
          "crys": "p2",
          "melting_rate": -6.533420981895087e-10,
          "pressure": "13.50",
          "temperature": 1.5
         },
         {
          "crys": "p2gg",
          "melting_rate": -5.645723049608361e-10,
          "pressure": "13.50",
          "temperature": 1.5
         },
         {
          "crys": "pg",
          "melting_rate": -3.6598656749280266e-09,
          "pressure": "13.50",
          "temperature": 1.5
         }
        ]
       },
       "encoding": {
        "color": {
         "field": "crys",
         "legend": {
          "title": "Initial Crystal"
         },
         "type": "nominal"
        },
        "column": {
         "field": "pressure",
         "header": {
          "title": "Pressure"
         },
         "type": "nominal"
        },
        "x": {
         "axis": {
          "title": "Temperature"
         },
         "field": "temperature",
         "scale": {
          "zero": false
         },
         "type": "quantitative"
        },
        "y": {
         "axis": {
          "format": "e",
          "title": "Melting Rate (%/t)"
         },
         "field": "melting_rate",
         "type": "quantitative"
        }
       },
       "mark": "line"
      },
      "text/plain": [
       "<VegaLite 2 object>"
      ]
     },
     "execution_count": 58,
     "metadata": {},
     "output_type": "execute_result"
    }
   ],
   "source": [
    "Chart(melt).mark_line().encode(\n",
    "    x=X('temperature', axis=Axis(title='Temperature'), scale=Scale(zero=False)),\n",
    "    y=Y('melting_rate', axis=Axis(format='e', title='Melting Rate (%/t)')),\n",
    "    color=Color('crys', legend=alt.Legend(title='Initial Crystal')),\n",
    "    column=Column('pressure', header=alt.Header(title='Pressure')), \n",
    ")"
   ]
  }
 ],
 "metadata": {
  "kernelspec": {
   "display_name": "crystal",
   "language": "python",
   "name": "crystal"
  },
  "language_info": {
   "codemirror_mode": {
    "name": "ipython",
    "version": 3
   },
   "file_extension": ".py",
   "mimetype": "text/x-python",
   "name": "python",
   "nbconvert_exporter": "python",
   "pygments_lexer": "ipython3",
   "version": "3.6.4"
  }
 },
 "nbformat": 4,
 "nbformat_minor": 2
}
