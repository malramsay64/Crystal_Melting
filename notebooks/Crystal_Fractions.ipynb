{
 "cells": [
  {
   "cell_type": "markdown",
   "metadata": {},
   "source": [
    "# Crystal Melting Rates"
   ]
  },
  {
   "cell_type": "code",
   "execution_count": 1,
   "metadata": {},
   "outputs": [
    {
     "data": {
      "text/plain": [
       "DataTransformerRegistry.enable('json')"
      ]
     },
     "execution_count": 1,
     "metadata": {},
     "output_type": "execute_result"
    }
   ],
   "source": [
    "import numpy as np\n",
    "import pandas\n",
    "import altair as alt\n",
    "import scipy.stats\n",
    "\n",
    "alt.data_transformers.enable('json')"
   ]
  },
  {
   "cell_type": "code",
   "execution_count": 2,
   "metadata": {},
   "outputs": [],
   "source": [
    "# Read file with melting data\n",
    "norm_df = pandas.read_hdf('../data/analysis/melting.h5', 'fractions', mode='r')\n",
    "norm_df['normed'] = norm_df.volume / norm_df['surface-area']\n",
    "norm_df.normed.fillna(value=0, inplace=True)\n",
    "\n",
    "group_bys = ['crystal', 'temperature', 'state', 'pressure']\n",
    "time_df = norm_df.copy()\n",
    "time_df.index = pandas.TimedeltaIndex(norm_df.time)\n",
    "time_df = time_df.groupby(group_bys).resample('1ms').mean().reset_index(group_bys)\n",
    "\n",
    "df_high = time_df.query('pressure == \"13.50\"').copy()\n",
    "df_high = df_high.groupby(group_bys).resample('5ms').mean().reset_index(group_bys)\n",
    "\n",
    "df_low = norm_df.query('pressure == \"1.00\"').copy()"
   ]
  },
  {
   "cell_type": "code",
   "execution_count": 8,
   "metadata": {},
   "outputs": [],
   "source": [
    "def create_figure(temp, dataset):\n",
    "    c = alt.Chart(dataset.query(\"temperature == @temp\")).mark_line().encode(\n",
    "        alt.X('time', axis=alt.Axis(format='e', title='Timesteps (t)')),\n",
    "        alt.Y('percentage:Q', \n",
    "            axis=alt.Axis(title='Percentage of Sites (%)'), \n",
    "            scale=alt.Scale(domain=[0, 100])),\n",
    "        alt.Color('state', legend=alt.Legend(title='Classification')),\n",
    "        alt.Column('crystal', header=alt.Header(title='Initial Crystal')),\n",
    "        alt.Row('pressure', header=alt.Header(title='Pressure')),\n",
    "    ).transform_calculate(\n",
    "        'percentage', 'datum.fraction * 100'\n",
    "    )\n",
    "    return c\n",
    "\n",
    "def compute_melting_rates(df):\n",
    "    slopes = []\n",
    "    for index, group in df.groupby(['temperature', 'pressure', 'crystal']):\n",
    "        # find fraction melted\n",
    "        subgroup =  group.query('state == \"liq\" and fraction < 0.95')\n",
    "        if len(subgroup) < 5:\n",
    "            break\n",
    "        slope, *_ = scipy.stats.linregress(subgroup.time, subgroup.normed)\n",
    "        slopes.append((*index, slope))\n",
    "\n",
    "    melt = pandas.DataFrame(slopes)\n",
    "    melt.columns = ['temperature', 'pressure', 'crys', 'melting_rate']\n",
    "    melt.temperature = melt.temperature.astype(float)\n",
    "    melt.melting_rate = melt.melting_rate\n",
    "    return melt"
   ]
  },
  {
   "cell_type": "markdown",
   "metadata": {},
   "source": [
    "## Low Pressure"
   ]
  },
  {
   "cell_type": "code",
   "execution_count": 9,
   "metadata": {},
   "outputs": [
    {
     "ename": "NameError",
     "evalue": "name 'ToggleButtons' is not defined",
     "output_type": "error",
     "traceback": [
      "\u001b[0;31m---------------------------------------------------------------------------\u001b[0m",
      "\u001b[0;31mNameError\u001b[0m                                 Traceback (most recent call last)",
      "\u001b[0;32m<ipython-input-9-84f85c239380>\u001b[0m in \u001b[0;36m<module>\u001b[0;34m()\u001b[0m\n\u001b[0;32m----> 1\u001b[0;31m temp_select = ToggleButtons(\n\u001b[0m\u001b[1;32m      2\u001b[0m     \u001b[0moptions\u001b[0m\u001b[0;34m=\u001b[0m\u001b[0msorted\u001b[0m\u001b[0;34m(\u001b[0m\u001b[0mdf_low\u001b[0m\u001b[0;34m.\u001b[0m\u001b[0mtemperature\u001b[0m\u001b[0;34m.\u001b[0m\u001b[0munique\u001b[0m\u001b[0;34m(\u001b[0m\u001b[0;34m)\u001b[0m\u001b[0;34m)\u001b[0m\u001b[0;34m,\u001b[0m\u001b[0;34m\u001b[0m\u001b[0m\n\u001b[1;32m      3\u001b[0m     \u001b[0mdescription\u001b[0m\u001b[0;34m=\u001b[0m\u001b[0;34m'Temperature:'\u001b[0m\u001b[0;34m,\u001b[0m\u001b[0;34m\u001b[0m\u001b[0m\n\u001b[1;32m      4\u001b[0m )\n\u001b[1;32m      5\u001b[0m \u001b[0;34m\u001b[0m\u001b[0m\n",
      "\u001b[0;31mNameError\u001b[0m: name 'ToggleButtons' is not defined"
     ]
    }
   ],
   "source": [
    "temp_select = ToggleButtons(\n",
    "    options=sorted(df_low.temperature.unique()),\n",
    "    description='Temperature:',\n",
    ")\n",
    "\n",
    "interact(create_figure, temp=temp_select, dataset=fixed(df_low))"
   ]
  },
  {
   "cell_type": "code",
   "execution_count": 19,
   "metadata": {},
   "outputs": [
    {
     "data": {
      "text/plain": [
       "['0.30',\n",
       " '0.32',\n",
       " '0.34',\n",
       " '0.35',\n",
       " '0.36',\n",
       " '0.38',\n",
       " '0.40',\n",
       " '0.42',\n",
       " '0.44',\n",
       " '0.45',\n",
       " '0.46',\n",
       " '0.50',\n",
       " '0.60',\n",
       " '0.80',\n",
       " '1.00',\n",
       " '1.20',\n",
       " '1.30']"
      ]
     },
     "execution_count": 19,
     "metadata": {},
     "output_type": "execute_result"
    }
   ],
   "source": [
    "sorted(df_low.temperature.unique())"
   ]
  },
  {
   "cell_type": "code",
   "execution_count": 22,
   "metadata": {},
   "outputs": [
    {
     "data": {
      "application/vnd.vegalite.v2+json": {
       "$schema": "https://vega.github.io/schema/vega-lite/v2.4.3.json",
       "config": {
        "view": {
         "height": 300,
         "width": 400
        }
       },
       "data": {
        "format": {
         "type": "json"
        },
        "url": "altair-data-09e7d76bffa4ade7bc52a2f05e2b3dec.json"
       },
       "encoding": {
        "color": {
         "field": "state",
         "legend": {
          "title": "Classification"
         },
         "type": "nominal"
        },
        "column": {
         "field": "crystal",
         "header": {
          "title": "Initial Crystal"
         },
         "type": "nominal"
        },
        "row": {
         "field": "pressure",
         "header": {
          "title": "Pressure"
         },
         "type": "nominal"
        },
        "x": {
         "axis": {
          "format": "e",
          "title": "Timesteps (t)"
         },
         "field": "time",
         "type": "quantitative"
        },
        "y": {
         "axis": {
          "title": "Percentage of Sites (%)"
         },
         "field": "percentage",
         "scale": {
          "domain": [
           0,
           100
          ]
         },
         "type": "quantitative"
        }
       },
       "mark": "line",
       "transform": [
        {
         "as": "percentage",
         "calculate": "datum.fraction * 100"
        }
       ]
      },
      "image/png": "[encoded data removed]",
      "text/plain": [
       "<VegaLite 2 object>\n",
       "\n",
       "If you see this message, it means the renderer has not been properly enabled\n",
       "for the frontend that you are using. For more information, see\n",
       "https://altair-viz.github.io/user_guide/troubleshooting.html\n"
      ]
     },
     "execution_count": 22,
     "metadata": {},
     "output_type": "execute_result"
    }
   ],
   "source": [
    "create_figure(temp='0.36', dataset=df_low)"
   ]
  },
  {
   "cell_type": "code",
   "execution_count": 5,
   "metadata": {},
   "outputs": [],
   "source": [
    "melt_low = compute_melting_rates(df_low)\n"
   ]
  },
  {
   "cell_type": "code",
   "execution_count": 6,
   "metadata": {},
   "outputs": [
    {
     "data": {
      "text/html": [
       "<div>\n",
       "<style scoped>\n",
       "    .dataframe tbody tr th:only-of-type {\n",
       "        vertical-align: middle;\n",
       "    }\n",
       "\n",
       "    .dataframe tbody tr th {\n",
       "        vertical-align: top;\n",
       "    }\n",
       "\n",
       "    .dataframe thead th {\n",
       "        text-align: right;\n",
       "    }\n",
       "</style>\n",
       "<table border=\"1\" class=\"dataframe\">\n",
       "  <thead>\n",
       "    <tr style=\"text-align: right;\">\n",
       "      <th></th>\n",
       "      <th>temperature</th>\n",
       "      <th>pressure</th>\n",
       "      <th>crys</th>\n",
       "      <th>melting_rate</th>\n",
       "    </tr>\n",
       "  </thead>\n",
       "  <tbody>\n",
       "    <tr>\n",
       "      <th>0</th>\n",
       "      <td>0.30</td>\n",
       "      <td>1.00</td>\n",
       "      <td>p2</td>\n",
       "      <td>2.912497e-09</td>\n",
       "    </tr>\n",
       "    <tr>\n",
       "      <th>1</th>\n",
       "      <td>0.30</td>\n",
       "      <td>1.00</td>\n",
       "      <td>p2gg</td>\n",
       "      <td>1.537109e-09</td>\n",
       "    </tr>\n",
       "    <tr>\n",
       "      <th>2</th>\n",
       "      <td>0.30</td>\n",
       "      <td>1.00</td>\n",
       "      <td>pg</td>\n",
       "      <td>2.475822e-09</td>\n",
       "    </tr>\n",
       "    <tr>\n",
       "      <th>3</th>\n",
       "      <td>0.32</td>\n",
       "      <td>1.00</td>\n",
       "      <td>p2</td>\n",
       "      <td>4.030058e-09</td>\n",
       "    </tr>\n",
       "    <tr>\n",
       "      <th>4</th>\n",
       "      <td>0.32</td>\n",
       "      <td>1.00</td>\n",
       "      <td>p2gg</td>\n",
       "      <td>-6.809603e-10</td>\n",
       "    </tr>\n",
       "    <tr>\n",
       "      <th>5</th>\n",
       "      <td>0.32</td>\n",
       "      <td>1.00</td>\n",
       "      <td>pg</td>\n",
       "      <td>-1.069103e-08</td>\n",
       "    </tr>\n",
       "    <tr>\n",
       "      <th>6</th>\n",
       "      <td>0.34</td>\n",
       "      <td>1.00</td>\n",
       "      <td>p2</td>\n",
       "      <td>7.046161e-09</td>\n",
       "    </tr>\n",
       "    <tr>\n",
       "      <th>7</th>\n",
       "      <td>0.34</td>\n",
       "      <td>1.00</td>\n",
       "      <td>p2gg</td>\n",
       "      <td>9.691795e-09</td>\n",
       "    </tr>\n",
       "    <tr>\n",
       "      <th>8</th>\n",
       "      <td>0.34</td>\n",
       "      <td>1.00</td>\n",
       "      <td>pg</td>\n",
       "      <td>2.682866e-09</td>\n",
       "    </tr>\n",
       "    <tr>\n",
       "      <th>9</th>\n",
       "      <td>0.35</td>\n",
       "      <td>1.00</td>\n",
       "      <td>p2</td>\n",
       "      <td>2.442614e-08</td>\n",
       "    </tr>\n",
       "    <tr>\n",
       "      <th>10</th>\n",
       "      <td>0.35</td>\n",
       "      <td>1.00</td>\n",
       "      <td>p2gg</td>\n",
       "      <td>1.539471e-08</td>\n",
       "    </tr>\n",
       "    <tr>\n",
       "      <th>11</th>\n",
       "      <td>0.35</td>\n",
       "      <td>1.00</td>\n",
       "      <td>pg</td>\n",
       "      <td>6.487029e-08</td>\n",
       "    </tr>\n",
       "    <tr>\n",
       "      <th>12</th>\n",
       "      <td>0.36</td>\n",
       "      <td>1.00</td>\n",
       "      <td>p2</td>\n",
       "      <td>2.847865e-10</td>\n",
       "    </tr>\n",
       "    <tr>\n",
       "      <th>13</th>\n",
       "      <td>0.36</td>\n",
       "      <td>1.00</td>\n",
       "      <td>p2gg</td>\n",
       "      <td>3.580997e-09</td>\n",
       "    </tr>\n",
       "    <tr>\n",
       "      <th>14</th>\n",
       "      <td>0.36</td>\n",
       "      <td>1.00</td>\n",
       "      <td>pg</td>\n",
       "      <td>4.050230e-09</td>\n",
       "    </tr>\n",
       "    <tr>\n",
       "      <th>15</th>\n",
       "      <td>0.38</td>\n",
       "      <td>1.00</td>\n",
       "      <td>p2</td>\n",
       "      <td>-4.050890e-09</td>\n",
       "    </tr>\n",
       "    <tr>\n",
       "      <th>16</th>\n",
       "      <td>0.38</td>\n",
       "      <td>1.00</td>\n",
       "      <td>p2gg</td>\n",
       "      <td>-1.077266e-08</td>\n",
       "    </tr>\n",
       "    <tr>\n",
       "      <th>17</th>\n",
       "      <td>0.38</td>\n",
       "      <td>1.00</td>\n",
       "      <td>pg</td>\n",
       "      <td>-1.183973e-08</td>\n",
       "    </tr>\n",
       "    <tr>\n",
       "      <th>18</th>\n",
       "      <td>0.40</td>\n",
       "      <td>1.00</td>\n",
       "      <td>p2</td>\n",
       "      <td>-4.021760e-08</td>\n",
       "    </tr>\n",
       "    <tr>\n",
       "      <th>19</th>\n",
       "      <td>0.40</td>\n",
       "      <td>1.00</td>\n",
       "      <td>p2gg</td>\n",
       "      <td>-4.175000e-08</td>\n",
       "    </tr>\n",
       "    <tr>\n",
       "      <th>20</th>\n",
       "      <td>0.40</td>\n",
       "      <td>1.00</td>\n",
       "      <td>pg</td>\n",
       "      <td>-4.027328e-08</td>\n",
       "    </tr>\n",
       "    <tr>\n",
       "      <th>21</th>\n",
       "      <td>0.42</td>\n",
       "      <td>1.00</td>\n",
       "      <td>p2</td>\n",
       "      <td>-1.279826e-07</td>\n",
       "    </tr>\n",
       "    <tr>\n",
       "      <th>22</th>\n",
       "      <td>0.42</td>\n",
       "      <td>1.00</td>\n",
       "      <td>p2gg</td>\n",
       "      <td>-1.681884e-07</td>\n",
       "    </tr>\n",
       "    <tr>\n",
       "      <th>23</th>\n",
       "      <td>0.42</td>\n",
       "      <td>1.00</td>\n",
       "      <td>pg</td>\n",
       "      <td>-1.628280e-07</td>\n",
       "    </tr>\n",
       "    <tr>\n",
       "      <th>24</th>\n",
       "      <td>0.44</td>\n",
       "      <td>1.00</td>\n",
       "      <td>p2</td>\n",
       "      <td>-3.798329e-07</td>\n",
       "    </tr>\n",
       "    <tr>\n",
       "      <th>25</th>\n",
       "      <td>0.44</td>\n",
       "      <td>1.00</td>\n",
       "      <td>p2gg</td>\n",
       "      <td>-4.881784e-07</td>\n",
       "    </tr>\n",
       "    <tr>\n",
       "      <th>26</th>\n",
       "      <td>0.44</td>\n",
       "      <td>1.00</td>\n",
       "      <td>pg</td>\n",
       "      <td>-2.801310e-07</td>\n",
       "    </tr>\n",
       "    <tr>\n",
       "      <th>27</th>\n",
       "      <td>0.45</td>\n",
       "      <td>1.00</td>\n",
       "      <td>p2</td>\n",
       "      <td>-6.082070e-07</td>\n",
       "    </tr>\n",
       "    <tr>\n",
       "      <th>28</th>\n",
       "      <td>0.45</td>\n",
       "      <td>1.00</td>\n",
       "      <td>p2gg</td>\n",
       "      <td>-1.181743e-06</td>\n",
       "    </tr>\n",
       "    <tr>\n",
       "      <th>29</th>\n",
       "      <td>0.45</td>\n",
       "      <td>1.00</td>\n",
       "      <td>pg</td>\n",
       "      <td>-5.053910e-07</td>\n",
       "    </tr>\n",
       "    <tr>\n",
       "      <th>30</th>\n",
       "      <td>0.46</td>\n",
       "      <td>1.00</td>\n",
       "      <td>p2</td>\n",
       "      <td>-8.913332e-07</td>\n",
       "    </tr>\n",
       "    <tr>\n",
       "      <th>31</th>\n",
       "      <td>0.46</td>\n",
       "      <td>1.00</td>\n",
       "      <td>p2gg</td>\n",
       "      <td>-1.250760e-06</td>\n",
       "    </tr>\n",
       "    <tr>\n",
       "      <th>32</th>\n",
       "      <td>0.46</td>\n",
       "      <td>1.00</td>\n",
       "      <td>pg</td>\n",
       "      <td>-1.113918e-06</td>\n",
       "    </tr>\n",
       "    <tr>\n",
       "      <th>33</th>\n",
       "      <td>0.50</td>\n",
       "      <td>1.00</td>\n",
       "      <td>p2</td>\n",
       "      <td>-3.941677e-06</td>\n",
       "    </tr>\n",
       "  </tbody>\n",
       "</table>\n",
       "</div>"
      ],
      "text/plain": [
       "    temperature pressure  crys  melting_rate\n",
       "0          0.30     1.00    p2  2.912497e-09\n",
       "1          0.30     1.00  p2gg  1.537109e-09\n",
       "2          0.30     1.00    pg  2.475822e-09\n",
       "3          0.32     1.00    p2  4.030058e-09\n",
       "4          0.32     1.00  p2gg -6.809603e-10\n",
       "5          0.32     1.00    pg -1.069103e-08\n",
       "6          0.34     1.00    p2  7.046161e-09\n",
       "7          0.34     1.00  p2gg  9.691795e-09\n",
       "8          0.34     1.00    pg  2.682866e-09\n",
       "9          0.35     1.00    p2  2.442614e-08\n",
       "10         0.35     1.00  p2gg  1.539471e-08\n",
       "11         0.35     1.00    pg  6.487029e-08\n",
       "12         0.36     1.00    p2  2.847865e-10\n",
       "13         0.36     1.00  p2gg  3.580997e-09\n",
       "14         0.36     1.00    pg  4.050230e-09\n",
       "15         0.38     1.00    p2 -4.050890e-09\n",
       "16         0.38     1.00  p2gg -1.077266e-08\n",
       "17         0.38     1.00    pg -1.183973e-08\n",
       "18         0.40     1.00    p2 -4.021760e-08\n",
       "19         0.40     1.00  p2gg -4.175000e-08\n",
       "20         0.40     1.00    pg -4.027328e-08\n",
       "21         0.42     1.00    p2 -1.279826e-07\n",
       "22         0.42     1.00  p2gg -1.681884e-07\n",
       "23         0.42     1.00    pg -1.628280e-07\n",
       "24         0.44     1.00    p2 -3.798329e-07\n",
       "25         0.44     1.00  p2gg -4.881784e-07\n",
       "26         0.44     1.00    pg -2.801310e-07\n",
       "27         0.45     1.00    p2 -6.082070e-07\n",
       "28         0.45     1.00  p2gg -1.181743e-06\n",
       "29         0.45     1.00    pg -5.053910e-07\n",
       "30         0.46     1.00    p2 -8.913332e-07\n",
       "31         0.46     1.00  p2gg -1.250760e-06\n",
       "32         0.46     1.00    pg -1.113918e-06\n",
       "33         0.50     1.00    p2 -3.941677e-06"
      ]
     },
     "execution_count": 6,
     "metadata": {},
     "output_type": "execute_result"
    }
   ],
   "source": [
    "melt_low"
   ]
  },
  {
   "cell_type": "code",
   "execution_count": 12,
   "metadata": {},
   "outputs": [
    {
     "data": {
      "application/vnd.vegalite.v2+json": {
       "$schema": "https://vega.github.io/schema/vega-lite/v2.3.0.json",
       "config": {
        "view": {
         "height": 300,
         "width": 400
        }
       },
       "data": {
        "format": {
         "type": "json"
        },
        "url": "/files/../../mnt/PRJ-CrysGrowth/Molecules/Crystal_Melting/notebooks/altair-data-07945239-be8f-4308-bc83-34551bfe480c.json"
       },
       "encoding": {
        "color": {
         "field": "crys",
         "legend": {
          "title": "Initial Crystal"
         },
         "type": "nominal"
        },
        "column": {
         "field": "pressure",
         "header": {
          "title": "Pressure"
         },
         "type": "nominal"
        },
        "x": {
         "axis": {
          "title": "Temperature"
         },
         "field": "temperature",
         "scale": {
          "zero": false
         },
         "type": "quantitative"
        },
        "y": {
         "axis": {
          "format": "e",
          "title": "Melting Rate ((d(V/SA)/dt))"
         },
         "field": "melting_rate",
         "type": "quantitative"
        }
       },
       "mark": "line"
      },
      "image/png": "",
      "text/plain": [
       "<VegaLite 2 object>\n",
       "\n",
       "If you see this message, it means the renderer has not been properly enabled\n",
       "for the frontend that you are using. For more information, see\n",
       "https://altair-viz.github.io/user_guide/display.html\n"
      ]
     },
     "execution_count": 12,
     "metadata": {},
     "output_type": "execute_result"
    }
   ],
   "source": [
    "alt.Chart(melt_low).mark_line().encode(\n",
    "    alt.X('temperature', axis=alt.Axis(title='Temperature'), scale=alt.Scale(zero=False)),\n",
    "    alt.Y('melting_rate', axis=alt.Axis(format='e', title='Melting Rate ((d(V/SA)/dt))')),\n",
    "    alt.Color('crys', legend=alt.Legend(title='Initial Crystal')),\n",
    "    alt.Column('pressure', header=alt.Header(title='Pressure')), \n",
    ")"
   ]
  },
  {
   "cell_type": "markdown",
   "metadata": {},
   "source": [
    "## High Pressure"
   ]
  },
  {
   "cell_type": "code",
   "execution_count": 96,
   "metadata": {},
   "outputs": [
    {
     "data": {
      "application/vnd.jupyter.widget-view+json": {
       "model_id": "674d05a84d584f62a3221e673ef73cf3",
       "version_major": 2,
       "version_minor": 0
      },
      "text/html": [
       "<p>Failed to display Jupyter Widget of type <code>interactive</code>.</p>\n",
       "<p>\n",
       "  If you're reading this message in the Jupyter Notebook or JupyterLab Notebook, it may mean\n",
       "  that the widgets JavaScript is still loading. If this message persists, it\n",
       "  likely means that the widgets JavaScript library is either not installed or\n",
       "  not enabled. See the <a href=\"https://ipywidgets.readthedocs.io/en/stable/user_install.html\">Jupyter\n",
       "  Widgets Documentation</a> for setup instructions.\n",
       "</p>\n",
       "<p>\n",
       "  If you're reading this message in another frontend (for example, a static\n",
       "  rendering on GitHub or <a href=\"https://nbviewer.jupyter.org/\">NBViewer</a>),\n",
       "  it may mean that your frontend doesn't currently support widgets.\n",
       "</p>\n"
      ],
      "text/plain": [
       "interactive(children=(ToggleButtons(description='Temperature:', options=('1.30', '1.35', '1.40', '1.45', '1.50'), value='1.30'), Output()), _dom_classes=('widget-interact',))"
      ]
     },
     "metadata": {},
     "output_type": "display_data"
    },
    {
     "data": {
      "text/plain": [
       "<function __main__.create_figure>"
      ]
     },
     "execution_count": 96,
     "metadata": {},
     "output_type": "execute_result"
    }
   ],
   "source": [
    "temp_select = ToggleButtons(\n",
    "    options=sorted(df_high.temperature.unique()),\n",
    "    description='Temperature:',\n",
    ")\n",
    "\n",
    "interact(create_figure, temp=temp_select, dataset=fixed(df_high))"
   ]
  },
  {
   "cell_type": "code",
   "execution_count": 15,
   "metadata": {},
   "outputs": [
    {
     "data": {
      "application/vnd.vegalite.v2+json": {
       "$schema": "https://vega.github.io/schema/vega-lite/v2.4.3.json",
       "config": {
        "view": {
         "height": 300,
         "width": 400
        }
       },
       "data": {
        "format": {
         "type": "json"
        },
        "url": "altair-data-44863acc0cd2c131278d8c06e7e623fe.json"
       },
       "encoding": {
        "color": {
         "field": "state",
         "legend": {
          "title": "Classification"
         },
         "type": "nominal"
        },
        "column": {
         "field": "crystal",
         "header": {
          "title": "Initial Crystal"
         },
         "type": "nominal"
        },
        "row": {
         "field": "pressure",
         "header": {
          "title": "Pressure"
         },
         "type": "nominal"
        },
        "x": {
         "axis": {
          "format": "e",
          "title": "Timesteps (t)"
         },
         "field": "time",
         "type": "quantitative"
        },
        "y": {
         "axis": {
          "title": "Percentage of Sites (%)"
         },
         "field": "percentage",
         "scale": {
          "domain": [
           0,
           100
          ]
         },
         "type": "quantitative"
        }
       },
       "mark": "line",
       "transform": [
        {
         "as": "percentage",
         "calculate": "datum.fraction * 100"
        }
       ]
      },
      "image/png": "[encoded data removed]",
      "text/plain": [
       "<VegaLite 2 object>\n",
       "\n",
       "If you see this message, it means the renderer has not been properly enabled\n",
       "for the frontend that you are using. For more information, see\n",
       "https://altair-viz.github.io/user_guide/troubleshooting.html\n"
      ]
     },
     "execution_count": 15,
     "metadata": {},
     "output_type": "execute_result"
    }
   ],
   "source": [
    "create_figure(temp='1.30', dataset=df_high)"
   ]
  },
  {
   "cell_type": "code",
   "execution_count": 14,
   "metadata": {},
   "outputs": [],
   "source": [
    "melt_high = compute_melting_rates(df_high)"
   ]
  },
  {
   "cell_type": "code",
   "execution_count": 15,
   "metadata": {},
   "outputs": [
    {
     "data": {
      "text/html": [
       "<div>\n",
       "<style scoped>\n",
       "    .dataframe tbody tr th:only-of-type {\n",
       "        vertical-align: middle;\n",
       "    }\n",
       "\n",
       "    .dataframe tbody tr th {\n",
       "        vertical-align: top;\n",
       "    }\n",
       "\n",
       "    .dataframe thead th {\n",
       "        text-align: right;\n",
       "    }\n",
       "</style>\n",
       "<table border=\"1\" class=\"dataframe\">\n",
       "  <thead>\n",
       "    <tr style=\"text-align: right;\">\n",
       "      <th></th>\n",
       "      <th>temperature</th>\n",
       "      <th>pressure</th>\n",
       "      <th>crys</th>\n",
       "      <th>melting_rate</th>\n",
       "    </tr>\n",
       "  </thead>\n",
       "  <tbody>\n",
       "    <tr>\n",
       "      <th>0</th>\n",
       "      <td>1.30</td>\n",
       "      <td>13.50</td>\n",
       "      <td>p2</td>\n",
       "      <td>4.908109e-10</td>\n",
       "    </tr>\n",
       "    <tr>\n",
       "      <th>1</th>\n",
       "      <td>1.30</td>\n",
       "      <td>13.50</td>\n",
       "      <td>p2gg</td>\n",
       "      <td>8.041327e-10</td>\n",
       "    </tr>\n",
       "    <tr>\n",
       "      <th>2</th>\n",
       "      <td>1.30</td>\n",
       "      <td>13.50</td>\n",
       "      <td>pg</td>\n",
       "      <td>-5.568692e-09</td>\n",
       "    </tr>\n",
       "    <tr>\n",
       "      <th>3</th>\n",
       "      <td>1.35</td>\n",
       "      <td>13.50</td>\n",
       "      <td>p2</td>\n",
       "      <td>-1.634369e-09</td>\n",
       "    </tr>\n",
       "    <tr>\n",
       "      <th>4</th>\n",
       "      <td>1.35</td>\n",
       "      <td>13.50</td>\n",
       "      <td>p2gg</td>\n",
       "      <td>-2.366232e-10</td>\n",
       "    </tr>\n",
       "    <tr>\n",
       "      <th>5</th>\n",
       "      <td>1.35</td>\n",
       "      <td>13.50</td>\n",
       "      <td>pg</td>\n",
       "      <td>-1.613065e-08</td>\n",
       "    </tr>\n",
       "    <tr>\n",
       "      <th>6</th>\n",
       "      <td>1.40</td>\n",
       "      <td>13.50</td>\n",
       "      <td>p2</td>\n",
       "      <td>-5.181979e-09</td>\n",
       "    </tr>\n",
       "    <tr>\n",
       "      <th>7</th>\n",
       "      <td>1.40</td>\n",
       "      <td>13.50</td>\n",
       "      <td>p2gg</td>\n",
       "      <td>-2.254992e-09</td>\n",
       "    </tr>\n",
       "    <tr>\n",
       "      <th>8</th>\n",
       "      <td>1.40</td>\n",
       "      <td>13.50</td>\n",
       "      <td>pg</td>\n",
       "      <td>-3.700425e-08</td>\n",
       "    </tr>\n",
       "    <tr>\n",
       "      <th>9</th>\n",
       "      <td>1.45</td>\n",
       "      <td>13.50</td>\n",
       "      <td>p2</td>\n",
       "      <td>-1.297355e-08</td>\n",
       "    </tr>\n",
       "    <tr>\n",
       "      <th>10</th>\n",
       "      <td>1.45</td>\n",
       "      <td>13.50</td>\n",
       "      <td>p2gg</td>\n",
       "      <td>-8.508758e-09</td>\n",
       "    </tr>\n",
       "    <tr>\n",
       "      <th>11</th>\n",
       "      <td>1.45</td>\n",
       "      <td>13.50</td>\n",
       "      <td>pg</td>\n",
       "      <td>-8.101851e-08</td>\n",
       "    </tr>\n",
       "    <tr>\n",
       "      <th>12</th>\n",
       "      <td>1.50</td>\n",
       "      <td>13.50</td>\n",
       "      <td>p2</td>\n",
       "      <td>-3.636285e-08</td>\n",
       "    </tr>\n",
       "    <tr>\n",
       "      <th>13</th>\n",
       "      <td>1.50</td>\n",
       "      <td>13.50</td>\n",
       "      <td>p2gg</td>\n",
       "      <td>-2.642661e-08</td>\n",
       "    </tr>\n",
       "    <tr>\n",
       "      <th>14</th>\n",
       "      <td>1.50</td>\n",
       "      <td>13.50</td>\n",
       "      <td>pg</td>\n",
       "      <td>-1.357222e-07</td>\n",
       "    </tr>\n",
       "  </tbody>\n",
       "</table>\n",
       "</div>"
      ],
      "text/plain": [
       "    temperature pressure  crys  melting_rate\n",
       "0          1.30    13.50    p2  4.908109e-10\n",
       "1          1.30    13.50  p2gg  8.041327e-10\n",
       "2          1.30    13.50    pg -5.568692e-09\n",
       "3          1.35    13.50    p2 -1.634369e-09\n",
       "4          1.35    13.50  p2gg -2.366232e-10\n",
       "5          1.35    13.50    pg -1.613065e-08\n",
       "6          1.40    13.50    p2 -5.181979e-09\n",
       "7          1.40    13.50  p2gg -2.254992e-09\n",
       "8          1.40    13.50    pg -3.700425e-08\n",
       "9          1.45    13.50    p2 -1.297355e-08\n",
       "10         1.45    13.50  p2gg -8.508758e-09\n",
       "11         1.45    13.50    pg -8.101851e-08\n",
       "12         1.50    13.50    p2 -3.636285e-08\n",
       "13         1.50    13.50  p2gg -2.642661e-08\n",
       "14         1.50    13.50    pg -1.357222e-07"
      ]
     },
     "execution_count": 15,
     "metadata": {},
     "output_type": "execute_result"
    }
   ],
   "source": [
    "melt_high"
   ]
  },
  {
   "cell_type": "code",
   "execution_count": 98,
   "metadata": {},
   "outputs": [
    {
     "data": {
      "image/svg+xml": [
       "<svg class=\"marks\" width=\"573\" height=\"408\" viewBox=\"0 0 573 408\" version=\"1.1\" xmlns=\"http://www.w3.org/2000/svg\" xmlns:xlink=\"http://www.w3.org/1999/xlink\"><g transform=\"translate(76,57)\"><g class=\"mark-group role-frame root\"><g transform=\"translate(0,0)\"><path class=\"background\" d=\"M0,0h0v0h0Z\" style=\"fill: none;\"></path><g><g class=\"mark-group role-column-title column_title\"><g transform=\"translate(200,-42)\"><path class=\"background\" d=\"M0,0h0v0h0Z\" style=\"fill: none;\"></path><g><g class=\"mark-text role-column-title-text\"><text text-anchor=\"middle\" transform=\"translate(0,0)\" style=\"font: bold 11px sans-serif; fill: #000;\">Pressure</text></g></g></g></g><g class=\"mark-group role-row-header row_header\"><g transform=\"translate(-13,0)\"><path class=\"background\" d=\"M0,0h0v300h0Z\" style=\"fill: none;\"></path><g><g class=\"mark-group role-axis\"><g transform=\"translate(0.5,0.5)\"><path class=\"background\" d=\"M0,0h0v0h0Z\" style=\"pointer-events: none; fill: none;\"></path><g><g class=\"mark-rule role-axis-tick\" style=\"pointer-events: none;\"><line transform=\"translate(0,300)\" x2=\"-5\" y2=\"0\" style=\"fill: none; stroke: #888; stroke-width: 1; opacity: 1;\"></line><line transform=\"translate(0,267)\" x2=\"-5\" y2=\"0\" style=\"fill: none; stroke: #888; stroke-width: 1; opacity: 1;\"></line><line transform=\"translate(0,233)\" x2=\"-5\" y2=\"0\" style=\"fill: none; stroke: #888; stroke-width: 1; opacity: 1;\"></line><line transform=\"translate(0,200)\" x2=\"-5\" y2=\"0\" style=\"fill: none; stroke: #888; stroke-width: 1; opacity: 1;\"></line><line transform=\"translate(0,167)\" x2=\"-5\" y2=\"0\" style=\"fill: none; stroke: #888; stroke-width: 1; opacity: 1;\"></line><line transform=\"translate(0,133)\" x2=\"-5\" y2=\"0\" style=\"fill: none; stroke: #888; stroke-width: 1; opacity: 1;\"></line><line transform=\"translate(0,100)\" x2=\"-5\" y2=\"0\" style=\"fill: none; stroke: #888; stroke-width: 1; opacity: 1;\"></line><line transform=\"translate(0,67)\" x2=\"-5\" y2=\"0\" style=\"fill: none; stroke: #888; stroke-width: 1; opacity: 1;\"></line><line transform=\"translate(0,33)\" x2=\"-5\" y2=\"0\" style=\"fill: none; stroke: #888; stroke-width: 1; opacity: 1;\"></line><line transform=\"translate(0,0)\" x2=\"-5\" y2=\"0\" style=\"fill: none; stroke: #888; stroke-width: 1; opacity: 1;\"></line></g><g class=\"mark-text role-axis-label\" style=\"pointer-events: none;\"><text text-anchor=\"end\" transform=\"translate(-7,303)\" style=\"font: 10px sans-serif; fill: #000; opacity: 1;\">-1.6e-7</text><text text-anchor=\"end\" transform=\"translate(-7,269.6666666666667)\" style=\"font: 10px sans-serif; fill: #000; opacity: 1;\">-1.4e-7</text><text text-anchor=\"end\" transform=\"translate(-7,236.33333333333331)\" style=\"font: 10px sans-serif; fill: #000; opacity: 1;\">-1.2e-7</text><text text-anchor=\"end\" transform=\"translate(-7,203)\" style=\"font: 10px sans-serif; fill: #000; opacity: 1;\">-1.0e-7</text><text text-anchor=\"end\" transform=\"translate(-7,169.66666666666666)\" style=\"font: 10px sans-serif; fill: #000; opacity: 1;\">-8.0e-8</text><text text-anchor=\"end\" transform=\"translate(-7,136.33333333333331)\" style=\"font: 10px sans-serif; fill: #000; opacity: 1;\">-6.0e-8</text><text text-anchor=\"end\" transform=\"translate(-7,102.99999999999997)\" style=\"font: 10px sans-serif; fill: #000; opacity: 1;\">-4.0e-8</text><text text-anchor=\"end\" transform=\"translate(-7,69.66666666666666)\" style=\"font: 10px sans-serif; fill: #000; opacity: 1;\">-2.0e-8</text><text text-anchor=\"end\" transform=\"translate(-7,36.333333333333314)\" style=\"font: 10px sans-serif; fill: #000; opacity: 1;\">0.0e+0</text><text text-anchor=\"end\" transform=\"translate(-7,3)\" style=\"font: 10px sans-serif; fill: #000; opacity: 1;\">2.0e-8</text></g><g class=\"mark-rule role-axis-domain\" style=\"pointer-events: none;\"><line transform=\"translate(0,300)\" x2=\"0\" y2=\"-300\" style=\"fill: none; stroke: #888; stroke-width: 1; opacity: 1;\"></line></g><g class=\"mark-text role-axis-title\" style=\"pointer-events: none;\"><text text-anchor=\"middle\" transform=\"translate(-45,150) rotate(-90) translate(0,-2)\" style=\"font: bold 11px sans-serif; fill: #000; opacity: 1;\">Melting Rate (d(V/SA)/dt)</text></g></g></g></g></g></g></g><g class=\"mark-group role-column-header column_header\"><g transform=\"translate(0,-11)\"><path class=\"background\" d=\"M0,0h400v0h-400Z\" style=\"fill: none;\"></path><g><g class=\"mark-text role-title\" style=\"pointer-events: none;\"><text text-anchor=\"middle\" transform=\"translate(200,-12)\" style=\"font: 10px sans-serif; fill: #000; opacity: 1;\">13.50</text></g></g></g></g><g class=\"mark-group role-column-footer column_footer\"><g transform=\"translate(0,311)\"><path class=\"background\" d=\"M0,0h400v0h-400Z\" style=\"fill: none;\"></path><g><g class=\"mark-group role-axis\"><g transform=\"translate(0.5,0.5)\"><path class=\"background\" d=\"M0,0h0v0h0Z\" style=\"pointer-events: none; fill: none;\"></path><g><g class=\"mark-rule role-axis-tick\" style=\"pointer-events: none;\"><line transform=\"translate(0,0)\" x2=\"0\" y2=\"5\" style=\"fill: none; stroke: #888; stroke-width: 1; opacity: 1;\"></line><line transform=\"translate(40,0)\" x2=\"0\" y2=\"5\" style=\"fill: none; stroke: #888; stroke-width: 1; opacity: 1;\"></line><line transform=\"translate(80,0)\" x2=\"0\" y2=\"5\" style=\"fill: none; stroke: #888; stroke-width: 1; opacity: 1;\"></line><line transform=\"translate(120,0)\" x2=\"0\" y2=\"5\" style=\"fill: none; stroke: #888; stroke-width: 1; opacity: 1;\"></line><line transform=\"translate(160,0)\" x2=\"0\" y2=\"5\" style=\"fill: none; stroke: #888; stroke-width: 1; opacity: 1;\"></line><line transform=\"translate(200,0)\" x2=\"0\" y2=\"5\" style=\"fill: none; stroke: #888; stroke-width: 1; opacity: 1;\"></line><line transform=\"translate(240,0)\" x2=\"0\" y2=\"5\" style=\"fill: none; stroke: #888; stroke-width: 1; opacity: 1;\"></line><line transform=\"translate(280,0)\" x2=\"0\" y2=\"5\" style=\"fill: none; stroke: #888; stroke-width: 1; opacity: 1;\"></line><line transform=\"translate(320,0)\" x2=\"0\" y2=\"5\" style=\"fill: none; stroke: #888; stroke-width: 1; opacity: 1;\"></line><line transform=\"translate(360,0)\" x2=\"0\" y2=\"5\" style=\"fill: none; stroke: #888; stroke-width: 1; opacity: 1;\"></line><line transform=\"translate(400,0)\" x2=\"0\" y2=\"5\" style=\"fill: none; stroke: #888; stroke-width: 1; opacity: 1;\"></line></g><g class=\"mark-text role-axis-label\" style=\"pointer-events: none;\"><text text-anchor=\"start\" transform=\"translate(0,15)\" style=\"font: 10px sans-serif; fill: #000; opacity: 1;\">1.30</text><text text-anchor=\"middle\" transform=\"translate(40.00000000000005,15)\" style=\"font: 10px sans-serif; fill: #000; opacity: 1;\">1.32</text><text text-anchor=\"middle\" transform=\"translate(80.0000000000001,15)\" style=\"font: 10px sans-serif; fill: #000; opacity: 1;\">1.34</text><text text-anchor=\"middle\" transform=\"translate(120.00000000000013,15)\" style=\"font: 10px sans-serif; fill: #000; opacity: 1;\">1.36</text><text text-anchor=\"middle\" transform=\"translate(159.99999999999974,15)\" style=\"font: 10px sans-serif; fill: #000; opacity: 1;\">1.38</text><text text-anchor=\"middle\" transform=\"translate(199.99999999999977,15)\" style=\"font: 10px sans-serif; fill: #000; opacity: 1;\">1.40</text><text text-anchor=\"middle\" transform=\"translate(239.9999999999998,15)\" style=\"font: 10px sans-serif; fill: #000; opacity: 1;\">1.42</text><text text-anchor=\"middle\" transform=\"translate(279.99999999999983,15)\" style=\"font: 10px sans-serif; fill: #000; opacity: 1;\">1.44</text><text text-anchor=\"middle\" transform=\"translate(319.99999999999994,15)\" style=\"font: 10px sans-serif; fill: #000; opacity: 1;\">1.46</text><text text-anchor=\"middle\" transform=\"translate(359.99999999999994,15)\" style=\"font: 10px sans-serif; fill: #000; opacity: 1;\">1.48</text><text text-anchor=\"end\" transform=\"translate(400,15)\" style=\"font: 10px sans-serif; fill: #000; opacity: 1;\">1.50</text></g><g class=\"mark-rule role-axis-domain\" style=\"pointer-events: none;\"><line transform=\"translate(0,0)\" x2=\"400\" y2=\"0\" style=\"fill: none; stroke: #888; stroke-width: 1; opacity: 1;\"></line></g><g class=\"mark-text role-axis-title\" style=\"pointer-events: none;\"><text text-anchor=\"middle\" transform=\"translate(200,31)\" style=\"font: bold 11px sans-serif; fill: #000; opacity: 1;\">Temperature</text></g></g></g></g></g></g></g><g class=\"mark-group role-scope cell\"><g transform=\"translate(0,0)\"><path class=\"background\" d=\"M0.5,0.5h400v300h-400Z\" style=\"fill: none; stroke: #ddd;\"></path><g><g class=\"mark-group role-axis\"><g transform=\"translate(0.5,300.5)\"><path class=\"background\" d=\"M0,0h0v0h0Z\" style=\"pointer-events: none; fill: none;\"></path><g><g class=\"mark-rule role-axis-grid\" style=\"pointer-events: none;\"><line transform=\"translate(0,-300)\" x2=\"0\" y2=\"300\" style=\"fill: none; stroke: #ddd; stroke-width: 1; opacity: 1;\"></line><line transform=\"translate(40,-300)\" x2=\"0\" y2=\"300\" style=\"fill: none; stroke: #ddd; stroke-width: 1; opacity: 1;\"></line><line transform=\"translate(80,-300)\" x2=\"0\" y2=\"300\" style=\"fill: none; stroke: #ddd; stroke-width: 1; opacity: 1;\"></line><line transform=\"translate(120,-300)\" x2=\"0\" y2=\"300\" style=\"fill: none; stroke: #ddd; stroke-width: 1; opacity: 1;\"></line><line transform=\"translate(160,-300)\" x2=\"0\" y2=\"300\" style=\"fill: none; stroke: #ddd; stroke-width: 1; opacity: 1;\"></line><line transform=\"translate(200,-300)\" x2=\"0\" y2=\"300\" style=\"fill: none; stroke: #ddd; stroke-width: 1; opacity: 1;\"></line><line transform=\"translate(240,-300)\" x2=\"0\" y2=\"300\" style=\"fill: none; stroke: #ddd; stroke-width: 1; opacity: 1;\"></line><line transform=\"translate(280,-300)\" x2=\"0\" y2=\"300\" style=\"fill: none; stroke: #ddd; stroke-width: 1; opacity: 1;\"></line><line transform=\"translate(320,-300)\" x2=\"0\" y2=\"300\" style=\"fill: none; stroke: #ddd; stroke-width: 1; opacity: 1;\"></line><line transform=\"translate(360,-300)\" x2=\"0\" y2=\"300\" style=\"fill: none; stroke: #ddd; stroke-width: 1; opacity: 1;\"></line><line transform=\"translate(400,-300)\" x2=\"0\" y2=\"300\" style=\"fill: none; stroke: #ddd; stroke-width: 1; opacity: 1;\"></line></g></g></g></g><g class=\"mark-group role-axis\"><g transform=\"translate(0.5,0.5)\"><path class=\"background\" d=\"M0,0h0v0h0Z\" style=\"pointer-events: none; fill: none;\"></path><g><g class=\"mark-rule role-axis-grid\" style=\"pointer-events: none;\"><line transform=\"translate(0,300)\" x2=\"400\" y2=\"0\" style=\"fill: none; stroke: #ddd; stroke-width: 1; opacity: 1;\"></line><line transform=\"translate(0,267)\" x2=\"400\" y2=\"0\" style=\"fill: none; stroke: #ddd; stroke-width: 1; opacity: 1;\"></line><line transform=\"translate(0,233)\" x2=\"400\" y2=\"0\" style=\"fill: none; stroke: #ddd; stroke-width: 1; opacity: 1;\"></line><line transform=\"translate(0,200)\" x2=\"400\" y2=\"0\" style=\"fill: none; stroke: #ddd; stroke-width: 1; opacity: 1;\"></line><line transform=\"translate(0,167)\" x2=\"400\" y2=\"0\" style=\"fill: none; stroke: #ddd; stroke-width: 1; opacity: 1;\"></line><line transform=\"translate(0,133)\" x2=\"400\" y2=\"0\" style=\"fill: none; stroke: #ddd; stroke-width: 1; opacity: 1;\"></line><line transform=\"translate(0,100)\" x2=\"400\" y2=\"0\" style=\"fill: none; stroke: #ddd; stroke-width: 1; opacity: 1;\"></line><line transform=\"translate(0,67)\" x2=\"400\" y2=\"0\" style=\"fill: none; stroke: #ddd; stroke-width: 1; opacity: 1;\"></line><line transform=\"translate(0,33)\" x2=\"400\" y2=\"0\" style=\"fill: none; stroke: #ddd; stroke-width: 1; opacity: 1;\"></line><line transform=\"translate(0,0)\" x2=\"400\" y2=\"0\" style=\"fill: none; stroke: #ddd; stroke-width: 1; opacity: 1;\"></line></g></g></g></g><g class=\"mark-group role-scope child_pathgroup\"><g transform=\"translate(0,0)\"><path class=\"background\" d=\"M0,0h400v300h-400Z\" style=\"fill: none;\"></path><g><g class=\"mark-line role-mark child_marks\"><path d=\"M400,93.93809144309157L299.9999999999999,54.955910618361L199.99999999999977,41.969964450520536L100.00000000000011,36.05728107679204L0,32.51531522124401\" style=\"fill: none; stroke: #4c78a8; stroke-width: 2;\"></path></g></g></g><g transform=\"translate(0,0)\"><path class=\"background\" d=\"M0,0h400v300h-400Z\" style=\"fill: none;\"></path><g><g class=\"mark-line role-mark child_marks\"><path d=\"M400,77.37768455449893L299.9999999999999,47.51459717038682L199.99999999999977,37.091653285266204L100.00000000000011,33.72770539475084L0,31.99311208612977\" style=\"fill: none; stroke: #f58518; stroke-width: 2;\"></path></g></g></g><g transform=\"translate(0,0)\"><path class=\"background\" d=\"M0,0h400v300h-400Z\" style=\"fill: none;\"></path><g><g class=\"mark-line role-mark child_marks\"><path d=\"M400,259.5370174271208L299.9999999999999,168.36418154837145L199.99999999999977,95.00709063788338L100.00000000000011,60.21774867724574L0,42.61448615980731\" style=\"fill: none; stroke: #e45756; stroke-width: 2;\"></path></g></g></g></g></g></g></g><g class=\"mark-group role-legend\"><g transform=\"translate(421,0)\"><path class=\"background\" d=\"M0,0h71v58h-71Z\" style=\"pointer-events: none; fill: none;\"></path><g><g class=\"mark-group role-legend-entry\"><g transform=\"translate(0,16)\"><path class=\"background\" d=\"M0,0h0v0h0Z\" style=\"pointer-events: none; fill: none;\"></path><g><g class=\"mark-symbol role-legend-symbol\" style=\"pointer-events: none;\"><path transform=\"translate(5,5)\" d=\"M5,0A5,5,0,1,1,-5,0A5,5,0,1,1,5,0\" style=\"fill: none; stroke: #4c78a8; stroke-width: 1.5; opacity: 1;\"></path><path transform=\"translate(5,20)\" d=\"M5,0A5,5,0,1,1,-5,0A5,5,0,1,1,5,0\" style=\"fill: none; stroke: #f58518; stroke-width: 1.5; opacity: 1;\"></path><path transform=\"translate(5,35)\" d=\"M5,0A5,5,0,1,1,-5,0A5,5,0,1,1,5,0\" style=\"fill: none; stroke: #e45756; stroke-width: 1.5; opacity: 1;\"></path></g><g class=\"mark-text role-legend-label\" style=\"pointer-events: none;\"><text text-anchor=\"start\" transform=\"translate(18,8)\" style=\"font: 10px sans-serif; fill: #000; opacity: 1;\">p2</text><text text-anchor=\"start\" transform=\"translate(18,23)\" style=\"font: 10px sans-serif; fill: #000; opacity: 1;\">p2gg</text><text text-anchor=\"start\" transform=\"translate(18,38)\" style=\"font: 10px sans-serif; fill: #000; opacity: 1;\">pg</text></g></g></g></g><g class=\"mark-text role-legend-title\" style=\"pointer-events: none;\"><text text-anchor=\"start\" transform=\"translate(0,9)\" style=\"font: bold 11px sans-serif; fill: #000; opacity: 1;\">Initial Crystal</text></g></g></g></g></g></g></g></g></svg>"
      ],
      "text/plain": [
       "Chart({\n",
       "  data:     temperature pressure  crys  melting_rate\n",
       "  0          1.30    13.50    p2  4.908109e-10\n",
       "  1          1.30    13.50  p2gg  8.041327e-10\n",
       "  2          1.30    13.50    pg -5.568692e-09\n",
       "  3          1.35    13.50    p2 -1.634369e-09\n",
       "  4          1.35    13.50  p2gg -2.366232e-10\n",
       "  5          1.35    13.50    pg -1.613065e-08\n",
       "  6          1.40    13.50    p2 -5.181979e-09\n",
       "  7          1.40    13.50  p2gg -2.254992e-09\n",
       "  8          1.40    13.50    pg -3.700425e-08\n",
       "  9          1.45    13.50    p2 -1.297355e-08\n",
       "  10         1.45    13.50  p2gg -8.508758e-09\n",
       "  11         1.45    13.50    pg -8.101851e-08\n",
       "  12         1.50    13.50    p2 -3.636285e-08\n",
       "  13         1.50    13.50  p2gg -2.642661e-08\n",
       "  14         1.50    13.50    pg -1.357222e-07,\n",
       "  mark: 'line',\n",
       "  encoding: EncodingWithFacet({\n",
       "    color: Color({\n",
       "      legend: Legend({\n",
       "        title: 'Initial Crystal'\n",
       "      }),\n",
       "      shorthand: 'crys'\n",
       "    }),\n",
       "    column: Column({\n",
       "      header: Header({\n",
       "        title: 'Pressure'\n",
       "      }),\n",
       "      shorthand: 'pressure'\n",
       "    }),\n",
       "    x: X({\n",
       "      axis: Axis({\n",
       "        title: 'Temperature'\n",
       "      }),\n",
       "      scale: Scale({\n",
       "        zero: False\n",
       "      }),\n",
       "      shorthand: 'temperature'\n",
       "    }),\n",
       "    y: Y({\n",
       "      axis: Axis({\n",
       "        format: 'e',\n",
       "        title: 'Melting Rate (d(V/SA)/dt)'\n",
       "      }),\n",
       "      shorthand: 'melting_rate'\n",
       "    })\n",
       "  })\n",
       "})"
      ]
     },
     "execution_count": 98,
     "metadata": {},
     "output_type": "execute_result"
    }
   ],
   "source": [
    "Chart(melt_high).mark_line().encode(\n",
    "    x=X('temperature', axis=Axis(title='Temperature'), scale=Scale(zero=False)),\n",
    "    y=Y('melting_rate', axis=Axis(format='e', title='Melting Rate (d(V/SA)/dt)')),\n",
    "    color=Color('crys', legend=alt.Legend(title='Initial Crystal')),\n",
    "    column=Column('pressure', header=alt.Header(title='Pressure')), \n",
    ")"
   ]
  }
 ],
 "metadata": {
  "kernelspec": {
   "display_name": "crystal",
   "language": "python",
   "name": "crystal"
  },
  "language_info": {
   "codemirror_mode": {
    "name": "ipython",
    "version": 3
   },
   "file_extension": ".py",
   "mimetype": "text/x-python",
   "name": "python",
   "nbconvert_exporter": "python",
   "pygments_lexer": "ipython3",
   "version": "3.6.5"
  }
 },
 "nbformat": 4,
 "nbformat_minor": 2
}
