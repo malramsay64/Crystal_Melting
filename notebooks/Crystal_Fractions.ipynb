{
 "cells": [
  {
   "cell_type": "markdown",
   "metadata": {},
   "source": [
    "# Crystal Melting Rates"
   ]
  },
  {
   "cell_type": "code",
   "execution_count": 80,
   "metadata": {},
   "outputs": [],
   "source": [
    "from ipywidgets import interact, ToggleButtons, fixed\n",
    "import numpy as np\n",
    "import pandas\n",
    "import altair as alt\n",
    "from altair import Chart, X, Y, Color, Scale, Axis, Column, Row, Legend, Header\n",
    "import scipy.stats\n",
    "from altair import pipe, limit_rows, to_values\n",
    "t = lambda data: pipe(data, limit_rows(max_rows=20000), to_values)\n",
    "alt.data_transformers.register('custom', t)\n",
    "alt.data_transformers.enable('custom')\n",
    "alt.renderers.enable('svg')"
   ]
  },
  {
   "cell_type": "code",
   "execution_count": 81,
   "metadata": {},
   "outputs": [],
   "source": [
    "# Read file with melting data\n",
    "norm_df = pandas.read_hdf('../data/analysis/melting.h5', 'fractions', mode='r')\n",
    "norm_df['normed'] = norm_df.volume / norm_df['surface-area']\n",
    "norm_df.normed.fillna(value=0, inplace=True)\n",
    "\n",
    "group_bys = ['crystal', 'temperature', 'state', 'pressure']\n",
    "time_df = norm_df.copy()\n",
    "time_df.index = pandas.TimedeltaIndex(norm_df.time)\n",
    "time_df = time_df.groupby(group_bys).resample('1ms').mean().reset_index(group_bys)\n",
    "\n",
    "df_high = time_df.query('pressure == \"13.50\"')\n",
    "df_high = df_high.groupby(group_bys).resample('5ms').mean().reset_index(group_bys)\n",
    "\n",
    "df_low = norm_df.query('pressure == \"1.00\"')"
   ]
  },
  {
   "cell_type": "code",
   "execution_count": 82,
   "metadata": {},
   "outputs": [],
   "source": [
    "def create_figure(temp, dataset):\n",
    "    c = Chart(dataset.query(\"temperature == @temp\")).mark_line().encode(\n",
    "        x=X('time', \n",
    "            axis=Axis(format='e', title='Timesteps (t)')),\n",
    "        y=Y('percentage:Q', \n",
    "            axis=Axis(title='Percentage of Sites (%)'), \n",
    "            scale=Scale(domain=[0, 100])),\n",
    "        color=Color('state', legend=Legend(title='Classification')),\n",
    "        column=Column('crystal', header=Header(title='Initial Crystal')),\n",
    "        row=Row('pressure', header=Header(title='Pressure')),\n",
    "    ).transform_calculate(\n",
    "        'percentage', 'datum.fraction * 100'\n",
    "    )\n",
    "    return c\n",
    "\n",
    "def compute_melting_rates(df):\n",
    "    slopes = []\n",
    "    for index, group in df.groupby(['temperature', 'pressure', 'crystal']):\n",
    "        # find fraction melted\n",
    "        subgroup =  group.query('state == \"liq\" and fraction < 0.95')\n",
    "        if len(subgroup) < 5:\n",
    "            break\n",
    "        slope, *_ = scipy.stats.linregress(subgroup.time, subgroup.normed)\n",
    "        slopes.append((*index, slope))\n",
    "\n",
    "    melt = pandas.DataFrame(slopes)\n",
    "    melt.columns = ['temperature', 'pressure', 'crys', 'melting_rate']\n",
    "    melt.temperature = melt.temperature.astype(float)\n",
    "    melt.melting_rate = melt.melting_rate\n",
    "    return melt"
   ]
  },
  {
   "cell_type": "markdown",
   "metadata": {},
   "source": [
    "## Low Pressure"
   ]
  },
  {
   "cell_type": "code",
   "execution_count": 83,
   "metadata": {},
   "outputs": [
    {
     "data": {
      "application/vnd.jupyter.widget-view+json": {
       "model_id": "b63f8640d0094c1597092a2c43850933",
       "version_major": 2,
       "version_minor": 0
      },
      "text/html": [
       "<p>Failed to display Jupyter Widget of type <code>interactive</code>.</p>\n",
       "<p>\n",
       "  If you're reading this message in the Jupyter Notebook or JupyterLab Notebook, it may mean\n",
       "  that the widgets JavaScript is still loading. If this message persists, it\n",
       "  likely means that the widgets JavaScript library is either not installed or\n",
       "  not enabled. See the <a href=\"https://ipywidgets.readthedocs.io/en/stable/user_install.html\">Jupyter\n",
       "  Widgets Documentation</a> for setup instructions.\n",
       "</p>\n",
       "<p>\n",
       "  If you're reading this message in another frontend (for example, a static\n",
       "  rendering on GitHub or <a href=\"https://nbviewer.jupyter.org/\">NBViewer</a>),\n",
       "  it may mean that your frontend doesn't currently support widgets.\n",
       "</p>\n"
      ],
      "text/plain": [
       "interactive(children=(ToggleButtons(description='Temperature:', options=('0.30', '0.35', '0.40', '0.45', '0.50', '0.60', '0.80', '1.00', '1.20', '1.30'), value='0.30'), Output()), _dom_classes=('widget-interact',))"
      ]
     },
     "metadata": {},
     "output_type": "display_data"
    },
    {
     "data": {
      "text/plain": [
       "<function __main__.create_figure>"
      ]
     },
     "execution_count": 83,
     "metadata": {},
     "output_type": "execute_result"
    }
   ],
   "source": [
    "temp_select = ToggleButtons(\n",
    "    options=sorted(df_low.temperature.unique()),\n",
    "    description='Temperature:',\n",
    ")\n",
    "\n",
    "interact(create_figure, temp=temp_select, dataset=fixed(df_low))"
   ]
  },
  {
   "cell_type": "code",
   "execution_count": 94,
   "metadata": {},
   "outputs": [],
   "source": [
    "melt_low = compute_melting_rates(df_low)"
   ]
  },
  {
   "cell_type": "code",
   "execution_count": 95,
   "metadata": {},
   "outputs": [
    {
     "data": {
      "image/svg+xml": [
       "<svg class=\"marks\" width=\"571\" height=\"408\" viewBox=\"0 0 571 408\" version=\"1.1\" xmlns=\"http://www.w3.org/2000/svg\" xmlns:xlink=\"http://www.w3.org/1999/xlink\"><g transform=\"translate(76,57)\"><g class=\"mark-group role-frame root\"><g transform=\"translate(0,0)\"><path class=\"background\" d=\"M0,0h0v0h0Z\" style=\"fill: none;\"></path><g><g class=\"mark-group role-column-title column_title\"><g transform=\"translate(199,-42)\"><path class=\"background\" d=\"M0,0h0v0h0Z\" style=\"fill: none;\"></path><g><g class=\"mark-text role-column-title-text\"><text text-anchor=\"middle\" transform=\"translate(0,0)\" style=\"font: bold 11px sans-serif; fill: #000;\">Pressure</text></g></g></g></g><g class=\"mark-group role-row-header row_header\"><g transform=\"translate(-13,0)\"><path class=\"background\" d=\"M0,0h0v300h0Z\" style=\"fill: none;\"></path><g><g class=\"mark-group role-axis\"><g transform=\"translate(0.5,0.5)\"><path class=\"background\" d=\"M0,0h0v0h0Z\" style=\"pointer-events: none; fill: none;\"></path><g><g class=\"mark-rule role-axis-tick\" style=\"pointer-events: none;\"><line transform=\"translate(0,300)\" x2=\"-5\" y2=\"0\" style=\"fill: none; stroke: #888; stroke-width: 1; opacity: 1;\"></line><line transform=\"translate(0,254)\" x2=\"-5\" y2=\"0\" style=\"fill: none; stroke: #888; stroke-width: 1; opacity: 1;\"></line><line transform=\"translate(0,208)\" x2=\"-5\" y2=\"0\" style=\"fill: none; stroke: #888; stroke-width: 1; opacity: 1;\"></line><line transform=\"translate(0,162)\" x2=\"-5\" y2=\"0\" style=\"fill: none; stroke: #888; stroke-width: 1; opacity: 1;\"></line><line transform=\"translate(0,115)\" x2=\"-5\" y2=\"0\" style=\"fill: none; stroke: #888; stroke-width: 1; opacity: 1;\"></line><line transform=\"translate(0,69)\" x2=\"-5\" y2=\"0\" style=\"fill: none; stroke: #888; stroke-width: 1; opacity: 1;\"></line><line transform=\"translate(0,23)\" x2=\"-5\" y2=\"0\" style=\"fill: none; stroke: #888; stroke-width: 1; opacity: 1;\"></line></g><g class=\"mark-text role-axis-label\" style=\"pointer-events: none;\"><text text-anchor=\"end\" transform=\"translate(-7,303)\" style=\"font: 10px sans-serif; fill: #000; opacity: 1;\">-1.2e-6</text><text text-anchor=\"end\" transform=\"translate(-7,256.8461538461538)\" style=\"font: 10px sans-serif; fill: #000; opacity: 1;\">-1.0e-6</text><text text-anchor=\"end\" transform=\"translate(-7,210.69230769230768)\" style=\"font: 10px sans-serif; fill: #000; opacity: 1;\">-8.0e-7</text><text text-anchor=\"end\" transform=\"translate(-7,164.53846153846152)\" style=\"font: 10px sans-serif; fill: #000; opacity: 1;\">-6.0e-7</text><text text-anchor=\"end\" transform=\"translate(-7,118.38461538461539)\" style=\"font: 10px sans-serif; fill: #000; opacity: 1;\">-4.0e-7</text><text text-anchor=\"end\" transform=\"translate(-7,72.23076923076923)\" style=\"font: 10px sans-serif; fill: #000; opacity: 1;\">-2.0e-7</text><text text-anchor=\"end\" transform=\"translate(-7,26.076923076923038)\" style=\"font: 10px sans-serif; fill: #000; opacity: 1;\">0.0e+0</text></g><g class=\"mark-rule role-axis-domain\" style=\"pointer-events: none;\"><line transform=\"translate(0,300)\" x2=\"0\" y2=\"-300\" style=\"fill: none; stroke: #888; stroke-width: 1; opacity: 1;\"></line></g><g class=\"mark-text role-axis-title\" style=\"pointer-events: none;\"><text text-anchor=\"middle\" transform=\"translate(-45,150) rotate(-90) translate(0,-2)\" style=\"font: bold 11px sans-serif; fill: #000; opacity: 1;\">Melting Rate ((d(V/SA)/dt))</text></g></g></g></g></g></g></g><g class=\"mark-group role-column-header column_header\"><g transform=\"translate(0,-11)\"><path class=\"background\" d=\"M0,0h400v0h-400Z\" style=\"fill: none;\"></path><g><g class=\"mark-text role-title\" style=\"pointer-events: none;\"><text text-anchor=\"middle\" transform=\"translate(200,-12)\" style=\"font: 10px sans-serif; fill: #000; opacity: 1;\">1.00</text></g></g></g></g><g class=\"mark-group role-column-footer column_footer\"><g transform=\"translate(0,311)\"><path class=\"background\" d=\"M0,0h400v0h-400Z\" style=\"fill: none;\"></path><g><g class=\"mark-group role-axis\"><g transform=\"translate(0.5,0.5)\"><path class=\"background\" d=\"M0,0h0v0h0Z\" style=\"pointer-events: none; fill: none;\"></path><g><g class=\"mark-rule role-axis-tick\" style=\"pointer-events: none;\"><line transform=\"translate(0,0)\" x2=\"0\" y2=\"5\" style=\"fill: none; stroke: #888; stroke-width: 1; opacity: 1;\"></line><line transform=\"translate(50,0)\" x2=\"0\" y2=\"5\" style=\"fill: none; stroke: #888; stroke-width: 1; opacity: 1;\"></line><line transform=\"translate(100,0)\" x2=\"0\" y2=\"5\" style=\"fill: none; stroke: #888; stroke-width: 1; opacity: 1;\"></line><line transform=\"translate(150,0)\" x2=\"0\" y2=\"5\" style=\"fill: none; stroke: #888; stroke-width: 1; opacity: 1;\"></line><line transform=\"translate(200,0)\" x2=\"0\" y2=\"5\" style=\"fill: none; stroke: #888; stroke-width: 1; opacity: 1;\"></line><line transform=\"translate(250,0)\" x2=\"0\" y2=\"5\" style=\"fill: none; stroke: #888; stroke-width: 1; opacity: 1;\"></line><line transform=\"translate(300,0)\" x2=\"0\" y2=\"5\" style=\"fill: none; stroke: #888; stroke-width: 1; opacity: 1;\"></line><line transform=\"translate(350,0)\" x2=\"0\" y2=\"5\" style=\"fill: none; stroke: #888; stroke-width: 1; opacity: 1;\"></line><line transform=\"translate(400,0)\" x2=\"0\" y2=\"5\" style=\"fill: none; stroke: #888; stroke-width: 1; opacity: 1;\"></line></g><g class=\"mark-text role-axis-label\" style=\"pointer-events: none;\"><text text-anchor=\"start\" transform=\"translate(0,15)\" style=\"font: 10px sans-serif; fill: #000; opacity: 1;\">0.30</text><text text-anchor=\"middle\" transform=\"translate(50.000000000000036,15)\" style=\"font: 10px sans-serif; fill: #000; opacity: 1;\">0.32</text><text text-anchor=\"middle\" transform=\"translate(100.00000000000007,15)\" style=\"font: 10px sans-serif; fill: #000; opacity: 1;\">0.34</text><text text-anchor=\"middle\" transform=\"translate(149.99999999999994,15)\" style=\"font: 10px sans-serif; fill: #000; opacity: 1;\">0.36</text><text text-anchor=\"middle\" transform=\"translate(200,15)\" style=\"font: 10px sans-serif; fill: #000; opacity: 1;\">0.38</text><text text-anchor=\"middle\" transform=\"translate(250.00000000000006,15)\" style=\"font: 10px sans-serif; fill: #000; opacity: 1;\">0.40</text><text text-anchor=\"middle\" transform=\"translate(299.9999999999999,15)\" style=\"font: 10px sans-serif; fill: #000; opacity: 1;\">0.42</text><text text-anchor=\"middle\" transform=\"translate(349.99999999999994,15)\" style=\"font: 10px sans-serif; fill: #000; opacity: 1;\">0.44</text><text text-anchor=\"end\" transform=\"translate(400,15)\" style=\"font: 10px sans-serif; fill: #000; opacity: 1;\">0.46</text></g><g class=\"mark-rule role-axis-domain\" style=\"pointer-events: none;\"><line transform=\"translate(0,0)\" x2=\"400\" y2=\"0\" style=\"fill: none; stroke: #888; stroke-width: 1; opacity: 1;\"></line></g><g class=\"mark-text role-axis-title\" style=\"pointer-events: none;\"><text text-anchor=\"middle\" transform=\"translate(200,31)\" style=\"font: bold 11px sans-serif; fill: #000; opacity: 1;\">Temperature</text></g></g></g></g></g></g></g><g class=\"mark-group role-scope cell\"><g transform=\"translate(0,0)\"><path class=\"background\" d=\"M0.5,0.5h400v300h-400Z\" style=\"fill: none; stroke: #ddd;\"></path><g><g class=\"mark-group role-axis\"><g transform=\"translate(0.5,300.5)\"><path class=\"background\" d=\"M0,0h0v0h0Z\" style=\"pointer-events: none; fill: none;\"></path><g><g class=\"mark-rule role-axis-grid\" style=\"pointer-events: none;\"><line transform=\"translate(0,-300)\" x2=\"0\" y2=\"300\" style=\"fill: none; stroke: #ddd; stroke-width: 1; opacity: 1;\"></line><line transform=\"translate(50,-300)\" x2=\"0\" y2=\"300\" style=\"fill: none; stroke: #ddd; stroke-width: 1; opacity: 1;\"></line><line transform=\"translate(100,-300)\" x2=\"0\" y2=\"300\" style=\"fill: none; stroke: #ddd; stroke-width: 1; opacity: 1;\"></line><line transform=\"translate(150,-300)\" x2=\"0\" y2=\"300\" style=\"fill: none; stroke: #ddd; stroke-width: 1; opacity: 1;\"></line><line transform=\"translate(200,-300)\" x2=\"0\" y2=\"300\" style=\"fill: none; stroke: #ddd; stroke-width: 1; opacity: 1;\"></line><line transform=\"translate(250,-300)\" x2=\"0\" y2=\"300\" style=\"fill: none; stroke: #ddd; stroke-width: 1; opacity: 1;\"></line><line transform=\"translate(300,-300)\" x2=\"0\" y2=\"300\" style=\"fill: none; stroke: #ddd; stroke-width: 1; opacity: 1;\"></line><line transform=\"translate(350,-300)\" x2=\"0\" y2=\"300\" style=\"fill: none; stroke: #ddd; stroke-width: 1; opacity: 1;\"></line><line transform=\"translate(400,-300)\" x2=\"0\" y2=\"300\" style=\"fill: none; stroke: #ddd; stroke-width: 1; opacity: 1;\"></line></g></g></g></g><g class=\"mark-group role-axis\"><g transform=\"translate(0.5,0.5)\"><path class=\"background\" d=\"M0,0h0v0h0Z\" style=\"pointer-events: none; fill: none;\"></path><g><g class=\"mark-rule role-axis-grid\" style=\"pointer-events: none;\"><line transform=\"translate(0,300)\" x2=\"400\" y2=\"0\" style=\"fill: none; stroke: #ddd; stroke-width: 1; opacity: 1;\"></line><line transform=\"translate(0,254)\" x2=\"400\" y2=\"0\" style=\"fill: none; stroke: #ddd; stroke-width: 1; opacity: 1;\"></line><line transform=\"translate(0,208)\" x2=\"400\" y2=\"0\" style=\"fill: none; stroke: #ddd; stroke-width: 1; opacity: 1;\"></line><line transform=\"translate(0,162)\" x2=\"400\" y2=\"0\" style=\"fill: none; stroke: #ddd; stroke-width: 1; opacity: 1;\"></line><line transform=\"translate(0,115)\" x2=\"400\" y2=\"0\" style=\"fill: none; stroke: #ddd; stroke-width: 1; opacity: 1;\"></line><line transform=\"translate(0,69)\" x2=\"400\" y2=\"0\" style=\"fill: none; stroke: #ddd; stroke-width: 1; opacity: 1;\"></line><line transform=\"translate(0,23)\" x2=\"400\" y2=\"0\" style=\"fill: none; stroke: #ddd; stroke-width: 1; opacity: 1;\"></line></g></g></g></g><g class=\"mark-group role-scope child_pathgroup\"><g transform=\"translate(0,0)\"><path class=\"background\" d=\"M0,0h400v300h-400Z\" style=\"fill: none;\"></path><g><g class=\"mark-line role-mark child_marks\"><path d=\"M375,163.4323878798605L250.00000000000006,11.93862412793095L124.99999999999996,17.440120976807293L0,17.30179840016342\" style=\"fill: none; stroke: #4c78a8; stroke-width: 2;\"></path></g></g></g><g transform=\"translate(0,0)\"><path class=\"background\" d=\"M0,0h400v300h-400Z\" style=\"fill: none;\"></path><g><g class=\"mark-line role-mark child_marks\"><path d=\"M375,295.7868986282582L250.00000000000006,47.70103503383635L124.99999999999996,19.524298699517317L0,5.5836425061913815\" style=\"fill: none; stroke: #f58518; stroke-width: 2;\"></path></g></g></g><g transform=\"translate(0,0)\"><path class=\"background\" d=\"M0,0h400v300h-400Z\" style=\"fill: none;\"></path><g><g class=\"mark-line role-mark child_marks\"><path d=\"M375,139.70561409277502L250.00000000000006,41.124872945904656L124.99999999999996,8.106857281750365L0,14.68104111088769\" style=\"fill: none; stroke: #e45756; stroke-width: 2;\"></path></g></g></g></g></g></g></g><g class=\"mark-group role-legend\"><g transform=\"translate(419,0)\"><path class=\"background\" d=\"M0,0h71v58h-71Z\" style=\"pointer-events: none; fill: none;\"></path><g><g class=\"mark-group role-legend-entry\"><g transform=\"translate(0,16)\"><path class=\"background\" d=\"M0,0h0v0h0Z\" style=\"pointer-events: none; fill: none;\"></path><g><g class=\"mark-symbol role-legend-symbol\" style=\"pointer-events: none;\"><path transform=\"translate(5,5)\" d=\"M5,0A5,5,0,1,1,-5,0A5,5,0,1,1,5,0\" style=\"fill: none; stroke: #4c78a8; stroke-width: 1.5; opacity: 1;\"></path><path transform=\"translate(5,20)\" d=\"M5,0A5,5,0,1,1,-5,0A5,5,0,1,1,5,0\" style=\"fill: none; stroke: #f58518; stroke-width: 1.5; opacity: 1;\"></path><path transform=\"translate(5,35)\" d=\"M5,0A5,5,0,1,1,-5,0A5,5,0,1,1,5,0\" style=\"fill: none; stroke: #e45756; stroke-width: 1.5; opacity: 1;\"></path></g><g class=\"mark-text role-legend-label\" style=\"pointer-events: none;\"><text text-anchor=\"start\" transform=\"translate(18,8)\" style=\"font: 10px sans-serif; fill: #000; opacity: 1;\">p2</text><text text-anchor=\"start\" transform=\"translate(18,23)\" style=\"font: 10px sans-serif; fill: #000; opacity: 1;\">p2gg</text><text text-anchor=\"start\" transform=\"translate(18,38)\" style=\"font: 10px sans-serif; fill: #000; opacity: 1;\">pg</text></g></g></g></g><g class=\"mark-text role-legend-title\" style=\"pointer-events: none;\"><text text-anchor=\"start\" transform=\"translate(0,9)\" style=\"font: bold 11px sans-serif; fill: #000; opacity: 1;\">Initial Crystal</text></g></g></g></g></g></g></g></g></svg>"
      ],
      "text/plain": [
       "Chart({\n",
       "  data:     temperature pressure  crys  melting_rate\n",
       "  0          0.30     1.00    p2  2.502554e-08\n",
       "  1          0.30     1.00  p2gg  7.580422e-08\n",
       "  2          0.30     1.00    pg  3.638216e-08\n",
       "  3          0.35     1.00    p2  2.442614e-08\n",
       "  4          0.35     1.00  p2gg  1.539471e-08\n",
       "  5          0.35     1.00    pg  6.487029e-08\n",
       "  6          0.40     1.00    p2  4.826596e-08\n",
       "  7          0.40     1.00  p2gg -1.067045e-07\n",
       "  8          0.40     1.00    pg -7.820778e-08\n",
       "  9          0.45     1.00    p2 -6.082070e-07\n",
       "  10         0.45     1.00  p2gg -1.181743e-06\n",
       "  11         0.45     1.00    pg -5.053910e-07,\n",
       "  mark: 'line',\n",
       "  encoding: EncodingWithFacet({\n",
       "    color: Color({\n",
       "      legend: Legend({\n",
       "        title: 'Initial Crystal'\n",
       "      }),\n",
       "      shorthand: 'crys'\n",
       "    }),\n",
       "    column: Column({\n",
       "      header: Header({\n",
       "        title: 'Pressure'\n",
       "      }),\n",
       "      shorthand: 'pressure'\n",
       "    }),\n",
       "    x: X({\n",
       "      axis: Axis({\n",
       "        title: 'Temperature'\n",
       "      }),\n",
       "      scale: Scale({\n",
       "        zero: False\n",
       "      }),\n",
       "      shorthand: 'temperature'\n",
       "    }),\n",
       "    y: Y({\n",
       "      axis: Axis({\n",
       "        format: 'e',\n",
       "        title: 'Melting Rate ((d(V/SA)/dt))'\n",
       "      }),\n",
       "      shorthand: 'melting_rate'\n",
       "    })\n",
       "  })\n",
       "})"
      ]
     },
     "execution_count": 95,
     "metadata": {},
     "output_type": "execute_result"
    }
   ],
   "source": [
    "Chart(melt_low).mark_line().encode(\n",
    "    x=X('temperature', axis=Axis(title='Temperature'), scale=Scale(zero=False)),\n",
    "    y=Y('melting_rate', axis=Axis(format='e', title='Melting Rate ((d(V/SA)/dt))')),\n",
    "    color=Color('crys', legend=alt.Legend(title='Initial Crystal')),\n",
    "    column=Column('pressure', header=alt.Header(title='Pressure')), \n",
    ")"
   ]
  },
  {
   "cell_type": "markdown",
   "metadata": {},
   "source": [
    "## High Pressure"
   ]
  },
  {
   "cell_type": "code",
   "execution_count": 96,
   "metadata": {},
   "outputs": [
    {
     "data": {
      "application/vnd.jupyter.widget-view+json": {
       "model_id": "674d05a84d584f62a3221e673ef73cf3",
       "version_major": 2,
       "version_minor": 0
      },
      "text/html": [
       "<p>Failed to display Jupyter Widget of type <code>interactive</code>.</p>\n",
       "<p>\n",
       "  If you're reading this message in the Jupyter Notebook or JupyterLab Notebook, it may mean\n",
       "  that the widgets JavaScript is still loading. If this message persists, it\n",
       "  likely means that the widgets JavaScript library is either not installed or\n",
       "  not enabled. See the <a href=\"https://ipywidgets.readthedocs.io/en/stable/user_install.html\">Jupyter\n",
       "  Widgets Documentation</a> for setup instructions.\n",
       "</p>\n",
       "<p>\n",
       "  If you're reading this message in another frontend (for example, a static\n",
       "  rendering on GitHub or <a href=\"https://nbviewer.jupyter.org/\">NBViewer</a>),\n",
       "  it may mean that your frontend doesn't currently support widgets.\n",
       "</p>\n"
      ],
      "text/plain": [
       "interactive(children=(ToggleButtons(description='Temperature:', options=('1.30', '1.35', '1.40', '1.45', '1.50'), value='1.30'), Output()), _dom_classes=('widget-interact',))"
      ]
     },
     "metadata": {},
     "output_type": "display_data"
    },
    {
     "data": {
      "text/plain": [
       "<function __main__.create_figure>"
      ]
     },
     "execution_count": 96,
     "metadata": {},
     "output_type": "execute_result"
    }
   ],
   "source": [
    "temp_select = ToggleButtons(\n",
    "    options=sorted(df_high.temperature.unique()),\n",
    "    description='Temperature:',\n",
    ")\n",
    "\n",
    "interact(create_figure, temp=temp_select, dataset=fixed(df_high))"
   ]
  },
  {
   "cell_type": "code",
   "execution_count": 97,
   "metadata": {},
   "outputs": [],
   "source": [
    "melt_high = compute_melting_rates(df_high)"
   ]
  },
  {
   "cell_type": "code",
   "execution_count": 98,
   "metadata": {},
   "outputs": [
    {
     "data": {
      "image/svg+xml": [
       "<svg class=\"marks\" width=\"573\" height=\"408\" viewBox=\"0 0 573 408\" version=\"1.1\" xmlns=\"http://www.w3.org/2000/svg\" xmlns:xlink=\"http://www.w3.org/1999/xlink\"><g transform=\"translate(76,57)\"><g class=\"mark-group role-frame root\"><g transform=\"translate(0,0)\"><path class=\"background\" d=\"M0,0h0v0h0Z\" style=\"fill: none;\"></path><g><g class=\"mark-group role-column-title column_title\"><g transform=\"translate(200,-42)\"><path class=\"background\" d=\"M0,0h0v0h0Z\" style=\"fill: none;\"></path><g><g class=\"mark-text role-column-title-text\"><text text-anchor=\"middle\" transform=\"translate(0,0)\" style=\"font: bold 11px sans-serif; fill: #000;\">Pressure</text></g></g></g></g><g class=\"mark-group role-row-header row_header\"><g transform=\"translate(-13,0)\"><path class=\"background\" d=\"M0,0h0v300h0Z\" style=\"fill: none;\"></path><g><g class=\"mark-group role-axis\"><g transform=\"translate(0.5,0.5)\"><path class=\"background\" d=\"M0,0h0v0h0Z\" style=\"pointer-events: none; fill: none;\"></path><g><g class=\"mark-rule role-axis-tick\" style=\"pointer-events: none;\"><line transform=\"translate(0,300)\" x2=\"-5\" y2=\"0\" style=\"fill: none; stroke: #888; stroke-width: 1; opacity: 1;\"></line><line transform=\"translate(0,267)\" x2=\"-5\" y2=\"0\" style=\"fill: none; stroke: #888; stroke-width: 1; opacity: 1;\"></line><line transform=\"translate(0,233)\" x2=\"-5\" y2=\"0\" style=\"fill: none; stroke: #888; stroke-width: 1; opacity: 1;\"></line><line transform=\"translate(0,200)\" x2=\"-5\" y2=\"0\" style=\"fill: none; stroke: #888; stroke-width: 1; opacity: 1;\"></line><line transform=\"translate(0,167)\" x2=\"-5\" y2=\"0\" style=\"fill: none; stroke: #888; stroke-width: 1; opacity: 1;\"></line><line transform=\"translate(0,133)\" x2=\"-5\" y2=\"0\" style=\"fill: none; stroke: #888; stroke-width: 1; opacity: 1;\"></line><line transform=\"translate(0,100)\" x2=\"-5\" y2=\"0\" style=\"fill: none; stroke: #888; stroke-width: 1; opacity: 1;\"></line><line transform=\"translate(0,67)\" x2=\"-5\" y2=\"0\" style=\"fill: none; stroke: #888; stroke-width: 1; opacity: 1;\"></line><line transform=\"translate(0,33)\" x2=\"-5\" y2=\"0\" style=\"fill: none; stroke: #888; stroke-width: 1; opacity: 1;\"></line><line transform=\"translate(0,0)\" x2=\"-5\" y2=\"0\" style=\"fill: none; stroke: #888; stroke-width: 1; opacity: 1;\"></line></g><g class=\"mark-text role-axis-label\" style=\"pointer-events: none;\"><text text-anchor=\"end\" transform=\"translate(-7,303)\" style=\"font: 10px sans-serif; fill: #000; opacity: 1;\">-1.6e-7</text><text text-anchor=\"end\" transform=\"translate(-7,269.6666666666667)\" style=\"font: 10px sans-serif; fill: #000; opacity: 1;\">-1.4e-7</text><text text-anchor=\"end\" transform=\"translate(-7,236.33333333333331)\" style=\"font: 10px sans-serif; fill: #000; opacity: 1;\">-1.2e-7</text><text text-anchor=\"end\" transform=\"translate(-7,203)\" style=\"font: 10px sans-serif; fill: #000; opacity: 1;\">-1.0e-7</text><text text-anchor=\"end\" transform=\"translate(-7,169.66666666666666)\" style=\"font: 10px sans-serif; fill: #000; opacity: 1;\">-8.0e-8</text><text text-anchor=\"end\" transform=\"translate(-7,136.33333333333331)\" style=\"font: 10px sans-serif; fill: #000; opacity: 1;\">-6.0e-8</text><text text-anchor=\"end\" transform=\"translate(-7,102.99999999999997)\" style=\"font: 10px sans-serif; fill: #000; opacity: 1;\">-4.0e-8</text><text text-anchor=\"end\" transform=\"translate(-7,69.66666666666666)\" style=\"font: 10px sans-serif; fill: #000; opacity: 1;\">-2.0e-8</text><text text-anchor=\"end\" transform=\"translate(-7,36.333333333333314)\" style=\"font: 10px sans-serif; fill: #000; opacity: 1;\">0.0e+0</text><text text-anchor=\"end\" transform=\"translate(-7,3)\" style=\"font: 10px sans-serif; fill: #000; opacity: 1;\">2.0e-8</text></g><g class=\"mark-rule role-axis-domain\" style=\"pointer-events: none;\"><line transform=\"translate(0,300)\" x2=\"0\" y2=\"-300\" style=\"fill: none; stroke: #888; stroke-width: 1; opacity: 1;\"></line></g><g class=\"mark-text role-axis-title\" style=\"pointer-events: none;\"><text text-anchor=\"middle\" transform=\"translate(-45,150) rotate(-90) translate(0,-2)\" style=\"font: bold 11px sans-serif; fill: #000; opacity: 1;\">Melting Rate (d(V/SA)/dt)</text></g></g></g></g></g></g></g><g class=\"mark-group role-column-header column_header\"><g transform=\"translate(0,-11)\"><path class=\"background\" d=\"M0,0h400v0h-400Z\" style=\"fill: none;\"></path><g><g class=\"mark-text role-title\" style=\"pointer-events: none;\"><text text-anchor=\"middle\" transform=\"translate(200,-12)\" style=\"font: 10px sans-serif; fill: #000; opacity: 1;\">13.50</text></g></g></g></g><g class=\"mark-group role-column-footer column_footer\"><g transform=\"translate(0,311)\"><path class=\"background\" d=\"M0,0h400v0h-400Z\" style=\"fill: none;\"></path><g><g class=\"mark-group role-axis\"><g transform=\"translate(0.5,0.5)\"><path class=\"background\" d=\"M0,0h0v0h0Z\" style=\"pointer-events: none; fill: none;\"></path><g><g class=\"mark-rule role-axis-tick\" style=\"pointer-events: none;\"><line transform=\"translate(0,0)\" x2=\"0\" y2=\"5\" style=\"fill: none; stroke: #888; stroke-width: 1; opacity: 1;\"></line><line transform=\"translate(40,0)\" x2=\"0\" y2=\"5\" style=\"fill: none; stroke: #888; stroke-width: 1; opacity: 1;\"></line><line transform=\"translate(80,0)\" x2=\"0\" y2=\"5\" style=\"fill: none; stroke: #888; stroke-width: 1; opacity: 1;\"></line><line transform=\"translate(120,0)\" x2=\"0\" y2=\"5\" style=\"fill: none; stroke: #888; stroke-width: 1; opacity: 1;\"></line><line transform=\"translate(160,0)\" x2=\"0\" y2=\"5\" style=\"fill: none; stroke: #888; stroke-width: 1; opacity: 1;\"></line><line transform=\"translate(200,0)\" x2=\"0\" y2=\"5\" style=\"fill: none; stroke: #888; stroke-width: 1; opacity: 1;\"></line><line transform=\"translate(240,0)\" x2=\"0\" y2=\"5\" style=\"fill: none; stroke: #888; stroke-width: 1; opacity: 1;\"></line><line transform=\"translate(280,0)\" x2=\"0\" y2=\"5\" style=\"fill: none; stroke: #888; stroke-width: 1; opacity: 1;\"></line><line transform=\"translate(320,0)\" x2=\"0\" y2=\"5\" style=\"fill: none; stroke: #888; stroke-width: 1; opacity: 1;\"></line><line transform=\"translate(360,0)\" x2=\"0\" y2=\"5\" style=\"fill: none; stroke: #888; stroke-width: 1; opacity: 1;\"></line><line transform=\"translate(400,0)\" x2=\"0\" y2=\"5\" style=\"fill: none; stroke: #888; stroke-width: 1; opacity: 1;\"></line></g><g class=\"mark-text role-axis-label\" style=\"pointer-events: none;\"><text text-anchor=\"start\" transform=\"translate(0,15)\" style=\"font: 10px sans-serif; fill: #000; opacity: 1;\">1.30</text><text text-anchor=\"middle\" transform=\"translate(40.00000000000005,15)\" style=\"font: 10px sans-serif; fill: #000; opacity: 1;\">1.32</text><text text-anchor=\"middle\" transform=\"translate(80.0000000000001,15)\" style=\"font: 10px sans-serif; fill: #000; opacity: 1;\">1.34</text><text text-anchor=\"middle\" transform=\"translate(120.00000000000013,15)\" style=\"font: 10px sans-serif; fill: #000; opacity: 1;\">1.36</text><text text-anchor=\"middle\" transform=\"translate(159.99999999999974,15)\" style=\"font: 10px sans-serif; fill: #000; opacity: 1;\">1.38</text><text text-anchor=\"middle\" transform=\"translate(199.99999999999977,15)\" style=\"font: 10px sans-serif; fill: #000; opacity: 1;\">1.40</text><text text-anchor=\"middle\" transform=\"translate(239.9999999999998,15)\" style=\"font: 10px sans-serif; fill: #000; opacity: 1;\">1.42</text><text text-anchor=\"middle\" transform=\"translate(279.99999999999983,15)\" style=\"font: 10px sans-serif; fill: #000; opacity: 1;\">1.44</text><text text-anchor=\"middle\" transform=\"translate(319.99999999999994,15)\" style=\"font: 10px sans-serif; fill: #000; opacity: 1;\">1.46</text><text text-anchor=\"middle\" transform=\"translate(359.99999999999994,15)\" style=\"font: 10px sans-serif; fill: #000; opacity: 1;\">1.48</text><text text-anchor=\"end\" transform=\"translate(400,15)\" style=\"font: 10px sans-serif; fill: #000; opacity: 1;\">1.50</text></g><g class=\"mark-rule role-axis-domain\" style=\"pointer-events: none;\"><line transform=\"translate(0,0)\" x2=\"400\" y2=\"0\" style=\"fill: none; stroke: #888; stroke-width: 1; opacity: 1;\"></line></g><g class=\"mark-text role-axis-title\" style=\"pointer-events: none;\"><text text-anchor=\"middle\" transform=\"translate(200,31)\" style=\"font: bold 11px sans-serif; fill: #000; opacity: 1;\">Temperature</text></g></g></g></g></g></g></g><g class=\"mark-group role-scope cell\"><g transform=\"translate(0,0)\"><path class=\"background\" d=\"M0.5,0.5h400v300h-400Z\" style=\"fill: none; stroke: #ddd;\"></path><g><g class=\"mark-group role-axis\"><g transform=\"translate(0.5,300.5)\"><path class=\"background\" d=\"M0,0h0v0h0Z\" style=\"pointer-events: none; fill: none;\"></path><g><g class=\"mark-rule role-axis-grid\" style=\"pointer-events: none;\"><line transform=\"translate(0,-300)\" x2=\"0\" y2=\"300\" style=\"fill: none; stroke: #ddd; stroke-width: 1; opacity: 1;\"></line><line transform=\"translate(40,-300)\" x2=\"0\" y2=\"300\" style=\"fill: none; stroke: #ddd; stroke-width: 1; opacity: 1;\"></line><line transform=\"translate(80,-300)\" x2=\"0\" y2=\"300\" style=\"fill: none; stroke: #ddd; stroke-width: 1; opacity: 1;\"></line><line transform=\"translate(120,-300)\" x2=\"0\" y2=\"300\" style=\"fill: none; stroke: #ddd; stroke-width: 1; opacity: 1;\"></line><line transform=\"translate(160,-300)\" x2=\"0\" y2=\"300\" style=\"fill: none; stroke: #ddd; stroke-width: 1; opacity: 1;\"></line><line transform=\"translate(200,-300)\" x2=\"0\" y2=\"300\" style=\"fill: none; stroke: #ddd; stroke-width: 1; opacity: 1;\"></line><line transform=\"translate(240,-300)\" x2=\"0\" y2=\"300\" style=\"fill: none; stroke: #ddd; stroke-width: 1; opacity: 1;\"></line><line transform=\"translate(280,-300)\" x2=\"0\" y2=\"300\" style=\"fill: none; stroke: #ddd; stroke-width: 1; opacity: 1;\"></line><line transform=\"translate(320,-300)\" x2=\"0\" y2=\"300\" style=\"fill: none; stroke: #ddd; stroke-width: 1; opacity: 1;\"></line><line transform=\"translate(360,-300)\" x2=\"0\" y2=\"300\" style=\"fill: none; stroke: #ddd; stroke-width: 1; opacity: 1;\"></line><line transform=\"translate(400,-300)\" x2=\"0\" y2=\"300\" style=\"fill: none; stroke: #ddd; stroke-width: 1; opacity: 1;\"></line></g></g></g></g><g class=\"mark-group role-axis\"><g transform=\"translate(0.5,0.5)\"><path class=\"background\" d=\"M0,0h0v0h0Z\" style=\"pointer-events: none; fill: none;\"></path><g><g class=\"mark-rule role-axis-grid\" style=\"pointer-events: none;\"><line transform=\"translate(0,300)\" x2=\"400\" y2=\"0\" style=\"fill: none; stroke: #ddd; stroke-width: 1; opacity: 1;\"></line><line transform=\"translate(0,267)\" x2=\"400\" y2=\"0\" style=\"fill: none; stroke: #ddd; stroke-width: 1; opacity: 1;\"></line><line transform=\"translate(0,233)\" x2=\"400\" y2=\"0\" style=\"fill: none; stroke: #ddd; stroke-width: 1; opacity: 1;\"></line><line transform=\"translate(0,200)\" x2=\"400\" y2=\"0\" style=\"fill: none; stroke: #ddd; stroke-width: 1; opacity: 1;\"></line><line transform=\"translate(0,167)\" x2=\"400\" y2=\"0\" style=\"fill: none; stroke: #ddd; stroke-width: 1; opacity: 1;\"></line><line transform=\"translate(0,133)\" x2=\"400\" y2=\"0\" style=\"fill: none; stroke: #ddd; stroke-width: 1; opacity: 1;\"></line><line transform=\"translate(0,100)\" x2=\"400\" y2=\"0\" style=\"fill: none; stroke: #ddd; stroke-width: 1; opacity: 1;\"></line><line transform=\"translate(0,67)\" x2=\"400\" y2=\"0\" style=\"fill: none; stroke: #ddd; stroke-width: 1; opacity: 1;\"></line><line transform=\"translate(0,33)\" x2=\"400\" y2=\"0\" style=\"fill: none; stroke: #ddd; stroke-width: 1; opacity: 1;\"></line><line transform=\"translate(0,0)\" x2=\"400\" y2=\"0\" style=\"fill: none; stroke: #ddd; stroke-width: 1; opacity: 1;\"></line></g></g></g></g><g class=\"mark-group role-scope child_pathgroup\"><g transform=\"translate(0,0)\"><path class=\"background\" d=\"M0,0h400v300h-400Z\" style=\"fill: none;\"></path><g><g class=\"mark-line role-mark child_marks\"><path d=\"M400,93.93809144309157L299.9999999999999,54.955910618361L199.99999999999977,41.969964450520536L100.00000000000011,36.05728107679204L0,32.51531522124401\" style=\"fill: none; stroke: #4c78a8; stroke-width: 2;\"></path></g></g></g><g transform=\"translate(0,0)\"><path class=\"background\" d=\"M0,0h400v300h-400Z\" style=\"fill: none;\"></path><g><g class=\"mark-line role-mark child_marks\"><path d=\"M400,77.37768455449893L299.9999999999999,47.51459717038682L199.99999999999977,37.091653285266204L100.00000000000011,33.72770539475084L0,31.99311208612977\" style=\"fill: none; stroke: #f58518; stroke-width: 2;\"></path></g></g></g><g transform=\"translate(0,0)\"><path class=\"background\" d=\"M0,0h400v300h-400Z\" style=\"fill: none;\"></path><g><g class=\"mark-line role-mark child_marks\"><path d=\"M400,259.5370174271208L299.9999999999999,168.36418154837145L199.99999999999977,95.00709063788338L100.00000000000011,60.21774867724574L0,42.61448615980731\" style=\"fill: none; stroke: #e45756; stroke-width: 2;\"></path></g></g></g></g></g></g></g><g class=\"mark-group role-legend\"><g transform=\"translate(421,0)\"><path class=\"background\" d=\"M0,0h71v58h-71Z\" style=\"pointer-events: none; fill: none;\"></path><g><g class=\"mark-group role-legend-entry\"><g transform=\"translate(0,16)\"><path class=\"background\" d=\"M0,0h0v0h0Z\" style=\"pointer-events: none; fill: none;\"></path><g><g class=\"mark-symbol role-legend-symbol\" style=\"pointer-events: none;\"><path transform=\"translate(5,5)\" d=\"M5,0A5,5,0,1,1,-5,0A5,5,0,1,1,5,0\" style=\"fill: none; stroke: #4c78a8; stroke-width: 1.5; opacity: 1;\"></path><path transform=\"translate(5,20)\" d=\"M5,0A5,5,0,1,1,-5,0A5,5,0,1,1,5,0\" style=\"fill: none; stroke: #f58518; stroke-width: 1.5; opacity: 1;\"></path><path transform=\"translate(5,35)\" d=\"M5,0A5,5,0,1,1,-5,0A5,5,0,1,1,5,0\" style=\"fill: none; stroke: #e45756; stroke-width: 1.5; opacity: 1;\"></path></g><g class=\"mark-text role-legend-label\" style=\"pointer-events: none;\"><text text-anchor=\"start\" transform=\"translate(18,8)\" style=\"font: 10px sans-serif; fill: #000; opacity: 1;\">p2</text><text text-anchor=\"start\" transform=\"translate(18,23)\" style=\"font: 10px sans-serif; fill: #000; opacity: 1;\">p2gg</text><text text-anchor=\"start\" transform=\"translate(18,38)\" style=\"font: 10px sans-serif; fill: #000; opacity: 1;\">pg</text></g></g></g></g><g class=\"mark-text role-legend-title\" style=\"pointer-events: none;\"><text text-anchor=\"start\" transform=\"translate(0,9)\" style=\"font: bold 11px sans-serif; fill: #000; opacity: 1;\">Initial Crystal</text></g></g></g></g></g></g></g></g></svg>"
      ],
      "text/plain": [
       "Chart({\n",
       "  data:     temperature pressure  crys  melting_rate\n",
       "  0          1.30    13.50    p2  4.908109e-10\n",
       "  1          1.30    13.50  p2gg  8.041327e-10\n",
       "  2          1.30    13.50    pg -5.568692e-09\n",
       "  3          1.35    13.50    p2 -1.634369e-09\n",
       "  4          1.35    13.50  p2gg -2.366232e-10\n",
       "  5          1.35    13.50    pg -1.613065e-08\n",
       "  6          1.40    13.50    p2 -5.181979e-09\n",
       "  7          1.40    13.50  p2gg -2.254992e-09\n",
       "  8          1.40    13.50    pg -3.700425e-08\n",
       "  9          1.45    13.50    p2 -1.297355e-08\n",
       "  10         1.45    13.50  p2gg -8.508758e-09\n",
       "  11         1.45    13.50    pg -8.101851e-08\n",
       "  12         1.50    13.50    p2 -3.636285e-08\n",
       "  13         1.50    13.50  p2gg -2.642661e-08\n",
       "  14         1.50    13.50    pg -1.357222e-07,\n",
       "  mark: 'line',\n",
       "  encoding: EncodingWithFacet({\n",
       "    color: Color({\n",
       "      legend: Legend({\n",
       "        title: 'Initial Crystal'\n",
       "      }),\n",
       "      shorthand: 'crys'\n",
       "    }),\n",
       "    column: Column({\n",
       "      header: Header({\n",
       "        title: 'Pressure'\n",
       "      }),\n",
       "      shorthand: 'pressure'\n",
       "    }),\n",
       "    x: X({\n",
       "      axis: Axis({\n",
       "        title: 'Temperature'\n",
       "      }),\n",
       "      scale: Scale({\n",
       "        zero: False\n",
       "      }),\n",
       "      shorthand: 'temperature'\n",
       "    }),\n",
       "    y: Y({\n",
       "      axis: Axis({\n",
       "        format: 'e',\n",
       "        title: 'Melting Rate (d(V/SA)/dt)'\n",
       "      }),\n",
       "      shorthand: 'melting_rate'\n",
       "    })\n",
       "  })\n",
       "})"
      ]
     },
     "execution_count": 98,
     "metadata": {},
     "output_type": "execute_result"
    }
   ],
   "source": [
    "Chart(melt_high).mark_line().encode(\n",
    "    x=X('temperature', axis=Axis(title='Temperature'), scale=Scale(zero=False)),\n",
    "    y=Y('melting_rate', axis=Axis(format='e', title='Melting Rate (d(V/SA)/dt)')),\n",
    "    color=Color('crys', legend=alt.Legend(title='Initial Crystal')),\n",
    "    column=Column('pressure', header=alt.Header(title='Pressure')), \n",
    ")"
   ]
  }
 ],
 "metadata": {
  "kernelspec": {
   "display_name": "crystal",
   "language": "python",
   "name": "crystal"
  },
  "language_info": {
   "codemirror_mode": {
    "name": "ipython",
    "version": 3
   },
   "file_extension": ".py",
   "mimetype": "text/x-python",
   "name": "python",
   "nbconvert_exporter": "python",
   "pygments_lexer": "ipython3",
   "version": "3.6.4"
  }
 },
 "nbformat": 4,
 "nbformat_minor": 2
}
