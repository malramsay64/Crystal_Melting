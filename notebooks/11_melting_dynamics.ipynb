{
 "cells": [
  {
   "cell_type": "markdown",
   "metadata": {},
   "source": [
    "# Melting Dynamics\n",
    "\n",
    "This is a notebook to understand the dynamics of crystal melting, in particular how much of the slowdown of the melting can be attributed to the slow dynamics."
   ]
  },
  {
   "cell_type": "code",
   "execution_count": 1,
   "metadata": {},
   "outputs": [],
   "source": [
    "# Import required modules\n",
    "import pandas as pd\n",
    "import numpy as np\n",
    "import altair.vegalite.v2 as alt\n",
    "from ipywidgets import interact, ToggleButtons, IntSlider"
   ]
  },
  {
   "cell_type": "markdown",
   "metadata": {},
   "source": [
    "## Input data\n",
    "\n",
    "The data for this notebook is sourced from the calculations of the relaxation times which can be run using the makefile in the home directory of this repository. The command `make relaxations` will compute the relaxation values that are required for this analysis, although if not run previously the command `make dynamics` will also need to be run as I am yet to set up any dependencies in the Makefile.\n",
    "\n",
    "The calculation of the melting rates is performed in the [Crystal_Clustering](Crystal_Clustering.ipynb) notebook from calculations of crystal fractions from running `make melting`."
   ]
  },
  {
   "cell_type": "code",
   "execution_count": 7,
   "metadata": {},
   "outputs": [],
   "source": [
    "df_relax = pd.read_hdf('../data/analysis/dynamics_clean_agg.h5', 'relaxations')\n",
    "df_melting = pd.read_hdf(\"../data/analysis/melting.h5\", \"rates\")\n",
    "\n",
    "df_timescales = df_relax.merge(df_melting, on=['temperature', 'pressure'])"
   ]
  },
  {
   "cell_type": "code",
   "execution_count": 6,
   "metadata": {},
   "outputs": [
    {
     "data": {
      "text/html": [
       "<div>\n",
       "<style scoped>\n",
       "    .dataframe tbody tr th:only-of-type {\n",
       "        vertical-align: middle;\n",
       "    }\n",
       "\n",
       "    .dataframe tbody tr th {\n",
       "        vertical-align: top;\n",
       "    }\n",
       "\n",
       "    .dataframe thead th {\n",
       "        text-align: right;\n",
       "    }\n",
       "</style>\n",
       "<table border=\"1\" class=\"dataframe\">\n",
       "  <thead>\n",
       "    <tr style=\"text-align: right;\">\n",
       "      <th></th>\n",
       "      <th>temperature</th>\n",
       "      <th>pressure</th>\n",
       "      <th>index_value</th>\n",
       "      <th>index_lower</th>\n",
       "      <th>index_upper</th>\n",
       "      <th>alpha_value</th>\n",
       "      <th>alpha_lower</th>\n",
       "      <th>alpha_upper</th>\n",
       "      <th>com_struct_value</th>\n",
       "      <th>com_struct_lower</th>\n",
       "      <th>...</th>\n",
       "      <th>struct_value</th>\n",
       "      <th>struct_lower</th>\n",
       "      <th>struct_upper</th>\n",
       "      <th>inv_diffusion_value</th>\n",
       "      <th>inv_diffusion_lower</th>\n",
       "      <th>inv_diffusion_upper</th>\n",
       "      <th>crystal</th>\n",
       "      <th>temp_norm</th>\n",
       "      <th>mean</th>\n",
       "      <th>error</th>\n",
       "    </tr>\n",
       "  </thead>\n",
       "  <tbody>\n",
       "    <tr>\n",
       "      <th>0</th>\n",
       "      <td>0.30</td>\n",
       "      <td>1.0</td>\n",
       "      <td>NaN</td>\n",
       "      <td>NaN</td>\n",
       "      <td>NaN</td>\n",
       "      <td>82455176.00</td>\n",
       "      <td>8.037706e+07</td>\n",
       "      <td>87564339.00</td>\n",
       "      <td>1.148239e+09</td>\n",
       "      <td>1.145028e+09</td>\n",
       "      <td>...</td>\n",
       "      <td>5.781875e+08</td>\n",
       "      <td>5.775309e+08</td>\n",
       "      <td>5.799684e+08</td>\n",
       "      <td>NaN</td>\n",
       "      <td>NaN</td>\n",
       "      <td>NaN</td>\n",
       "      <td>p2</td>\n",
       "      <td>0.833333</td>\n",
       "      <td>3.482835e-10</td>\n",
       "      <td>1.356480e-09</td>\n",
       "    </tr>\n",
       "    <tr>\n",
       "      <th>1</th>\n",
       "      <td>0.32</td>\n",
       "      <td>1.0</td>\n",
       "      <td>NaN</td>\n",
       "      <td>NaN</td>\n",
       "      <td>NaN</td>\n",
       "      <td>18812476.20</td>\n",
       "      <td>1.812581e+07</td>\n",
       "      <td>20488152.04</td>\n",
       "      <td>9.977559e+07</td>\n",
       "      <td>9.961881e+07</td>\n",
       "      <td>...</td>\n",
       "      <td>6.872281e+07</td>\n",
       "      <td>6.865647e+07</td>\n",
       "      <td>6.889176e+07</td>\n",
       "      <td>9.340425e+07</td>\n",
       "      <td>9.337719e+07</td>\n",
       "      <td>9.347569e+07</td>\n",
       "      <td>p2</td>\n",
       "      <td>0.888889</td>\n",
       "      <td>1.158523e-09</td>\n",
       "      <td>2.048452e-09</td>\n",
       "    </tr>\n",
       "    <tr>\n",
       "      <th>2</th>\n",
       "      <td>0.36</td>\n",
       "      <td>1.0</td>\n",
       "      <td>NaN</td>\n",
       "      <td>NaN</td>\n",
       "      <td>NaN</td>\n",
       "      <td>902678.00</td>\n",
       "      <td>8.591131e+05</td>\n",
       "      <td>995338.96</td>\n",
       "      <td>3.895025e+06</td>\n",
       "      <td>3.846236e+06</td>\n",
       "      <td>...</td>\n",
       "      <td>2.298999e+06</td>\n",
       "      <td>2.268974e+06</td>\n",
       "      <td>2.365793e+06</td>\n",
       "      <td>3.840824e+06</td>\n",
       "      <td>3.838640e+06</td>\n",
       "      <td>3.846158e+06</td>\n",
       "      <td>p2</td>\n",
       "      <td>1.000000</td>\n",
       "      <td>-2.633343e-09</td>\n",
       "      <td>2.242914e-09</td>\n",
       "    </tr>\n",
       "    <tr>\n",
       "      <th>3</th>\n",
       "      <td>0.38</td>\n",
       "      <td>1.0</td>\n",
       "      <td>NaN</td>\n",
       "      <td>NaN</td>\n",
       "      <td>NaN</td>\n",
       "      <td>305670.00</td>\n",
       "      <td>2.928147e+05</td>\n",
       "      <td>334947.37</td>\n",
       "      <td>NaN</td>\n",
       "      <td>NaN</td>\n",
       "      <td>...</td>\n",
       "      <td>NaN</td>\n",
       "      <td>NaN</td>\n",
       "      <td>NaN</td>\n",
       "      <td>1.271341e+06</td>\n",
       "      <td>1.270236e+06</td>\n",
       "      <td>1.273924e+06</td>\n",
       "      <td>p2</td>\n",
       "      <td>1.055556</td>\n",
       "      <td>-6.604699e-09</td>\n",
       "      <td>2.695049e-09</td>\n",
       "    </tr>\n",
       "    <tr>\n",
       "      <th>4</th>\n",
       "      <td>0.40</td>\n",
       "      <td>1.0</td>\n",
       "      <td>NaN</td>\n",
       "      <td>NaN</td>\n",
       "      <td>NaN</td>\n",
       "      <td>59481.62</td>\n",
       "      <td>5.763231e+04</td>\n",
       "      <td>63593.17</td>\n",
       "      <td>2.549309e+05</td>\n",
       "      <td>2.522658e+05</td>\n",
       "      <td>...</td>\n",
       "      <td>1.711767e+05</td>\n",
       "      <td>1.693425e+05</td>\n",
       "      <td>1.759726e+05</td>\n",
       "      <td>3.461727e+05</td>\n",
       "      <td>3.453189e+05</td>\n",
       "      <td>3.484867e+05</td>\n",
       "      <td>p2</td>\n",
       "      <td>1.111111</td>\n",
       "      <td>-5.662076e-08</td>\n",
       "      <td>4.335606e-09</td>\n",
       "    </tr>\n",
       "  </tbody>\n",
       "</table>\n",
       "<p>5 rows × 48 columns</p>\n",
       "</div>"
      ],
      "text/plain": [
       "   temperature  pressure  index_value  index_lower  index_upper  alpha_value  \\\n",
       "0         0.30       1.0          NaN          NaN          NaN  82455176.00   \n",
       "1         0.32       1.0          NaN          NaN          NaN  18812476.20   \n",
       "2         0.36       1.0          NaN          NaN          NaN    902678.00   \n",
       "3         0.38       1.0          NaN          NaN          NaN    305670.00   \n",
       "4         0.40       1.0          NaN          NaN          NaN     59481.62   \n",
       "\n",
       "    alpha_lower  alpha_upper  com_struct_value  com_struct_lower  ...  \\\n",
       "0  8.037706e+07  87564339.00      1.148239e+09      1.145028e+09  ...   \n",
       "1  1.812581e+07  20488152.04      9.977559e+07      9.961881e+07  ...   \n",
       "2  8.591131e+05    995338.96      3.895025e+06      3.846236e+06  ...   \n",
       "3  2.928147e+05    334947.37               NaN               NaN  ...   \n",
       "4  5.763231e+04     63593.17      2.549309e+05      2.522658e+05  ...   \n",
       "\n",
       "   struct_value  struct_lower  struct_upper  inv_diffusion_value  \\\n",
       "0  5.781875e+08  5.775309e+08  5.799684e+08                  NaN   \n",
       "1  6.872281e+07  6.865647e+07  6.889176e+07         9.340425e+07   \n",
       "2  2.298999e+06  2.268974e+06  2.365793e+06         3.840824e+06   \n",
       "3           NaN           NaN           NaN         1.271341e+06   \n",
       "4  1.711767e+05  1.693425e+05  1.759726e+05         3.461727e+05   \n",
       "\n",
       "   inv_diffusion_lower  inv_diffusion_upper  crystal  temp_norm          mean  \\\n",
       "0                  NaN                  NaN       p2   0.833333  3.482835e-10   \n",
       "1         9.337719e+07         9.347569e+07       p2   0.888889  1.158523e-09   \n",
       "2         3.838640e+06         3.846158e+06       p2   1.000000 -2.633343e-09   \n",
       "3         1.270236e+06         1.273924e+06       p2   1.055556 -6.604699e-09   \n",
       "4         3.453189e+05         3.484867e+05       p2   1.111111 -5.662076e-08   \n",
       "\n",
       "          error  \n",
       "0  1.356480e-09  \n",
       "1  2.048452e-09  \n",
       "2  2.242914e-09  \n",
       "3  2.695049e-09  \n",
       "4  4.335606e-09  \n",
       "\n",
       "[5 rows x 48 columns]"
      ]
     },
     "execution_count": 6,
     "metadata": {},
     "output_type": "execute_result"
    }
   ],
   "source": [
    "df_timescales.head()"
   ]
  },
  {
   "cell_type": "code",
   "execution_count": null,
   "metadata": {},
   "outputs": [],
   "source": []
  },
  {
   "cell_type": "code",
   "execution_count": 21,
   "metadata": {},
   "outputs": [
    {
     "data": {
      "application/vnd.vegalite.v2+json": {
       "$schema": "https://vega.github.io/schema/vega-lite/v2.6.0.json",
       "config": {
        "view": {
         "height": 300,
         "width": 400
        }
       },
       "data": {
        "name": "data-0724bfd91b76d12008de33b7f3ffbcaf"
       },
       "datasets": {
        "data-0724bfd91b76d12008de33b7f3ffbcaf": [
         {
          "alpha_lower": 80377056,
          "alpha_upper": 87564339,
          "alpha_value": 82455176,
          "com_struct_lower": 1145027595.044891,
          "com_struct_upper": 1156013923.1706696,
          "com_struct_value": 1148239173.55834,
          "crystal": "p2",
          "error": 1.3564795014362024e-09,
          "gamma_lower": 12757503,
          "gamma_upper": 14796541.799999999,
          "gamma_value": 13371728,
          "index_lower": null,
          "index_upper": null,
          "index_value": null,
          "inv_diffusion_lower": null,
          "inv_diffusion_upper": null,
          "inv_diffusion_value": null,
          "mean": 3.482835450952018e-10,
          "mean_displacement_lower": 157213461.56394488,
          "mean_displacement_upper": 158445305.238617,
          "mean_displacement_value": 157578559.59377405,
          "mean_rotation_lower": 157547423.4035005,
          "mean_rotation_upper": 157957568.87892753,
          "mean_rotation_value": 157658512.7243721,
          "mfd_lower": null,
          "mfd_upper": null,
          "mfd_value": null,
          "msd_lower": null,
          "msd_upper": null,
          "msd_value": null,
          "overlap_lower": 186411379.77906513,
          "overlap_upper": 571463137.0584507,
          "overlap_value": 293080579.2767503,
          "pressure": 1,
          "rot1_lower": 1153115159.2025309,
          "rot1_upper": 1154950467.4981172,
          "rot1_value": 1153668855.424872,
          "rot2_lower": 835465124.7338128,
          "rot2_upper": 836979214.4286062,
          "rot2_value": 835917130.1428236,
          "scattering_function_lower": 781236097.6299481,
          "scattering_function_upper": 785771131.2925653,
          "scattering_function_value": 782567804.6208887,
          "struct_lower": 577530904.9703515,
          "struct_upper": 579968425.4815508,
          "struct_value": 578187487.127361,
          "temp_norm": 0.8333333333333334,
          "temperature": 0.3
         },
         {
          "alpha_lower": 18125811.75,
          "alpha_upper": 20488152.04,
          "alpha_value": 18812476.2,
          "com_struct_lower": 99618807.84198827,
          "com_struct_upper": 100142420.70363295,
          "com_struct_value": 99775587.68500924,
          "crystal": "p2",
          "error": 2.0484517299273057e-09,
          "gamma_lower": 1735434.4000000001,
          "gamma_upper": 1959535.0800000003,
          "gamma_value": 1808078.6,
          "index_lower": null,
          "index_upper": null,
          "index_value": null,
          "inv_diffusion_lower": 93377188.1748024,
          "inv_diffusion_upper": 93475688.32798474,
          "inv_diffusion_value": 93404250.53660357,
          "mean": 1.1585228274261918e-09,
          "mean_displacement_lower": 25936614.801340047,
          "mean_displacement_upper": 26178152.98805248,
          "mean_displacement_value": 26013453.741900492,
          "mean_rotation_lower": 35780740.788997844,
          "mean_rotation_upper": 35920492.26497333,
          "mean_rotation_value": 35819674.56328955,
          "mfd_lower": null,
          "mfd_upper": null,
          "mfd_value": null,
          "msd_lower": 1.0704088712533273e-08,
          "msd_upper": 1.0715463685167549e-08,
          "msd_value": 1.070735024742297e-08,
          "overlap_lower": -74237419.37588772,
          "overlap_upper": -50104910.52104129,
          "overlap_value": -67559571.31732601,
          "pressure": 1,
          "rot1_lower": 167525606.99770012,
          "rot1_upper": 167725473.32851565,
          "rot1_value": 167578331.74207282,
          "rot2_lower": 90856258.26907897,
          "rot2_upper": 91102521.03609668,
          "rot2_value": 90928350.16492578,
          "scattering_function_lower": 78317855.02844994,
          "scattering_function_upper": 78669975.38806148,
          "scattering_function_value": 78415634.09670135,
          "struct_lower": 68656466.1037772,
          "struct_upper": 68891755.36702344,
          "struct_value": 68722813.00720966,
          "temp_norm": 0.888888888888889,
          "temperature": 0.32
         },
         {
          "alpha_lower": 859113.1000000001,
          "alpha_upper": 995338.96,
          "alpha_value": 902678,
          "com_struct_lower": 3846235.9495531125,
          "com_struct_upper": 4010856.7815608755,
          "com_struct_value": 3895024.982794485,
          "crystal": "p2",
          "error": 2.242914036244705e-09,
          "gamma_lower": 141782.95,
          "gamma_upper": 158991.88999999998,
          "gamma_value": 146503.4,
          "index_lower": null,
          "index_upper": null,
          "index_value": null,
          "inv_diffusion_lower": 3838639.825982844,
          "inv_diffusion_upper": 3846157.5906727477,
          "inv_diffusion_value": 3840823.836099664,
          "mean": -2.633343241995029e-09,
          "mean_displacement_lower": 421472.039764061,
          "mean_displacement_upper": 436426.1837264234,
          "mean_displacement_value": 425874.02791548363,
          "mean_rotation_lower": 1806519.1373689007,
          "mean_rotation_upper": 1856429.2577612558,
          "mean_rotation_value": 1819777.0819873826,
          "mfd_lower": null,
          "mfd_upper": null,
          "mfd_value": null,
          "msd_lower": 2.6031038712048976e-07,
          "msd_upper": 2.6082082624656383e-07,
          "msd_value": 2.6046161295066215e-07,
          "overlap_lower": -13180167.00531453,
          "overlap_upper": 22003442.07333768,
          "overlap_value": -1842002.7642552725,
          "pressure": 1,
          "rot1_lower": 13954061.969064403,
          "rot1_upper": 14024685.323908126,
          "rot1_value": 13974959.285987731,
          "rot2_lower": 5568066.813815759,
          "rot2_upper": 5673922.245870916,
          "rot2_value": 5598353.075945396,
          "scattering_function_lower": 2549958.422799515,
          "scattering_function_upper": 2672426.561471782,
          "scattering_function_value": 2586583.9975142363,
          "struct_lower": 2268973.8936128253,
          "struct_upper": 2365792.5044902298,
          "struct_value": 2298999.2655543797,
          "temp_norm": 1,
          "temperature": 0.36
         },
         {
          "alpha_lower": 292814.69999999995,
          "alpha_upper": 334947.37000000005,
          "alpha_value": 305670,
          "com_struct_lower": null,
          "com_struct_upper": null,
          "com_struct_value": null,
          "crystal": "p2",
          "error": 2.695048887510347e-09,
          "gamma_lower": 91550.92,
          "gamma_upper": 105163.41,
          "gamma_value": 95705.72,
          "index_lower": null,
          "index_upper": null,
          "index_value": null,
          "inv_diffusion_lower": 1270235.82879283,
          "inv_diffusion_upper": 1273923.8291827536,
          "inv_diffusion_value": 1271341.0084060095,
          "mean": -6.604698877723605e-09,
          "mean_displacement_lower": 135972.40555276826,
          "mean_displacement_upper": 147845.08175977424,
          "mean_displacement_value": 139628.4748937007,
          "mean_rotation_lower": 675127.8211586846,
          "mean_rotation_upper": 700600.8045860569,
          "mean_rotation_value": 682921.7299027662,
          "mfd_lower": null,
          "mfd_upper": null,
          "mfd_value": null,
          "msd_lower": 7.86434540902173e-07,
          "msd_upper": 7.88824033349541e-07,
          "msd_value": 7.871646393491252e-07,
          "overlap_lower": -49877687.401804164,
          "overlap_upper": 5090285.595019743,
          "overlap_value": -32096677.86628242,
          "pressure": 1,
          "rot1_lower": 5004511.375950269,
          "rot1_upper": 5042364.787311874,
          "rot1_value": 5015003.623990257,
          "rot2_lower": 1930495.0401109364,
          "rot2_upper": 1978567.7923165443,
          "rot2_value": 1945276.437457249,
          "scattering_function_lower": null,
          "scattering_function_upper": null,
          "scattering_function_value": null,
          "struct_lower": null,
          "struct_upper": null,
          "struct_value": null,
          "temp_norm": 1.0555555555555556,
          "temperature": 0.38
         },
         {
          "alpha_lower": 57632.30500000001,
          "alpha_upper": 63593.17000000001,
          "alpha_value": 59481.62,
          "com_struct_lower": 252265.8080327431,
          "com_struct_upper": 261497.43869861597,
          "com_struct_value": 254930.87135492638,
          "crystal": "p2",
          "error": 4.335606237680103e-09,
          "gamma_lower": 30521.85,
          "gamma_upper": 34287.41,
          "gamma_value": 31610.5,
          "index_lower": null,
          "index_upper": null,
          "index_value": null,
          "inv_diffusion_lower": 345318.8595100908,
          "inv_diffusion_upper": 348486.74535345024,
          "inv_diffusion_value": 346172.7433688247,
          "mean": -5.6620763809799326e-08,
          "mean_displacement_lower": 30404.35619071169,
          "mean_displacement_upper": 31883.340873255907,
          "mean_displacement_value": 30871.052994494632,
          "mean_rotation_lower": 269027.3511439124,
          "mean_rotation_upper": 274680.24724951613,
          "mean_rotation_value": 270688.5602832223,
          "mfd_lower": null,
          "mfd_upper": null,
          "mfd_value": null,
          "msd_lower": 2.9080498298312952e-06,
          "msd_upper": 2.9383816895435568e-06,
          "msd_value": 2.9174030211198565e-06,
          "overlap_lower": -3657060.728379824,
          "overlap_upper": 2748164.9782608305,
          "overlap_value": -1558693.3628819494,
          "pressure": 1,
          "rot1_lower": 2073269.5882278937,
          "rot1_upper": 2093388.2225387336,
          "rot1_value": 2079084.987676073,
          "rot2_lower": 657196.7933555389,
          "rot2_upper": 669412.5322638326,
          "rot2_value": 661234.7736659464,
          "scattering_function_lower": 165634.88817859412,
          "scattering_function_upper": 172455.1689303328,
          "scattering_function_value": 167598.7924219048,
          "struct_lower": 169342.45553243993,
          "struct_upper": 175972.64594138163,
          "struct_value": 171176.71559253725,
          "temp_norm": 1.1111111111111112,
          "temperature": 0.4
         },
         {
          "alpha_lower": 28268.555,
          "alpha_upper": 31493.339,
          "alpha_value": 29192.46,
          "com_struct_lower": 60520.498968280925,
          "com_struct_upper": 62881.826233274194,
          "com_struct_value": 61196.23367371598,
          "crystal": "p2",
          "error": 1.8614531495565858e-08,
          "gamma_lower": 11759.47,
          "gamma_upper": 13127.882,
          "gamma_value": 12190.08,
          "index_lower": null,
          "index_upper": null,
          "index_value": null,
          "inv_diffusion_lower": 85725.70207860146,
          "inv_diffusion_upper": 86229.90506275752,
          "inv_diffusion_value": 85877.73067788311,
          "mean": -6.746341474241253e-07,
          "mean_displacement_lower": 5621.710883494819,
          "mean_displacement_upper": 5904.22969459778,
          "mean_displacement_value": 5700.874212294231,
          "mean_rotation_lower": 82084.0036909977,
          "mean_rotation_upper": 83653.80091566456,
          "mean_rotation_value": 82584.86572772637,
          "mfd_lower": null,
          "mfd_upper": null,
          "mfd_value": null,
          "msd_lower": 1.1664791710401904e-05,
          "msd_upper": 1.1736116969437192e-05,
          "msd_value": 1.1684404316141036e-05,
          "overlap_lower": -4023881.232865089,
          "overlap_upper": 1974352.7872214122,
          "overlap_value": -2266582.8805926046,
          "pressure": 1,
          "rot1_lower": 668748.9694050725,
          "rot1_upper": 676017.6917746663,
          "rot1_value": 670699.9304349296,
          "rot2_lower": 201279.9441935512,
          "rot2_upper": 204424.73331965774,
          "rot2_value": 202208.6602555722,
          "scattering_function_lower": 37354.85764813217,
          "scattering_function_upper": 38965.45311865916,
          "scattering_function_value": 37792.790168076186,
          "struct_lower": 40436.09719279381,
          "struct_upper": 41823.74518984271,
          "struct_value": 40827.80257310284,
          "temp_norm": 1.2222222222222223,
          "temperature": 0.44
         }
        ]
       },
       "encoding": {
        "x": {
         "field": "temp_norm",
         "scale": {
          "zero": false
         },
         "title": "T/Tₘ",
         "type": "quantitative"
        },
        "y": {
         "field": "scaling",
         "title": "Melting Rate * Rotational Relaxation",
         "type": "quantitative"
        }
       },
       "mark": "point",
       "transform": [
        {
         "as": "scaling",
         "calculate": "(datum.mean * datum.rot2_value)"
        }
       ]
      },
      "image/png": "[encoded data removed]",
      "text/plain": [
       "<VegaLite 2 object>\n",
       "\n",
       "If you see this message, it means the renderer has not been properly enabled\n",
       "for the frontend that you are using. For more information, see\n",
       "https://altair-viz.github.io/user_guide/troubleshooting.html\n"
      ]
     },
     "execution_count": 21,
     "metadata": {},
     "output_type": "execute_result"
    }
   ],
   "source": [
    "c = alt.Chart(df_timescales).mark_point().encode(\n",
    "    x=alt.X('temp_norm', title='T/Tₘ', scale=alt.Scale(zero=False)),\n",
    "    y=alt.Y(\"scaling:Q\", title='Melting Rate * Rotational Relaxation')\n",
    ").transform_calculate(\n",
    "    scaling = alt.datum.mean * alt.datum.rot2_value\n",
    ")\n",
    "\n",
    "c"
   ]
  },
  {
   "cell_type": "code",
   "execution_count": 23,
   "metadata": {},
   "outputs": [],
   "source": [
    "def theory(x, enthalpy, c):\n",
    "    result = 1 - np.exp((1-x) * enthalpy / x)\n",
    "    return c * result"
   ]
  },
  {
   "cell_type": "code",
   "execution_count": 24,
   "metadata": {},
   "outputs": [],
   "source": [
    "import scipy.optimize"
   ]
  },
  {
   "cell_type": "code",
   "execution_count": 28,
   "metadata": {},
   "outputs": [],
   "source": [
    "opt, err = scipy.optimize.curve_fit(\n",
    "    theory, \n",
    "    df_timescales.temp_norm, \n",
    "    df_timescales[\"mean\"] * df_timescales.rot2_value\n",
    ")"
   ]
  },
  {
   "cell_type": "code",
   "execution_count": 29,
   "metadata": {},
   "outputs": [],
   "source": [
    "df_fit = pd.DataFrame({\n",
    "    \"temp_norm\": df_timescales.temp_norm, \n",
    "    \"scaling\": df_timescales[\"mean\"] * df_timescales[\"rot2_value\"],\n",
    "    \"theory\": theory(df_timescales.temp_norm, *opt)\n",
    "})"
   ]
  },
  {
   "cell_type": "code",
   "execution_count": 30,
   "metadata": {},
   "outputs": [
    {
     "data": {
      "application/vnd.vegalite.v2+json": {
       "$schema": "https://vega.github.io/schema/vega-lite/v2.6.0.json",
       "config": {
        "view": {
         "height": 300,
         "width": 400
        }
       },
       "datasets": {
        "data-b83763a76441143af7fa5458c7dacfb2": [
         {
          "scaling": 0.29113618149194975,
          "temp_norm": 0.8333333333333334,
          "theory": 0.2751046468475012
         },
         {
          "scaling": 0.10534256932626865,
          "temp_norm": 0.888888888888889,
          "theory": 0.1410693562868699
         },
         {
          "scaling": -0.01474238523884289,
          "temp_norm": 1,
          "theory": 0
         },
         {
          "scaling": -0.012847965103336067,
          "temp_norm": 1.0555555555555556,
          "theory": -0.038712199314229694
         },
         {
          "scaling": -0.037439617942565666,
          "temp_norm": 1.1111111111111112,
          "theory": -0.06625974162335052
         },
         {
          "scaling": -0.13641686711329257,
          "temp_norm": 1.2222222222222223,
          "theory": -0.10155374514801097
         }
        ]
       },
       "layer": [
        {
         "data": {
          "name": "data-b83763a76441143af7fa5458c7dacfb2"
         },
         "encoding": {
          "x": {
           "field": "temp_norm",
           "scale": {
            "zero": false
           },
           "title": "T/Tₘ",
           "type": "quantitative"
          },
          "y": {
           "field": "scaling",
           "type": "quantitative"
          }
         },
         "mark": "point"
        },
        {
         "data": {
          "name": "data-b83763a76441143af7fa5458c7dacfb2"
         },
         "encoding": {
          "x": {
           "field": "temp_norm",
           "scale": {
            "zero": false
           },
           "title": "T/Tₘ",
           "type": "quantitative"
          },
          "y": {
           "field": "theory",
           "type": "quantitative"
          }
         },
         "mark": "line"
        }
       ]
      },
      "image/png": "[encoded data removed]",
      "text/plain": [
       "<VegaLite 2 object>\n",
       "\n",
       "If you see this message, it means the renderer has not been properly enabled\n",
       "for the frontend that you are using. For more information, see\n",
       "https://altair-viz.github.io/user_guide/troubleshooting.html\n"
      ]
     },
     "execution_count": 30,
     "metadata": {},
     "output_type": "execute_result"
    }
   ],
   "source": [
    "c = alt.Chart(df_fit).encode(\n",
    "    x=alt.X('temp_norm', title='T/Tₘ', scale=alt.Scale(zero=False)),\n",
    ")\n",
    "\n",
    "c.mark_point().encode(y=\"scaling\") + c.mark_line().encode(y=\"theory\")"
   ]
  },
  {
   "cell_type": "code",
   "execution_count": 35,
   "metadata": {},
   "outputs": [
    {
     "name": "stdout",
     "output_type": "stream",
     "text": [
      "\n",
      "The above plot uses the values computed from the curve fit with;\n",
      "- enthalpy: 4.69, and\n",
      "- constant: -0.18\n",
      "\n"
     ]
    }
   ],
   "source": [
    "print(f\"\"\"\n",
    "The above plot uses the values computed from the curve fit with;\n",
    "- enthalpy: {opt[0]:.2f}, and\n",
    "- constant: {opt[1]:.2f}\n",
    "\"\"\")"
   ]
  },
  {
   "cell_type": "code",
   "execution_count": null,
   "metadata": {},
   "outputs": [],
   "source": []
  }
 ],
 "metadata": {
  "kernelspec": {
   "display_name": "crystal",
   "language": "python",
   "name": "crystal"
  },
  "language_info": {
   "codemirror_mode": {
    "name": "ipython",
    "version": 3
   },
   "file_extension": ".py",
   "mimetype": "text/x-python",
   "name": "python",
   "nbconvert_exporter": "python",
   "pygments_lexer": "ipython3",
   "version": "3.6.8"
  }
 },
 "nbformat": 4,
 "nbformat_minor": 2
}
